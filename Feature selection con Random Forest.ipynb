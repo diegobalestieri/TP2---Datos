{
 "cells": [
  {
   "cell_type": "code",
   "execution_count": 1,
   "metadata": {
    "_cell_guid": "b1076dfc-b9ad-4769-8c92-a6c4dae69d19",
    "_uuid": "8f2839f25d086af736a60e9eeb907d3b93b6e0e5"
   },
   "outputs": [
    {
     "name": "stdout",
     "output_type": "stream",
     "text": [
      "/kaggle/input/traincsv/train.csv\n"
     ]
    }
   ],
   "source": [
    "# This Python 3 environment comes with many helpful analytics libraries installed\n",
    "# It is defined by the kaggle/python docker image: https://github.com/kaggle/docker-python\n",
    "# For example, here's several helpful packages to load in \n",
    "\n",
    "import numpy as np # linear algebra\n",
    "import pandas as pd # data processing, CSV file I/O (e.g. pd.read_csv)\n",
    "\n",
    "# Input data files are available in the \"../input/\" directory.\n",
    "# For example, running this (by clicking run or pressing Shift+Enter) will list all files under the input directory\n",
    "\n",
    "import os\n",
    "for dirname, _, filenames in os.walk('/kaggle/input'):\n",
    "    for filename in filenames:\n",
    "        print(os.path.join(dirname, filename))\n",
    "\n",
    "# Any results you write to the current directory are saved as output."
   ]
  },
  {
   "cell_type": "code",
   "execution_count": 2,
   "metadata": {},
   "outputs": [],
   "source": [
    "import numpy as np\n",
    "from sklearn.ensemble import RandomForestClassifier\n",
    "from sklearn.model_selection import train_test_split\n",
    "from sklearn.compose import ColumnTransformer\n",
    "from sklearn.impute import SimpleImputer\n",
    "from sklearn.preprocessing import OneHotEncoder\n",
    "from sklearn.pipeline import Pipeline\n",
    "from category_encoders import CatBoostEncoder"
   ]
  },
  {
   "cell_type": "code",
   "execution_count": 3,
   "metadata": {
    "_cell_guid": "79c7e3d0-c299-4dcb-8224-4455121ee9b0",
    "_uuid": "d629ff2d2480ee46fbb7e2d37f6b5fab8052498a"
   },
   "outputs": [],
   "source": [
    "aux = pd.read_csv(\"/kaggle/input/traincsv/train.csv\");"
   ]
  },
  {
   "cell_type": "code",
   "execution_count": 4,
   "metadata": {},
   "outputs": [],
   "source": [
    "df = aux.copy()"
   ]
  },
  {
   "cell_type": "code",
   "execution_count": 5,
   "metadata": {},
   "outputs": [
    {
     "data": {
      "text/plain": [
       "Index(['id', 'titulo', 'descripcion', 'tipodepropiedad', 'direccion', 'ciudad',\n",
       "       'provincia', 'antiguedad', 'habitaciones', 'garages', 'banos',\n",
       "       'metroscubiertos', 'metrostotales', 'idzona', 'lat', 'lng', 'fecha',\n",
       "       'gimnasio', 'usosmultiples', 'piscina', 'escuelascercanas',\n",
       "       'centroscomercialescercanos', 'precio'],\n",
       "      dtype='object')"
      ]
     },
     "execution_count": 5,
     "metadata": {},
     "output_type": "execute_result"
    }
   ],
   "source": [
    "df.columns"
   ]
  },
  {
   "cell_type": "code",
   "execution_count": 6,
   "metadata": {},
   "outputs": [
    {
     "data": {
      "text/plain": [
       "id                              int64\n",
       "titulo                         object\n",
       "descripcion                    object\n",
       "tipodepropiedad                object\n",
       "direccion                      object\n",
       "ciudad                         object\n",
       "provincia                      object\n",
       "antiguedad                    float64\n",
       "habitaciones                  float64\n",
       "garages                       float64\n",
       "banos                         float64\n",
       "metroscubiertos               float64\n",
       "metrostotales                 float64\n",
       "idzona                        float64\n",
       "lat                           float64\n",
       "lng                           float64\n",
       "fecha                          object\n",
       "gimnasio                      float64\n",
       "usosmultiples                 float64\n",
       "piscina                       float64\n",
       "escuelascercanas              float64\n",
       "centroscomercialescercanos    float64\n",
       "precio                        float64\n",
       "dtype: object"
      ]
     },
     "execution_count": 6,
     "metadata": {},
     "output_type": "execute_result"
    }
   ],
   "source": [
    "df.dtypes"
   ]
  },
  {
   "cell_type": "code",
   "execution_count": 7,
   "metadata": {},
   "outputs": [],
   "source": [
    "df.garages.fillna(0, inplace = True)\n",
    "df.gimnasio.fillna(0, inplace = True)\n",
    "df.usosmultiples.fillna(0, inplace = True)\n",
    "df.piscina.fillna(0, inplace = True)\n",
    "df.escuelascercanas.fillna(0, inplace = True)\n",
    "df.centroscomercialescercanos.fillna(0, inplace = True)"
   ]
  },
  {
   "cell_type": "code",
   "execution_count": 8,
   "metadata": {},
   "outputs": [],
   "source": [
    "df.drop(columns = 'id', inplace = True)\n",
    "#Saco el id porque es unico para cada propriedad"
   ]
  },
  {
   "cell_type": "code",
   "execution_count": 9,
   "metadata": {},
   "outputs": [],
   "source": [
    "#Para la antiguedad relleno con el promedio de las 5 que mas aparecen\n",
    "aux1 = df.antiguedad.value_counts().head(5).reset_index()\n",
    "aux1['cantidad'] = aux1.antiguedad\n",
    "aux1['valores'] = aux1['index']*aux1['cantidad']\n",
    "df.antiguedad.fillna(aux1.valores.sum()/aux1.cantidad.sum(), inplace = True)\n",
    "df.antiguedad = df.antiguedad.astype(int)"
   ]
  },
  {
   "cell_type": "code",
   "execution_count": 10,
   "metadata": {},
   "outputs": [],
   "source": [
    "#Reemplazo las habitaciones por las que mas aparecen\n",
    "df['habitaciones'] = SimpleImputer(strategy='most_frequent').fit_transform(df[['habitaciones']])"
   ]
  },
  {
   "cell_type": "code",
   "execution_count": 11,
   "metadata": {},
   "outputs": [],
   "source": [
    "#Reemplazo los banos por 1 que es lo minimo posible\n",
    "df.banos.fillna(1, inplace=True)"
   ]
  },
  {
   "cell_type": "code",
   "execution_count": 12,
   "metadata": {},
   "outputs": [],
   "source": [
    "#Para los metros totales relleno con 0 al principio y hago el swap\n",
    "df.metrostotales.fillna(value='0', inplace = True)\n",
    "df.metroscubiertos.fillna(value='0', inplace = True)\n",
    "df.metrostotales = df.metrostotales.astype(int)\n",
    "df.metroscubiertos = df.metroscubiertos.astype(int)\n",
    "df['metrostotales'] = df[['metrostotales', 'metroscubiertos']].max(axis=1)\n",
    "df['metroscubiertos'] = df[['metrostotales', 'metroscubiertos']].min(axis=1)"
   ]
  },
  {
   "cell_type": "code",
   "execution_count": 13,
   "metadata": {},
   "outputs": [],
   "source": [
    "aux2 = df[['idzona', 'ciudad']].copy()\n",
    "aux2.dropna(inplace = True)\n",
    "aux2 = aux2.groupby('ciudad').agg({'idzona':'mean'})\n",
    "ids = aux2.T.to_dict('records').copy()\n",
    "ids = ids[0]"
   ]
  },
  {
   "cell_type": "code",
   "execution_count": 14,
   "metadata": {},
   "outputs": [],
   "source": [
    "df.idzona.fillna(df.ciudad.map(ids), inplace = True)\n",
    "df.idzona.fillna(0, inplace=True)"
   ]
  },
  {
   "cell_type": "code",
   "execution_count": 15,
   "metadata": {},
   "outputs": [
    {
     "data": {
      "text/plain": [
       "Index(['antiguedad', 'habitaciones', 'garages', 'banos', 'metroscubiertos',\n",
       "       'metrostotales', 'idzona', 'gimnasio', 'usosmultiples', 'piscina',\n",
       "       'escuelascercanas', 'centroscomercialescercanos', 'precio'],\n",
       "      dtype='object')"
      ]
     },
     "execution_count": 15,
     "metadata": {},
     "output_type": "execute_result"
    }
   ],
   "source": [
    "df.drop(['lat', 'lng', 'titulo', 'descripcion', 'tipodepropiedad', 'direccion', 'ciudad', 'provincia', 'fecha'], axis=1, inplace=True)\n",
    "df.columns"
   ]
  },
  {
   "cell_type": "code",
   "execution_count": 16,
   "metadata": {},
   "outputs": [],
   "source": [
    "features = df.drop('precio', axis=1).columns\n",
    "X_train,X_test,y_train,y_test = train_test_split(df[features], df.precio,test_size=0.3, random_state = 0)"
   ]
  },
  {
   "cell_type": "code",
   "execution_count": 18,
   "metadata": {},
   "outputs": [
    {
     "data": {
      "text/plain": [
       "RandomForestClassifier(bootstrap=True, class_weight=None, criterion='gini',\n",
       "                       max_depth=8, max_features='auto', max_leaf_nodes=None,\n",
       "                       min_impurity_decrease=0.0, min_impurity_split=None,\n",
       "                       min_samples_leaf=1, min_samples_split=2,\n",
       "                       min_weight_fraction_leaf=0.0, n_estimators=40,\n",
       "                       n_jobs=None, oob_score=False, random_state=None,\n",
       "                       verbose=0, warm_start=False)"
      ]
     },
     "execution_count": 18,
     "metadata": {},
     "output_type": "execute_result"
    }
   ],
   "source": [
    "clf = RandomForestClassifier(n_estimators = 40, max_depth = 8)\n",
    "clf.fit(X_train, y_train)"
   ]
  },
  {
   "cell_type": "code",
   "execution_count": 19,
   "metadata": {},
   "outputs": [
    {
     "name": "stdout",
     "output_type": "stream",
     "text": [
      "('antiguedad', 0.06981961025465627)\n",
      "('habitaciones', 0.07563835410468026)\n",
      "('garages', 0.05849917232537383)\n",
      "('banos', 0.09964378199796485)\n",
      "('metroscubiertos', 0.24873160160141014)\n",
      "('metrostotales', 0.2001559753587055)\n",
      "('idzona', 0.17027365700823022)\n",
      "('gimnasio', 0.01772235947110984)\n",
      "('usosmultiples', 0.013110981652734263)\n",
      "('piscina', 0.016898544673469483)\n",
      "('escuelascercanas', 0.014214032371879954)\n",
      "('centroscomercialescercanos', 0.015291929179785394)\n"
     ]
    }
   ],
   "source": [
    "for feature in zip(features, clf.feature_importances_):\n",
    "    print(feature)"
   ]
  },
  {
   "cell_type": "code",
   "execution_count": 20,
   "metadata": {},
   "outputs": [],
   "source": [
    "preds = clf.predict(X_test)"
   ]
  },
  {
   "cell_type": "code",
   "execution_count": null,
   "metadata": {},
   "outputs": [],
   "source": [
    "from sklearn.metrics import mean_absolute_error\n",
    "mean_absolute_error(y_test, preds)"
   ]
  },
  {
   "cell_type": "code",
   "execution_count": null,
   "metadata": {},
   "outputs": [],
   "source": []
  },
  {
   "cell_type": "code",
   "execution_count": null,
   "metadata": {},
   "outputs": [],
   "source": []
  },
  {
   "cell_type": "code",
   "execution_count": null,
   "metadata": {},
   "outputs": [],
   "source": [
    "x = df.drop(columns = ['id', 'titulo', 'descripcion', 'direccion', 'ciudad', 'lat', 'lng']).copy()"
   ]
  },
  {
   "cell_type": "code",
   "execution_count": null,
   "metadata": {},
   "outputs": [],
   "source": [
    "x.metrostotales.fillna(value='0', inplace = True)\n",
    "x.metroscubiertos.fillna(value='0', inplace = True)\n",
    "x.metrostotales = x.metrostotales.astype(int)\n",
    "x.metroscubiertos = x.metroscubiertos.astype(int)\n",
    "x['metrostotales'] = x[['metrostotales', 'metroscubiertos']].max(axis=1)\n",
    "x['metroscubiertos'] = x[['metrostotales', 'metroscubiertos']].min(axis=1)\n",
    "x['patio'] = x['metrostotales'] - x['metroscubiertos']"
   ]
  },
  {
   "cell_type": "code",
   "execution_count": null,
   "metadata": {},
   "outputs": [],
   "source": [
    "x['fecha'] = pd.to_datetime(x['fecha'])\n",
    "x['anio'] = x.fecha.dt.year\n",
    "x['mes'] = x.fecha.dt.month\n",
    "x['dia'] = x.fecha.dt.day\n",
    "x = x.drop(columns = 'fecha')"
   ]
  },
  {
   "cell_type": "code",
   "execution_count": null,
   "metadata": {},
   "outputs": [],
   "source": [
    "transformador_numeros = SimpleImputer(fill_value = 0)\n",
    "#transformador_catboost = Pipeline(steps=[('imputer1', SimpleImputer(strategy='most_frequent')),\n",
    "#                                           ('catboost', ce.CatBoostEncoder(handle_unknown='ignore'))])\n",
    "transformador_onehot = Pipeline(steps=[('imputer2', SimpleImputer(strategy='most_frequent')),\n",
    "                                        ('onehot', OneHotEncoder(handle_unknown='ignore'))])\n",
    "cols_numericas = ['antiguedad', 'habitaciones','garages', 'banos', 'metroscubiertos',\n",
    "                  'metrostotales', 'idzona', 'gimnasio', 'usosmultiples',\n",
    "                  'piscina', 'escuelascercanas','centroscomercialescercanos', 'patio', 'anio', 'mes', 'dia']\n",
    "#cols_catboost = ['ciudad']\n",
    "cols_onehot = ['tipodepropiedad', 'provincia']"
   ]
  },
  {
   "cell_type": "code",
   "execution_count": null,
   "metadata": {},
   "outputs": [],
   "source": [
    "preprocessor = ColumnTransformer(\n",
    "    transformers=[\n",
    "        ('num', transformador_numeros, cols_numericas),\n",
    "#        ('cat', transformador_catboost, cols_catboost),\n",
    "        ('one', transformador_onehot, cols_onehot)\n",
    "    ])"
   ]
  },
  {
   "cell_type": "code",
   "execution_count": null,
   "metadata": {},
   "outputs": [],
   "source": [
    "features = x.drop('precio', axis=1).columns\n",
    "X_train,X_test,y_train,y_test = train_test_split(x[features], x.precio,test_size=0.3, random_state = 0)\n",
    "X_train.columns"
   ]
  },
  {
   "cell_type": "code",
   "execution_count": null,
   "metadata": {},
   "outputs": [],
   "source": [
    "clf = RandomForestClassifier(n_estimators=10000, random_state=0)\n",
    "my_pipeline = Pipeline(steps=[('preprocessor', preprocessor),\n",
    "                              ('model', clf)\n",
    "                             ])"
   ]
  },
  {
   "cell_type": "code",
   "execution_count": null,
   "metadata": {},
   "outputs": [],
   "source": [
    "my_pipeline.fit(X_train,y_train)\n",
    "#X_train.columns"
   ]
  },
  {
   "cell_type": "code",
   "execution_count": null,
   "metadata": {},
   "outputs": [],
   "source": [
    "a = SimpleImputer()\n",
    "x[cols_numericas] = a.fit_transform(x[cols_numericas])"
   ]
  },
  {
   "cell_type": "code",
   "execution_count": null,
   "metadata": {},
   "outputs": [],
   "source": []
  },
  {
   "cell_type": "code",
   "execution_count": null,
   "metadata": {},
   "outputs": [],
   "source": [
    "x.dtypes"
   ]
  },
  {
   "cell_type": "code",
   "execution_count": null,
   "metadata": {},
   "outputs": [],
   "source": []
  }
 ],
 "metadata": {
  "kernelspec": {
   "display_name": "Python 3",
   "language": "python",
   "name": "python3"
  },
  "language_info": {
   "codemirror_mode": {
    "name": "ipython",
    "version": 3
   },
   "file_extension": ".py",
   "mimetype": "text/x-python",
   "name": "python",
   "nbconvert_exporter": "python",
   "pygments_lexer": "ipython3",
   "version": "3.7.3"
  }
 },
 "nbformat": 4,
 "nbformat_minor": 4
}
