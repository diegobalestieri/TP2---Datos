{
 "cells": [
  {
   "cell_type": "code",
   "execution_count": 3,
   "metadata": {},
   "outputs": [],
   "source": [
    "import pandas as pd\n",
    "from sklearn.preprocessing import LabelEncoder\n",
    "import category_encoders as ce"
   ]
  },
  {
   "cell_type": "code",
   "execution_count": 4,
   "metadata": {},
   "outputs": [],
   "source": [
    "train = pd.read_csv('train.csv',parse_dates=['fecha']).drop(columns=['lat','lng'])\n",
    "test = pd.read_csv('test.csv',parse_dates=['fecha']).drop(columns=['lat','lng'])"
   ]
  },
  {
   "cell_type": "code",
   "execution_count": 5,
   "metadata": {},
   "outputs": [
    {
     "data": {
      "text/plain": [
       "0         depto. interior de 80.15m2, consta de sala comedor cocina equipada, área de lavado, baño completo, recamara principal con closet y baño completo. 2da. recamara con closet.                                                                                                                                                                                                                                                                                                                                                                                                                                                                                                                                                                                                                                                                                                                                                                                                                                                                                                                                                                                                                                                                                                                                                                                                                                         \n",
       "1         <p>entre sonora y guerrero, atr&aacute;s del hospital &aacute;ngeles del pedregal, en excelente estado de conservaci&oacute;n, construida en 3 niveles, estacionamiento para 2 autos, 3 rec&aacute;maras con pisos de madera natural la principal con vestidor y ba&ntilde;o, 2 ba&ntilde;os completos pisos y muros de loseta espa&ntilde;ola, canceler&iacute;a de aluminio, 2 medios ba&ntilde;os, cocina integral con piso de loseta espa&ntilde;ola, sala de t.v., sala con piso de loseta espa&ntilde;ola, vest&iacute;bulo, comedor con piso de madera, l&iacute;nea telef&oacute;nica, terraza techada con policarbonato puede ser antecomedor, cuarto de servicio con piso de loseta, fachada con policarbonato..&nbsp; 4 casas</p>                                                                                                                                                                                                                                                                                                                                                                                                                                                                                                                                                                                                                                                                        \n",
       "2         descripcion \\nla mejor ubicacion residencial en el oriente de la ciudad urbi versalles, te invito a compartir una nueva forma de vida en la zona urbana de guadalajara en el mejor desarrollo residencial en su tipo, ven y descubre un concepto residencial integral unico: \\n por su amplitud y tranquilidad. \\n por su seguridad y confort. \\n por su diseños. \\n por sus bellos terminados. \\n el mejor precio del mercado. \\n por su exelente ubicación, estamos cerca de todo y de todos! \\n vias de comunicacions rapidas y modernas. \\n centros comerciales dentro del fraccionamiento . \\n bello ingreso privado y vigilado. \\n acceso controlado en cada coto, con guardias y vigilancia por video. \\n perimetro totalmente cerrado. \\n cableado oculto. \\n amplios jardines y areas verdes. \\n areas infantiles y deportivos. \\n escuelas, centros comerciales, hospitales, farmacias todo lo que necesitas a la mano. \\n tranquilidad garantizada. \\n 3 recamaras, amplia sala, cocina integral , 2 1/2 baños, totalmente independiente , amplio patio trasero, la recamara principal es master room \\n estacionamiento para 3 autos. \\n totalmente independiente, pasillo de servicio, muros propios. \\n con bonito proyecto de ampliacion. \\npara mayores informes comunicarse alos siguientes numeros para concretar una cita para que conoscas la casa \\nsrta. lissette  \\ncel./\n",
       "3         casa en privada con caseta de vigilancia casas de dos y tres recamaras, a dies minutos del centro de toluca a un costado del valle de zamarrero areas comerciales zona de escuelas aceptamos todos los tipos de credito infonavit,cofinavit,fovissste,aliados,shf.asesor certificado    contactame si deseas fotos una presentacion o concertar una cita cel. email:                                                                                                                                                                                                                                                                                                                                                                                                                                                                                                                                                                                                                                                                                                                                                                                                                                                                                                                                                                                                                                                \n",
       "4         bonito departamento en excelentes condiciones muy buena ubicacion listo para habitar llamenos !!!!!  y                                                                                                                                                                                                                                                                                                                                                                                                                                                                                                                                                                                                                                                                                                                                                                                                                                                                                                                                                                                                                                                                                                                                                                                                                                                                                                              \n",
       "                                                           ...                                                                                                                                                                                                                                                                                                                                                                                                                                                                                                                                                                                                                                                                                                                                                                                                                                                                                                                                                                                                                                                                                                                                                                                                                                                                                                                                                                \n",
       "239995    vendo casa en bosques de ica residencial a 10 minutos del centro de toluca, cuenta con 2 recamaras estacionamiento para 2 autos, sala-comedor, cocina integral, 1 baño ½, piso en toda la casa, patio trasero. vigilancia las 24 horas. \\naceptamos todo tipo de creditos: infonavit total, cofinavit, fovissste, contado, bancario. \\ncasas para entrega inmediata. \\n\\nno dude en contactarme para proporcionarle más información, enviarle más fotografías y plano de ubicación del desarrollo, o programar una cita sin compromiso. \\nsonia velazquez bernal cel:  nextel: 523880 id.                                                                                                                                                                                                                                                                                                                                                                                                                                                                                                                                                                                                                                                                                                                                                                                                                           \n",
       "239996    casa con un jardin amplio, un cuarto de servicio con baño completo; cerca de escuelas, bancos, tienda de autoservicio y lo necesario para tu vida diaria.                                                                                                                                                                                                                                                                                                                                                                                                                                                                                                                                                                                                                                                                                                                                                                                                                                                                                                                                                                                                                                                                                                                                                                                                                                                           \n",
       "239997    departamento con excelente ubicación, muy cerca de av. universidad, en condominio con 2 elevadores, jardín común con asador, vigilancia las 24 hrs; departamento en tercer piso, tiene sala, comedor, cocina integral, desayunador, sala de tv, 2 recámaras, 2 baños completos, área de lavado, cuarto de servicio, estacionamiento para un auto (opcion a rentar otro estacionamiento).                                                                                                                                                                                                                                                                                                                                                                                                                                                                                                                                                                                                                                                                                                                                                                                                                                                                                                                                                                                                                            \n",
       "239998    casa sola, dividida en cuatro departamentos de 1 recamara, 1 baño, sala cocina. opcional manejarla como casa sola o departamentos.                                                                                                                                                                                                                                                                                                                                                                                                                                                                                                                                                                                                                                                                                                                                                                                                                                                                                                                                                                                                                                                                                                                                                                                                                                                                                  \n",
       "239999    id:19816, muy bonito e iluminado departamento, con excelente distribucion. la recamara principal con balcón y el edificio muy moderno, cuenta con amenidades como: alberca, gym, salón de eventos y lobby. en lomas del chamizal a una cuadra de bosques y 5 min de sta. fe. col. lomas del chamizal , ave. stim . preguntar por n gaby hernandez                                                                                                                                                                                                                                                                                                                                                                                                                                                                                                                                                                                                                                                                                                                                                                                                                                                                                                                                                                                                                                                                   \n",
       "Name: descripcion, Length: 240000, dtype: object"
      ]
     },
     "execution_count": 5,
     "metadata": {},
     "output_type": "execute_result"
    }
   ],
   "source": [
    "pd.set_option('display.max_colwidth',-1)\n",
    "train.descripcion"
   ]
  },
  {
   "cell_type": "code",
   "execution_count": 3,
   "metadata": {},
   "outputs": [],
   "source": [
    "#Arreglo problema de metros totales y metros cubiertos\n",
    "train['metrostotales_reales'] = train['metrostotales'].where(train.metrostotales>=train.metroscubiertos,train.metroscubiertos)\n",
    "train.metroscubiertos = train['metroscubiertos'].where(train.metrostotales>=train.metroscubiertos,train.metrostotales)\n",
    "train.metrostotales = train.metrostotales_reales\n",
    "train.drop(columns=['metrostotales_reales'],inplace=True)"
   ]
  },
  {
   "cell_type": "code",
   "execution_count": 4,
   "metadata": {},
   "outputs": [],
   "source": [
    "#Arreglo problema de metros totales y metros cubiertos\n",
    "test['metrostotales_reales'] = test['metrostotales'].where(test.metrostotales>=test.metroscubiertos,test.metroscubiertos)\n",
    "test.metroscubiertos = test['metroscubiertos'].where(test.metrostotales>=test.metroscubiertos,test.metrostotales)\n",
    "test.metrostotales = test.metrostotales_reales\n",
    "test.drop(columns=['metrostotales_reales'],inplace=True)"
   ]
  },
  {
   "cell_type": "code",
   "execution_count": 5,
   "metadata": {},
   "outputs": [
    {
     "data": {
      "text/plain": [
       "46"
      ]
     },
     "execution_count": 5,
     "metadata": {},
     "output_type": "execute_result"
    }
   ],
   "source": [
    "train.tipodepropiedad.isnull().sum()"
   ]
  },
  {
   "cell_type": "code",
   "execution_count": 6,
   "metadata": {},
   "outputs": [],
   "source": [
    "cat_features = ['tipodepropiedad', 'provincia', 'ciudad']\n",
    "num_features = ['banos','garages','habitaciones','metrostotales','metroscubiertos','antiguedad']\n",
    "bool_features = ['gimnasio','usosmultiples','piscina','escuelascercanas','centroscomercialescercanos']"
   ]
  },
  {
   "cell_type": "code",
   "execution_count": 7,
   "metadata": {},
   "outputs": [],
   "source": [
    "from sklearn.compose import ColumnTransformer\n",
    "from sklearn.pipeline import Pipeline\n",
    "from sklearn.impute import SimpleImputer\n",
    "from sklearn.preprocessing import OneHotEncoder"
   ]
  },
  {
   "cell_type": "code",
   "execution_count": 8,
   "metadata": {},
   "outputs": [],
   "source": [
    "transformador_categorias = Pipeline(steps=[\n",
    "    ('imputer', SimpleImputer(strategy='most_frequent')),\n",
    "    ('onehot', OneHotEncoder(handle_unknown='ignore'))\n",
    "])\n",
    "transformador_numeros = SimpleImputer()"
   ]
  },
  {
   "cell_type": "code",
   "execution_count": 9,
   "metadata": {},
   "outputs": [],
   "source": [
    "preprocessor = ColumnTransformer(\n",
    "    transformers=[\n",
    "        ('num', transformador_numeros, num_features),\n",
    "        ('cat', transformador_categorias, cat_features)\n",
    "    ])"
   ]
  },
  {
   "cell_type": "code",
   "execution_count": 10,
   "metadata": {},
   "outputs": [],
   "source": [
    "from xgboost import XGBRegressor\n",
    "model = XGBRegressor(n_estimators=2000, learning_rate=0.05, max_depth=10, subsample_by_tree=0.5, colsample_by_col=0.5, min_child_weight=3)\n",
    "from catboost import CatBoostRegressor\n",
    "model2 = CatBoostRegressor(iterations=1000, depth=10, learning_rate=0.05, loss_function='RMSE', task_type=\"GPU\")"
   ]
  },
  {
   "cell_type": "code",
   "execution_count": 11,
   "metadata": {},
   "outputs": [],
   "source": [
    "my_pipeline = Pipeline(steps=[('preprocessor', preprocessor),\n",
    "                              ('model', model)\n",
    "                             ])\n",
    "pipeline2 = Pipeline(steps =[('preprocessor', preprocessor),\n",
    "                             ('model', model2)])"
   ]
  },
  {
   "cell_type": "code",
   "execution_count": 12,
   "metadata": {},
   "outputs": [],
   "source": [
    "features = ['tipodepropiedad', 'antiguedad', 'habitaciones', 'garages', 'banos', 'metroscubiertos', 'metrostotales', 'provincia','ciudad'] \n",
    "train_y = train.precio.copy()\n",
    "train_x = train[features].copy()"
   ]
  },
  {
   "cell_type": "code",
   "execution_count": null,
   "metadata": {},
   "outputs": [],
   "source": [
    "my_pipeline.fit(train_x, train_y)"
   ]
  },
  {
   "cell_type": "code",
   "execution_count": null,
   "metadata": {},
   "outputs": [],
   "source": [
    "preds = my_pipeline.predict(test_x)"
   ]
  },
  {
   "cell_type": "code",
   "execution_count": null,
   "metadata": {},
   "outputs": [],
   "source": [
    "res = pd.DataFrame(preds, index=test.id, columns=['precio'])\n",
    "res.reset_index(inplace=True)\n",
    "res.columns = [\"id\", \"target\"]\n",
    "display(res.head())\n",
    "# RMSLE=1.0249284784393988 ?\n",
    "\n",
    "\n",
    "# import the modules we'll need\n",
    "from IPython.display import HTML\n",
    "import base64\n",
    "\n",
    "# function that takes in a dataframe and creates a text link to  \n",
    "# download it (will only work for files < 2MB or so)\n",
    "def create_download_link(df, title = \"Download CSV file\", filename = \"knn-results.csv\"):  \n",
    "    csv = df.to_csv(index=False)\n",
    "    b64 = base64.b64encode(csv.encode())\n",
    "    payload = b64.decode()\n",
    "    html = '<a download=\"{filename}\" href=\"data:text/csv;base64,{payload}\" target=\"_blank\">{title}</a>'\n",
    "    html = html.format(payload=payload,title=title,filename=filename)\n",
    "    return HTML(html)\n",
    "\n",
    "# create a link to download the dataframe\n",
    "create_download_link(res)"
   ]
  },
  {
   "cell_type": "code",
   "execution_count": null,
   "metadata": {},
   "outputs": [],
   "source": []
  }
 ],
 "metadata": {
  "kernelspec": {
   "display_name": "Python 3",
   "language": "python",
   "name": "python3"
  },
  "language_info": {
   "codemirror_mode": {
    "name": "ipython",
    "version": 3
   },
   "file_extension": ".py",
   "mimetype": "text/x-python",
   "name": "python",
   "nbconvert_exporter": "python",
   "pygments_lexer": "ipython3",
   "version": "3.7.3"
  }
 },
 "nbformat": 4,
 "nbformat_minor": 4
}
