{
 "cells": [
  {
   "cell_type": "code",
   "execution_count": 29,
   "metadata": {},
   "outputs": [],
   "source": [
    "import pandas as pd\n",
    "import numpy as np\n",
    "import math"
   ]
  },
  {
   "cell_type": "code",
   "execution_count": 125,
   "metadata": {},
   "outputs": [],
   "source": [
    "df_original = pd.read_csv('train.csv')"
   ]
  },
  {
   "cell_type": "code",
   "execution_count": 126,
   "metadata": {},
   "outputs": [],
   "source": [
    "#Elimino idzona, latitud y longitud\n",
    "df_original = df_original.drop(columns=['lat','lng','idzona'])"
   ]
  },
  {
   "cell_type": "code",
   "execution_count": 127,
   "metadata": {},
   "outputs": [],
   "source": [
    "def obtener_reemplazo_por_defecto(dataframe,columna,tipoDeReemplazo=2):\n",
    "    # Devuelve un entero (ver comentarios de cada linea)\n",
    "    if tipoDeReemplazo == 0: return dataframe[columna].iloc[dataframe[columna].idxmin] # max valor de la columna\n",
    "    if tipoDeReemplazo == 1: return dataframe[columna].iloc[dataframe[columna].idxmax] # min valor de la columna\n",
    "    if tipoDeReemplazo == 2: return math.floor(dataframe[columna].mean()) # valor promedio de la columna\n",
    "    if tipoDeReemplazo == 3: return dataframe[columna].value_counts().sort_values(ascending=False).index[0] # valor que mas veces aparece\n",
    "    if tipoDeReemplazo == 4: return dataframe[columna].value_counts().sort_values().index[0]  # valor que menos veces aparece\n",
    "\n",
    "def reemplazarValoresNan(dataframe=None,listaDeColumnas=None,listaDeValoresDeReemplazo=0):\n",
    "    # Reemplaza los NaN de las columnas de la lista de columnas con el valor correspondiente en la lista de valores de reemplazo\n",
    "    if not listaDeColumnas:\n",
    "        dataframe.fillna(value=listaDeValoresDeReemplazo[0],inplace=True) # si no se pasa la lista de columnas, reemplaza en el Dataframe\n",
    "    for (i,columna) in enumerate(listaDeColumnas):\n",
    "        valorDeReemplazo = listaDeValoresDeReemplazo[i]\n",
    "        dataframe[columna] = dataframe[columna].fillna(value=valorDeReemplazo)\n",
    "    return dataframe"
   ]
  },
  {
   "cell_type": "code",
   "execution_count": 128,
   "metadata": {},
   "outputs": [],
   "source": [
    "df_ejemplo_1 = df_original.copy()\n",
    "valor_banios = obtener_reemplazo_por_defecto(df_ejemplo_1,'banos',1) # VALOR MAXIMO\n",
    "valor_habitaciones = obtener_reemplazo_por_defecto(df_ejemplo_1,'habitaciones',2) # VALOR PROMEDIO\n",
    "valor_antiguedad = obtener_reemplazo_por_defecto(df_ejemplo_1,'antiguedad',2) # VALOR PROMEDIO\n",
    "valor_garages = obtener_reemplazo_por_defecto(df_ejemplo_1,'garages',4) # VALOR QUE MENOS APARECE\n",
    "valor_escuelas_cercanas = obtener_reemplazo_por_defecto(df_ejemplo_2,'escuelascercanas',2) # VALOR PROMEDIO\n",
    "valor_centros_cercanos = obtener_reemplazo_por_defecto(df_ejemplo_2,'centroscomercialescercanos',2) # VALOR PROMEDIO\n",
    "\n",
    "df_ejemplo_1 = reemplazarValoresNan(df_ejemplo_1,['banos','habitaciones','antiguedad','garages'],\n",
    "                                [valor_banios,valor_habitaciones,valor_antiguedad,valor_garages])"
   ]
  },
  {
   "cell_type": "code",
   "execution_count": 129,
   "metadata": {},
   "outputs": [],
   "source": [
    "df_ejemplo_2 = df_original.copy()\n",
    "\n",
    "valor_banios = obtener_reemplazo_por_defecto(df_ejemplo_2,'banos',3) # VALOR QUE MAS APARECE\n",
    "valor_habitaciones = obtener_reemplazo_por_defecto(df_ejemplo_2,'habitaciones',1) # VALOR MAXIMO\n",
    "valor_antiguedad = obtener_reemplazo_por_defecto(df_ejemplo_2,'antiguedad',4)  # VALOR QUE MENOS APARECE\n",
    "valor_garages = obtener_reemplazo_por_defecto(df_ejemplo_2,'garages',2)  # VALOR PROMEDIO\n",
    "valor_escuelas_cercanas = obtener_reemplazo_por_defecto(df_ejemplo_2,'escuelascercanas',2) # VALOR PROMEDIO\n",
    "valor_centros_cercanos = obtener_reemplazo_por_defecto(df_ejemplo_2,'centroscomercialescercanos',2) # VALOR PROMEDIO\n",
    "\n",
    "df_ejemplo_2 = reemplazarValoresNan(df_ejemplo_2,['banos','habitaciones','antiguedad','garages'],\n",
    "                                [valor_banios,valor_habitaciones,valor_antiguedad,valor_garages,valor_escuelas_cercanas\n",
    "                                 ,valor_centros_cercanos])\n"
   ]
  },
  {
   "cell_type": "code",
   "execution_count": null,
   "metadata": {},
   "outputs": [],
   "source": []
  }
 ],
 "metadata": {
  "kernelspec": {
   "display_name": "Python 3",
   "language": "python",
   "name": "python3"
  },
  "language_info": {
   "codemirror_mode": {
    "name": "ipython",
    "version": 3
   },
   "file_extension": ".py",
   "mimetype": "text/x-python",
   "name": "python",
   "nbconvert_exporter": "python",
   "pygments_lexer": "ipython3",
   "version": "3.7.3"
  }
 },
 "nbformat": 4,
 "nbformat_minor": 4
}
