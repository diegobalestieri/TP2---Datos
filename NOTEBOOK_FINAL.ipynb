{
 "cells": [
  {
   "cell_type": "code",
   "execution_count": 10,
   "metadata": {},
   "outputs": [],
   "source": [
    "ES_PARA_SUBMIT = True\n",
    "AGREGAR_ESTIMACION_PRECIOM2 = True"
   ]
  },
  {
   "cell_type": "code",
   "execution_count": 11,
   "metadata": {
    "_cell_guid": "b1076dfc-b9ad-4769-8c92-a6c4dae69d19",
    "_uuid": "8f2839f25d086af736a60e9eeb907d3b93b6e0e5"
   },
   "outputs": [],
   "source": [
    "# This Python 3 environment comes with many helpful analytics libraries installed\n",
    "# It is defined by the kaggle/python docker image: https://github.com/kaggle/docker-python\n",
    "# For example, here's several helpful packages to load in \n",
    "\n",
    "import numpy as np # linear algebra\n",
    "import pandas as pd # data processing, CSV file I/O (e.g. pd.read_csv)\n",
    "\n",
    "# Input data files are available in the \"../input/\" directory.\n",
    "# For example, running this (by clicking run or pressing Shift+Enter) will list all files under the input directory\n",
    "\n",
    "import os\n",
    "for dirname, _, filenames in os.walk('/kaggle/input'):\n",
    "    for filename in filenames:\n",
    "        print(os.path.join(dirname, filename))\n",
    "\n",
    "# Any results you write to the current directory are saved as output."
   ]
  },
  {
   "cell_type": "code",
   "execution_count": 12,
   "metadata": {},
   "outputs": [],
   "source": [
    "from sklearn.compose import ColumnTransformer\n",
    "from sklearn.pipeline import Pipeline, make_pipeline\n",
    "from sklearn.impute import SimpleImputer\n",
    "from sklearn.preprocessing import OneHotEncoder\n",
    "from category_encoders import CountEncoder\n",
    "from sklearn.model_selection import train_test_split\n",
    "import xgboost as xgb\n",
    "from category_encoders import CatBoostEncoder"
   ]
  },
  {
   "cell_type": "code",
   "execution_count": 13,
   "metadata": {
    "_cell_guid": "79c7e3d0-c299-4dcb-8224-4455121ee9b0",
    "_uuid": "d629ff2d2480ee46fbb7e2d37f6b5fab8052498a"
   },
   "outputs": [],
   "source": [
    "posta = pd.read_csv(\"train.csv\")\n",
    "test = pd.read_csv(\"test.csv\")"
   ]
  },
  {
   "cell_type": "code",
   "execution_count": 14,
   "metadata": {},
   "outputs": [],
   "source": [
    "posta.drop(columns='id',inplace=True)\n",
    "test_conId = test.copy()\n",
    "test.drop(columns='id',inplace=True)"
   ]
  },
  {
   "cell_type": "code",
   "execution_count": 15,
   "metadata": {},
   "outputs": [],
   "source": [
    "if ES_PARA_SUBMIT: \n",
    "    TAMANIO_TRAIN = 240000\n",
    "    TAMANIO_TEST = 60000\n",
    "else:\n",
    "    TAMANIO_TRAIN = 190000\n",
    "    TAMANIO_TEST = 50000"
   ]
  },
  {
   "cell_type": "code",
   "execution_count": 16,
   "metadata": {},
   "outputs": [],
   "source": [
    "if not ES_PARA_SUBMIT:\n",
    "    test = posta.tail(TAMANIO_TEST).copy()\n",
    "    train = posta.head(TAMANIO_TRAIN).copy()\n",
    "    test.drop(columns = ['precio'], inplace = True)\n",
    "else:\n",
    "    train = posta.copy()"
   ]
  },
  {
   "cell_type": "code",
   "execution_count": 17,
   "metadata": {},
   "outputs": [],
   "source": [
    "dfCheto = pd.concat([train,test], sort=False)\n",
    "dfCheto['precio'] = SimpleImputer(strategy='median').fit_transform(dfCheto[['precio']])\n",
    "df = dfCheto.copy()"
   ]
  },
  {
   "cell_type": "code",
   "execution_count": 18,
   "metadata": {},
   "outputs": [],
   "source": [
    "df.provincia.fillna('provinciaVacia', inplace = True)\n",
    "aux2 = df[['ciudad', 'provincia']].copy()\n",
    "aux2.dropna(inplace = True)\n",
    "aux2 = aux2.groupby(['provincia']).agg(lambda x:x.provincia.value_counts().index[0]).reset_index().set_index('ciudad')\n",
    "ciuds = aux2.T.to_dict('records').copy()\n",
    "ciuds = ciuds[0]\n",
    "df.ciudad.fillna(df.provincia.map(ciuds), inplace = True)\n",
    "df.ciudad.fillna('ciudadVacia', inplace=True)"
   ]
  },
  {
   "cell_type": "code",
   "execution_count": 19,
   "metadata": {},
   "outputs": [],
   "source": [
    "df.tipodepropiedad.fillna('tipoVacio', inplace=True)"
   ]
  },
  {
   "cell_type": "code",
   "execution_count": 20,
   "metadata": {},
   "outputs": [],
   "source": [
    "aux = df.copy()\n",
    "aux.descripcion.fillna('',inplace=True)\n",
    "aux['jardin'] = (aux.descripcion.str.contains('jardin') | aux.descripcion.str.contains('jardín')).astype(int)\n",
    "aux['vigilancia'] = (aux.descripcion.str.contains('vigilancia') | aux.descripcion.str.contains('seguridad')).astype(int) \n",
    "aux['buenaUbicacion'] = (aux.descripcion.str.contains('ubicacion') | aux.descripcion.str.contains('ubicación')).astype(int)\n",
    "aux['lavadero'] = (aux.descripcion.str.contains('lavadero') | aux.descripcion.str.contains('lavado')).astype(int)\n",
    "aux['jacuzzi'] = (aux.descripcion.str.contains('jacuzzi')).astype(int)\n",
    "def buscar_barrioCerrado(string):\n",
    "    return int(('barrio cerrado' in string) or ('urbanizacion cerrada' in string) or ('urbanización cerrada' in string)\n",
    "    or ('barrio residencial' in string) or ('country' in string) or ('barrio privado' in string) or ('colonia privada' in string))\n",
    "aux['barrio_cerrado'] = aux.descripcion.map(lambda x:buscar_barrioCerrado(str(x)))\n",
    "\n",
    "valor_adicionales = {'gimnasio':4,'usosmultiples':2,'piscina':5,'escuelascercanas':3,'centroscomercialescercanos':3,\n",
    "                     'buenaUbicacion':2,'vigilancia': 5,'jardin':4,'jacuzzi':3,'lavadero':0.5,'barrio_cerrado':10}\n",
    "            \n",
    "for columna in aux.columns:\n",
    "    if columna in valor_adicionales:\n",
    "        aux[columna] = aux[columna].map(lambda x: x*valor_adicionales[columna])\n",
    "\n",
    "aux['adicionales'] = aux[valor_adicionales.keys()].sum(axis=1)\n",
    "df['adicionales'] = aux['adicionales']"
   ]
  },
  {
   "cell_type": "code",
   "execution_count": 21,
   "metadata": {},
   "outputs": [
    {
     "data": {
      "text/plain": [
       "34771      0.0\n",
       "89820     17.5\n",
       "16266     24.0\n",
       "76732     11.0\n",
       "81613     16.0\n",
       "198058     0.0\n",
       "229475    15.5\n",
       "74492      0.0\n",
       "77666      0.0\n",
       "57086      8.0\n",
       "Name: adicionales, dtype: float64"
      ]
     },
     "execution_count": 21,
     "metadata": {},
     "output_type": "execute_result"
    }
   ],
   "source": [
    "df.adicionales.sample(10)"
   ]
  },
  {
   "cell_type": "code",
   "execution_count": 22,
   "metadata": {},
   "outputs": [],
   "source": [
    "aux2 = df[['idzona', 'ciudad']].copy()\n",
    "aux2.dropna(inplace = True)\n",
    "aux2 = aux2.groupby('ciudad').agg({'idzona':'median'})\n",
    "ids = aux2.T.to_dict('records').copy()\n",
    "ids = ids[0]\n",
    "df.idzona.fillna(df.ciudad.map(ids), inplace = True)\n",
    "df['idzona'] = SimpleImputer(strategy='most_frequent').fit_transform(df[['idzona']])"
   ]
  },
  {
   "cell_type": "code",
   "execution_count": 23,
   "metadata": {},
   "outputs": [],
   "source": [
    "aux = df[['lat', 'ciudad']].copy()\n",
    "aux.dropna(inplace = True)\n",
    "aux = aux.groupby('ciudad').agg({'lat':'mean'})\n",
    "lats = aux.T.to_dict('records').copy()\n",
    "lats = lats[0]\n",
    "df.lat.fillna(df.ciudad.map(lats), inplace = True)\n",
    "df['lat'] = SimpleImputer(strategy='most_frequent').fit_transform(df[['lat']])"
   ]
  },
  {
   "cell_type": "code",
   "execution_count": 24,
   "metadata": {},
   "outputs": [],
   "source": [
    "aux = df[['lng', 'ciudad']].copy()\n",
    "aux.dropna(inplace = True)\n",
    "aux = aux.groupby('ciudad').agg({'lng':'mean'})\n",
    "lngs = aux.T.to_dict('records').copy()\n",
    "lngs = lngs[0]\n",
    "df.lng.fillna(df.ciudad.map(lngs), inplace = True)\n",
    "df['lng'] = SimpleImputer(strategy='most_frequent').fit_transform(df[['lng']])"
   ]
  },
  {
   "cell_type": "code",
   "execution_count": 25,
   "metadata": {},
   "outputs": [],
   "source": [
    "aux = df[['tipodepropiedad', 'habitaciones']].copy()\n",
    "aux.dropna(inplace = True)\n",
    "aux = aux.groupby('tipodepropiedad').agg({'habitaciones':'median'})\n",
    "habts = aux.T.to_dict('records').copy()\n",
    "habts = habts[0]\n",
    "df.habitaciones.fillna(df.tipodepropiedad.map(habts), inplace = True)\n",
    "df['habitaciones'] = SimpleImputer(strategy='most_frequent').fit_transform(df[['habitaciones']])"
   ]
  },
  {
   "cell_type": "code",
   "execution_count": 26,
   "metadata": {},
   "outputs": [],
   "source": [
    "aux = df[['tipodepropiedad', 'garages']].copy()\n",
    "aux.dropna(inplace = True)\n",
    "aux = aux.groupby('tipodepropiedad').agg({'garages':'median'})\n",
    "habts = aux.T.to_dict('records').copy()\n",
    "habts = habts[0]\n",
    "df.garages.fillna(df.tipodepropiedad.map(habts), inplace = True)\n",
    "df.garages.fillna(0, inplace=True)"
   ]
  },
  {
   "cell_type": "code",
   "execution_count": 27,
   "metadata": {},
   "outputs": [],
   "source": [
    "df.drop(columns=['direccion'], inplace=True)"
   ]
  },
  {
   "cell_type": "code",
   "execution_count": 28,
   "metadata": {},
   "outputs": [],
   "source": [
    "aux = df[['antiguedad', 'ciudad']].copy()\n",
    "aux.dropna(inplace = True)\n",
    "aux = aux.groupby('ciudad').agg({'antiguedad':'mean'})\n",
    "lngs = aux.T.to_dict('records').copy()\n",
    "lngs = lngs[0]\n",
    "df.antiguedad.fillna(df.ciudad.map(lngs), inplace = True)\n",
    "df['antiguedad'] = SimpleImputer(strategy='most_frequent').fit_transform(df[['antiguedad']])"
   ]
  },
  {
   "cell_type": "code",
   "execution_count": 29,
   "metadata": {},
   "outputs": [],
   "source": [
    "aux = df[['banos', 'tipodepropiedad']].copy()\n",
    "aux.dropna(inplace = True)\n",
    "aux = aux.groupby('tipodepropiedad').agg({'banos':'median'})\n",
    "lngs = aux.T.to_dict('records').copy()\n",
    "lngs = lngs[0]\n",
    "df.banos.fillna(df.tipodepropiedad.map(lngs), inplace = True)\n",
    "df.banos.fillna(1, inplace=True)"
   ]
  },
  {
   "cell_type": "code",
   "execution_count": 30,
   "metadata": {},
   "outputs": [],
   "source": [
    "#df.titulo.fillna('', inplace=True)\n",
    "#df.descripcion.fillna('', inplace=True)\n",
    "#df['texto'] = df.titulo + ' ' + df.descripcion\n",
    "#df['texto'] = df.texto.str.len()\n",
    "#df.drop(columns = ['descripcion', 'titulo'], inplace = True)"
   ]
  },
  {
   "cell_type": "code",
   "execution_count": 31,
   "metadata": {},
   "outputs": [],
   "source": [
    "aux = df.copy()\n",
    "aux.metrostotales.fillna(0, inplace=True)\n",
    "aux.metroscubiertos.fillna(0, inplace =True)\n",
    "aux['metrostotalesCorregidos'] = aux[['metrostotales', 'metroscubiertos']].max(axis=1)\n",
    "aux['metroscubiertosCorregidos'] = aux[['metrostotales', 'metroscubiertos']].min(axis=1)\n",
    "df['metrostotales'] = aux['metrostotalesCorregidos']\n",
    "df['metroscubiertos'] = aux['metroscubiertosCorregidos']"
   ]
  },
  {
   "cell_type": "code",
   "execution_count": 32,
   "metadata": {},
   "outputs": [],
   "source": [
    "df['fecha'] = pd.to_datetime(df['fecha'])\n",
    "df['dia'] = df.fecha.dt.day\n",
    "df['mes'] = df.fecha.dt.month\n",
    "df['anio'] = df.fecha.dt.year\n",
    "df.drop(columns=['fecha'], inplace=True)"
   ]
  },
  {
   "cell_type": "code",
   "execution_count": 33,
   "metadata": {},
   "outputs": [],
   "source": [
    "df['publicacionesPorCiudad'] = CountEncoder().fit_transform(df['ciudad'])"
   ]
  },
  {
   "cell_type": "code",
   "execution_count": 34,
   "metadata": {},
   "outputs": [],
   "source": [
    "df['publicacionesPorProvincia'] = CountEncoder().fit_transform(df['provincia'])"
   ]
  },
  {
   "cell_type": "code",
   "execution_count": 35,
   "metadata": {},
   "outputs": [],
   "source": [
    "df['publicacionesporZonaYAnio'] = df.groupby(['idzona','anio'])['antiguedad'].transform('count')"
   ]
  },
  {
   "cell_type": "code",
   "execution_count": 36,
   "metadata": {},
   "outputs": [],
   "source": [
    "aux = df[['mes', 'anio']].copy()\n",
    "aux['cantidad'] =  1\n",
    "aux['cantidad'] = aux.groupby(['mes', 'anio']).transform('sum')\n",
    "df['publicacionesEnMes'] = aux['cantidad']"
   ]
  },
  {
   "cell_type": "code",
   "execution_count": 37,
   "metadata": {},
   "outputs": [],
   "source": [
    "aux = df[['metrostotales', 'tipodepropiedad']].copy()\n",
    "aux['metrosPromedioPorTipo'] = aux.groupby('tipodepropiedad').transform('mean')\n",
    "df['metrosPromedioPorTipo'] = aux['metrosPromedioPorTipo']"
   ]
  },
  {
   "cell_type": "code",
   "execution_count": 38,
   "metadata": {},
   "outputs": [],
   "source": [
    "aux = df[['metrostotales', 'ciudad']].copy()\n",
    "aux['metrosPromedioPorCiudad'] = aux.groupby('ciudad').transform('mean')\n",
    "df['metrosPromedioPorCiudad'] = aux['metrosPromedioPorCiudad']"
   ]
  },
  {
   "cell_type": "code",
   "execution_count": 39,
   "metadata": {},
   "outputs": [],
   "source": [
    "transformador_categorias = Pipeline(steps=[\n",
    "    ('imputer', SimpleImputer(strategy='most_frequent')),\n",
    "    ('onehot', OneHotEncoder(handle_unknown='ignore')),\n",
    "])\n",
    "\n",
    "transfomador_numero = Pipeline(steps=[('a', SimpleImputer(strategy = 'median'))])"
   ]
  },
  {
   "cell_type": "code",
   "execution_count": 40,
   "metadata": {},
   "outputs": [],
   "source": [
    "preprocessor = ColumnTransformer(\n",
    "    transformers=[\n",
    "        ('num', transfomador_numero, ['antiguedad',\n",
    "       'habitaciones', 'garages', 'banos', 'metroscubiertos', 'metrostotales',\n",
    "       'idzona', 'lat', 'lng','adicionales',\n",
    "       'dia', 'mes', 'anio','publicacionesPorCiudad',\n",
    "       'publicacionesPorProvincia', 'publicacionesporZonaYAnio',\n",
    "       'publicacionesEnMes', 'metrosPromedioPorTipo',\n",
    "       'metrosPromedioPorCiudad']),\n",
    "        ('cat', transformador_categorias, ['tipodepropiedad', 'provincia', 'ciudad'])\n",
    "    ])"
   ]
  },
  {
   "cell_type": "code",
   "execution_count": 41,
   "metadata": {},
   "outputs": [],
   "source": [
    "model = xgb.XGBRegressor(learning_rate= 0.3,n_estimators= 400,scale_pos_weight= 2,max_depth= 10,min_child_weight= 5,gamma= 0.0,colsample_bytree= 0.75,\n",
    "                     subsample= 0.7,colsample_bylevel= 0.65, tree_method='gpu_hist', gpu_id=0)"
   ]
  },
  {
   "cell_type": "code",
   "execution_count": 42,
   "metadata": {},
   "outputs": [],
   "source": [
    "#dtrain = xgb.DMatrix(df.drop(columns=['precio','tipodepropiedad', 'provincia', 'ciudad']).copy(), label=df.precio)\n",
    "#params = {\n",
    "#    'max_depth':6,\n",
    "#    'min_child_weight': 1,\n",
    "#    'eta':.3,\n",
    "#    'subsample': 1,\n",
    "#    'colsample_bytree': 1,\n",
    "#    'objective':'reg:linear',\n",
    "#}\n",
    "#resultados_cv = xgb.cv(params,\n",
    "#    dtrain,\n",
    "#    seed=42,\n",
    "#    nfold=5,\n",
    "#    num_boost_round=2000,\n",
    "#    metrics={'mae'},\n",
    "#    early_stopping_rounds=10)\n",
    "\n",
    "#resultados_cv.shape[0]"
   ]
  },
  {
   "cell_type": "code",
   "execution_count": 43,
   "metadata": {},
   "outputs": [],
   "source": [
    "entrenamiento = df.head(TAMANIO_TRAIN).copy()\n",
    "prueba = df.tail(TAMANIO_TEST).copy()"
   ]
  },
  {
   "cell_type": "code",
   "execution_count": 44,
   "metadata": {},
   "outputs": [],
   "source": [
    "prueba.drop(columns=['precio'], inplace=True)"
   ]
  },
  {
   "cell_type": "code",
   "execution_count": 45,
   "metadata": {},
   "outputs": [],
   "source": [
    "train_x = entrenamiento.drop(columns=['precio']).copy()\n",
    "train_y = entrenamiento.precio.copy()"
   ]
  },
  {
   "cell_type": "code",
   "execution_count": 46,
   "metadata": {},
   "outputs": [],
   "source": [
    "train_x.tipodepropiedad = train_x.tipodepropiedad.astype(str)\n",
    "train_x.provincia = train_x.provincia.astype(str)\n",
    "my_pipeline = Pipeline(steps=[('preprocessor', preprocessor),\n",
    "                              ('model', model)\n",
    "                             ])"
   ]
  },
  {
   "cell_type": "code",
   "execution_count": null,
   "metadata": {},
   "outputs": [],
   "source": [
    "my_pipeline.fit(train_x, train_y)"
   ]
  },
  {
   "cell_type": "code",
   "execution_count": null,
   "metadata": {},
   "outputs": [],
   "source": [
    "preds = my_pipeline.predict(train_x)"
   ]
  },
  {
   "cell_type": "code",
   "execution_count": null,
   "metadata": {},
   "outputs": [],
   "source": [
    "from sklearn.metrics import mean_absolute_error\n",
    "mean_absolute_error(preds, train_y)"
   ]
  },
  {
   "cell_type": "code",
   "execution_count": null,
   "metadata": {},
   "outputs": [],
   "source": [
    "precio = posta.precio.tail(TAMANIO_TEST).copy()"
   ]
  },
  {
   "cell_type": "code",
   "execution_count": null,
   "metadata": {},
   "outputs": [],
   "source": [
    "preds = my_pipeline.predict(prueba)"
   ]
  },
  {
   "cell_type": "code",
   "execution_count": null,
   "metadata": {},
   "outputs": [],
   "source": [
    "if not ES_PARA_SUBMIT:\n",
    "    print(mean_absolute_error(preds, precio))"
   ]
  },
  {
   "cell_type": "markdown",
   "metadata": {},
   "source": [
    "USO LOS PRECIOS ESTIMADOS POR 1RA VEZ"
   ]
  },
  {
   "cell_type": "code",
   "execution_count": null,
   "metadata": {},
   "outputs": [],
   "source": [
    "aux = df.tail(TAMANIO_TEST).copy()\n",
    "aux.precio = preds\n",
    "df = pd.concat([df.head(TAMANIO_TRAIN),aux], sort=False)"
   ]
  },
  {
   "cell_type": "code",
   "execution_count": null,
   "metadata": {},
   "outputs": [],
   "source": [
    "df['catBoostCiudad'] = CatBoostEncoder().fit_transform(df[['ciudad']], df['precio'])\n",
    "df['catBoostTipo'] = CatBoostEncoder().fit_transform(df[['tipodepropiedad']], df['precio'])\n",
    "df['catBoostProvincia'] = CatBoostEncoder().fit_transform(df[['provincia']], df['precio'])"
   ]
  },
  {
   "cell_type": "code",
   "execution_count": null,
   "metadata": {},
   "outputs": [],
   "source": [
    "aux = df[['precio', 'ciudad', 'metrostotales']].copy()\n",
    "aux['precioMetro'] = aux['precio']/aux['metrostotales']\n",
    "aux = aux.groupby('ciudad').agg({'precioMetro':'mean'})\n",
    "precioPromedio = aux.T.to_dict('records').copy()\n",
    "precioPromedio = precioPromedio[0]\n",
    "df['precioPromedioM2PorCiudad'] = df.ciudad.map(precioPromedio)"
   ]
  },
  {
   "cell_type": "code",
   "execution_count": null,
   "metadata": {},
   "outputs": [],
   "source": [
    "aux = df[['precio', 'tipodepropiedad', 'metrostotales']].copy()\n",
    "aux['precioMetro'] = aux['precio']/aux['metrostotales']\n",
    "aux = aux.groupby('tipodepropiedad').agg({'precioMetro':'mean'})\n",
    "precioPromedio = aux.T.to_dict('records').copy()\n",
    "precioPromedio = precioPromedio[0]\n",
    "df['precioPromedioM2PorTipo'] = df.tipodepropiedad.map(precioPromedio)"
   ]
  },
  {
   "cell_type": "code",
   "execution_count": null,
   "metadata": {},
   "outputs": [],
   "source": [
    "aux = df[['precio', 'idzona', 'metrostotales']].copy()\n",
    "aux['precioMetro'] = aux['precio']/aux['metrostotales']\n",
    "aux = aux.groupby('idzona').agg({'precioMetro':'mean'})\n",
    "precioPromedio = aux.T.to_dict('records').copy()\n",
    "precioPromedio = precioPromedio[0]\n",
    "df['precioPromedioM2PorZona'] = df.idzona.map(precioPromedio)"
   ]
  },
  {
   "cell_type": "code",
   "execution_count": null,
   "metadata": {},
   "outputs": [],
   "source": [
    "aux = df[['precio', 'mes', 'anio', 'metrostotales']].copy()\n",
    "aux['mes-anio'] = aux.mes + aux.anio\n",
    "aux['precioMetro'] = aux['precio']/aux['metrostotales']\n",
    "aux = aux.groupby('mes-anio').agg({'precioMetro':'mean'})\n",
    "precioPromedio = aux.T.to_dict('records').copy()\n",
    "precioPromedio = precioPromedio[0]\n",
    "df['mes-anio'] = df.mes + df.anio\n",
    "df['precioPromedioM2PorMes'] = df['mes-anio'].map(precioPromedio)"
   ]
  },
  {
   "cell_type": "code",
   "execution_count": null,
   "metadata": {},
   "outputs": [],
   "source": [
    "aux = df[['provincia','ciudad','idzona','anio','mes','precio','metrostotales','tipodepropiedad']].copy()\n",
    "aux['preciom2'] = aux.precio/aux.metrostotales\n",
    "aux['trimestre'] = (aux.mes//3)+1-aux.mes//12\n",
    "aux['semestre'] = (aux.mes//6)+1-aux.mes//12\n",
    "#aux = aux.groupby(['provincia','anio','tipodepropiedad'])['preciom2'].agg(['min','max','count','mean','median','std'])\n",
    "def rellenarCon(dataframe,listaDeParametros):\n",
    "    dataframe['cuenta'] = dataframe.groupby(listaDeParametros)['preciom2'].transform('count')\n",
    "    dataframe['estimacion'] = dataframe.groupby(listaDeParametros)['preciom2'].transform('mean')\n",
    "    nombre_col = 'mediana_'+'_'.join(listaDeParametros)\n",
    "    dataframe[nombre_col] = dataframe.apply(lambda x: x['estimacion'] if x['cuenta'] >= 10 else 0,axis=1)\n",
    "\n",
    "if AGREGAR_ESTIMACION_PRECIOM2:\n",
    "    rellenarCon(aux,['anio','idzona'])\n",
    "    rellenarCon(aux,['anio','trimestre','ciudad'])\n",
    "    rellenarCon(aux,['anio','semestre','ciudad'])\n",
    "    rellenarCon(aux,['anio','ciudad'])\n",
    "    rellenarCon(aux,['ciudad'])\n",
    "    rellenarCon(aux,['anio','provincia'])"
   ]
  },
  {
   "cell_type": "code",
   "execution_count": null,
   "metadata": {},
   "outputs": [],
   "source": [
    "def devolverEstimacion(x,columnas):\n",
    "    for i in range(len(columnas)):\n",
    "        if columnas[i].find('mediana') > -1 and x[i]>0: return x[i]\n",
    "    return 0\n",
    "if AGREGAR_ESTIMACION_PRECIOM2:\n",
    "    aux['estimacionM2'] = aux.apply(lambda x: devolverEstimacion(x=x,columnas=aux.columns),axis=1)\n",
    "    df['estimacion_preciom2'] = aux['estimacionM2']\n",
    "#df['estimacion_anio_idzona'] = aux['mediana_anio_idzona']\n",
    "#df['estimacion_ciudad_anio_tipodepropiedad'] = aux['mediana_ciudad_anio_tipodepropiedad']\n",
    "#df['estimacion_trimestre_idzona'] = aux['mediana_trimestre_idzona']\n",
    "#df['estimacion_trimestre_ciudad'] = aux['mediana_trimestre_ciudad']"
   ]
  },
  {
   "cell_type": "code",
   "execution_count": null,
   "metadata": {},
   "outputs": [],
   "source": [
    "#df.drop(columns=['mes-anio'], inplace = True)"
   ]
  },
  {
   "cell_type": "code",
   "execution_count": null,
   "metadata": {},
   "outputs": [],
   "source": [
    "entrenamiento = df.head(TAMANIO_TRAIN).copy()\n",
    "prueba = df.tail(TAMANIO_TEST).copy()\n",
    "prueba.drop(columns=['precio'], inplace=True)\n",
    "train_x = entrenamiento.drop(columns=['precio']).copy()\n",
    "train_y = entrenamiento.precio.copy()"
   ]
  },
  {
   "cell_type": "code",
   "execution_count": null,
   "metadata": {},
   "outputs": [],
   "source": [
    "df.columns"
   ]
  },
  {
   "cell_type": "code",
   "execution_count": null,
   "metadata": {},
   "outputs": [],
   "source": [
    "model = xgb.XGBRegressor(learning_rate= 0.18,n_estimators= 700,scale_pos_weight= 2,max_depth= 10,min_child_weight= 5,gamma= 0.0,colsample_bytree= 0.75,\n",
    "                     subsample= 0.7,colsample_bylevel= 0.65, tree_method='gpu_hist', gpu_id=0)"
   ]
  },
  {
   "cell_type": "code",
   "execution_count": null,
   "metadata": {},
   "outputs": [],
   "source": [
    "columnas_num = ['antiguedad','estimacion_preciom2',\n",
    "       'habitaciones', 'garages', 'banos', 'metroscubiertos', 'metrostotales',\n",
    "       'idzona', 'lat', 'lng', 'adicionales',\n",
    "       'dia', 'mes', 'anio','publicacionesPorCiudad',\n",
    "       'publicacionesPorProvincia', 'publicacionesporZonaYAnio',\n",
    "       'publicacionesEnMes', 'metrosPromedioPorTipo',\n",
    "       'metrosPromedioPorCiudad','catBoostCiudad', 'catBoostTipo',\n",
    "       'catBoostProvincia','precioPromedioM2PorCiudad',\n",
    "       'precioPromedioM2PorTipo', 'precioPromedioM2PorZona',\n",
    "       'precioPromedioM2PorMes']\n",
    "if not AGREGAR_ESTIMACION_PRECIOM2: columnas_num.remove('estimacion_preciom2')\n",
    "                                     \n",
    "preprocessor2 = ColumnTransformer(\n",
    "    transformers=[\n",
    "        ('num', transfomador_numero,columnas_num),\n",
    "        ('cat', transformador_categorias, ['tipodepropiedad', 'provincia', 'ciudad'])\n",
    "    ])"
   ]
  },
  {
   "cell_type": "code",
   "execution_count": null,
   "metadata": {},
   "outputs": [],
   "source": [
    "train_x.tipodepropiedad = train_x.tipodepropiedad.astype(str)\n",
    "train_x.provincia = train_x.provincia.astype(str)\n",
    "my_pipeline = Pipeline(steps=[('preprocessor', preprocessor2),\n",
    "                              ('model', model)\n",
    "                             ])"
   ]
  },
  {
   "cell_type": "code",
   "execution_count": null,
   "metadata": {},
   "outputs": [],
   "source": [
    "my_pipeline.fit(train_x, train_y)"
   ]
  },
  {
   "cell_type": "code",
   "execution_count": null,
   "metadata": {},
   "outputs": [],
   "source": [
    "preds = my_pipeline.predict(train_x)"
   ]
  },
  {
   "cell_type": "code",
   "execution_count": null,
   "metadata": {},
   "outputs": [],
   "source": [
    "mean_absolute_error(preds, train_y)"
   ]
  },
  {
   "cell_type": "code",
   "execution_count": null,
   "metadata": {},
   "outputs": [],
   "source": [
    "preds = my_pipeline.predict(prueba)"
   ]
  },
  {
   "cell_type": "code",
   "execution_count": null,
   "metadata": {},
   "outputs": [],
   "source": [
    "if not ES_PARA_SUBMIT:\n",
    "    print(mean_absolute_error(preds, precio))"
   ]
  },
  {
   "cell_type": "markdown",
   "metadata": {},
   "source": [
    "USO LOS PRECIOS ESTIMADOS POR 2DA VEZ"
   ]
  },
  {
   "cell_type": "code",
   "execution_count": null,
   "metadata": {},
   "outputs": [],
   "source": [
    "aux = df.tail(TAMANIO_TEST).copy()\n",
    "aux.precio = preds\n",
    "df = pd.concat([df.head(TAMANIO_TRAIN),aux], sort=False)"
   ]
  },
  {
   "cell_type": "code",
   "execution_count": null,
   "metadata": {},
   "outputs": [],
   "source": [
    "df['catBoostCiudad'] = CatBoostEncoder().fit_transform(df[['ciudad']], df['precio'])\n",
    "df['catBoostTipo'] = CatBoostEncoder().fit_transform(df[['tipodepropiedad']], df['precio'])\n",
    "df['catBoostProvincia'] = CatBoostEncoder().fit_transform(df[['provincia']], df['precio'])"
   ]
  },
  {
   "cell_type": "code",
   "execution_count": null,
   "metadata": {},
   "outputs": [],
   "source": [
    "aux = df[['precio', 'ciudad', 'metrostotales']].copy()\n",
    "aux['precioMetro'] = aux['precio']/aux['metrostotales']\n",
    "aux = aux.groupby('ciudad').agg({'precioMetro':'mean'})\n",
    "precioPromedio = aux.T.to_dict('records').copy()\n",
    "precioPromedio = precioPromedio[0]\n",
    "df['precioPromedioM2PorCiudad'] = df.ciudad.map(precioPromedio)"
   ]
  },
  {
   "cell_type": "code",
   "execution_count": null,
   "metadata": {},
   "outputs": [],
   "source": [
    "aux = df[['precio', 'tipodepropiedad', 'metrostotales']].copy()\n",
    "aux['precioMetro'] = aux['precio']/aux['metrostotales']\n",
    "aux = aux.groupby('tipodepropiedad').agg({'precioMetro':'mean'})\n",
    "precioPromedio = aux.T.to_dict('records').copy()\n",
    "precioPromedio = precioPromedio[0]\n",
    "df['precioPromedioM2PorTipo'] = df.tipodepropiedad.map(precioPromedio)"
   ]
  },
  {
   "cell_type": "code",
   "execution_count": null,
   "metadata": {},
   "outputs": [],
   "source": [
    "aux = df[['precio', 'idzona', 'metrostotales']].copy()\n",
    "aux['precioMetro'] = aux['precio']/aux['metrostotales']\n",
    "aux = aux.groupby('idzona').agg({'precioMetro':'mean'})\n",
    "precioPromedio = aux.T.to_dict('records').copy()\n",
    "precioPromedio = precioPromedio[0]\n",
    "df['precioPromedioM2PorZona'] = df.idzona.map(precioPromedio)"
   ]
  },
  {
   "cell_type": "code",
   "execution_count": null,
   "metadata": {},
   "outputs": [],
   "source": [
    "aux = df[['precio', 'mes', 'anio', 'metrostotales']].copy()\n",
    "aux['mes-anio'] = aux.mes + aux.anio\n",
    "aux['precioMetro'] = aux['precio']/aux['metrostotales']\n",
    "aux = aux.groupby('mes-anio').agg({'precioMetro':'mean'})\n",
    "precioPromedio = aux.T.to_dict('records').copy()\n",
    "precioPromedio = precioPromedio[0]\n",
    "df['mes-anio'] = df.mes + df.anio\n",
    "df['precioPromedioM2PorMes'] = df['mes-anio'].map(precioPromedio)"
   ]
  },
  {
   "cell_type": "code",
   "execution_count": null,
   "metadata": {},
   "outputs": [],
   "source": [
    "aux = df[['provincia','ciudad','idzona','anio','mes','precio','metrostotales','tipodepropiedad']].copy()\n",
    "aux['preciom2'] = aux.precio/aux.metrostotales\n",
    "aux['trimestre'] = (aux.mes//3)+1-aux.mes//12\n",
    "aux['semestre'] = (aux.mes//6)+1-aux.mes//12\n",
    "#aux = aux.groupby(['provincia','anio','tipodepropiedad'])['preciom2'].agg(['min','max','count','mean','median','std'])\n",
    "def rellenarCon(dataframe,listaDeParametros):\n",
    "    dataframe['cuenta'] = dataframe.groupby(listaDeParametros)['preciom2'].transform('count')\n",
    "    dataframe['estimacion'] = dataframe.groupby(listaDeParametros)['preciom2'].transform('mean')\n",
    "    nombre_col = 'mediana_'+'_'.join(listaDeParametros)\n",
    "    dataframe[nombre_col] = dataframe.apply(lambda x: x['estimacion'] if x['cuenta'] >= 10 else 0,axis=1)\n",
    "\n",
    "if AGREGAR_ESTIMACION_PRECIOM2:\n",
    "    rellenarCon(aux,['anio','idzona'])\n",
    "    rellenarCon(aux,['anio','trimestre','ciudad'])\n",
    "    rellenarCon(aux,['anio','semestre','ciudad'])\n",
    "    rellenarCon(aux,['anio','ciudad'])\n",
    "    rellenarCon(aux,['ciudad'])\n",
    "    rellenarCon(aux,['anio','provincia'])"
   ]
  },
  {
   "cell_type": "code",
   "execution_count": null,
   "metadata": {},
   "outputs": [],
   "source": [
    "def devolverEstimacion(x,columnas):\n",
    "    for i in range(len(columnas)):\n",
    "        if columnas[i].find('mediana') > -1 and x[i]>0: return x[i]\n",
    "    return 0\n",
    "\n",
    "if AGREGAR_ESTIMACION_PRECIOM2:\n",
    "    aux['estimacionM2'] = aux.apply(lambda x: devolverEstimacion(x=x,columnas=aux.columns),axis=1)\n",
    "    df['estimacion_preciom2'] = aux['estimacionM2']\n",
    "#df['estimacion_anio_idzona'] = aux['mediana_anio_idzona']\n",
    "#df['estimacion_ciudad_anio_tipodepropiedad'] = aux['mediana_ciudad_anio_tipodepropiedad']\n",
    "#df['estimacion_trimestre_idzona'] = aux['mediana_trimestre_idzona']\n",
    "#df['estimacion_trimestre_ciudad'] = aux['mediana_trimestre_ciudad']"
   ]
  },
  {
   "cell_type": "code",
   "execution_count": null,
   "metadata": {},
   "outputs": [],
   "source": [
    "#df.drop(columns=['mes-anio'], inplace = True)"
   ]
  },
  {
   "cell_type": "code",
   "execution_count": null,
   "metadata": {},
   "outputs": [],
   "source": [
    "entrenamiento = df.head(TAMANIO_TRAIN).copy()\n",
    "prueba = df.tail(TAMANIO_TEST).copy()\n",
    "prueba.drop(columns=['precio'], inplace=True)\n",
    "train_x = entrenamiento.drop(columns=['precio']).copy()\n",
    "train_y = entrenamiento.precio.copy()"
   ]
  },
  {
   "cell_type": "code",
   "execution_count": null,
   "metadata": {},
   "outputs": [],
   "source": [
    "df.columns"
   ]
  },
  {
   "cell_type": "code",
   "execution_count": null,
   "metadata": {},
   "outputs": [],
   "source": [
    "model = xgb.XGBRegressor(learning_rate= 0.1,n_estimators= 1000,scale_pos_weight= 2,max_depth= 10,min_child_weight= 5,gamma= 0.0,colsample_bytree= 0.75,\n",
    "                     subsample= 0.7,colsample_bylevel= 0.65, tree_method='gpu_hist', gpu_id=0)"
   ]
  },
  {
   "cell_type": "code",
   "execution_count": null,
   "metadata": {},
   "outputs": [],
   "source": [
    "preprocessor2 = ColumnTransformer(\n",
    "    transformers=[\n",
    "        ('num', transfomador_numero,columnas_num),\n",
    "        ('cat', transformador_categorias, ['tipodepropiedad', 'provincia', 'ciudad'])\n",
    "    ])"
   ]
  },
  {
   "cell_type": "code",
   "execution_count": null,
   "metadata": {},
   "outputs": [],
   "source": [
    "train_x.tipodepropiedad = train_x.tipodepropiedad.astype(str)\n",
    "train_x.provincia = train_x.provincia.astype(str)\n",
    "my_pipeline = Pipeline(steps=[('preprocessor', preprocessor2),\n",
    "                              ('model', model)\n",
    "                             ])"
   ]
  },
  {
   "cell_type": "code",
   "execution_count": null,
   "metadata": {},
   "outputs": [],
   "source": [
    "my_pipeline.fit(train_x, train_y)"
   ]
  },
  {
   "cell_type": "code",
   "execution_count": null,
   "metadata": {},
   "outputs": [],
   "source": [
    "preds = my_pipeline.predict(train_x)"
   ]
  },
  {
   "cell_type": "code",
   "execution_count": null,
   "metadata": {},
   "outputs": [],
   "source": [
    "mean_absolute_error(preds, train_y)"
   ]
  },
  {
   "cell_type": "code",
   "execution_count": null,
   "metadata": {},
   "outputs": [],
   "source": [
    "preds = my_pipeline.predict(prueba)"
   ]
  },
  {
   "cell_type": "code",
   "execution_count": null,
   "metadata": {},
   "outputs": [],
   "source": [
    "if not ES_PARA_SUBMIT:\n",
    "    print(mean_absolute_error(preds, precio))"
   ]
  },
  {
   "cell_type": "markdown",
   "metadata": {},
   "source": [
    "USO LOS PRECIOS ESTIMADOS POR 3RA VEZ"
   ]
  },
  {
   "cell_type": "code",
   "execution_count": null,
   "metadata": {},
   "outputs": [],
   "source": [
    "aux = df.tail(TAMANIO_TEST).copy()\n",
    "aux.precio = preds\n",
    "df = pd.concat([df.head(TAMANIO_TRAIN),aux], sort=False)"
   ]
  },
  {
   "cell_type": "code",
   "execution_count": null,
   "metadata": {},
   "outputs": [],
   "source": [
    "df['catBoostCiudad'] = CatBoostEncoder().fit_transform(df[['ciudad']], df['precio'])\n",
    "df['catBoostTipo'] = CatBoostEncoder().fit_transform(df[['tipodepropiedad']], df['precio'])\n",
    "df['catBoostProvincia'] = CatBoostEncoder().fit_transform(df[['provincia']], df['precio'])"
   ]
  },
  {
   "cell_type": "code",
   "execution_count": null,
   "metadata": {},
   "outputs": [],
   "source": [
    "aux = df[['precio', 'ciudad', 'metrostotales']].copy()\n",
    "aux['precioMetro'] = aux['precio']/aux['metrostotales']\n",
    "aux = aux.groupby('ciudad').agg({'precioMetro':'mean'})\n",
    "precioPromedio = aux.T.to_dict('records').copy()\n",
    "precioPromedio = precioPromedio[0]\n",
    "df['precioPromedioM2PorCiudad'] = df.ciudad.map(precioPromedio)"
   ]
  },
  {
   "cell_type": "code",
   "execution_count": null,
   "metadata": {},
   "outputs": [],
   "source": [
    "aux = df[['precio', 'tipodepropiedad', 'metrostotales']].copy()\n",
    "aux['precioMetro'] = aux['precio']/aux['metrostotales']\n",
    "aux = aux.groupby('tipodepropiedad').agg({'precioMetro':'mean'})\n",
    "precioPromedio = aux.T.to_dict('records').copy()\n",
    "precioPromedio = precioPromedio[0]\n",
    "df['precioPromedioM2PorTipo'] = df.tipodepropiedad.map(precioPromedio)"
   ]
  },
  {
   "cell_type": "code",
   "execution_count": null,
   "metadata": {},
   "outputs": [],
   "source": [
    "aux = df[['precio', 'idzona', 'metrostotales']].copy()\n",
    "aux['precioMetro'] = aux['precio']/aux['metrostotales']\n",
    "aux = aux.groupby('idzona').agg({'precioMetro':'mean'})\n",
    "precioPromedio = aux.T.to_dict('records').copy()\n",
    "precioPromedio = precioPromedio[0]\n",
    "df['precioPromedioM2PorZona'] = df.idzona.map(precioPromedio)"
   ]
  },
  {
   "cell_type": "code",
   "execution_count": null,
   "metadata": {},
   "outputs": [],
   "source": [
    "aux = df[['precio', 'mes', 'anio', 'metrostotales']].copy()\n",
    "aux['mes-anio'] = aux.mes + aux.anio\n",
    "aux['precioMetro'] = aux['precio']/aux['metrostotales']\n",
    "aux = aux.groupby('mes-anio').agg({'precioMetro':'mean'})\n",
    "precioPromedio = aux.T.to_dict('records').copy()\n",
    "precioPromedio = precioPromedio[0]\n",
    "df['mes-anio'] = df.mes + df.anio\n",
    "df['precioPromedioM2PorMes'] = df['mes-anio'].map(precioPromedio)"
   ]
  },
  {
   "cell_type": "code",
   "execution_count": null,
   "metadata": {},
   "outputs": [],
   "source": [
    "aux = df[['provincia','ciudad','idzona','anio','mes','precio','metrostotales','tipodepropiedad']].copy()\n",
    "aux['preciom2'] = aux.precio/aux.metrostotales\n",
    "aux['trimestre'] = (aux.mes//3)+1-aux.mes//12\n",
    "aux['semestre'] = (aux.mes//6)+1-aux.mes//12\n",
    "#aux = aux.groupby(['provincia','anio','tipodepropiedad'])['preciom2'].agg(['min','max','count','mean','median','std'])\n",
    "def rellenarCon(dataframe,listaDeParametros):\n",
    "    dataframe['cuenta'] = dataframe.groupby(listaDeParametros)['preciom2'].transform('count')\n",
    "    dataframe['estimacion'] = dataframe.groupby(listaDeParametros)['preciom2'].transform('mean')\n",
    "    nombre_col = 'mediana_'+'_'.join(listaDeParametros)\n",
    "    dataframe[nombre_col] = dataframe.apply(lambda x: x['estimacion'] if x['cuenta'] >= 10 else 0,axis=1)\n",
    "\n",
    "if AGREGAR_ESTIMACION_PRECIOM2:\n",
    "    rellenarCon(aux,['anio','idzona'])\n",
    "    rellenarCon(aux,['anio','trimestre','ciudad'])\n",
    "    rellenarCon(aux,['anio','semestre','ciudad'])\n",
    "    rellenarCon(aux,['anio','ciudad'])\n",
    "    rellenarCon(aux,['ciudad'])\n",
    "    rellenarCon(aux,['anio','provincia'])"
   ]
  },
  {
   "cell_type": "code",
   "execution_count": null,
   "metadata": {},
   "outputs": [],
   "source": [
    "def devolverEstimacion(x,columnas):\n",
    "    for i in range(len(columnas)):\n",
    "        if columnas[i].find('mediana') > -1 and x[i]>0: return x[i]\n",
    "    return 0\n",
    "if AGREGAR_ESTIMACION_PRECIOM2:\n",
    "    aux['estimacionM2'] = aux.apply(lambda x: devolverEstimacion(x=x,columnas=aux.columns),axis=1)\n",
    "    df['estimacion_preciom2'] = aux['estimacionM2']\n",
    "#df['estimacion_anio_idzona'] = aux['mediana_anio_idzona']\n",
    "#df['estimacion_ciudad_anio_tipodepropiedad'] = aux['mediana_ciudad_anio_tipodepropiedad']\n",
    "#df['estimacion_trimestre_idzona'] = aux['mediana_trimestre_idzona']\n",
    "#df['estimacion_trimestre_ciudad'] = aux['mediana_trimestre_ciudad']"
   ]
  },
  {
   "cell_type": "code",
   "execution_count": null,
   "metadata": {},
   "outputs": [],
   "source": [
    "#df.drop(columns=['mes-anio'], inplace = True)"
   ]
  },
  {
   "cell_type": "code",
   "execution_count": null,
   "metadata": {},
   "outputs": [],
   "source": [
    "entrenamiento = df.head(TAMANIO_TRAIN).copy()\n",
    "prueba = df.tail(TAMANIO_TEST).copy()\n",
    "prueba.drop(columns=['precio'], inplace=True)\n",
    "train_x = entrenamiento.drop(columns=['precio']).copy()\n",
    "train_y = entrenamiento.precio.copy()"
   ]
  },
  {
   "cell_type": "code",
   "execution_count": null,
   "metadata": {},
   "outputs": [],
   "source": [
    "df.columns"
   ]
  },
  {
   "cell_type": "code",
   "execution_count": null,
   "metadata": {},
   "outputs": [],
   "source": [
    "model = xgb.XGBRegressor(learning_rate= 0.03,n_estimators= 1400,scale_pos_weight= 2,max_depth= 10,min_child_weight= 5,gamma= 0.0,colsample_bytree= 0.75,\n",
    "                     subsample= 0.7,colsample_bylevel= 0.65, tree_method='gpu_hist', gpu_id=0)"
   ]
  },
  {
   "cell_type": "code",
   "execution_count": null,
   "metadata": {},
   "outputs": [],
   "source": [
    "preprocessor2 = ColumnTransformer(\n",
    "    transformers=[\n",
    "        ('num', transfomador_numero,columnas_num),\n",
    "        ('cat', transformador_categorias, ['tipodepropiedad', 'provincia', 'ciudad'])\n",
    "    ])"
   ]
  },
  {
   "cell_type": "code",
   "execution_count": null,
   "metadata": {},
   "outputs": [],
   "source": [
    "train_x.tipodepropiedad = train_x.tipodepropiedad.astype(str)\n",
    "train_x.provincia = train_x.provincia.astype(str)\n",
    "my_pipeline = Pipeline(steps=[('preprocessor', preprocessor2),\n",
    "                              ('model', model)\n",
    "                             ])"
   ]
  },
  {
   "cell_type": "code",
   "execution_count": null,
   "metadata": {},
   "outputs": [],
   "source": [
    "my_pipeline.fit(train_x, train_y)"
   ]
  },
  {
   "cell_type": "code",
   "execution_count": null,
   "metadata": {},
   "outputs": [],
   "source": [
    "preds = my_pipeline.predict(train_x)"
   ]
  },
  {
   "cell_type": "code",
   "execution_count": null,
   "metadata": {},
   "outputs": [],
   "source": [
    "mean_absolute_error(preds, train_y)"
   ]
  },
  {
   "cell_type": "code",
   "execution_count": null,
   "metadata": {},
   "outputs": [],
   "source": [
    "preds = my_pipeline.predict(prueba)"
   ]
  },
  {
   "cell_type": "code",
   "execution_count": null,
   "metadata": {},
   "outputs": [],
   "source": [
    "if not ES_PARA_SUBMIT:\n",
    "    print(mean_absolute_error(preds, precio))"
   ]
  },
  {
   "cell_type": "code",
   "execution_count": null,
   "metadata": {},
   "outputs": [],
   "source": [
    "# RMSLE=1.0249284784393988 ?\n",
    "# import the modules we'll need\n",
    "from IPython.display import HTML\n",
    "import base64\n",
    "\n",
    "# function that takes in a dataframe and creates a text link to  \n",
    "# download it (will only work for files < 2MB or so)\n",
    "def create_download_link(df, title = \"Download CSV file\", filename = \"knn-results.csv\"):  \n",
    "    csv = df.to_csv(index=False)\n",
    "    b64 = base64.b64encode(csv.encode())\n",
    "    payload = b64.decode()\n",
    "    html = '<a download=\"{filename}\" href=\"data:text/csv;base64,{payload}\" target=\"_blank\">{title}</a>'\n",
    "    html = html.format(payload=payload,title=title,filename=filename)\n",
    "    return HTML(html)\n",
    "\n",
    "# create a link to download the dataframe\n",
    "if ES_PARA_SUBMIT: \n",
    "    res = pd.DataFrame(preds, index=test_conId.id, columns=['precio'])\n",
    "    res.reset_index(inplace=True)\n",
    "    res.columns = ['id',\"target\"]\n",
    "    display(res.head())\n",
    "create_download_link(res)"
   ]
  },
  {
   "cell_type": "code",
   "execution_count": null,
   "metadata": {},
   "outputs": [],
   "source": []
  }
 ],
 "metadata": {
  "kernelspec": {
   "display_name": "Python 3",
   "language": "python",
   "name": "python3"
  },
  "language_info": {
   "codemirror_mode": {
    "name": "ipython",
    "version": 3
   },
   "file_extension": ".py",
   "mimetype": "text/x-python",
   "name": "python",
   "nbconvert_exporter": "python",
   "pygments_lexer": "ipython3",
   "version": "3.7.3"
  }
 },
 "nbformat": 4,
 "nbformat_minor": 4
}
