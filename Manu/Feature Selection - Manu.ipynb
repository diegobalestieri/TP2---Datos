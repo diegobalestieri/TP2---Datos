{
 "cells": [
  {
   "cell_type": "code",
   "execution_count": null,
   "metadata": {
    "_cell_guid": "b1076dfc-b9ad-4769-8c92-a6c4dae69d19",
    "_uuid": "8f2839f25d086af736a60e9eeb907d3b93b6e0e5"
   },
   "outputs": [],
   "source": [
    "# This Python 3 environment comes with many helpful analytics libraries installed\n",
    "# It is defined by the kaggle/python docker image: https://github.com/kaggle/docker-python\n",
    "# For example, here's several helpful packages to load in \n",
    "\n",
    "import numpy as np # linear algebra\n",
    "import pandas as pd # data processing, CSV file I/O (e.g. pd.read_csv)\n",
    "\n",
    "# Input data files are available in the \"../input/\" directory.\n",
    "# For example, running this (by clicking run or pressing Shift+Enter) will list all files under the input directory\n",
    "\n",
    "import os\n",
    "for dirname, _, filenames in os.walk('/kaggle/input'):\n",
    "    for filename in filenames:\n",
    "        print(os.path.join(dirname, filename))\n",
    "\n",
    "# Any results you write to the current directory are saved as output."
   ]
  },
  {
   "cell_type": "code",
   "execution_count": null,
   "metadata": {},
   "outputs": [],
   "source": [
    "import numpy as np\n",
    "from sklearn.ensemble import RandomForestClassifier\n",
    "from sklearn.model_selection import train_test_split\n",
    "from sklearn.compose import ColumnTransformer\n",
    "from sklearn.impute import SimpleImputer\n",
    "from sklearn.preprocessing import OneHotEncoder\n",
    "from sklearn.pipeline import Pipeline\n",
    "from category_encoders import CatBoostEncoder"
   ]
  },
  {
   "cell_type": "code",
   "execution_count": null,
   "metadata": {},
   "outputs": [],
   "source": [
    "def rellenar_con_X_por_grupo(df, grupo, rellenar, func):\n",
    "    valoresAgrupados = df.groupby(grupo)[rellenar].transform(func)\n",
    "    df[rellenar].fillna(valoresAgrupados, inplace=True)"
   ]
  },
  {
   "cell_type": "code",
   "execution_count": null,
   "metadata": {
    "_cell_guid": "79c7e3d0-c299-4dcb-8224-4455121ee9b0",
    "_uuid": "d629ff2d2480ee46fbb7e2d37f6b5fab8052498a"
   },
   "outputs": [],
   "source": [
    "df = pd.read_csv(\"/kaggle/input/tp2datostrain/train.csv\");"
   ]
  },
  {
   "cell_type": "code",
   "execution_count": null,
   "metadata": {},
   "outputs": [],
   "source": [
    "df.columns"
   ]
  },
  {
   "cell_type": "code",
   "execution_count": null,
   "metadata": {},
   "outputs": [],
   "source": [
    "df.dtypes"
   ]
  },
  {
   "cell_type": "code",
   "execution_count": null,
   "metadata": {},
   "outputs": [],
   "source": [
    "print(\"-Nulos garages: \", df.garages.isna().value_counts())\n",
    "print(\"-Nulos gim: \", df.gimnasio.isna().value_counts())\n",
    "print(\"-Nulos SUM: \", df.usosmultiples.isna().value_counts())\n",
    "print(\"-Nulos piscina: \", df.piscina.isna().value_counts())\n",
    "print(\"-Nulos escuelas: \", df.escuelascercanas.isna().value_counts())\n",
    "print(\"-Nulos Centro comerc: \", df.centroscomercialescercanos.isna().value_counts())"
   ]
  },
  {
   "cell_type": "code",
   "execution_count": null,
   "metadata": {},
   "outputs": [],
   "source": [
    "#RELLENO LOS IDS CON LO QUE MAS APARECE EN LA CIUDAD\n",
    "def obtenerMasFrecuente(x):\n",
    "    x = pd.Series.mode(x)\n",
    "    s = x.loc[x>0]\n",
    "    if len(s.index)<=0:\n",
    "        return np.nan\n",
    "    return s.value_counts().index[0]\n",
    "print(\"Nulos idzona: \", df[\"idzona\"].isna().value_counts())\n",
    "print(\"Nulos coidad: \", df[\"ciudad\"].isna().value_counts())\n",
    "\n",
    "aux = df[[\"ciudad\", \"idzona\"]].copy()\n",
    "aux[\"ciudad\"].fillna(\"dummy\", inplace=True)\n",
    "#aux[\"idzona\"].fillna(-1, inplace=True)\n",
    "idzonaMasFrecuentePorCiudad = aux.groupby('ciudad')[\"idzona\"].transform(lambda x: obtenerMasFrecuente(x))\n",
    "idzonaMasFrecuentePorCiudad"
   ]
  },
  {
   "cell_type": "code",
   "execution_count": null,
   "metadata": {},
   "outputs": [],
   "source": [
    "df.idzona.fillna(idzonaMasFrecuentePorCiudad, inplace = True)\n",
    "print(\"Nulos idzona: \", df[\"idzona\"].isna().value_counts())\n",
    "#DROPEO LAS COLUMNAS QUE QUEDARON SIN NADA\n",
    "df.dropna(subset=['idzona'], inplace = True)\n",
    "print(\"Nulos idzona: \", df[\"idzona\"].isnull().value_counts())\n",
    "df.shape"
   ]
  },
  {
   "cell_type": "code",
   "execution_count": null,
   "metadata": {},
   "outputs": [],
   "source": []
  },
  {
   "cell_type": "code",
   "execution_count": null,
   "metadata": {},
   "outputs": [],
   "source": [
    "#RELLENO CON NULOS LOS GARAGES\n",
    "df.garages.fillna(0, inplace = True)\n",
    "#df.gimnasio.fillna(0, inplace = True)\n",
    "#df.usosmultiples.fillna(0, inplace = True)\n",
    "#df.piscina.fillna(0, inplace = True)\n",
    "#df.escuelascercanas.fillna(0, inplace = True)\n",
    "#df.centroscomercialescercanos.fillna(0, inplace = True)"
   ]
  },
  {
   "cell_type": "code",
   "execution_count": null,
   "metadata": {},
   "outputs": [],
   "source": [
    "#Reemplazo las habitaciones por la mediana de la zona\n",
    "print(\"Nulos habitaciones: \", df[\"habitaciones\"].isnull().value_counts())\n",
    "rellenar_con_X_por_grupo(df, \"idzona\", \"habitaciones\", lambda x: x.median())\n",
    "print(\"Nulos habitaciones: \", df[\"habitaciones\"].isnull().value_counts())\n",
    "#Relleno el resto con las mas frecuentes\n",
    "df['habitaciones'] = SimpleImputer(strategy='most_frequent').fit_transform(df[['habitaciones']])"
   ]
  },
  {
   "cell_type": "code",
   "execution_count": null,
   "metadata": {},
   "outputs": [],
   "source": [
    "df.drop(columns = 'id', inplace = True)\n",
    "#Saco el id porque es unico para cada propriedad"
   ]
  },
  {
   "cell_type": "code",
   "execution_count": null,
   "metadata": {},
   "outputs": [],
   "source": [
    "#Para la antiguedad relleno con el promedio de la zona\n",
    "print(\"Nulos antiguedad: \", df[\"antiguedad\"].isna().value_counts())\n",
    "medianaAntiguedadXZona = df.groupby(\"idzona\")[\"antiguedad\"].transform(lambda x: x.median())\n",
    "df[\"antiguedad\"].fillna(medianaAntiguedadXZona, inplace = True)\n",
    "print(\"Nulos antiguedad: \", df[\"antiguedad\"].isna().value_counts())"
   ]
  },
  {
   "cell_type": "markdown",
   "metadata": {},
   "source": [
    "Quedaron algunos nulos en la antiguedad"
   ]
  },
  {
   "cell_type": "code",
   "execution_count": null,
   "metadata": {},
   "outputs": [],
   "source": [
    "#Reemplazo los banos por 1 que es lo minimo posible\n",
    "df.banos.fillna(0, inplace=True)"
   ]
  },
  {
   "cell_type": "code",
   "execution_count": null,
   "metadata": {},
   "outputs": [],
   "source": [
    "#hago el swap PARA LOS METROS\n",
    "df[\"swapear\"] = df[\"metrostotales\"] < df[\"metroscubiertos\"]\n",
    "df_metros_arreglados = df.copy()\n",
    "aux = df_metros_arreglados.loc[df_metros_arreglados[\"swapear\"], \"metrostotales\"]\n",
    "if (not aux.empty):\n",
    "    df_metros_arreglados.loc[df_metros_arreglados[\"swapear\"],\"metrostotales\"] = \\\n",
    "    df_metros_arreglados.loc[df_metros_arreglados[\"swapear\"], \"metroscubiertos\"]\n",
    "    df_metros_arreglados.loc[df_metros_arreglados[\"swapear\"], \"metroscubiertos\"] = aux\n",
    "df_metros_arreglados.drop(columns=\"swapear\", inplace=True)\n",
    "(df_metros_arreglados[\"metrostotales\"] < df_metros_arreglados[\"metroscubiertos\"]).value_counts()\n",
    "df = df_metros_arreglados\n",
    "print(\"Nulos metrostotales: \", df[\"metrostotales\"].isna().value_counts())\n",
    "print(\"Nulos metroscubiertos: \", df[\"metroscubiertos\"].isna().value_counts())\n",
    "#COMO QUEDAN NULOS LOS RELLENO CON la mediana (porque la mediana es un valor, y es menos sensible a valores extremos) por ZONA / CIUDAD\n",
    "promedioMetrosCubiertosXZona = df.groupby(\"idzona\")[\"metroscubiertos\"].transform(lambda x: x.median())\n",
    "df[\"metroscubiertos\"].fillna(promedioMetrosCubiertosXZona, inplace = True)\n",
    "print(\"Nulos metroscubiertos: \", df[\"metroscubiertos\"].isna().value_counts())\n",
    "promedioMetrosTotalesXZona = df.groupby(\"idzona\")[\"metrostotales\"].transform(lambda x: x.median())\n",
    "df[\"metrostotales\"].fillna(promedioMetrosCubiertosXZona, inplace = True)\n",
    "print(\"Nulos metrostotales: \", df[\"metrostotales\"].isna().value_counts())\n"
   ]
  },
  {
   "cell_type": "markdown",
   "metadata": {},
   "source": [
    "Quedaron algunos metros cubiertos nulos! Podría ser porque hay algunas propiedades que son al aire libre. vemos depues si:\n",
    "- las rellenamos con un promedio de otra cosa o \n",
    "- con 0, o \n",
    "- si las tiramos"
   ]
  },
  {
   "cell_type": "code",
   "execution_count": null,
   "metadata": {},
   "outputs": [],
   "source": [
    "df.drop(['lat', 'lng', 'titulo', 'descripcion', 'tipodepropiedad', 'direccion', 'ciudad', 'provincia', 'fecha'], axis=1, inplace=True)\n",
    "#Temporalmente dropeo todo lo que quedo con nulos\n",
    "df.dropna(inplace = True)\n",
    "df.columns"
   ]
  },
  {
   "cell_type": "code",
   "execution_count": null,
   "metadata": {},
   "outputs": [],
   "source": [
    "features = df.drop('precio', axis=1).columns\n",
    "X_train,X_test,y_train,y_test = train_test_split(df[features], df.precio,test_size=0.3, random_state = 0)"
   ]
  },
  {
   "cell_type": "code",
   "execution_count": null,
   "metadata": {},
   "outputs": [],
   "source": [
    "clf = RandomForestClassifier(n_estimators = 40, max_depth = 8)\n",
    "clf.fit(X_train, y_train)"
   ]
  },
  {
   "cell_type": "code",
   "execution_count": null,
   "metadata": {},
   "outputs": [],
   "source": [
    "import matplotlib.pyplot as plt\n",
    "impor = np.vstack((features, clf.feature_importances_)).T\n",
    "imporDf = pd.DataFrame(impor)\n",
    "imporDf.columns = ['feature', 'importancia']\n",
    "imporDf = imporDf.set_index('feature').sort_values(by=['importancia'], ascending=False).iloc[::-1]\n",
    "plt.figure(figsize=(20,20))\n",
    "ax = imporDf.plot(kind='barh')\n",
    "ax.set_title(\"Importancia de cada feature segun Random Forests\")\n",
    "ax.set(xlabel=\"Importancia\", ylabel=\"Feature\")\n",
    "\n"
   ]
  },
  {
   "cell_type": "code",
   "execution_count": null,
   "metadata": {},
   "outputs": [],
   "source": [
    "preds = clf.predict(X_test)"
   ]
  },
  {
   "cell_type": "code",
   "execution_count": null,
   "metadata": {},
   "outputs": [],
   "source": [
    "from sklearn.metrics import mean_absolute_error\n",
    "mean_absolute_error(y_test, preds)"
   ]
  },
  {
   "cell_type": "code",
   "execution_count": null,
   "metadata": {},
   "outputs": [],
   "source": []
  },
  {
   "cell_type": "code",
   "execution_count": null,
   "metadata": {},
   "outputs": [],
   "source": []
  },
  {
   "cell_type": "code",
   "execution_count": null,
   "metadata": {},
   "outputs": [],
   "source": [
    "x = df.drop(columns = ['id', 'titulo', 'descripcion', 'direccion', 'ciudad', 'lat', 'lng']).copy()"
   ]
  },
  {
   "cell_type": "code",
   "execution_count": null,
   "metadata": {},
   "outputs": [],
   "source": [
    "x.metrostotales.fillna(value='0', inplace = True)\n",
    "x.metroscubiertos.fillna(value='0', inplace = True)\n",
    "x.metrostotales = x.metrostotales.astype(int)\n",
    "x.metroscubiertos = x.metroscubiertos.astype(int)\n",
    "x['metrostotales'] = x[['metrostotales', 'metroscubiertos']].max(axis=1)\n",
    "x['metroscubiertos'] = x[['metrostotales', 'metroscubiertos']].min(axis=1)\n",
    "x['patio'] = x['metrostotales'] - x['metroscubiertos']"
   ]
  },
  {
   "cell_type": "code",
   "execution_count": null,
   "metadata": {},
   "outputs": [],
   "source": [
    "x['fecha'] = pd.to_datetime(x['fecha'])\n",
    "x['anio'] = x.fecha.dt.year\n",
    "x['mes'] = x.fecha.dt.month\n",
    "x['dia'] = x.fecha.dt.day\n",
    "x = x.drop(columns = 'fecha')"
   ]
  },
  {
   "cell_type": "code",
   "execution_count": null,
   "metadata": {},
   "outputs": [],
   "source": [
    "transformador_numeros = SimpleImputer(fill_value = 0)\n",
    "#transformador_catboost = Pipeline(steps=[('imputer1', SimpleImputer(strategy='most_frequent')),\n",
    "#                                           ('catboost', ce.CatBoostEncoder(handle_unknown='ignore'))])\n",
    "transformador_onehot = Pipeline(steps=[('imputer2', SimpleImputer(strategy='most_frequent')),\n",
    "                                        ('onehot', OneHotEncoder(handle_unknown='ignore'))])\n",
    "cols_numericas = ['antiguedad', 'habitaciones','garages', 'banos', 'metroscubiertos',\n",
    "                  'metrostotales', 'idzona', 'gimnasio', 'usosmultiples',\n",
    "                  'piscina', 'escuelascercanas','centroscomercialescercanos', 'patio', 'anio', 'mes', 'dia']\n",
    "#cols_catboost = ['ciudad']\n",
    "cols_onehot = ['tipodepropiedad', 'provincia']"
   ]
  },
  {
   "cell_type": "code",
   "execution_count": null,
   "metadata": {},
   "outputs": [],
   "source": [
    "preprocessor = ColumnTransformer(\n",
    "    transformers=[\n",
    "        ('num', transformador_numeros, cols_numericas),\n",
    "#        ('cat', transformador_catboost, cols_catboost),\n",
    "        ('one', transformador_onehot, cols_onehot)\n",
    "    ])"
   ]
  },
  {
   "cell_type": "code",
   "execution_count": null,
   "metadata": {},
   "outputs": [],
   "source": [
    "features = x.drop('precio', axis=1).columns\n",
    "X_train,X_test,y_train,y_test = train_test_split(x[features], x.precio,test_size=0.3, random_state = 0)\n",
    "X_train.columns"
   ]
  },
  {
   "cell_type": "code",
   "execution_count": null,
   "metadata": {},
   "outputs": [],
   "source": [
    "clf = RandomForestClassifier(n_estimators=10000, random_state=0)\n",
    "my_pipeline = Pipeline(steps=[('preprocessor', preprocessor),\n",
    "                              ('model', clf)\n",
    "                             ])"
   ]
  },
  {
   "cell_type": "code",
   "execution_count": null,
   "metadata": {},
   "outputs": [],
   "source": [
    "my_pipeline.fit(X_train,y_train)\n",
    "#X_train.columns"
   ]
  },
  {
   "cell_type": "code",
   "execution_count": null,
   "metadata": {},
   "outputs": [],
   "source": [
    "a = SimpleImputer()\n",
    "x[cols_numericas] = a.fit_transform(x[cols_numericas])"
   ]
  },
  {
   "cell_type": "code",
   "execution_count": null,
   "metadata": {},
   "outputs": [],
   "source": []
  },
  {
   "cell_type": "code",
   "execution_count": null,
   "metadata": {},
   "outputs": [],
   "source": [
    "x.dtypes"
   ]
  },
  {
   "cell_type": "code",
   "execution_count": null,
   "metadata": {},
   "outputs": [],
   "source": []
  }
 ],
 "metadata": {
  "kernelspec": {
   "display_name": "Python 3",
   "language": "python",
   "name": "python3"
  },
  "language_info": {
   "codemirror_mode": {
    "name": "ipython",
    "version": 3
   },
   "file_extension": ".py",
   "mimetype": "text/x-python",
   "name": "python",
   "nbconvert_exporter": "python",
   "pygments_lexer": "ipython3",
   "version": "3.7.3"
  }
 },
 "nbformat": 4,
 "nbformat_minor": 4
}
