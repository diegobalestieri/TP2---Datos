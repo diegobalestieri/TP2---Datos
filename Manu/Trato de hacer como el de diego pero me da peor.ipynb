{
 "cells": [
  {
   "cell_type": "code",
   "execution_count": 1,
   "metadata": {
    "_cell_guid": "b1076dfc-b9ad-4769-8c92-a6c4dae69d19",
    "_uuid": "8f2839f25d086af736a60e9eeb907d3b93b6e0e5"
   },
   "outputs": [
    {
     "name": "stdout",
     "output_type": "stream",
     "text": [
      "/kaggle/input/tp2datostrain/train.csv\n",
      "/kaggle/input/tp2datostrain/test.csv\n",
      "/kaggle/input/pingsound/PING - Sound effect.mp3\n"
     ]
    }
   ],
   "source": [
    "# This Python 3 environment comes with many helpful analytics libraries installed\n",
    "# It is defined by the kaggle/python docker image: https://github.com/kaggle/docker-python\n",
    "# For example, here's several helpful packages to load in \n",
    "\n",
    "import numpy as np # linear algebra\n",
    "import pandas as pd # data processing, CSV file I/O (e.g. pd.read_csv)\n",
    "\n",
    "# Input data files are available in the \"../input/\" directory.\n",
    "# For example, running this (by clicking run or pressing Shift+Enter) will list all files under the input directory\n",
    "\n",
    "import os\n",
    "for dirname, _, filenames in os.walk('/kaggle/input'):\n",
    "    for filename in filenames:\n",
    "        print(os.path.join(dirname, filename))\n",
    "\n",
    "# Any results you write to the current directory are saved as output."
   ]
  },
  {
   "cell_type": "code",
   "execution_count": 2,
   "metadata": {},
   "outputs": [],
   "source": [
    "from sklearn.compose import ColumnTransformer\n",
    "from sklearn.pipeline import Pipeline, make_pipeline\n",
    "from sklearn.impute import SimpleImputer\n",
    "import xgboost as xgb\n",
    "from sklearn.preprocessing import OneHotEncoder\n",
    "from category_encoders import CountEncoder\n",
    "import numpy as np\n",
    "import pandas as pd\n",
    "from sklearn.metrics import mean_absolute_error\n",
    "from sklearn.model_selection import train_test_split\n",
    "from IPython.display import Audio\n",
    "import matplotlib.pyplot as plt"
   ]
  },
  {
   "cell_type": "code",
   "execution_count": 3,
   "metadata": {},
   "outputs": [
    {
     "data": {
      "text/plain": [
       "(60000, 22)"
      ]
     },
     "metadata": {},
     "output_type": "display_data"
    },
    {
     "data": {
      "text/plain": [
       "(240000, 23)"
      ]
     },
     "metadata": {},
     "output_type": "display_data"
    }
   ],
   "source": [
    "# Cargo los archivos\n",
    "sound_file = '/kaggle/input/pingsound/PING - Sound effect.mp3'\n",
    "test = pd.read_csv(\"../input/tp2datostrain/test.csv\")\n",
    "display(test.shape)\n",
    "train = pd.read_csv(\"../input/tp2datostrain/train.csv\")\n",
    "display(train.shape)"
   ]
  },
  {
   "cell_type": "code",
   "execution_count": 35,
   "metadata": {
    "_cell_guid": "79c7e3d0-c299-4dcb-8224-4455121ee9b0",
    "_uuid": "d629ff2d2480ee46fbb7e2d37f6b5fab8052498a"
   },
   "outputs": [],
   "source": [
    "def ping():\n",
    "    display(Audio(sound_file, autoplay=True))"
   ]
  },
  {
   "cell_type": "code",
   "execution_count": 5,
   "metadata": {},
   "outputs": [
    {
     "name": "stderr",
     "output_type": "stream",
     "text": [
      "/opt/conda/lib/python3.6/site-packages/ipykernel_launcher.py:1: FutureWarning: Sorting because non-concatenation axis is not aligned. A future version\n",
      "of pandas will change to not sort by default.\n",
      "\n",
      "To accept the future behavior, pass 'sort=False'.\n",
      "\n",
      "To retain the current behavior and silence the warning, pass 'sort=True'.\n",
      "\n",
      "  \"\"\"Entry point for launching an IPython kernel.\n"
     ]
    }
   ],
   "source": [
    "dfCheto = pd.concat([train,test])\n",
    "df = dfCheto.copy()"
   ]
  },
  {
   "cell_type": "code",
   "execution_count": 6,
   "metadata": {},
   "outputs": [],
   "source": [
    "ciudades = list(dfCheto[\"ciudad\"].unique())\n",
    "tipos_de_propiedad = list(dfCheto[\"tipodepropiedad\"].unique())\n",
    "provincia = list(dfCheto[\"provincia\"].unique())\n",
    "categorias  = [provincia, tipos_de_propiedad, ciudades]"
   ]
  },
  {
   "cell_type": "markdown",
   "metadata": {},
   "source": [
    "### Preproceso el DF\n",
    "#### Relleno nulos, etc."
   ]
  },
  {
   "cell_type": "code",
   "execution_count": 7,
   "metadata": {},
   "outputs": [],
   "source": [
    "#Swapeo los metros\n",
    "df[\"swapear\"] = df[\"metrostotales\"] < df[\"metroscubiertos\"]\n",
    "df_metros_arreglados = df.copy()\n",
    "aux = df_metros_arreglados.loc[df_metros_arreglados[\"swapear\"], \"metrostotales\"]\n",
    "if (not aux.empty):\n",
    "    df_metros_arreglados.loc[df_metros_arreglados[\"swapear\"],\"metrostotales\"] = \\\n",
    "    df_metros_arreglados.loc[df_metros_arreglados[\"swapear\"], \"metroscubiertos\"]\n",
    "    df_metros_arreglados.loc[df_metros_arreglados[\"swapear\"], \"metroscubiertos\"] = aux\n",
    "df_metros_arreglados.drop(columns=\"swapear\", inplace=True)\n",
    "(df_metros_arreglados[\"metrostotales\"] < df_metros_arreglados[\"metroscubiertos\"]).value_counts()\n",
    "df = df_metros_arreglados"
   ]
  },
  {
   "cell_type": "code",
   "execution_count": null,
   "metadata": {},
   "outputs": [],
   "source": []
  },
  {
   "cell_type": "code",
   "execution_count": 8,
   "metadata": {},
   "outputs": [],
   "source": [
    "#Relleno las ciu|dades nuelas\n",
    "df['ciudad'] = SimpleImputer(strategy='constant', fill_value='dummy').fit_transform(df[['ciudad']])\n",
    "#df['ciudad'] = CountEncoder().fit_transform(df['ciudad'])"
   ]
  },
  {
   "cell_type": "code",
   "execution_count": 9,
   "metadata": {},
   "outputs": [
    {
     "name": "stdout",
     "output_type": "stream",
     "text": [
      "Nulos idzona:  False    264200\n",
      "True      35800\n",
      "Name: idzona, dtype: int64\n",
      "Nulos coidad:  False    300000\n",
      "Name: ciudad, dtype: int64\n"
     ]
    },
    {
     "data": {
      "text/plain": [
       "0        50003995.0\n",
       "1           24481.0\n",
       "2           48638.0\n",
       "3           53666.0\n",
       "4           47735.0\n",
       "            ...    \n",
       "59995       25039.0\n",
       "59996       57611.0\n",
       "59997       72223.0\n",
       "59998       84312.0\n",
       "59999       47735.0\n",
       "Name: idzona, Length: 300000, dtype: float64"
      ]
     },
     "execution_count": 9,
     "metadata": {},
     "output_type": "execute_result"
    }
   ],
   "source": [
    "#RELLENO LOS IDS CON LO QUE MAS APARECE EN LA CIUDAD\n",
    "def obtenerMasFrecuente(x):\n",
    "    x = pd.Series.mode(x)\n",
    "    s = x.loc[x>0]\n",
    "    if len(s.index)<=0:\n",
    "        return np.nan\n",
    "    return s.value_counts().index[0]\n",
    "print(\"Nulos idzona: \", df[\"idzona\"].isna().value_counts())\n",
    "print(\"Nulos coidad: \", df[\"ciudad\"].isna().value_counts())\n",
    "\n",
    "aux = df[[\"ciudad\", \"idzona\"]].copy()\n",
    "idzonaMasFrecuentePorCiudad = aux.groupby('ciudad')[\"idzona\"].transform(lambda x: obtenerMasFrecuente(x))\n",
    "idzonaMasFrecuentePorCiudad"
   ]
  },
  {
   "cell_type": "code",
   "execution_count": 10,
   "metadata": {},
   "outputs": [
    {
     "data": {
      "text/plain": [
       "'Nulos idzona: '"
      ]
     },
     "metadata": {},
     "output_type": "display_data"
    },
    {
     "data": {
      "text/plain": [
       "False    299431\n",
       "True        569\n",
       "Name: idzona, dtype: int64"
      ]
     },
     "metadata": {},
     "output_type": "display_data"
    },
    {
     "data": {
      "text/plain": [
       "'Nulos idzona: '"
      ]
     },
     "metadata": {},
     "output_type": "display_data"
    },
    {
     "data": {
      "text/plain": [
       "False    300000\n",
       "Name: idzona, dtype: int64"
      ]
     },
     "metadata": {},
     "output_type": "display_data"
    },
    {
     "data": {
      "text/plain": [
       "(300000, 23)"
      ]
     },
     "execution_count": 10,
     "metadata": {},
     "output_type": "execute_result"
    }
   ],
   "source": [
    "df.idzona.fillna(idzonaMasFrecuentePorCiudad, inplace = True)\n",
    "display(\"Nulos idzona: \", df[\"idzona\"].isna().value_counts())\n",
    "#DROPEO LAS COLUMNAS QUE QUEDARON SIN NADA si estoy entrenando o relleno con la mas comun si estoy testeando\n",
    "df['idzona'] = SimpleImputer(strategy='most_frequent').fit_transform(df[['idzona']])\n",
    "display(\"Nulos idzona: \", df[\"idzona\"].isnull().value_counts())\n",
    "df.shape"
   ]
  },
  {
   "cell_type": "code",
   "execution_count": 11,
   "metadata": {},
   "outputs": [],
   "source": [
    "def rellenar_con_X_por_grupo(df, grupo, rellenar, func):\n",
    "    valoresAgrupados = df.groupby(grupo)[rellenar].transform(func)\n",
    "    df[rellenar].fillna(valoresAgrupados, inplace=True)"
   ]
  },
  {
   "cell_type": "code",
   "execution_count": 12,
   "metadata": {},
   "outputs": [
    {
     "name": "stdout",
     "output_type": "stream",
     "text": [
      "Nulos habitaciones:  False    271901\n",
      "True      28099\n",
      "Name: habitaciones, dtype: int64\n",
      "Nulos habitaciones:  False    298667\n",
      "True       1333\n",
      "Name: habitaciones, dtype: int64\n",
      "Nulos antiguedad:  False    245731\n",
      "True      54269\n",
      "Name: antiguedad, dtype: int64\n",
      "Nulos antiguedad:  False    298314\n",
      "True       1686\n",
      "Name: antiguedad, dtype: int64\n",
      "Nulos metrostotales:  False    235878\n",
      "True      64122\n",
      "Name: metrostotales, dtype: int64\n",
      "Nulos metroscubiertos:  False    278301\n",
      "True      21699\n",
      "Name: metroscubiertos, dtype: int64\n",
      "Nulos metroscubiertos:  False    299262\n",
      "True        738\n",
      "Name: metroscubiertos, dtype: int64\n",
      "Nulos metrostotales:  False    300000\n",
      "Name: metrostotales, dtype: int64\n"
     ]
    }
   ],
   "source": [
    "#Reemplazo las habitaciones por la mediana de la zona\n",
    "print(\"Nulos habitaciones: \", df[\"habitaciones\"].isnull().value_counts())\n",
    "rellenar_con_X_por_grupo(df, \"idzona\", \"habitaciones\", lambda x: x.median())\n",
    "print(\"Nulos habitaciones: \", df[\"habitaciones\"].isnull().value_counts())\n",
    "#Relleno el resto con las mas frecuentes\n",
    "df['habitaciones'] = SimpleImputer(strategy='most_frequent').fit_transform(df[['habitaciones']])\n",
    "#Para la antiguedad relleno con el promedio de la zona\n",
    "print(\"Nulos antiguedad: \", df[\"antiguedad\"].isna().value_counts())\n",
    "medianaAntiguedadXZona = df.groupby(\"idzona\")[\"antiguedad\"].transform(lambda x: x.median())\n",
    "df[\"antiguedad\"].fillna(medianaAntiguedadXZona, inplace = True)\n",
    "print(\"Nulos antiguedad: \", df[\"antiguedad\"].isna().value_counts())\n",
    "#Reemplazo los banos por 1 que es lo minimo posible\n",
    "df.banos.fillna(1, inplace=True)\n",
    "#Relleno garages con 0 porque es lo mas probable\n",
    "df.garages.fillna(0, inplace = True)\n",
    "print(\"Nulos metrostotales: \", df[\"metrostotales\"].isna().value_counts())\n",
    "print(\"Nulos metroscubiertos: \", df[\"metroscubiertos\"].isna().value_counts())\n",
    "#COMO QUEDAN NULOS LOS RELLENO CON la mediana (porque la mediana es un valor, y es menos sensible a valores extremos) por ZONA / CIUDAD\n",
    "promedioMetrosCubiertosXZona = df.groupby(\"idzona\")[\"metroscubiertos\"].transform(lambda x: x.median())\n",
    "df[\"metroscubiertos\"].fillna(promedioMetrosCubiertosXZona, inplace = True)\n",
    "print(\"Nulos metroscubiertos: \", df[\"metroscubiertos\"].isna().value_counts())\n",
    "promedioMetrosTotalesXZona = df.groupby(\"idzona\")[\"metrostotales\"].transform(lambda x: x.median())\n",
    "df[\"metrostotales\"].fillna(promedioMetrosCubiertosXZona, inplace = True)\n",
    "print(\"Nulos metrostotales: \", df[\"metrostotales\"].isna().value_counts())"
   ]
  },
  {
   "cell_type": "code",
   "execution_count": null,
   "metadata": {},
   "outputs": [],
   "source": [
    "aux = dfCheto[['lat', 'ciudad']].copy()\n",
    "aux.dropna(inplace = True)\n",
    "aux = aux.groupby('ciudad').agg({'lat':'mean'})\n",
    "lats = aux.T.to_dict('records').copy()\n",
    "lats = lats[0]\n",
    "df.lat.fillna(df.ciudad.map(lats), inplace = True)\n",
    "df['lat'] = SimpleImputer(strategy='most_frequent').fit_transform(df[['lat']])\n",
    "aux = dfCheto[['lng', 'ciudad']].copy()\n",
    "aux.dropna(inplace = True)\n",
    "aux = aux.groupby('ciudad').agg({'lng':'mean'})\n",
    "lngs = aux.T.to_dict('records').copy()\n",
    "lngs = lngs[0]\n",
    "df.lng.fillna(df.ciudad.map(lngs), inplace = True)\n",
    "df['lng'] = SimpleImputer(strategy='most_frequent').fit_transform(df[['lng']])"
   ]
  },
  {
   "cell_type": "markdown",
   "metadata": {},
   "source": [
    "### Agrego Features Texto"
   ]
  },
  {
   "cell_type": "code",
   "execution_count": 13,
   "metadata": {},
   "outputs": [
    {
     "name": "stdout",
     "output_type": "stream",
     "text": [
      "!\"#$%&'()*+,-./:;<=>?@[\\]^_`{|}~\n"
     ]
    }
   ],
   "source": [
    "df[\"titulo_descripcion\"] = df[\"titulo\"].astype(str) + \" \" + df[\"descripcion\"].astype(str)\n",
    "#Como tiene algunos nulos los relleno con cadenas vaicas\n",
    "df[\"titulo_descripcion\"].fillna(\"\",inplace = True)\n",
    "#REMUEVO LA PUNTUACION\n",
    "import string\n",
    "print(string.punctuation)\n",
    "tabla = {}\n",
    "for c in string.punctuation + \"¿¡\":\n",
    "    tabla[ord(c)] = None\n",
    "def sacar_puntuacion(s):\n",
    "    return s.translate(tabla)\n",
    "df[\"titulo_descripcion\"] = df[\"titulo_descripcion\"].apply(sacar_puntuacion)\n",
    "#Agrego los primeros features\n",
    "df[\"nro_palabras\"] = df[\"titulo_descripcion\"].apply(lambda x: len(x.split(\" \")))\n",
    "df[\"nro_caracteres\"] = df[\"titulo_descripcion\"].apply(lambda x: len(x))\n",
    "df[\"long_prom_palabra\"] = df[\"nro_caracteres\"] / df[\"nro_palabras\"]\n",
    "\n",
    "def llenarDiccionario(diccionario,descripcion):\n",
    "    for palabra in descripcion.split():\n",
    "        diccionario[palabra] = diccionario.get(palabra,0) + 1\n",
    "        \n",
    "def generarDiccionario(df2):\n",
    "    dicc = {}\n",
    "    for descripcion in df2['titulo_descripcion']:\n",
    "        if isinstance(descripcion,str): llenarDiccionario(dicc,descripcion)\n",
    "    return dicc\n",
    "contador_palabras = generarDiccionario(df)\n",
    "\n",
    "#Elimino las stopwords = palabras vacias que no suman nada\n",
    "from nltk.corpus import stopwords\n",
    "palabras_vacias = stopwords.words('spanish')\n",
    "\n",
    "for palabra  in palabras_vacias:\n",
    "    if palabra in contador_palabras:\n",
    "        del contador_palabras[palabra]\n",
    "ordenados = sorted(contador_palabras.items(),key = lambda x: -x[1])\n",
    "top_50 = dict(ordenados[:50])\n",
    "\n",
    "#Nuevos features\n",
    "def contar_palabras_en_top(texto):\n",
    "    palabras = texto.split()\n",
    "    cont = 0\n",
    "    for palabra in palabras:\n",
    "        if palabra in top_50:\n",
    "            cont += 1\n",
    "    return cont\n",
    "df[\"nro_palabras_mas_comunes\"] = df[\"titulo_descripcion\"].apply(contar_palabras_en_top)"
   ]
  },
  {
   "cell_type": "markdown",
   "metadata": {},
   "source": [
    "### Agrego feature de cantidad de publicaciones"
   ]
  },
  {
   "cell_type": "code",
   "execution_count": 14,
   "metadata": {},
   "outputs": [],
   "source": [
    "df['publicacionesPorCiudad'] = CountEncoder().fit_transform(df['ciudad'])\n",
    "df['publicacionesPorProvincia'] = CountEncoder().fit_transform(df['provincia'])\n",
    "df['publicacionesPorTipo'] = CountEncoder().fit_transform(df['tipodepropiedad'])\n",
    "df['publicacionesPorZona'] = CountEncoder().fit_transform(df['idzona'])\n",
    "df['publicacionesPorBanos'] = CountEncoder().fit_transform(df['banos'])\n",
    "df['publicacionesPorHabitaciones'] = CountEncoder().fit_transform(df['habitaciones'])\n",
    "df['publicacionesPorAntiguedad'] = CountEncoder().fit_transform(df['antiguedad'])"
   ]
  },
  {
   "cell_type": "code",
   "execution_count": 15,
   "metadata": {},
   "outputs": [],
   "source": [
    "df[\"fecha\"] = pd.to_datetime(df[\"fecha\"])\n",
    "df.set_index('id', inplace = True)\n",
    "columna_aux = df.columns[1]\n",
    "df[\"nro_publicaciones_dia\"] = df.groupby(pd.Grouper(key='fecha', freq='D'))[columna_aux].transform(lambda x: len(x.index))\n",
    "df[\"nro_publicaciones_semana\"] = df.groupby(pd.Grouper(key='fecha', freq='W'))[columna_aux].transform(lambda x: len(x.index))\n",
    "df[\"nro_publicaciones_5_dias_habiles\"] = df.groupby(pd.Grouper(key='fecha', freq='B'))[columna_aux].transform(lambda x: len(x.index))\n",
    "df[\"nro_publicaciones_mes\"] = df.groupby(pd.Grouper(key='fecha', freq='M'))[columna_aux].transform(lambda x: len(x.index))"
   ]
  },
  {
   "cell_type": "code",
   "execution_count": 16,
   "metadata": {},
   "outputs": [],
   "source": [
    "df['fecha'] = pd.to_datetime(df['fecha'])\n",
    "df['dia'] = df.fecha.dt.day\n",
    "df['mes'] = df.fecha.dt.month\n",
    "df['anio'] = df.fecha.dt.year"
   ]
  },
  {
   "cell_type": "markdown",
   "metadata": {},
   "source": [
    "### Agrego features de características por grupo"
   ]
  },
  {
   "cell_type": "code",
   "execution_count": 41,
   "metadata": {},
   "outputs": [],
   "source": [
    "df['promedioAntiguedadZona'] = df.groupby('idzona').agg({'antiguedad':'mean'})\n",
    "df['promedioAntiguedadCiudad'] = df.groupby('ciudad').agg({'antiguedad':'mean'})\n",
    "df['promedioHabitacionesZona'] = df.groupby('idzona').agg({'habitaciones':'mean'})\n",
    "df['promedioHabitacionesCiudad'] = df.groupby('ciudad').agg({'habitaciones':'mean'})\n"
   ]
  },
  {
   "cell_type": "markdown",
   "metadata": {},
   "source": [
    "## Creo los pipelines del preprocesador"
   ]
  },
  {
   "cell_type": "code",
   "execution_count": 42,
   "metadata": {},
   "outputs": [],
   "source": [
    "features = [#cOLUMNAS\n",
    "            'idzona',\n",
    "            'lat', 'lng',\n",
    "            \"metrostotales\", \"metroscubiertos\", \n",
    "            'garages', 'banos',\n",
    "            'gimnasio','centroscomercialescercanos','usosmultiples','piscina','escuelascercanas',\n",
    "            'antiguedad',\n",
    "            'habitaciones',\n",
    "            #Numero de publicaciones\n",
    "            'nro_publicaciones_dia',\n",
    "            'nro_publicaciones_semana',\n",
    "            'nro_publicaciones_5_dias_habiles',\n",
    "            'nro_publicaciones_mes',\n",
    "            'publicacionesPorCiudad', 'publicacionesPorProvincia', 'publicacionesPorTipo',\n",
    "            'publicacionesPorBanos', 'publicacionesPorHabitaciones', 'publicacionesPorAntiguedad',\n",
    "            #texto\n",
    "            \"nro_palabras\", \"nro_caracteres\", \"long_prom_palabra\", \"nro_palabras_mas_comunes\",\n",
    "            #categoricas\n",
    "            'provincia','tipodepropiedad', 'ciudad',\n",
    "            #fecha\n",
    "            'mes', 'dia', 'anio',\n",
    "            #Promedios por grupo\n",
    "    \n",
    "            'promedioAntiguedadZona', 'promedioAntiguedadCiudad',\n",
    "            'promedioHabitacionesZona', 'promedioHabitacionesCiudad',\n",
    "           ]"
   ]
  },
  {
   "cell_type": "code",
   "execution_count": 43,
   "metadata": {},
   "outputs": [],
   "source": [
    "transformador_categorias = make_pipeline(SimpleImputer(strategy='most_frequent'),\n",
    "                                         OneHotEncoder(handle_unknown='ignore', categories = categorias))\n",
    "transformador_numeros = make_pipeline(SimpleImputer())"
   ]
  },
  {
   "cell_type": "code",
   "execution_count": 44,
   "metadata": {},
   "outputs": [
    {
     "name": "stdout",
     "output_type": "stream",
     "text": [
      "Features numericos: ['idzona', 'metrostotales', 'metroscubiertos', 'garages', 'banos', 'gimnasio', 'centroscomercialescercanos', 'usosmultiples', 'piscina', 'escuelascercanas', 'antiguedad', 'habitaciones', 'nro_publicaciones_dia', 'nro_publicaciones_semana', 'nro_publicaciones_5_dias_habiles', 'nro_publicaciones_mes', 'publicacionesPorCiudad', 'publicacionesPorProvincia', 'publicacionesPorTipo', 'publicacionesPorBanos', 'publicacionesPorHabitaciones', 'publicacionesPorAntiguedad', 'nro_palabras', 'nro_caracteres', 'long_prom_palabra', 'nro_palabras_mas_comunes', 'mes', 'dia', 'anio', 'promedioAntiguedadZona', 'promedioAntiguedadCiudad', 'promedioHabitacionesZona', 'promedioHabitacionesCiudad'] \n",
      "Features categoricos:  ['provincia', 'tipodepropiedad', 'ciudad']\n"
     ]
    }
   ],
   "source": [
    "def obtenerFeaturesCategoricos(features):\n",
    "    l = []\n",
    "    for feature in features:\n",
    "        if not np.issubdtype(df[feature].dtype, np.number):\n",
    "            l.append(feature)\n",
    "    return l\n",
    "\n",
    "num_features = list(df[features].select_dtypes(include=[np.number]).columns)\n",
    "\n",
    "cat_features = list(obtenerFeaturesCategoricos(features))\n",
    "print (\"Features numericos:\", num_features, '\\nFeatures categoricos: ', cat_features)\n",
    "\n",
    "preprocessor = ColumnTransformer(\n",
    "    transformers=[\n",
    "        ('num', transformador_numeros, num_features),\n",
    "        ('cat', transformador_categorias, cat_features)\n",
    "    ])"
   ]
  },
  {
   "cell_type": "code",
   "execution_count": 45,
   "metadata": {},
   "outputs": [],
   "source": [
    "model = xgb.XGBRegressor(learning_rate= 0.1,n_estimators= 2000,scale_pos_weight= 2,\n",
    "                         max_depth= 5,min_child_weight= 5,gamma= 0.0,\n",
    "                         colsample_bytree= 0.75,\n",
    "                         subsample= 0.7,colsample_bylevel= 0.65,\n",
    "                         eval_metric = \"mae\",\n",
    "                         objective='reg:squarederror',\n",
    "                          tree_method='gpu_hist', gpu_id=0)"
   ]
  },
  {
   "cell_type": "code",
   "execution_count": 46,
   "metadata": {},
   "outputs": [
    {
     "data": {
      "text/plain": [
       "(60000, 22)"
      ]
     },
     "metadata": {},
     "output_type": "display_data"
    },
    {
     "data": {
      "text/plain": [
       "(240000, 23)"
      ]
     },
     "metadata": {},
     "output_type": "display_data"
    }
   ],
   "source": [
    "display(test.shape)\n",
    "display(train.shape)\n",
    "entrenamiento = df.head(240000).copy()\n",
    "prueba = df.tail(60000).copy()\n",
    "prueba.drop(columns=['precio'], inplace=True)"
   ]
  },
  {
   "cell_type": "code",
   "execution_count": 47,
   "metadata": {},
   "outputs": [],
   "source": [
    "X = entrenamiento[features].copy()\n",
    "y = entrenamiento.precio.copy()"
   ]
  },
  {
   "cell_type": "code",
   "execution_count": 29,
   "metadata": {},
   "outputs": [],
   "source": [
    "pipeline = make_pipeline(preprocessor, model, verbose = True)"
   ]
  },
  {
   "cell_type": "code",
   "execution_count": 30,
   "metadata": {},
   "outputs": [
    {
     "name": "stdout",
     "output_type": "stream",
     "text": [
      "[Pipeline] . (step 1 of 2) Processing columntransformer, total=  42.2s\n"
     ]
    },
    {
     "name": "stderr",
     "output_type": "stream",
     "text": [
      "/opt/conda/lib/python3.6/site-packages/xgboost/core.py:587: FutureWarning: Series.base is deprecated and will be removed in a future version\n",
      "  if getattr(data, 'base', None) is not None and \\\n"
     ]
    },
    {
     "name": "stdout",
     "output_type": "stream",
     "text": [
      "[Pipeline] ...... (step 2 of 2) Processing xgbregressor, total=  17.0s\n"
     ]
    },
    {
     "data": {
      "text/plain": [
       "589638.5259411875"
      ]
     },
     "execution_count": 30,
     "metadata": {},
     "output_type": "execute_result"
    }
   ],
   "source": [
    "train_x, test_x, train_y, test_y = train_test_split(X, y,train_size=0.8, test_size=0.2)\n",
    "pipeline.fit(train_x, train_y)\n",
    "preds = pipeline.predict(test_x)\n",
    "from sklearn.metrics import mean_absolute_error\n",
    "mean_absolute_error(preds, test_y)"
   ]
  },
  {
   "cell_type": "code",
   "execution_count": null,
   "metadata": {},
   "outputs": [
    {
     "name": "stdout",
     "output_type": "stream",
     "text": [
      "[Pipeline] . (step 1 of 2) Processing columntransformer, total=  25.6s\n"
     ]
    },
    {
     "name": "stderr",
     "output_type": "stream",
     "text": [
      "/opt/conda/lib/python3.6/site-packages/xgboost/core.py:587: FutureWarning: Series.base is deprecated and will be removed in a future version\n",
      "  if getattr(data, 'base', None) is not None and \\\n"
     ]
    },
    {
     "name": "stdout",
     "output_type": "stream",
     "text": [
      "[Pipeline] ...... (step 2 of 2) Processing xgbregressor, total=  15.7s\n",
      "[Pipeline] . (step 1 of 2) Processing columntransformer, total=  28.6s\n"
     ]
    },
    {
     "name": "stderr",
     "output_type": "stream",
     "text": [
      "/opt/conda/lib/python3.6/site-packages/xgboost/core.py:587: FutureWarning: Series.base is deprecated and will be removed in a future version\n",
      "  if getattr(data, 'base', None) is not None and \\\n"
     ]
    },
    {
     "name": "stdout",
     "output_type": "stream",
     "text": [
      "[Pipeline] ...... (step 2 of 2) Processing xgbregressor, total=  16.0s\n"
     ]
    }
   ],
   "source": [
    "from sklearn.model_selection import cross_val_score\n",
    "SCORE = \"mean_absolute_error\"\n",
    "def cross_validation(pipeline, X, y, nro_folds):\n",
    "    score = -1 * cross_val_score(pipeline, X, y,\n",
    "                              cv=nro_folds,\n",
    "                              scoring='neg_mean_absolute_error')\n",
    "    print(\"Puntajes: \", end=\"\")\n",
    "    for p in score:\n",
    "        print(p, \", \", end=\"\")\n",
    "    \n",
    "    print(\"\\nPromedio: \", np.mean(score))\n",
    "    \n",
    "cross_validation(pipeline, X, y, 3)\n",
    "ping()"
   ]
  },
  {
   "cell_type": "code",
   "execution_count": 36,
   "metadata": {},
   "outputs": [
    {
     "data": {
      "text/html": [
       "\n",
       "                <audio  controls=\"controls\" autoplay=\"autoplay\">\n",
       "                    <source src=\"data:audio/mpeg;base64,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\" type=\"audio/mpeg\" />\n",
       "                    Your browser does not support the audio element.\n",
       "                </audio>\n",
       "              "
      ],
      "text/plain": [
       "<IPython.lib.display.Audio object>"
      ]
     },
     "metadata": {},
     "output_type": "display_data"
    }
   ],
   "source": []
  },
  {
   "cell_type": "code",
   "execution_count": 34,
   "metadata": {},
   "outputs": [
    {
     "ename": "KeyboardInterrupt",
     "evalue": "",
     "output_type": "error",
     "traceback": [
      "\u001b[0;31m---------------------------------------------------------------------------\u001b[0m",
      "\u001b[0;31mKeyboardInterrupt\u001b[0m                         Traceback (most recent call last)",
      "\u001b[0;32m<ipython-input-34-368ca871c843>\u001b[0m in \u001b[0;36m<module>\u001b[0;34m\u001b[0m\n\u001b[1;32m      1\u001b[0m \u001b[0mXt\u001b[0m\u001b[0;34m,\u001b[0m \u001b[0mTv\u001b[0m\u001b[0;34m,\u001b[0m \u001b[0myt\u001b[0m\u001b[0;34m,\u001b[0m \u001b[0mTyv\u001b[0m \u001b[0;34m=\u001b[0m \u001b[0mtrain_test_split\u001b[0m\u001b[0;34m(\u001b[0m\u001b[0mX\u001b[0m\u001b[0;34m,\u001b[0m \u001b[0my\u001b[0m\u001b[0;34m,\u001b[0m\u001b[0mtrain_size\u001b[0m\u001b[0;34m=\u001b[0m\u001b[0;36m0.8\u001b[0m\u001b[0;34m,\u001b[0m \u001b[0mtest_size\u001b[0m\u001b[0;34m=\u001b[0m\u001b[0;36m0.2\u001b[0m\u001b[0;34m,\u001b[0m \u001b[0mrandom_state\u001b[0m \u001b[0;34m=\u001b[0m \u001b[0;36m0\u001b[0m\u001b[0;34m)\u001b[0m\u001b[0;34m\u001b[0m\u001b[0m\n\u001b[1;32m      2\u001b[0m \u001b[0mTv2\u001b[0m \u001b[0;34m=\u001b[0m \u001b[0mpreprocessor\u001b[0m\u001b[0;34m.\u001b[0m\u001b[0mfit_transform\u001b[0m\u001b[0;34m(\u001b[0m\u001b[0mTv\u001b[0m\u001b[0;34m)\u001b[0m\u001b[0;34m\u001b[0m\u001b[0m\n\u001b[0;32m----> 3\u001b[0;31m \u001b[0mXt2\u001b[0m \u001b[0;34m=\u001b[0m \u001b[0mpreprocessor\u001b[0m\u001b[0;34m.\u001b[0m\u001b[0mfit_transform\u001b[0m\u001b[0;34m(\u001b[0m\u001b[0mXt\u001b[0m\u001b[0;34m)\u001b[0m\u001b[0;34m\u001b[0m\u001b[0m\n\u001b[0m\u001b[1;32m      4\u001b[0m \u001b[0mpipeline\u001b[0m\u001b[0;34m.\u001b[0m\u001b[0mfit\u001b[0m\u001b[0;34m(\u001b[0m\u001b[0mX\u001b[0m\u001b[0;34m,\u001b[0m\u001b[0my\u001b[0m\u001b[0;34m,\u001b[0m \u001b[0mxgbregressor__eval_set\u001b[0m\u001b[0;34m=\u001b[0m\u001b[0;34m[\u001b[0m\u001b[0;34m(\u001b[0m\u001b[0mXt2\u001b[0m\u001b[0;34m,\u001b[0m \u001b[0myt\u001b[0m\u001b[0;34m.\u001b[0m\u001b[0mto_numpy\u001b[0m\u001b[0;34m(\u001b[0m\u001b[0;34m)\u001b[0m\u001b[0;34m)\u001b[0m\u001b[0;34m,\u001b[0m \u001b[0;34m(\u001b[0m\u001b[0mTv2\u001b[0m\u001b[0;34m,\u001b[0m \u001b[0mTyv\u001b[0m\u001b[0;34m.\u001b[0m\u001b[0mto_numpy\u001b[0m\u001b[0;34m(\u001b[0m\u001b[0;34m)\u001b[0m\u001b[0;34m)\u001b[0m\u001b[0;34m]\u001b[0m\u001b[0;34m)\u001b[0m\u001b[0;34m\u001b[0m\u001b[0m\n\u001b[1;32m      5\u001b[0m \u001b[0mpreds\u001b[0m \u001b[0;34m=\u001b[0m \u001b[0mpipeline\u001b[0m\u001b[0;34m.\u001b[0m\u001b[0mpredict\u001b[0m\u001b[0;34m(\u001b[0m\u001b[0mTv\u001b[0m\u001b[0;34m)\u001b[0m\u001b[0;34m\u001b[0m\u001b[0m\n",
      "\u001b[0;32m/opt/conda/lib/python3.6/site-packages/sklearn/compose/_column_transformer.py\u001b[0m in \u001b[0;36mfit_transform\u001b[0;34m(self, X, y)\u001b[0m\n\u001b[1;32m    474\u001b[0m         \u001b[0mself\u001b[0m\u001b[0;34m.\u001b[0m\u001b[0m_validate_remainder\u001b[0m\u001b[0;34m(\u001b[0m\u001b[0mX\u001b[0m\u001b[0;34m)\u001b[0m\u001b[0;34m\u001b[0m\u001b[0m\n\u001b[1;32m    475\u001b[0m \u001b[0;34m\u001b[0m\u001b[0m\n\u001b[0;32m--> 476\u001b[0;31m         \u001b[0mresult\u001b[0m \u001b[0;34m=\u001b[0m \u001b[0mself\u001b[0m\u001b[0;34m.\u001b[0m\u001b[0m_fit_transform\u001b[0m\u001b[0;34m(\u001b[0m\u001b[0mX\u001b[0m\u001b[0;34m,\u001b[0m \u001b[0my\u001b[0m\u001b[0;34m,\u001b[0m \u001b[0m_fit_transform_one\u001b[0m\u001b[0;34m)\u001b[0m\u001b[0;34m\u001b[0m\u001b[0m\n\u001b[0m\u001b[1;32m    477\u001b[0m \u001b[0;34m\u001b[0m\u001b[0m\n\u001b[1;32m    478\u001b[0m         \u001b[0;32mif\u001b[0m \u001b[0;32mnot\u001b[0m \u001b[0mresult\u001b[0m\u001b[0;34m:\u001b[0m\u001b[0;34m\u001b[0m\u001b[0m\n",
      "\u001b[0;32m/opt/conda/lib/python3.6/site-packages/sklearn/compose/_column_transformer.py\u001b[0m in \u001b[0;36m_fit_transform\u001b[0;34m(self, X, y, func, fitted)\u001b[0m\n\u001b[1;32m    418\u001b[0m                     message=self._log_message(name, idx, len(transformers)))\n\u001b[1;32m    419\u001b[0m                 for idx, (name, trans, column, weight) in enumerate(\n\u001b[0;32m--> 420\u001b[0;31m                         self._iter(fitted=fitted, replace_strings=True), 1))\n\u001b[0m\u001b[1;32m    421\u001b[0m         \u001b[0;32mexcept\u001b[0m \u001b[0mValueError\u001b[0m \u001b[0;32mas\u001b[0m \u001b[0me\u001b[0m\u001b[0;34m:\u001b[0m\u001b[0;34m\u001b[0m\u001b[0m\n\u001b[1;32m    422\u001b[0m             \u001b[0;32mif\u001b[0m \u001b[0;34m\"Expected 2D array, got 1D array instead\"\u001b[0m \u001b[0;32min\u001b[0m \u001b[0mstr\u001b[0m\u001b[0;34m(\u001b[0m\u001b[0me\u001b[0m\u001b[0;34m)\u001b[0m\u001b[0;34m:\u001b[0m\u001b[0;34m\u001b[0m\u001b[0m\n",
      "\u001b[0;32m/opt/conda/lib/python3.6/site-packages/joblib/parallel.py\u001b[0m in \u001b[0;36m__call__\u001b[0;34m(self, iterable)\u001b[0m\n\u001b[1;32m    922\u001b[0m                 \u001b[0mself\u001b[0m\u001b[0;34m.\u001b[0m\u001b[0m_iterating\u001b[0m \u001b[0;34m=\u001b[0m \u001b[0mself\u001b[0m\u001b[0;34m.\u001b[0m\u001b[0m_original_iterator\u001b[0m \u001b[0;32mis\u001b[0m \u001b[0;32mnot\u001b[0m \u001b[0;32mNone\u001b[0m\u001b[0;34m\u001b[0m\u001b[0m\n\u001b[1;32m    923\u001b[0m \u001b[0;34m\u001b[0m\u001b[0m\n\u001b[0;32m--> 924\u001b[0;31m             \u001b[0;32mwhile\u001b[0m \u001b[0mself\u001b[0m\u001b[0;34m.\u001b[0m\u001b[0mdispatch_one_batch\u001b[0m\u001b[0;34m(\u001b[0m\u001b[0miterator\u001b[0m\u001b[0;34m)\u001b[0m\u001b[0;34m:\u001b[0m\u001b[0;34m\u001b[0m\u001b[0m\n\u001b[0m\u001b[1;32m    925\u001b[0m                 \u001b[0;32mpass\u001b[0m\u001b[0;34m\u001b[0m\u001b[0m\n\u001b[1;32m    926\u001b[0m \u001b[0;34m\u001b[0m\u001b[0m\n",
      "\u001b[0;32m/opt/conda/lib/python3.6/site-packages/joblib/parallel.py\u001b[0m in \u001b[0;36mdispatch_one_batch\u001b[0;34m(self, iterator)\u001b[0m\n\u001b[1;32m    757\u001b[0m                 \u001b[0;32mreturn\u001b[0m \u001b[0;32mFalse\u001b[0m\u001b[0;34m\u001b[0m\u001b[0m\n\u001b[1;32m    758\u001b[0m             \u001b[0;32melse\u001b[0m\u001b[0;34m:\u001b[0m\u001b[0;34m\u001b[0m\u001b[0m\n\u001b[0;32m--> 759\u001b[0;31m                 \u001b[0mself\u001b[0m\u001b[0;34m.\u001b[0m\u001b[0m_dispatch\u001b[0m\u001b[0;34m(\u001b[0m\u001b[0mtasks\u001b[0m\u001b[0;34m)\u001b[0m\u001b[0;34m\u001b[0m\u001b[0m\n\u001b[0m\u001b[1;32m    760\u001b[0m                 \u001b[0;32mreturn\u001b[0m \u001b[0;32mTrue\u001b[0m\u001b[0;34m\u001b[0m\u001b[0m\n\u001b[1;32m    761\u001b[0m \u001b[0;34m\u001b[0m\u001b[0m\n",
      "\u001b[0;32m/opt/conda/lib/python3.6/site-packages/joblib/parallel.py\u001b[0m in \u001b[0;36m_dispatch\u001b[0;34m(self, batch)\u001b[0m\n\u001b[1;32m    714\u001b[0m         \u001b[0;32mwith\u001b[0m \u001b[0mself\u001b[0m\u001b[0;34m.\u001b[0m\u001b[0m_lock\u001b[0m\u001b[0;34m:\u001b[0m\u001b[0;34m\u001b[0m\u001b[0m\n\u001b[1;32m    715\u001b[0m             \u001b[0mjob_idx\u001b[0m \u001b[0;34m=\u001b[0m \u001b[0mlen\u001b[0m\u001b[0;34m(\u001b[0m\u001b[0mself\u001b[0m\u001b[0;34m.\u001b[0m\u001b[0m_jobs\u001b[0m\u001b[0;34m)\u001b[0m\u001b[0;34m\u001b[0m\u001b[0m\n\u001b[0;32m--> 716\u001b[0;31m             \u001b[0mjob\u001b[0m \u001b[0;34m=\u001b[0m \u001b[0mself\u001b[0m\u001b[0;34m.\u001b[0m\u001b[0m_backend\u001b[0m\u001b[0;34m.\u001b[0m\u001b[0mapply_async\u001b[0m\u001b[0;34m(\u001b[0m\u001b[0mbatch\u001b[0m\u001b[0;34m,\u001b[0m \u001b[0mcallback\u001b[0m\u001b[0;34m=\u001b[0m\u001b[0mcb\u001b[0m\u001b[0;34m)\u001b[0m\u001b[0;34m\u001b[0m\u001b[0m\n\u001b[0m\u001b[1;32m    717\u001b[0m             \u001b[0;31m# A job can complete so quickly than its callback is\u001b[0m\u001b[0;34m\u001b[0m\u001b[0;34m\u001b[0m\u001b[0m\n\u001b[1;32m    718\u001b[0m             \u001b[0;31m# called before we get here, causing self._jobs to\u001b[0m\u001b[0;34m\u001b[0m\u001b[0;34m\u001b[0m\u001b[0m\n",
      "\u001b[0;32m/opt/conda/lib/python3.6/site-packages/joblib/_parallel_backends.py\u001b[0m in \u001b[0;36mapply_async\u001b[0;34m(self, func, callback)\u001b[0m\n\u001b[1;32m    180\u001b[0m     \u001b[0;32mdef\u001b[0m \u001b[0mapply_async\u001b[0m\u001b[0;34m(\u001b[0m\u001b[0mself\u001b[0m\u001b[0;34m,\u001b[0m \u001b[0mfunc\u001b[0m\u001b[0;34m,\u001b[0m \u001b[0mcallback\u001b[0m\u001b[0;34m=\u001b[0m\u001b[0;32mNone\u001b[0m\u001b[0;34m)\u001b[0m\u001b[0;34m:\u001b[0m\u001b[0;34m\u001b[0m\u001b[0m\n\u001b[1;32m    181\u001b[0m         \u001b[0;34m\"\"\"Schedule a func to be run\"\"\"\u001b[0m\u001b[0;34m\u001b[0m\u001b[0m\n\u001b[0;32m--> 182\u001b[0;31m         \u001b[0mresult\u001b[0m \u001b[0;34m=\u001b[0m \u001b[0mImmediateResult\u001b[0m\u001b[0;34m(\u001b[0m\u001b[0mfunc\u001b[0m\u001b[0;34m)\u001b[0m\u001b[0;34m\u001b[0m\u001b[0m\n\u001b[0m\u001b[1;32m    183\u001b[0m         \u001b[0;32mif\u001b[0m \u001b[0mcallback\u001b[0m\u001b[0;34m:\u001b[0m\u001b[0;34m\u001b[0m\u001b[0m\n\u001b[1;32m    184\u001b[0m             \u001b[0mcallback\u001b[0m\u001b[0;34m(\u001b[0m\u001b[0mresult\u001b[0m\u001b[0;34m)\u001b[0m\u001b[0;34m\u001b[0m\u001b[0m\n",
      "\u001b[0;32m/opt/conda/lib/python3.6/site-packages/joblib/_parallel_backends.py\u001b[0m in \u001b[0;36m__init__\u001b[0;34m(self, batch)\u001b[0m\n\u001b[1;32m    547\u001b[0m         \u001b[0;31m# Don't delay the application, to avoid keeping the input\u001b[0m\u001b[0;34m\u001b[0m\u001b[0;34m\u001b[0m\u001b[0m\n\u001b[1;32m    548\u001b[0m         \u001b[0;31m# arguments in memory\u001b[0m\u001b[0;34m\u001b[0m\u001b[0;34m\u001b[0m\u001b[0m\n\u001b[0;32m--> 549\u001b[0;31m         \u001b[0mself\u001b[0m\u001b[0;34m.\u001b[0m\u001b[0mresults\u001b[0m \u001b[0;34m=\u001b[0m \u001b[0mbatch\u001b[0m\u001b[0;34m(\u001b[0m\u001b[0;34m)\u001b[0m\u001b[0;34m\u001b[0m\u001b[0m\n\u001b[0m\u001b[1;32m    550\u001b[0m \u001b[0;34m\u001b[0m\u001b[0m\n\u001b[1;32m    551\u001b[0m     \u001b[0;32mdef\u001b[0m \u001b[0mget\u001b[0m\u001b[0;34m(\u001b[0m\u001b[0mself\u001b[0m\u001b[0;34m)\u001b[0m\u001b[0;34m:\u001b[0m\u001b[0;34m\u001b[0m\u001b[0m\n",
      "\u001b[0;32m/opt/conda/lib/python3.6/site-packages/joblib/parallel.py\u001b[0m in \u001b[0;36m__call__\u001b[0;34m(self)\u001b[0m\n\u001b[1;32m    223\u001b[0m         \u001b[0;32mwith\u001b[0m \u001b[0mparallel_backend\u001b[0m\u001b[0;34m(\u001b[0m\u001b[0mself\u001b[0m\u001b[0;34m.\u001b[0m\u001b[0m_backend\u001b[0m\u001b[0;34m,\u001b[0m \u001b[0mn_jobs\u001b[0m\u001b[0;34m=\u001b[0m\u001b[0mself\u001b[0m\u001b[0;34m.\u001b[0m\u001b[0m_n_jobs\u001b[0m\u001b[0;34m)\u001b[0m\u001b[0;34m:\u001b[0m\u001b[0;34m\u001b[0m\u001b[0m\n\u001b[1;32m    224\u001b[0m             return [func(*args, **kwargs)\n\u001b[0;32m--> 225\u001b[0;31m                     for func, args, kwargs in self.items]\n\u001b[0m\u001b[1;32m    226\u001b[0m \u001b[0;34m\u001b[0m\u001b[0m\n\u001b[1;32m    227\u001b[0m     \u001b[0;32mdef\u001b[0m \u001b[0m__len__\u001b[0m\u001b[0;34m(\u001b[0m\u001b[0mself\u001b[0m\u001b[0;34m)\u001b[0m\u001b[0;34m:\u001b[0m\u001b[0;34m\u001b[0m\u001b[0m\n",
      "\u001b[0;32m/opt/conda/lib/python3.6/site-packages/joblib/parallel.py\u001b[0m in \u001b[0;36m<listcomp>\u001b[0;34m(.0)\u001b[0m\n\u001b[1;32m    223\u001b[0m         \u001b[0;32mwith\u001b[0m \u001b[0mparallel_backend\u001b[0m\u001b[0;34m(\u001b[0m\u001b[0mself\u001b[0m\u001b[0;34m.\u001b[0m\u001b[0m_backend\u001b[0m\u001b[0;34m,\u001b[0m \u001b[0mn_jobs\u001b[0m\u001b[0;34m=\u001b[0m\u001b[0mself\u001b[0m\u001b[0;34m.\u001b[0m\u001b[0m_n_jobs\u001b[0m\u001b[0;34m)\u001b[0m\u001b[0;34m:\u001b[0m\u001b[0;34m\u001b[0m\u001b[0m\n\u001b[1;32m    224\u001b[0m             return [func(*args, **kwargs)\n\u001b[0;32m--> 225\u001b[0;31m                     for func, args, kwargs in self.items]\n\u001b[0m\u001b[1;32m    226\u001b[0m \u001b[0;34m\u001b[0m\u001b[0m\n\u001b[1;32m    227\u001b[0m     \u001b[0;32mdef\u001b[0m \u001b[0m__len__\u001b[0m\u001b[0;34m(\u001b[0m\u001b[0mself\u001b[0m\u001b[0;34m)\u001b[0m\u001b[0;34m:\u001b[0m\u001b[0;34m\u001b[0m\u001b[0m\n",
      "\u001b[0;32m/opt/conda/lib/python3.6/site-packages/sklearn/pipeline.py\u001b[0m in \u001b[0;36m_fit_transform_one\u001b[0;34m(transformer, X, y, weight, message_clsname, message, **fit_params)\u001b[0m\n\u001b[1;32m    714\u001b[0m     \u001b[0;32mwith\u001b[0m \u001b[0m_print_elapsed_time\u001b[0m\u001b[0;34m(\u001b[0m\u001b[0mmessage_clsname\u001b[0m\u001b[0;34m,\u001b[0m \u001b[0mmessage\u001b[0m\u001b[0;34m)\u001b[0m\u001b[0;34m:\u001b[0m\u001b[0;34m\u001b[0m\u001b[0m\n\u001b[1;32m    715\u001b[0m         \u001b[0;32mif\u001b[0m \u001b[0mhasattr\u001b[0m\u001b[0;34m(\u001b[0m\u001b[0mtransformer\u001b[0m\u001b[0;34m,\u001b[0m \u001b[0;34m'fit_transform'\u001b[0m\u001b[0;34m)\u001b[0m\u001b[0;34m:\u001b[0m\u001b[0;34m\u001b[0m\u001b[0m\n\u001b[0;32m--> 716\u001b[0;31m             \u001b[0mres\u001b[0m \u001b[0;34m=\u001b[0m \u001b[0mtransformer\u001b[0m\u001b[0;34m.\u001b[0m\u001b[0mfit_transform\u001b[0m\u001b[0;34m(\u001b[0m\u001b[0mX\u001b[0m\u001b[0;34m,\u001b[0m \u001b[0my\u001b[0m\u001b[0;34m,\u001b[0m \u001b[0;34m**\u001b[0m\u001b[0mfit_params\u001b[0m\u001b[0;34m)\u001b[0m\u001b[0;34m\u001b[0m\u001b[0m\n\u001b[0m\u001b[1;32m    717\u001b[0m         \u001b[0;32melse\u001b[0m\u001b[0;34m:\u001b[0m\u001b[0;34m\u001b[0m\u001b[0m\n\u001b[1;32m    718\u001b[0m             \u001b[0mres\u001b[0m \u001b[0;34m=\u001b[0m \u001b[0mtransformer\u001b[0m\u001b[0;34m.\u001b[0m\u001b[0mfit\u001b[0m\u001b[0;34m(\u001b[0m\u001b[0mX\u001b[0m\u001b[0;34m,\u001b[0m \u001b[0my\u001b[0m\u001b[0;34m,\u001b[0m \u001b[0;34m**\u001b[0m\u001b[0mfit_params\u001b[0m\u001b[0;34m)\u001b[0m\u001b[0;34m.\u001b[0m\u001b[0mtransform\u001b[0m\u001b[0;34m(\u001b[0m\u001b[0mX\u001b[0m\u001b[0;34m)\u001b[0m\u001b[0;34m\u001b[0m\u001b[0m\n",
      "\u001b[0;32m/opt/conda/lib/python3.6/site-packages/sklearn/pipeline.py\u001b[0m in \u001b[0;36mfit_transform\u001b[0;34m(self, X, y, **fit_params)\u001b[0m\n\u001b[1;32m    385\u001b[0m         \"\"\"\n\u001b[1;32m    386\u001b[0m         \u001b[0mlast_step\u001b[0m \u001b[0;34m=\u001b[0m \u001b[0mself\u001b[0m\u001b[0;34m.\u001b[0m\u001b[0m_final_estimator\u001b[0m\u001b[0;34m\u001b[0m\u001b[0m\n\u001b[0;32m--> 387\u001b[0;31m         \u001b[0mXt\u001b[0m\u001b[0;34m,\u001b[0m \u001b[0mfit_params\u001b[0m \u001b[0;34m=\u001b[0m \u001b[0mself\u001b[0m\u001b[0;34m.\u001b[0m\u001b[0m_fit\u001b[0m\u001b[0;34m(\u001b[0m\u001b[0mX\u001b[0m\u001b[0;34m,\u001b[0m \u001b[0my\u001b[0m\u001b[0;34m,\u001b[0m \u001b[0;34m**\u001b[0m\u001b[0mfit_params\u001b[0m\u001b[0;34m)\u001b[0m\u001b[0;34m\u001b[0m\u001b[0m\n\u001b[0m\u001b[1;32m    388\u001b[0m         with _print_elapsed_time('Pipeline',\n\u001b[1;32m    389\u001b[0m                                  self._log_message(len(self.steps) - 1)):\n",
      "\u001b[0;32m/opt/conda/lib/python3.6/site-packages/sklearn/pipeline.py\u001b[0m in \u001b[0;36m_fit\u001b[0;34m(self, X, y, **fit_params)\u001b[0m\n\u001b[1;32m    315\u001b[0m                 \u001b[0mmessage_clsname\u001b[0m\u001b[0;34m=\u001b[0m\u001b[0;34m'Pipeline'\u001b[0m\u001b[0;34m,\u001b[0m\u001b[0;34m\u001b[0m\u001b[0m\n\u001b[1;32m    316\u001b[0m                 \u001b[0mmessage\u001b[0m\u001b[0;34m=\u001b[0m\u001b[0mself\u001b[0m\u001b[0;34m.\u001b[0m\u001b[0m_log_message\u001b[0m\u001b[0;34m(\u001b[0m\u001b[0mstep_idx\u001b[0m\u001b[0;34m)\u001b[0m\u001b[0;34m,\u001b[0m\u001b[0;34m\u001b[0m\u001b[0m\n\u001b[0;32m--> 317\u001b[0;31m                 **fit_params_steps[name])\n\u001b[0m\u001b[1;32m    318\u001b[0m             \u001b[0;31m# Replace the transformer of the step with the fitted\u001b[0m\u001b[0;34m\u001b[0m\u001b[0;34m\u001b[0m\u001b[0m\n\u001b[1;32m    319\u001b[0m             \u001b[0;31m# transformer. This is necessary when loading the transformer\u001b[0m\u001b[0;34m\u001b[0m\u001b[0;34m\u001b[0m\u001b[0m\n",
      "\u001b[0;32m/opt/conda/lib/python3.6/site-packages/joblib/memory.py\u001b[0m in \u001b[0;36m__call__\u001b[0;34m(self, *args, **kwargs)\u001b[0m\n\u001b[1;32m    353\u001b[0m \u001b[0;34m\u001b[0m\u001b[0m\n\u001b[1;32m    354\u001b[0m     \u001b[0;32mdef\u001b[0m \u001b[0m__call__\u001b[0m\u001b[0;34m(\u001b[0m\u001b[0mself\u001b[0m\u001b[0;34m,\u001b[0m \u001b[0;34m*\u001b[0m\u001b[0margs\u001b[0m\u001b[0;34m,\u001b[0m \u001b[0;34m**\u001b[0m\u001b[0mkwargs\u001b[0m\u001b[0;34m)\u001b[0m\u001b[0;34m:\u001b[0m\u001b[0;34m\u001b[0m\u001b[0m\n\u001b[0;32m--> 355\u001b[0;31m         \u001b[0;32mreturn\u001b[0m \u001b[0mself\u001b[0m\u001b[0;34m.\u001b[0m\u001b[0mfunc\u001b[0m\u001b[0;34m(\u001b[0m\u001b[0;34m*\u001b[0m\u001b[0margs\u001b[0m\u001b[0;34m,\u001b[0m \u001b[0;34m**\u001b[0m\u001b[0mkwargs\u001b[0m\u001b[0;34m)\u001b[0m\u001b[0;34m\u001b[0m\u001b[0m\n\u001b[0m\u001b[1;32m    356\u001b[0m \u001b[0;34m\u001b[0m\u001b[0m\n\u001b[1;32m    357\u001b[0m     \u001b[0;32mdef\u001b[0m \u001b[0mcall_and_shelve\u001b[0m\u001b[0;34m(\u001b[0m\u001b[0mself\u001b[0m\u001b[0;34m,\u001b[0m \u001b[0;34m*\u001b[0m\u001b[0margs\u001b[0m\u001b[0;34m,\u001b[0m \u001b[0;34m**\u001b[0m\u001b[0mkwargs\u001b[0m\u001b[0;34m)\u001b[0m\u001b[0;34m:\u001b[0m\u001b[0;34m\u001b[0m\u001b[0m\n",
      "\u001b[0;32m/opt/conda/lib/python3.6/site-packages/sklearn/pipeline.py\u001b[0m in \u001b[0;36m_fit_transform_one\u001b[0;34m(transformer, X, y, weight, message_clsname, message, **fit_params)\u001b[0m\n\u001b[1;32m    714\u001b[0m     \u001b[0;32mwith\u001b[0m \u001b[0m_print_elapsed_time\u001b[0m\u001b[0;34m(\u001b[0m\u001b[0mmessage_clsname\u001b[0m\u001b[0;34m,\u001b[0m \u001b[0mmessage\u001b[0m\u001b[0;34m)\u001b[0m\u001b[0;34m:\u001b[0m\u001b[0;34m\u001b[0m\u001b[0m\n\u001b[1;32m    715\u001b[0m         \u001b[0;32mif\u001b[0m \u001b[0mhasattr\u001b[0m\u001b[0;34m(\u001b[0m\u001b[0mtransformer\u001b[0m\u001b[0;34m,\u001b[0m \u001b[0;34m'fit_transform'\u001b[0m\u001b[0;34m)\u001b[0m\u001b[0;34m:\u001b[0m\u001b[0;34m\u001b[0m\u001b[0m\n\u001b[0;32m--> 716\u001b[0;31m             \u001b[0mres\u001b[0m \u001b[0;34m=\u001b[0m \u001b[0mtransformer\u001b[0m\u001b[0;34m.\u001b[0m\u001b[0mfit_transform\u001b[0m\u001b[0;34m(\u001b[0m\u001b[0mX\u001b[0m\u001b[0;34m,\u001b[0m \u001b[0my\u001b[0m\u001b[0;34m,\u001b[0m \u001b[0;34m**\u001b[0m\u001b[0mfit_params\u001b[0m\u001b[0;34m)\u001b[0m\u001b[0;34m\u001b[0m\u001b[0m\n\u001b[0m\u001b[1;32m    717\u001b[0m         \u001b[0;32melse\u001b[0m\u001b[0;34m:\u001b[0m\u001b[0;34m\u001b[0m\u001b[0m\n\u001b[1;32m    718\u001b[0m             \u001b[0mres\u001b[0m \u001b[0;34m=\u001b[0m \u001b[0mtransformer\u001b[0m\u001b[0;34m.\u001b[0m\u001b[0mfit\u001b[0m\u001b[0;34m(\u001b[0m\u001b[0mX\u001b[0m\u001b[0;34m,\u001b[0m \u001b[0my\u001b[0m\u001b[0;34m,\u001b[0m \u001b[0;34m**\u001b[0m\u001b[0mfit_params\u001b[0m\u001b[0;34m)\u001b[0m\u001b[0;34m.\u001b[0m\u001b[0mtransform\u001b[0m\u001b[0;34m(\u001b[0m\u001b[0mX\u001b[0m\u001b[0;34m)\u001b[0m\u001b[0;34m\u001b[0m\u001b[0m\n",
      "\u001b[0;32m/opt/conda/lib/python3.6/site-packages/sklearn/base.py\u001b[0m in \u001b[0;36mfit_transform\u001b[0;34m(self, X, y, **fit_params)\u001b[0m\n\u001b[1;32m    551\u001b[0m         \u001b[0;32mif\u001b[0m \u001b[0my\u001b[0m \u001b[0;32mis\u001b[0m \u001b[0;32mNone\u001b[0m\u001b[0;34m:\u001b[0m\u001b[0;34m\u001b[0m\u001b[0m\n\u001b[1;32m    552\u001b[0m             \u001b[0;31m# fit method of arity 1 (unsupervised transformation)\u001b[0m\u001b[0;34m\u001b[0m\u001b[0;34m\u001b[0m\u001b[0m\n\u001b[0;32m--> 553\u001b[0;31m             \u001b[0;32mreturn\u001b[0m \u001b[0mself\u001b[0m\u001b[0;34m.\u001b[0m\u001b[0mfit\u001b[0m\u001b[0;34m(\u001b[0m\u001b[0mX\u001b[0m\u001b[0;34m,\u001b[0m \u001b[0;34m**\u001b[0m\u001b[0mfit_params\u001b[0m\u001b[0;34m)\u001b[0m\u001b[0;34m.\u001b[0m\u001b[0mtransform\u001b[0m\u001b[0;34m(\u001b[0m\u001b[0mX\u001b[0m\u001b[0;34m)\u001b[0m\u001b[0;34m\u001b[0m\u001b[0m\n\u001b[0m\u001b[1;32m    554\u001b[0m         \u001b[0;32melse\u001b[0m\u001b[0;34m:\u001b[0m\u001b[0;34m\u001b[0m\u001b[0m\n\u001b[1;32m    555\u001b[0m             \u001b[0;31m# fit method of arity 2 (supervised transformation)\u001b[0m\u001b[0;34m\u001b[0m\u001b[0;34m\u001b[0m\u001b[0m\n",
      "\u001b[0;32m/opt/conda/lib/python3.6/site-packages/sklearn/impute/_base.py\u001b[0m in \u001b[0;36mfit\u001b[0;34m(self, X, y)\u001b[0m\n\u001b[1;32m    266\u001b[0m                                                \u001b[0mself\u001b[0m\u001b[0;34m.\u001b[0m\u001b[0mstrategy\u001b[0m\u001b[0;34m,\u001b[0m\u001b[0;34m\u001b[0m\u001b[0m\n\u001b[1;32m    267\u001b[0m                                                \u001b[0mself\u001b[0m\u001b[0;34m.\u001b[0m\u001b[0mmissing_values\u001b[0m\u001b[0;34m,\u001b[0m\u001b[0;34m\u001b[0m\u001b[0m\n\u001b[0;32m--> 268\u001b[0;31m                                                fill_value)\n\u001b[0m\u001b[1;32m    269\u001b[0m \u001b[0;34m\u001b[0m\u001b[0m\n\u001b[1;32m    270\u001b[0m         \u001b[0;32mif\u001b[0m \u001b[0mself\u001b[0m\u001b[0;34m.\u001b[0m\u001b[0madd_indicator\u001b[0m\u001b[0;34m:\u001b[0m\u001b[0;34m\u001b[0m\u001b[0m\n",
      "\u001b[0;32m/opt/conda/lib/python3.6/site-packages/sklearn/impute/_base.py\u001b[0m in \u001b[0;36m_dense_fit\u001b[0;34m(self, X, strategy, missing_values, fill_value)\u001b[0m\n\u001b[1;32m    356\u001b[0m                 \u001b[0mrow_mask\u001b[0m \u001b[0;34m=\u001b[0m \u001b[0mnp\u001b[0m\u001b[0;34m.\u001b[0m\u001b[0mlogical_not\u001b[0m\u001b[0;34m(\u001b[0m\u001b[0mrow_mask\u001b[0m\u001b[0;34m)\u001b[0m\u001b[0;34m.\u001b[0m\u001b[0mastype\u001b[0m\u001b[0;34m(\u001b[0m\u001b[0mnp\u001b[0m\u001b[0;34m.\u001b[0m\u001b[0mbool\u001b[0m\u001b[0;34m)\u001b[0m\u001b[0;34m\u001b[0m\u001b[0m\n\u001b[1;32m    357\u001b[0m                 \u001b[0mrow\u001b[0m \u001b[0;34m=\u001b[0m \u001b[0mrow\u001b[0m\u001b[0;34m[\u001b[0m\u001b[0mrow_mask\u001b[0m\u001b[0;34m]\u001b[0m\u001b[0;34m\u001b[0m\u001b[0m\n\u001b[0;32m--> 358\u001b[0;31m                 \u001b[0mmost_frequent\u001b[0m\u001b[0;34m[\u001b[0m\u001b[0mi\u001b[0m\u001b[0;34m]\u001b[0m \u001b[0;34m=\u001b[0m \u001b[0m_most_frequent\u001b[0m\u001b[0;34m(\u001b[0m\u001b[0mrow\u001b[0m\u001b[0;34m,\u001b[0m \u001b[0mnp\u001b[0m\u001b[0;34m.\u001b[0m\u001b[0mnan\u001b[0m\u001b[0;34m,\u001b[0m \u001b[0;36m0\u001b[0m\u001b[0;34m)\u001b[0m\u001b[0;34m\u001b[0m\u001b[0m\n\u001b[0m\u001b[1;32m    359\u001b[0m \u001b[0;34m\u001b[0m\u001b[0m\n\u001b[1;32m    360\u001b[0m             \u001b[0;32mreturn\u001b[0m \u001b[0mmost_frequent\u001b[0m\u001b[0;34m\u001b[0m\u001b[0m\n",
      "\u001b[0;32m/opt/conda/lib/python3.6/site-packages/sklearn/impute/_base.py\u001b[0m in \u001b[0;36m_most_frequent\u001b[0;34m(array, extra_value, n_repeat)\u001b[0m\n\u001b[1;32m     59\u001b[0m             \u001b[0;31m# has already been NaN-masked.\u001b[0m\u001b[0;34m\u001b[0m\u001b[0;34m\u001b[0m\u001b[0m\n\u001b[1;32m     60\u001b[0m             \u001b[0mwarnings\u001b[0m\u001b[0;34m.\u001b[0m\u001b[0msimplefilter\u001b[0m\u001b[0;34m(\u001b[0m\u001b[0;34m\"ignore\"\u001b[0m\u001b[0;34m,\u001b[0m \u001b[0mRuntimeWarning\u001b[0m\u001b[0;34m)\u001b[0m\u001b[0;34m\u001b[0m\u001b[0m\n\u001b[0;32m---> 61\u001b[0;31m             \u001b[0mmode\u001b[0m \u001b[0;34m=\u001b[0m \u001b[0mstats\u001b[0m\u001b[0;34m.\u001b[0m\u001b[0mmode\u001b[0m\u001b[0;34m(\u001b[0m\u001b[0marray\u001b[0m\u001b[0;34m)\u001b[0m\u001b[0;34m\u001b[0m\u001b[0m\n\u001b[0m\u001b[1;32m     62\u001b[0m \u001b[0;34m\u001b[0m\u001b[0m\n\u001b[1;32m     63\u001b[0m         \u001b[0mmost_frequent_value\u001b[0m \u001b[0;34m=\u001b[0m \u001b[0mmode\u001b[0m\u001b[0;34m[\u001b[0m\u001b[0;36m0\u001b[0m\u001b[0;34m]\u001b[0m\u001b[0;34m[\u001b[0m\u001b[0;36m0\u001b[0m\u001b[0;34m]\u001b[0m\u001b[0;34m\u001b[0m\u001b[0m\n",
      "\u001b[0;32m/opt/conda/lib/python3.6/site-packages/scipy/stats/stats.py\u001b[0m in \u001b[0;36mmode\u001b[0;34m(a, axis, nan_policy)\u001b[0m\n\u001b[1;32m    434\u001b[0m         \u001b[0;32mreturn\u001b[0m \u001b[0mModeResult\u001b[0m\u001b[0;34m(\u001b[0m\u001b[0mnp\u001b[0m\u001b[0;34m.\u001b[0m\u001b[0marray\u001b[0m\u001b[0;34m(\u001b[0m\u001b[0;34m[\u001b[0m\u001b[0;34m]\u001b[0m\u001b[0;34m)\u001b[0m\u001b[0;34m,\u001b[0m \u001b[0mnp\u001b[0m\u001b[0;34m.\u001b[0m\u001b[0marray\u001b[0m\u001b[0;34m(\u001b[0m\u001b[0;34m[\u001b[0m\u001b[0;34m]\u001b[0m\u001b[0;34m)\u001b[0m\u001b[0;34m)\u001b[0m\u001b[0;34m\u001b[0m\u001b[0m\n\u001b[1;32m    435\u001b[0m \u001b[0;34m\u001b[0m\u001b[0m\n\u001b[0;32m--> 436\u001b[0;31m     \u001b[0mcontains_nan\u001b[0m\u001b[0;34m,\u001b[0m \u001b[0mnan_policy\u001b[0m \u001b[0;34m=\u001b[0m \u001b[0m_contains_nan\u001b[0m\u001b[0;34m(\u001b[0m\u001b[0ma\u001b[0m\u001b[0;34m,\u001b[0m \u001b[0mnan_policy\u001b[0m\u001b[0;34m)\u001b[0m\u001b[0;34m\u001b[0m\u001b[0m\n\u001b[0m\u001b[1;32m    437\u001b[0m \u001b[0;34m\u001b[0m\u001b[0m\n\u001b[1;32m    438\u001b[0m     \u001b[0;32mif\u001b[0m \u001b[0mcontains_nan\u001b[0m \u001b[0;32mand\u001b[0m \u001b[0mnan_policy\u001b[0m \u001b[0;34m==\u001b[0m \u001b[0;34m'omit'\u001b[0m\u001b[0;34m:\u001b[0m\u001b[0;34m\u001b[0m\u001b[0m\n",
      "\u001b[0;32m/opt/conda/lib/python3.6/site-packages/scipy/stats/stats.py\u001b[0m in \u001b[0;36m_contains_nan\u001b[0;34m(a, nan_policy)\u001b[0m\n\u001b[1;32m    238\u001b[0m         \u001b[0;31m# e.g. np.isnan(a).any()\u001b[0m\u001b[0;34m\u001b[0m\u001b[0;34m\u001b[0m\u001b[0m\n\u001b[1;32m    239\u001b[0m         \u001b[0;32mwith\u001b[0m \u001b[0mnp\u001b[0m\u001b[0;34m.\u001b[0m\u001b[0merrstate\u001b[0m\u001b[0;34m(\u001b[0m\u001b[0minvalid\u001b[0m\u001b[0;34m=\u001b[0m\u001b[0;34m'ignore'\u001b[0m\u001b[0;34m)\u001b[0m\u001b[0;34m:\u001b[0m\u001b[0;34m\u001b[0m\u001b[0m\n\u001b[0;32m--> 240\u001b[0;31m             \u001b[0mcontains_nan\u001b[0m \u001b[0;34m=\u001b[0m \u001b[0mnp\u001b[0m\u001b[0;34m.\u001b[0m\u001b[0misnan\u001b[0m\u001b[0;34m(\u001b[0m\u001b[0mnp\u001b[0m\u001b[0;34m.\u001b[0m\u001b[0msum\u001b[0m\u001b[0;34m(\u001b[0m\u001b[0ma\u001b[0m\u001b[0;34m)\u001b[0m\u001b[0;34m)\u001b[0m\u001b[0;34m\u001b[0m\u001b[0m\n\u001b[0m\u001b[1;32m    241\u001b[0m     \u001b[0;32mexcept\u001b[0m \u001b[0mTypeError\u001b[0m\u001b[0;34m:\u001b[0m\u001b[0;34m\u001b[0m\u001b[0m\n\u001b[1;32m    242\u001b[0m         \u001b[0;31m# If the check cannot be properly performed we fallback to omitting\u001b[0m\u001b[0;34m\u001b[0m\u001b[0;34m\u001b[0m\u001b[0m\n",
      "\u001b[0;32m/opt/conda/lib/python3.6/site-packages/numpy/core/fromnumeric.py\u001b[0m in \u001b[0;36msum\u001b[0;34m(a, axis, dtype, out, keepdims, initial)\u001b[0m\n\u001b[1;32m   2074\u001b[0m \u001b[0;34m\u001b[0m\u001b[0m\n\u001b[1;32m   2075\u001b[0m     return _wrapreduction(a, np.add, 'sum', axis, dtype, out, keepdims=keepdims,\n\u001b[0;32m-> 2076\u001b[0;31m                           initial=initial)\n\u001b[0m\u001b[1;32m   2077\u001b[0m \u001b[0;34m\u001b[0m\u001b[0m\n\u001b[1;32m   2078\u001b[0m \u001b[0;34m\u001b[0m\u001b[0m\n",
      "\u001b[0;32m/opt/conda/lib/python3.6/site-packages/numpy/core/fromnumeric.py\u001b[0m in \u001b[0;36m_wrapreduction\u001b[0;34m(obj, ufunc, method, axis, dtype, out, **kwargs)\u001b[0m\n\u001b[1;32m     84\u001b[0m                 \u001b[0;32mreturn\u001b[0m \u001b[0mreduction\u001b[0m\u001b[0;34m(\u001b[0m\u001b[0maxis\u001b[0m\u001b[0;34m=\u001b[0m\u001b[0maxis\u001b[0m\u001b[0;34m,\u001b[0m \u001b[0mout\u001b[0m\u001b[0;34m=\u001b[0m\u001b[0mout\u001b[0m\u001b[0;34m,\u001b[0m \u001b[0;34m**\u001b[0m\u001b[0mpasskwargs\u001b[0m\u001b[0;34m)\u001b[0m\u001b[0;34m\u001b[0m\u001b[0m\n\u001b[1;32m     85\u001b[0m \u001b[0;34m\u001b[0m\u001b[0m\n\u001b[0;32m---> 86\u001b[0;31m     \u001b[0;32mreturn\u001b[0m \u001b[0mufunc\u001b[0m\u001b[0;34m.\u001b[0m\u001b[0mreduce\u001b[0m\u001b[0;34m(\u001b[0m\u001b[0mobj\u001b[0m\u001b[0;34m,\u001b[0m \u001b[0maxis\u001b[0m\u001b[0;34m,\u001b[0m \u001b[0mdtype\u001b[0m\u001b[0;34m,\u001b[0m \u001b[0mout\u001b[0m\u001b[0;34m,\u001b[0m \u001b[0;34m**\u001b[0m\u001b[0mpasskwargs\u001b[0m\u001b[0;34m)\u001b[0m\u001b[0;34m\u001b[0m\u001b[0m\n\u001b[0m\u001b[1;32m     87\u001b[0m \u001b[0;34m\u001b[0m\u001b[0m\n\u001b[1;32m     88\u001b[0m \u001b[0;34m\u001b[0m\u001b[0m\n",
      "\u001b[0;31mKeyboardInterrupt\u001b[0m: "
     ]
    }
   ],
   "source": [
    "Xt, Tv, yt, Tyv = train_test_split(X, y,train_size=0.8, test_size=0.2, random_state = 0)\n",
    "Tv2 = preprocessor.fit_transform(Tv)\n",
    "Xt2 = preprocessor.fit_transform(Xt)\n",
    "pipeline.fit(X,y, xgbregressor__eval_set=[(Xt2, yt.to_numpy()), (Tv2, Tyv.to_numpy())])\n",
    "preds = pipeline.predict(Tv)\n",
    "predictions = [round(value) for value in preds]\n",
    "# evaluate predictions\n",
    "#accuracy = accuracy_score(Ty, preds)\n",
    "#print(\"Accuracy: %.2f%%\" % (accuracy * 100.0))"
   ]
  },
  {
   "cell_type": "code",
   "execution_count": null,
   "metadata": {},
   "outputs": [],
   "source": [
    "# retrieve performance metrics\n",
    "results = model.evals_result()\n",
    "epochs = len(results['validation_0']['mae'])\n",
    "x_axis = range(0, epochs)\n",
    "# plot log loss\n",
    "fig, ax = plt.subplots()\n",
    "ax.plot(x_axis, results['validation_0']['mae'], label='Train')\n",
    "ax.plot(x_axis, results['validation_1']['mae'], label='Test')\n",
    "ax.legend()\n",
    "plt.ylabel('mae')\n",
    "plt.title('XGBoost mae')"
   ]
  },
  {
   "cell_type": "code",
   "execution_count": null,
   "metadata": {},
   "outputs": [],
   "source": [
    "# import the modules we'll need\n",
    "from IPython.display import HTML\n",
    "import base64\n",
    "\n",
    "# function that takes in a dataframe and creates a text link to  \n",
    "# download it (will only work for files < 2MB or so)\n",
    "def create_download_link(df, title = \"Download CSV file\", filename = \"resultados.csv\"):  \n",
    "    csv = df.to_csv(index=False)\n",
    "    b64 = base64.b64encode(csv.encode())\n",
    "    payload = b64.decode()\n",
    "    html = '<a download=\"{filename}\" href=\"data:text/csv;base64,{payload}\" target=\"_blank\">{title}</a>'\n",
    "    html = html.format(payload=payload,title=title,filename=filename)\n",
    "    return HTML(html)\n",
    "\n",
    "predicciones_submit = pipeline.predict(prueba)\n",
    "res = pd.DataFrame(predicciones_submit, index=test.id, columns=['precio'])\n",
    "res.reset_index(inplace=True)\n",
    "res.columns = [\"id\", \"target\"]\n",
    "display(res.head())\n",
    "# create a link to download the dataframe\n",
    "display(create_download_link(res))"
   ]
  },
  {
   "cell_type": "code",
   "execution_count": null,
   "metadata": {},
   "outputs": [],
   "source": []
  }
 ],
 "metadata": {
  "kernelspec": {
   "display_name": "Python 3",
   "language": "python",
   "name": "python3"
  },
  "language_info": {
   "codemirror_mode": {
    "name": "ipython",
    "version": 3
   },
   "file_extension": ".py",
   "mimetype": "text/x-python",
   "name": "python",
   "nbconvert_exporter": "python",
   "pygments_lexer": "ipython3",
   "version": "3.7.5"
  }
 },
 "nbformat": 4,
 "nbformat_minor": 4
}
