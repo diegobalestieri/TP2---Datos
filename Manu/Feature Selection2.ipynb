{
 "cells": [
  {
   "cell_type": "code",
   "execution_count": 1,
   "metadata": {
    "_cell_guid": "b1076dfc-b9ad-4769-8c92-a6c4dae69d19",
    "_uuid": "8f2839f25d086af736a60e9eeb907d3b93b6e0e5"
   },
   "outputs": [
    {
     "name": "stdout",
     "output_type": "stream",
     "text": [
      "/kaggle/input/tp2datostrain/train.csv\n",
      "/kaggle/input/tp2datostrain/test.csv\n",
      "/kaggle/input/pingsound/PING - Sound effect.mp3\n",
      "/kaggle/input/tpdatostest/test.csv\n"
     ]
    }
   ],
   "source": [
    "# This Python 3 environment comes with many helpful analytics libraries installed\n",
    "# It is defined by the kaggle/python docker image: https://github.com/kaggle/docker-python\n",
    "# For example, here's several helpful packages to load in \n",
    "\n",
    "import numpy as np # linear algebra\n",
    "import pandas as pd # data processing, CSV file I/O (e.g. pd.read_csv)\n",
    "\n",
    "# Input data files are available in the \"../input/\" directory.\n",
    "# For example, running this (by clicking run or pressing Shift+Enter) will list all files under the input directory\n",
    "\n",
    "import os\n",
    "for dirname, _, filenames in os.walk('/kaggle/input'):\n",
    "    for filename in filenames:\n",
    "        print(os.path.join(dirname, filename))\n",
    "\n",
    "# Any results you write to the current directory are saved as output."
   ]
  },
  {
   "cell_type": "code",
   "execution_count": 2,
   "metadata": {},
   "outputs": [],
   "source": [
    "import numpy as np\n",
    "from sklearn.ensemble import RandomForestRegressor\n",
    "from sklearn.model_selection import train_test_split\n",
    "from sklearn.compose import ColumnTransformer\n",
    "from sklearn.impute import SimpleImputer\n",
    "from sklearn.preprocessing import OneHotEncoder\n",
    "from sklearn.pipeline import Pipeline\n",
    "from category_encoders import CatBoostEncoder, CountEncoder\n",
    "import matplotlib.pyplot as plt"
   ]
  },
  {
   "cell_type": "code",
   "execution_count": 3,
   "metadata": {},
   "outputs": [],
   "source": [
    "from IPython.display import Audio\n",
    "\n",
    "# Cargo los archivos\n",
    "sound_file = '/kaggle/input/pingsound/PING - Sound effect.mp3'\n",
    "def ping():\n",
    "    display(Audio(sound_file, autoplay=True))"
   ]
  },
  {
   "cell_type": "code",
   "execution_count": 82,
   "metadata": {
    "_cell_guid": "79c7e3d0-c299-4dcb-8224-4455121ee9b0",
    "_uuid": "d629ff2d2480ee46fbb7e2d37f6b5fab8052498a"
   },
   "outputs": [],
   "source": [
    "df = pd.read_csv(\"/kaggle/input/tp2datostrain/train.csv\")\n",
    "df.drop(columns=['id'], inplace=True)"
   ]
  },
  {
   "cell_type": "code",
   "execution_count": 83,
   "metadata": {},
   "outputs": [],
   "source": [
    "train = df.copy()\n"
   ]
  },
  {
   "cell_type": "markdown",
   "metadata": {},
   "source": [
    "Relleno los nans y verifico la feature importance utilizando Random Forest"
   ]
  },
  {
   "cell_type": "code",
   "execution_count": 6,
   "metadata": {},
   "outputs": [],
   "source": [
    "#Las variables categoricas las relleno indicando que estan vacias\n",
    "train['ciudad'] = SimpleImputer(strategy='constant', fill_value='ciudadVacia').fit_transform(train[['ciudad']])\n",
    "train['provincia'] = SimpleImputer(strategy='constant', fill_value='provinciaVacia').fit_transform(train[['provincia']])\n",
    "train['tipodepropiedad'] = SimpleImputer(strategy='constant', fill_value='tipoVacio').fit_transform(train[['tipodepropiedad']])"
   ]
  },
  {
   "cell_type": "code",
   "execution_count": 7,
   "metadata": {},
   "outputs": [],
   "source": [
    "#EL titulo y la descripcion las junto y las reemplazo por el largo del texto\n",
    "train.titulo.fillna('', inplace=True)\n",
    "train.descripcion.fillna('', inplace=True)\n",
    "train['texto'] = train['descripcion'] + train['titulo']\n",
    "train['texto'] = train.texto.str.len()\n",
    "train.drop(columns=['descripcion', 'titulo'], inplace=True)"
   ]
  },
  {
   "cell_type": "code",
   "execution_count": 8,
   "metadata": {},
   "outputs": [],
   "source": [
    "#La direccion la dropeo\n",
    "train.drop(columns = ['direccion'], inplace=True)"
   ]
  },
  {
   "cell_type": "code",
   "execution_count": 9,
   "metadata": {},
   "outputs": [],
   "source": [
    "#Las categoricas las reemplazo por la cantidad de apariciones\n",
    "train['ciudad'] = CountEncoder().fit_transform(train['ciudad'])\n",
    "train['provincia'] = CountEncoder().fit_transform(train['provincia'])\n",
    "train['tipodepropiedad'] = CountEncoder().fit_transform(train['tipodepropiedad'])"
   ]
  },
  {
   "cell_type": "code",
   "execution_count": 10,
   "metadata": {},
   "outputs": [],
   "source": [
    "#La antiguedad la reemplazo por el promedio de antiguedad para la ciudad\n",
    "aux = train[['antiguedad', 'ciudad']].copy()\n",
    "aux.dropna(inplace = True)\n",
    "aux = aux.groupby('ciudad').agg({'antiguedad':'mean'})\n",
    "antiguedades = aux.T.to_dict('records').copy()\n",
    "antiguedades = antiguedades[0]\n",
    "train.antiguedad.fillna(train.ciudad.map(antiguedades), inplace = True)\n",
    "train['antiguedad'] = SimpleImputer(strategy='most_frequent').fit_transform(train[['antiguedad']])"
   ]
  },
  {
   "cell_type": "code",
   "execution_count": 11,
   "metadata": {},
   "outputs": [],
   "source": [
    "#La cantidad de habitaciones las reemplazo por la mediana de habitaciones por tipo de propiedad\n",
    "aux = train[['tipodepropiedad', 'habitaciones']].copy()\n",
    "aux.dropna(inplace = True)\n",
    "aux = aux.groupby('tipodepropiedad').agg({'habitaciones':'median'})\n",
    "habts = aux.T.to_dict('records').copy()\n",
    "habts = habts[0]\n",
    "train.habitaciones.fillna(train.tipodepropiedad.map(habts), inplace = True)\n",
    "train['habitaciones'] = SimpleImputer(strategy='most_frequent').fit_transform(train[['habitaciones']])"
   ]
  },
  {
   "cell_type": "code",
   "execution_count": 12,
   "metadata": {},
   "outputs": [],
   "source": [
    "#Los garages supongo que no tiene si es nan\n",
    "train.garages.fillna(0, inplace=True)\n",
    "#Los banos relleno con 1 ya que es la cantidad minima de banos que tiene normalmente una propiedad\n",
    "train.banos.fillna(1, inplace=True)"
   ]
  },
  {
   "cell_type": "code",
   "execution_count": 13,
   "metadata": {},
   "outputs": [],
   "source": [
    "#Para los metros cubiertos y totales relleno con 0 y arreglo para que metros totales sea siempre mayor a metros cubiertos\n",
    "aux = train.copy()\n",
    "aux.metrostotales.fillna(0, inplace=True)\n",
    "aux.metroscubiertos.fillna(0, inplace =True)\n",
    "aux['metrostotalesCorregidos'] = aux[['metrostotales', 'metroscubiertos']].max(axis=1)\n",
    "aux['metroscubiertosCorregidos'] = aux[['metrostotales', 'metroscubiertos']].min(axis=1)\n",
    "train['metrostotales'] = aux['metrostotalesCorregidos']\n",
    "train['metroscubiertos'] = aux['metroscubiertosCorregidos']"
   ]
  },
  {
   "cell_type": "code",
   "execution_count": 14,
   "metadata": {},
   "outputs": [],
   "source": [
    "#El idzona lo relleno con la mediana en la ciudad\n",
    "aux2 = train[['idzona', 'ciudad']].copy()\n",
    "aux2.dropna(inplace = True)\n",
    "aux2 = aux2.groupby('ciudad').agg({'idzona':'median'})\n",
    "ids = aux2.T.to_dict('records').copy()\n",
    "ids = ids[0]\n",
    "train.idzona.fillna(train.ciudad.map(ids), inplace = True)\n",
    "train['idzona'] = SimpleImputer(strategy='most_frequent').fit_transform(train[['idzona']])"
   ]
  },
  {
   "cell_type": "code",
   "execution_count": 15,
   "metadata": {},
   "outputs": [],
   "source": [
    "#Lo mismo hago para la latitud y la longitud\n",
    "aux = train[['lat', 'ciudad']].copy()\n",
    "aux.dropna(inplace = True)\n",
    "aux = aux.groupby('ciudad').agg({'lat':'mean'})\n",
    "lats = aux.T.to_dict('records').copy()\n",
    "lats = lats[0]\n",
    "train.lat.fillna(train.ciudad.map(lats), inplace = True)\n",
    "train['lat'] = SimpleImputer(strategy='most_frequent').fit_transform(train[['lat']])\n",
    "\n",
    "aux = train[['lng', 'ciudad']].copy()\n",
    "aux.dropna(inplace = True)\n",
    "aux = aux.groupby('ciudad').agg({'lng':'mean'})\n",
    "lngs = aux.T.to_dict('records').copy()\n",
    "lngs = lngs[0]\n",
    "train.lat.fillna(train.ciudad.map(lngs), inplace = True)\n",
    "train['lng'] = SimpleImputer(strategy='most_frequent').fit_transform(train[['lng']])"
   ]
  },
  {
   "cell_type": "code",
   "execution_count": 16,
   "metadata": {},
   "outputs": [],
   "source": [
    "#La fecha la separo en 3 columnsa de anio, mes y dia\n",
    "train['fecha'] = pd.to_datetime(train['fecha'])\n",
    "train['dia'] = train.fecha.dt.day\n",
    "train['mes'] = train.fecha.dt.month\n",
    "train['anio'] = train.fecha.dt.year\n"
   ]
  },
  {
   "cell_type": "code",
   "execution_count": 17,
   "metadata": {},
   "outputs": [],
   "source": [
    "train['publicacionesPorCiudad'] = CountEncoder().fit_transform(train['ciudad'])\n",
    "train['publicacionesPorProvincia'] = CountEncoder().fit_transform(train['provincia'])\n",
    "train['publicacionesPorTipo'] = CountEncoder().fit_transform(train['tipodepropiedad'])\n",
    "train['publicacionesPorZona'] = CountEncoder().fit_transform(train['idzona'])\n",
    "train['publicacionesPorBanos'] = CountEncoder().fit_transform(train['banos'])\n",
    "train['publicacionesPorHabitaciones'] = CountEncoder().fit_transform(train['habitaciones'])\n",
    "train['publicacionesPorAntiguedad'] = CountEncoder().fit_transform(train['antiguedad'])\n",
    "train[\"fecha\"] = pd.to_datetime(train[\"fecha\"])\n",
    "train[\"nro_publicaciones_dia\"] = train.groupby(pd.Grouper(key='fecha', freq='D'))[\"publicacionesPorAntiguedad\"].transform(lambda x: len(x.index))\n",
    "train[\"nro_publicaciones_semana\"] = train.groupby(pd.Grouper(key='fecha', freq='W'))[\"publicacionesPorAntiguedad\"].transform(lambda x: len(x.index))\n",
    "train[\"nro_publicaciones_5_dias_habiles\"] = train.groupby(pd.Grouper(key='fecha', freq='B'))[\"publicacionesPorAntiguedad\"].transform(lambda x: len(x.index))\n",
    "train[\"nro_publicaciones_mes\"] = train.groupby(pd.Grouper(key='fecha', freq='M'))[\"publicacionesPorAntiguedad\"].transform(lambda x: len(x.index))\n",
    "train.drop(columns=['fecha'], inplace=True)"
   ]
  },
  {
   "cell_type": "code",
   "execution_count": 18,
   "metadata": {},
   "outputs": [],
   "source": [
    "#AHora utilizamos random forest para graficar la feature importance\n",
    "model = RandomForestRegressor(n_estimators = 70, random_state=0, n_jobs=-1, max_depth = 30)"
   ]
  },
  {
   "cell_type": "code",
   "execution_count": 19,
   "metadata": {},
   "outputs": [],
   "source": [
    "train_x = train.drop(columns=['precio']).copy()\n",
    "train_y = train.precio"
   ]
  },
  {
   "cell_type": "code",
   "execution_count": 20,
   "metadata": {},
   "outputs": [
    {
     "data": {
      "text/plain": [
       "RandomForestRegressor(bootstrap=True, criterion='mse', max_depth=30,\n",
       "                      max_features='auto', max_leaf_nodes=None,\n",
       "                      min_impurity_decrease=0.0, min_impurity_split=None,\n",
       "                      min_samples_leaf=1, min_samples_split=2,\n",
       "                      min_weight_fraction_leaf=0.0, n_estimators=70, n_jobs=-1,\n",
       "                      oob_score=False, random_state=0, verbose=0,\n",
       "                      warm_start=False)"
      ]
     },
     "execution_count": 20,
     "metadata": {},
     "output_type": "execute_result"
    }
   ],
   "source": [
    "model.fit(train_x, train_y)"
   ]
  },
  {
   "cell_type": "code",
   "execution_count": 21,
   "metadata": {},
   "outputs": [
    {
     "data": {
      "text/plain": [
       "Index(['tipodepropiedad', 'ciudad', 'provincia', 'antiguedad', 'habitaciones',\n",
       "       'garages', 'banos', 'metroscubiertos', 'metrostotales', 'idzona', 'lat',\n",
       "       'lng', 'gimnasio', 'usosmultiples', 'piscina', 'escuelascercanas',\n",
       "       'centroscomercialescercanos', 'texto', 'dia', 'mes', 'anio',\n",
       "       'publicacionesPorCiudad', 'publicacionesPorProvincia',\n",
       "       'publicacionesPorTipo', 'publicacionesPorZona', 'publicacionesPorBanos',\n",
       "       'publicacionesPorHabitaciones', 'publicacionesPorAntiguedad',\n",
       "       'nro_publicaciones_dia', 'nro_publicaciones_semana',\n",
       "       'nro_publicaciones_5_dias_habiles', 'nro_publicaciones_mes'],\n",
       "      dtype='object')"
      ]
     },
     "execution_count": 21,
     "metadata": {},
     "output_type": "execute_result"
    }
   ],
   "source": [
    "train_x.columns"
   ]
  },
  {
   "cell_type": "code",
   "execution_count": 22,
   "metadata": {},
   "outputs": [
    {
     "data": {
      "text/html": [
       "\n",
       "                <audio  controls=\"controls\" autoplay=\"autoplay\">\n",
       "                    <source src=\"data:audio/mpeg;base64,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\" type=\"audio/mpeg\" />\n",
       "                    Your browser does not support the audio element.\n",
       "                </audio>\n",
       "              "
      ],
      "text/plain": [
       "<IPython.lib.display.Audio object>"
      ]
     },
     "metadata": {},
     "output_type": "display_data"
    },
    {
     "data": {
      "image/png": "[encoded data removed]",
      "text/plain": [
       "<Figure size 1440x720 with 1 Axes>"
      ]
     },
     "metadata": {
      "needs_background": "light"
     },
     "output_type": "display_data"
    }
   ],
   "source": [
    "features = train_x.columns\n",
    "importances = model.feature_importances_\n",
    "indices = np.argsort(importances)\n",
    "fig= plt.figure(figsize=(20,10))\n",
    "plt.title('Feature Importances')\n",
    "plt.barh(range(len(indices)), importances[indices], color='b', align='center')\n",
    "plt.yticks(range(len(indices)), [features[i] for i in indices])\n",
    "plt.xlabel('Relative Importance')\n",
    "ping()\n",
    "plt.show()"
   ]
  },
  {
   "cell_type": "markdown",
   "metadata": {},
   "source": [
    "Vemos que gran part de el nmero de publicaciones no aportan mucha informacion en relacion a otros features que parecen aportar mas al precio."
   ]
  },
  {
   "cell_type": "code",
   "execution_count": null,
   "metadata": {},
   "outputs": [],
   "source": [
    "#Las variables categoricas las relleno indicando que estan vacias\n",
    "train['ciudad'] = SimpleImputer(strategy='constant', fill_value='ciudadVacia').fit_transform(train[['ciudad']])\n",
    "train['provincia'] = SimpleImputer(strategy='constant', fill_value='provinciaVacia').fit_transform(train[['provincia']])\n",
    "train['tipodepropiedad'] = SimpleImputer(strategy='constant', fill_value='tipoVacio').fit_transform(train[['tipodepropiedad']])\n",
    "\n",
    "#Las categoricas las reemplazo por la cantidad de apariciones\n",
    "train['ciudad'] = CountEncoder().fit_transform(train['ciudad'])\n",
    "train['provincia'] = CountEncoder().fit_transform(train['provincia'])\n",
    "train['tipodepropiedad'] = CountEncoder().fit_transform(train['tipodepropiedad'])\n",
    "\n",
    "#La antiguedad la reemplazo por el promedio de antiguedad para la ciudad\n",
    "aux = train[['antiguedad', 'ciudad']].copy()\n",
    "aux.dropna(inplace = True)\n",
    "aux = aux.groupby('ciudad').agg({'antiguedad':'mean'})\n",
    "antiguedades = aux.T.to_dict('records').copy()\n",
    "antiguedades = antiguedades[0]\n",
    "train.antiguedad.fillna(train.ciudad.map(antiguedades), inplace = True)\n",
    "train['antiguedad'] = SimpleImputer(strategy='most_frequent').fit_transform(train[['antiguedad']])\n",
    "\n",
    "#La cantidad de habitaciones las reemplazo por la mediana de habitaciones por tipo de propiedad\n",
    "aux = train[['tipodepropiedad', 'habitaciones']].copy()\n",
    "aux.dropna(inplace = True)\n",
    "aux = aux.groupby('tipodepropiedad').agg({'habitaciones':'median'})\n",
    "habts = aux.T.to_dict('records').copy()\n",
    "habts = habts[0]\n",
    "train.habitaciones.fillna(train.tipodepropiedad.map(habts), inplace = True)\n",
    "train['habitaciones'] = SimpleImputer(strategy='most_frequent').fit_transform(train[['habitaciones']])\n",
    "\n",
    "#Los garages supongo que no tiene si es nan\n",
    "train.garages.fillna(0, inplace=True)\n",
    "#Los banos relleno con 1 ya que es la cantidad minima de banos que tiene normalmente una propiedad\n",
    "train.banos.fillna(1, inplace=True)\n",
    "\n",
    "#Para los metros cubiertos y totales relleno con 0 y arreglo para que metros totales sea siempre mayor a metros cubiertos\n",
    "aux = train.copy()\n",
    "aux.metrostotales.fillna(0, inplace=True)\n",
    "aux.metroscubiertos.fillna(0, inplace =True)\n",
    "aux['metrostotalesCorregidos'] = aux[['metrostotales', 'metroscubiertos']].max(axis=1)\n",
    "aux['metroscubiertosCorregidos'] = aux[['metrostotales', 'metroscubiertos']].min(axis=1)\n",
    "train['metrostotales'] = aux['metrostotalesCorregidos']\n",
    "train['metroscubiertos'] = aux['metroscubiertosCorregidos']\n",
    "\n",
    "#El idzona lo relleno con la mediana en la ciudad\n",
    "aux2 = train[['idzona', 'ciudad']].copy()\n",
    "aux2.dropna(inplace = True)\n",
    "aux2 = aux2.groupby('ciudad').agg({'idzona':'median'})\n",
    "ids = aux2.T.to_dict('records').copy()\n",
    "ids = ids[0]\n",
    "train.idzona.fillna(train.ciudad.map(ids), inplace = True)\n",
    "train['idzona'] = SimpleImputer(strategy='most_frequent').fit_transform(train[['idzona']])\n",
    "\n",
    "#Lo mismo hago para la latitud y la longitud\n",
    "aux = train[['lat', 'ciudad']].copy()\n",
    "aux.dropna(inplace = True)\n",
    "aux = aux.groupby('ciudad').agg({'lat':'mean'})\n",
    "lats = aux.T.to_dict('records').copy()\n",
    "lats = lats[0]\n",
    "train.lat.fillna(train.ciudad.map(lats), inplace = True)\n",
    "train['lat'] = SimpleImputer(strategy='most_frequent').fit_transform(train[['lat']])\n",
    "\n",
    "aux = train[['lng', 'ciudad']].copy()\n",
    "aux.dropna(inplace = True)\n",
    "aux = aux.groupby('ciudad').agg({'lng':'mean'})\n",
    "lngs = aux.T.to_dict('records').copy()\n",
    "lngs = lngs[0]\n",
    "train.lat.fillna(train.ciudad.map(lngs), inplace = True)\n",
    "train['lng'] = SimpleImputer(strategy='most_frequent').fit_transform(train[['lng']])\n",
    "\n",
    "#La fecha la separo en 3 columnsa de anio, mes y dia\n",
    "train['fecha'] = pd.to_datetime(train['fecha'])\n",
    "train['dia'] = train.fecha.dt.day\n",
    "train['mes'] = train.fecha.dt.month\n",
    "train['anio'] = train.fecha.dt.year\n",
    "\n",
    "train['publicacionesPorCiudad'] = CountEncoder().fit_transform(train['ciudad'])\n",
    "train['publicacionesPorProvincia'] = CountEncoder().fit_transform(train['provincia'])\n",
    "train['publicacionesPorTipo'] = CountEncoder().fit_transform(train['tipodepropiedad'])\n",
    "train['publicacionesPorZona'] = CountEncoder().fit_transform(train['idzona'])\n",
    "train['publicacionesPorBanos'] = CountEncoder().fit_transform(train['banos'])\n",
    "train['publicacionesPorHabitaciones'] = CountEncoder().fit_transform(train['habitaciones'])\n",
    "train['publicacionesPorAntiguedad'] = CountEncoder().fit_transform(train['antiguedad'])\n",
    "train[\"fecha\"] = pd.to_datetime(train[\"fecha\"])\n",
    "train[\"nro_publicaciones_dia\"] = train.groupby(pd.Grouper(key='fecha', freq='D'))[\"publicacionesPorAntiguedad\"].transform(lambda x: len(x.index))\n",
    "train[\"nro_publicaciones_semana\"] = train.groupby(pd.Grouper(key='fecha', freq='W'))[\"publicacionesPorAntiguedad\"].transform(lambda x: len(x.index))\n",
    "train[\"nro_publicaciones_5_dias_habiles\"] = train.groupby(pd.Grouper(key='fecha', freq='B'))[\"publicacionesPorAntiguedad\"].transform(lambda x: len(x.index))\n",
    "train[\"nro_publicaciones_mes\"] = train.groupby(pd.Grouper(key='fecha', freq='M'))[\"publicacionesPorAntiguedad\"].transform(lambda x: len(x.index))\n",
    "train.drop(columns=['fecha'], inplace=True)\n"
   ]
  },
  {
   "cell_type": "code",
   "execution_count": null,
   "metadata": {},
   "outputs": [],
   "source": [
    "#Agrego features del texto\n",
    "aux = df[[\"titulo\", \"descripcion\"]].copy()\n",
    "aux.titulo.fillna('', inplace=True)\n",
    "aux.descripcion.fillna('', inplace=True)\n",
    "aux[\"titulo_descripcion\"] = aux[\"titulo\"].astype(str) + \" \" + aux[\"descripcion\"].astype(str)\n",
    "#Como tiene algunos nulos los relleno con cadenas vaicas\n",
    "aux[\"titulo_descripcion\"].fillna(\"\",inplace = True)\n",
    "#REMUEVO LA PUNTUACION\n",
    "import string\n",
    "print(string.punctuation)\n",
    "tabla = {}\n",
    "for c in string.punctuation + \"¿¡\":\n",
    "    tabla[ord(c)] = None\n",
    "import string\n",
    "for c in string.ascii_uppercase:\n",
    "    tabla[ord(c)] = c.lower()\n",
    "def sacar_puntuacion(s):\n",
    "    return s.translate(tabla)\n",
    "\n",
    "aux[\"titulo_descripcion\"] = aux[\"titulo_descripcion\"].apply(sacar_puntuacion)\n",
    "#aux[\"titulo_descripcion\"] = aux[\"titulo_descripcion\"].apply(lambda x: x.lower())\n",
    "\n",
    "#Agrego los primeros features\n",
    "train[\"nro_palabras\"] = aux[\"titulo_descripcion\"].apply(lambda x: len(x.split(\" \")))\n",
    "train[\"nro_caracteres\"] = aux[\"titulo_descripcion\"].apply(lambda x: len(x))\n",
    "train[\"long_prom_palabra\"] = train[\"nro_caracteres\"] / train[\"nro_palabras\"]\n",
    "\n",
    "def llenarDiccionario(diccionario,descripcion):\n",
    "    for palabra in descripcion.split():\n",
    "        diccionario[palabra] = diccionario.get(palabra,0) + 1\n",
    "        \n",
    "def generarDiccionario(df2):\n",
    "    dicc = {}\n",
    "    for descripcion in df2['titulo_descripcion']:\n",
    "        if isinstance(descripcion,str): llenarDiccionario(dicc,descripcion)\n",
    "    return dicc\n",
    "contador_palabras = generarDiccionario(aux)\n",
    "\n",
    "\n",
    "    \n",
    "#Elimino las stopwords = palabras vacias que no suman nada\n",
    "from nltk.corpus import stopwords\n",
    "from nltk.stem import SnowballStemmer\n",
    "palabras_vacias = stopwords.words('spanish')\n",
    "stemmer = SnowballStemmer(\"spanish\")\n",
    "from nltk.tokenize import sent_tokenize, word_tokenize \n",
    "\n",
    "def procesar_texto(texto):\n",
    "    palabras = word_tokenize(texto)\n",
    "    for indice in range(len(palabras)):\n",
    "        if palabras[indice] not in palabras_vacias:\n",
    "            palabras[indice] = stemmer.stem(palabras[indice])\n",
    "    return palabras\n",
    "#print(\"Voy a stemmizar\")\n",
    "#aux['titulo_descripcion'] = aux['titulo_descripcion'].map(procesar_texto)\n",
    "#print(\"Termine de stemmizar\")\n",
    "for palabra  in palabras_vacias:\n",
    "    if palabra in contador_palabras:\n",
    "        del contador_palabras[palabra]\n",
    "ordenados = sorted(contador_palabras.items(),key = lambda x: -x[1])\n",
    "top_50 = dict(ordenados[:50])\n",
    "\n",
    "\n",
    "#Nuevos features\n",
    "def contar_palabras_en_top(texto):\n",
    "    #palabras = texto.split()\n",
    "    palabras = texto\n",
    "    cont = 0\n",
    "    for palabra in palabras:\n",
    "        if palabra in top_50:\n",
    "            cont += 1\n",
    "    return cont\n",
    "train[\"nro_palabras_mas_comunes\"] = aux[\"titulo_descripcion\"].apply(contar_palabras_en_top)"
   ]
  },
  {
   "cell_type": "code",
   "execution_count": null,
   "metadata": {},
   "outputs": [],
   "source": [
    "train.drop(columns = [\"descripcion\", \"titulo\", \"direccion\"],inplace = True)"
   ]
  },
  {
   "cell_type": "code",
   "execution_count": null,
   "metadata": {},
   "outputs": [],
   "source": [
    "train_x = train.drop(columns=['precio']).copy()\n",
    "train_y = train.precio\n",
    "model.fit(train_x, train_y)\n",
    "features = train_x.columns\n",
    "importances = model.feature_importances_\n",
    "indices = np.argsort(importances)\n",
    "fig= plt.figure(figsize=(20,10))\n",
    "plt.title('Feature Importances')\n",
    "plt.barh(range(len(indices)), importances[indices], color='b', align='center')\n",
    "plt.yticks(range(len(indices)), [features[i] for i in indices])\n",
    "plt.xlabel('Relative Importance')\n",
    "ping()\n",
    "plt.show()"
   ]
  },
  {
   "cell_type": "markdown",
   "metadata": {},
   "source": [
    "Vemos que los features de texto ingresados no tienen mucha importancia en relacion al resto así que agregamos algunos nuevos"
   ]
  },
  {
   "cell_type": "code",
   "execution_count": 54,
   "metadata": {},
   "outputs": [],
   "source": [
    "train = df.copy()"
   ]
  },
  {
   "cell_type": "code",
   "execution_count": 61,
   "metadata": {},
   "outputs": [
    {
     "ename": "ValueError",
     "evalue": "'fill_value'=ciudadVacia is invalid. Expected a numerical value when imputing numerical data",
     "output_type": "error",
     "traceback": [
      "\u001b[0;31m---------------------------------------------------------------------------\u001b[0m",
      "\u001b[0;31mValueError\u001b[0m                                Traceback (most recent call last)",
      "\u001b[0;32m<ipython-input-61-41e14b7d7f78>\u001b[0m in \u001b[0;36m<module>\u001b[0;34m\u001b[0m\n\u001b[1;32m      1\u001b[0m \u001b[0;31m#Las variables categoricas las relleno indicando que estan vacias\u001b[0m\u001b[0;34m\u001b[0m\u001b[0;34m\u001b[0m\u001b[0m\n\u001b[0;32m----> 2\u001b[0;31m \u001b[0mtrain\u001b[0m\u001b[0;34m[\u001b[0m\u001b[0;34m'ciudad'\u001b[0m\u001b[0;34m]\u001b[0m \u001b[0;34m=\u001b[0m \u001b[0mSimpleImputer\u001b[0m\u001b[0;34m(\u001b[0m\u001b[0mstrategy\u001b[0m\u001b[0;34m=\u001b[0m\u001b[0;34m'constant'\u001b[0m\u001b[0;34m,\u001b[0m \u001b[0mfill_value\u001b[0m\u001b[0;34m=\u001b[0m\u001b[0;34m'ciudadVacia'\u001b[0m\u001b[0;34m)\u001b[0m\u001b[0;34m.\u001b[0m\u001b[0mfit_transform\u001b[0m\u001b[0;34m(\u001b[0m\u001b[0mtrain\u001b[0m\u001b[0;34m[\u001b[0m\u001b[0;34m[\u001b[0m\u001b[0;34m'ciudad'\u001b[0m\u001b[0;34m]\u001b[0m\u001b[0;34m]\u001b[0m\u001b[0;34m)\u001b[0m\u001b[0;34m\u001b[0m\u001b[0m\n\u001b[0m\u001b[1;32m      3\u001b[0m \u001b[0mtrain\u001b[0m\u001b[0;34m[\u001b[0m\u001b[0;34m'provincia'\u001b[0m\u001b[0;34m]\u001b[0m \u001b[0;34m=\u001b[0m \u001b[0mSimpleImputer\u001b[0m\u001b[0;34m(\u001b[0m\u001b[0mstrategy\u001b[0m\u001b[0;34m=\u001b[0m\u001b[0;34m'constant'\u001b[0m\u001b[0;34m,\u001b[0m \u001b[0mfill_value\u001b[0m\u001b[0;34m=\u001b[0m\u001b[0;34m'provinciaVacia'\u001b[0m\u001b[0;34m)\u001b[0m\u001b[0;34m.\u001b[0m\u001b[0mfit_transform\u001b[0m\u001b[0;34m(\u001b[0m\u001b[0mtrain\u001b[0m\u001b[0;34m[\u001b[0m\u001b[0;34m[\u001b[0m\u001b[0;34m'provincia'\u001b[0m\u001b[0;34m]\u001b[0m\u001b[0;34m]\u001b[0m\u001b[0;34m)\u001b[0m\u001b[0;34m\u001b[0m\u001b[0m\n\u001b[1;32m      4\u001b[0m \u001b[0mtrain\u001b[0m\u001b[0;34m[\u001b[0m\u001b[0;34m'tipodepropiedad'\u001b[0m\u001b[0;34m]\u001b[0m \u001b[0;34m=\u001b[0m \u001b[0mSimpleImputer\u001b[0m\u001b[0;34m(\u001b[0m\u001b[0mstrategy\u001b[0m\u001b[0;34m=\u001b[0m\u001b[0;34m'constant'\u001b[0m\u001b[0;34m,\u001b[0m \u001b[0mfill_value\u001b[0m\u001b[0;34m=\u001b[0m\u001b[0;34m'tipoVacio'\u001b[0m\u001b[0;34m)\u001b[0m\u001b[0;34m.\u001b[0m\u001b[0mfit_transform\u001b[0m\u001b[0;34m(\u001b[0m\u001b[0mtrain\u001b[0m\u001b[0;34m[\u001b[0m\u001b[0;34m[\u001b[0m\u001b[0;34m'tipodepropiedad'\u001b[0m\u001b[0;34m]\u001b[0m\u001b[0;34m]\u001b[0m\u001b[0;34m)\u001b[0m\u001b[0;34m\u001b[0m\u001b[0m\n\u001b[1;32m      5\u001b[0m \u001b[0;34m\u001b[0m\u001b[0m\n",
      "\u001b[0;32m/opt/conda/lib/python3.6/site-packages/sklearn/base.py\u001b[0m in \u001b[0;36mfit_transform\u001b[0;34m(self, X, y, **fit_params)\u001b[0m\n\u001b[1;32m    551\u001b[0m         \u001b[0;32mif\u001b[0m \u001b[0my\u001b[0m \u001b[0;32mis\u001b[0m \u001b[0;32mNone\u001b[0m\u001b[0;34m:\u001b[0m\u001b[0;34m\u001b[0m\u001b[0m\n\u001b[1;32m    552\u001b[0m             \u001b[0;31m# fit method of arity 1 (unsupervised transformation)\u001b[0m\u001b[0;34m\u001b[0m\u001b[0;34m\u001b[0m\u001b[0m\n\u001b[0;32m--> 553\u001b[0;31m             \u001b[0;32mreturn\u001b[0m \u001b[0mself\u001b[0m\u001b[0;34m.\u001b[0m\u001b[0mfit\u001b[0m\u001b[0;34m(\u001b[0m\u001b[0mX\u001b[0m\u001b[0;34m,\u001b[0m \u001b[0;34m**\u001b[0m\u001b[0mfit_params\u001b[0m\u001b[0;34m)\u001b[0m\u001b[0;34m.\u001b[0m\u001b[0mtransform\u001b[0m\u001b[0;34m(\u001b[0m\u001b[0mX\u001b[0m\u001b[0;34m)\u001b[0m\u001b[0;34m\u001b[0m\u001b[0m\n\u001b[0m\u001b[1;32m    554\u001b[0m         \u001b[0;32melse\u001b[0m\u001b[0;34m:\u001b[0m\u001b[0;34m\u001b[0m\u001b[0m\n\u001b[1;32m    555\u001b[0m             \u001b[0;31m# fit method of arity 2 (supervised transformation)\u001b[0m\u001b[0;34m\u001b[0m\u001b[0;34m\u001b[0m\u001b[0m\n",
      "\u001b[0;32m/opt/conda/lib/python3.6/site-packages/sklearn/impute/_base.py\u001b[0m in \u001b[0;36mfit\u001b[0;34m(self, X, y)\u001b[0m\n\u001b[1;32m    248\u001b[0m             raise ValueError(\"'fill_value'={0} is invalid. Expected a \"\n\u001b[1;32m    249\u001b[0m                              \u001b[0;34m\"numerical value when imputing numerical \"\u001b[0m\u001b[0;34m\u001b[0m\u001b[0m\n\u001b[0;32m--> 250\u001b[0;31m                              \"data\".format(fill_value))\n\u001b[0m\u001b[1;32m    251\u001b[0m \u001b[0;34m\u001b[0m\u001b[0m\n\u001b[1;32m    252\u001b[0m         \u001b[0;32mif\u001b[0m \u001b[0msparse\u001b[0m\u001b[0;34m.\u001b[0m\u001b[0missparse\u001b[0m\u001b[0;34m(\u001b[0m\u001b[0mX\u001b[0m\u001b[0;34m)\u001b[0m\u001b[0;34m:\u001b[0m\u001b[0;34m\u001b[0m\u001b[0m\n",
      "\u001b[0;31mValueError\u001b[0m: 'fill_value'=ciudadVacia is invalid. Expected a numerical value when imputing numerical data"
     ]
    }
   ],
   "source": [
    "#Las variables categoricas las relleno indicando que estan vacias\n",
    "train['ciudad'] = SimpleImputer(strategy='constant', fill_value='ciudadVacia').fit_transform(train[['ciudad']])\n",
    "train['provincia'] = SimpleImputer(strategy='constant', fill_value='provinciaVacia').fit_transform(train[['provincia']])\n",
    "train['tipodepropiedad'] = SimpleImputer(strategy='constant', fill_value='tipoVacio').fit_transform(train[['tipodepropiedad']])\n",
    "\n",
    "#Las categoricas las reemplazo por la cantidad de apariciones\n",
    "train['ciudad'] = CountEncoder().fit_transform(train['ciudad'])\n",
    "train['provincia'] = CountEncoder().fit_transform(train['provincia'])\n",
    "train['tipodepropiedad'] = CountEncoder().fit_transform(train['tipodepropiedad'])\n",
    "\n",
    "#La antiguedad la reemplazo por el promedio de antiguedad para la ciudad\n",
    "aux = train[['antiguedad', 'ciudad']].copy()\n",
    "aux.dropna(inplace = True)\n",
    "aux = aux.groupby('ciudad').agg({'antiguedad':'mean'})\n",
    "antiguedades = aux.T.to_dict('records').copy()\n",
    "antiguedades = antiguedades[0]\n",
    "train.antiguedad.fillna(train.ciudad.map(antiguedades), inplace = True)\n",
    "train['antiguedad'] = SimpleImputer(strategy='most_frequent').fit_transform(train[['antiguedad']])\n",
    "\n",
    "#La cantidad de habitaciones las reemplazo por la mediana de habitaciones por tipo de propiedad\n",
    "aux = train[['tipodepropiedad', 'habitaciones']].copy()\n",
    "aux.dropna(inplace = True)\n",
    "aux = aux.groupby('tipodepropiedad').agg({'habitaciones':'median'})\n",
    "habts = aux.T.to_dict('records').copy()\n",
    "habts = habts[0]\n",
    "train.habitaciones.fillna(train.tipodepropiedad.map(habts), inplace = True)\n",
    "train['habitaciones'] = SimpleImputer(strategy='most_frequent').fit_transform(train[['habitaciones']])\n",
    "\n",
    "#Los garages supongo que no tiene si es nan\n",
    "train.garages.fillna(0, inplace=True)\n",
    "#Los banos relleno con 1 ya que es la cantidad minima de banos que tiene normalmente una propiedad\n",
    "train.banos.fillna(1, inplace=True)\n",
    "\n",
    "#Para los metros cubiertos y totales relleno con 0 y arreglo para que metros totales sea siempre mayor a metros cubiertos\n",
    "aux = train.copy()\n",
    "aux.metrostotales.fillna(0, inplace=True)\n",
    "aux.metroscubiertos.fillna(0, inplace =True)\n",
    "aux['metrostotalesCorregidos'] = aux[['metrostotales', 'metroscubiertos']].max(axis=1)\n",
    "aux['metroscubiertosCorregidos'] = aux[['metrostotales', 'metroscubiertos']].min(axis=1)\n",
    "train['metrostotales'] = aux['metrostotalesCorregidos']\n",
    "train['metroscubiertos'] = aux['metroscubiertosCorregidos']\n",
    "\n",
    "#El idzona lo relleno con la mediana en la ciudad\n",
    "aux2 = train[['idzona', 'ciudad']].copy()\n",
    "aux2.dropna(inplace = True)\n",
    "aux2 = aux2.groupby('ciudad').agg({'idzona':'median'})\n",
    "ids = aux2.T.to_dict('records').copy()\n",
    "ids = ids[0]\n",
    "train.idzona.fillna(train.ciudad.map(ids), inplace = True)\n",
    "train['idzona'] = SimpleImputer(strategy='most_frequent').fit_transform(train[['idzona']])\n",
    "\n",
    "#Lo mismo hago para la latitud y la longitud\n",
    "aux = train[['lat', 'ciudad']].copy()\n",
    "aux.dropna(inplace = True)\n",
    "aux = aux.groupby('ciudad').agg({'lat':'mean'})\n",
    "lats = aux.T.to_dict('records').copy()\n",
    "lats = lats[0]\n",
    "train.lat.fillna(train.ciudad.map(lats), inplace = True)\n",
    "train['lat'] = SimpleImputer(strategy='most_frequent').fit_transform(train[['lat']])\n",
    "\n",
    "aux = train[['lng', 'ciudad']].copy()\n",
    "aux.dropna(inplace = True)\n",
    "aux = aux.groupby('ciudad').agg({'lng':'mean'})\n",
    "lngs = aux.T.to_dict('records').copy()\n",
    "lngs = lngs[0]\n",
    "train.lat.fillna(train.ciudad.map(lngs), inplace = True)\n",
    "train['lng'] = SimpleImputer(strategy='most_frequent').fit_transform(train[['lng']])\n",
    "\n",
    "#La fecha la separo en 3 columnsa de anio, mes y dia\n",
    "train['fecha'] = pd.to_datetime(train['fecha'])\n",
    "train['dia'] = train.fecha.dt.day\n",
    "train['mes'] = train.fecha.dt.month\n",
    "train['anio'] = train.fecha.dt.year\n",
    "\n",
    "#train['publicacionesPorCiudad'] = CountEncoder().fit_transform(train['ciudad'])\n",
    "#train['publicacionesPorProvincia'] = CountEncoder().fit_transform(train['provincia'])\n",
    "#train['publicacionesPorTipo'] = CountEncoder().fit_transform(train['tipodepropiedad'])\n",
    "#train['publicacionesPorZona'] = CountEncoder().fit_transform(train['idzona'])\n",
    "#train['publicacionesPorBanos'] = CountEncoder().fit_transform(train['banos'])\n",
    "#train['publicacionesPorHabitaciones'] = CountEncoder().fit_transform(train['habitaciones'])\n",
    "#train['publicacionesPorAntiguedad'] = CountEncoder().fit_transform(train['antiguedad'])\n",
    "train[\"fecha\"] = pd.to_datetime(train[\"fecha\"])\n",
    "#train[\"nro_publicaciones_dia\"] = train.groupby(pd.Grouper(key='fecha', freq='D'))[\"publicacionesPorAntiguedad\"].transform(lambda x: len(x.index))\n",
    "#train[\"nro_publicaciones_semana\"] = train.groupby(pd.Grouper(key='fecha', freq='W'))[\"publicacionesPorAntiguedad\"].transform(lambda x: len(x.index))\n",
    "#train[\"nro_publicaciones_5_dias_habiles\"] = train.groupby(pd.Grouper(key='fecha', freq='B'))[\"publicacionesPorAntiguedad\"].transform(lambda x: len(x.index))\n",
    "#train[\"nro_publicaciones_mes\"] = train.groupby(pd.Grouper(key='fecha', freq='M'))[\"publicacionesPorAntiguedad\"].transform(lambda x: len(x.index))\n",
    "train.drop(columns=['fecha'], inplace=True)\n"
   ]
  },
  {
   "cell_type": "code",
   "execution_count": 56,
   "metadata": {},
   "outputs": [
    {
     "name": "stdout",
     "output_type": "stream",
     "text": [
      "!\"#$%&'()*+,-./:;<=>?@[\\]^_`{|}~\n"
     ]
    }
   ],
   "source": [
    "#Agrego features del texto\n",
    "aux = train[[\"titulo\", \"descripcion\"]].copy()\n",
    "aux.titulo.fillna('', inplace=True)\n",
    "aux.descripcion.fillna('', inplace=True)\n",
    "aux[\"titulo_descripcion\"] = aux[\"titulo\"].astype(str) + \" \" + aux[\"descripcion\"].astype(str)\n",
    "#Como tiene algunos nulos los relleno con cadenas vaicas\n",
    "aux[\"titulo_descripcion\"].fillna(\"\",inplace = True)\n",
    "#REMUEVO LA PUNTUACION\n",
    "import string\n",
    "print(string.punctuation)\n",
    "tabla = {}\n",
    "for c in string.punctuation + \"¿¡\":\n",
    "    tabla[ord(c)] = None\n",
    "import string\n",
    "for c in string.ascii_uppercase:\n",
    "    tabla[ord(c)] = c.lower()\n",
    "def sacar_puntuacion(s):\n",
    "    return s.translate(tabla)\n",
    "\n",
    "aux[\"titulo_descripcion\"] = aux[\"titulo_descripcion\"].apply(sacar_puntuacion)\n",
    "#aux[\"titulo_descripcion\"] = aux[\"titulo_descripcion\"].apply(lambda x: x.lower())\n",
    "\n",
    "#Agrego los primeros features\n",
    "train[\"nro_palabras\"] = aux[\"titulo_descripcion\"].apply(lambda x: len(x.split(\" \")))\n",
    "train[\"nro_caracteres\"] = aux[\"titulo_descripcion\"].apply(lambda x: len(x))\n",
    "train[\"long_prom_palabra\"] = train[\"nro_caracteres\"] / train[\"nro_palabras\"]\n",
    "\n",
    "def llenarDiccionario(diccionario,descripcion):\n",
    "    for palabra in descripcion.split():\n",
    "        diccionario[palabra] = diccionario.get(palabra,0) + 1\n",
    "        \n",
    "def generarDiccionario(df2):\n",
    "    dicc = {}\n",
    "    for descripcion in df2['titulo_descripcion']:\n",
    "        if isinstance(descripcion,str): llenarDiccionario(dicc,descripcion)\n",
    "    return dicc\n",
    "contador_palabras = generarDiccionario(aux)\n",
    "\n",
    "\n",
    "    \n",
    "#Elimino las stopwords = palabras vacias que no suman nada\n",
    "from nltk.corpus import stopwords\n",
    "from nltk.stem import SnowballStemmer\n",
    "palabras_vacias = stopwords.words('spanish')\n",
    "stemmer = SnowballStemmer(\"spanish\")\n",
    "from nltk.tokenize import sent_tokenize, word_tokenize \n",
    "\n",
    "def procesar_texto(texto):\n",
    "    palabras = word_tokenize(texto)\n",
    "    resultado = []\n",
    "    for indice in range(len(palabras)):\n",
    "        #if palabras[indice] not in palabras_vacias:\n",
    "        #    palabras[indice] = stemmer.stem(palabras[indice])\n",
    "        if palabras[indice] in palabras_vacias:\n",
    "            continue\n",
    "        resultado.append(palabras[indice])\n",
    "\n",
    "    return resultado\n",
    "#print(\"Voy a stemmizar\")\n",
    "#aux['titulo_descripcion'] = aux['titulo_descripcion'].map(procesar_texto)\n",
    "#print(\"Termine de stemmizar\")\n",
    "for palabra  in palabras_vacias:\n",
    "    if palabra in contador_palabras:\n",
    "        del contador_palabras[palabra]\n",
    "ordenados = sorted(contador_palabras.items(),key = lambda x: -x[1])\n",
    "top_50 = dict(ordenados[:50])\n",
    "\n",
    "\n",
    "#Nuevos features\n",
    "def contar_palabras_en_top(texto):\n",
    "    #palabras = texto.split()\n",
    "    palabras = texto\n",
    "    cont = 0\n",
    "    for palabra in palabras:\n",
    "        if palabra in top_50:\n",
    "            cont += 1\n",
    "    return cont\n",
    "\n",
    "def contar_palabras_en_top_unicas(texto):\n",
    "    d = {}\n",
    "    for palabra in palabras:\n",
    "        if palabra in top_50:\n",
    "            d[palabra] = 1\n",
    "    return len(d.keys())\n",
    "train[\"nro_palabras_mas_comunes\"] = aux[\"titulo_descripcion\"].apply(contar_palabras_en_top)\n"
   ]
  },
  {
   "cell_type": "code",
   "execution_count": 57,
   "metadata": {},
   "outputs": [],
   "source": [
    "aux['tipodepropiedad'] = df[\"tipodepropiedad\"].copy()\n",
    "def obtenerTop50(serie):\n",
    "    top = {}\n",
    "    for texto in serie:\n",
    "        if isinstance(texto,str): llenarDiccionario(top,texto)\n",
    "    for palabra  in palabras_vacias:\n",
    "        if palabra in top:\n",
    "            del top[palabra]\n",
    "    ordenados = sorted(top.items(),key = lambda x: -x[1])\n",
    "    return dict(ordenados[:50])\n",
    "\n",
    "    \n",
    "tops = aux.groupby('tipodepropiedad').agg({\"titulo_descripcion\": obtenerTop50})\n",
    "tops = tops['titulo_descripcion'].to_dict()"
   ]
  },
  {
   "cell_type": "code",
   "execution_count": 58,
   "metadata": {},
   "outputs": [],
   "source": [
    "def contarPalabrasEnTopTipo(df):\n",
    "    descripcion = df['titulo_descripcion']\n",
    "    tipo = df['tipodepropiedad']\n",
    "    cont = 0\n",
    "    for palabra in descripcion:\n",
    "        if palabra in tops[tipo]:\n",
    "            cont += 1\n",
    "    return cont\n",
    "aux['tipodepropiedad'] = SimpleImputer(strategy='most_frequent').fit_transform(aux[['tipodepropiedad']])\n",
    "train['cantPalabrasComunesPorTipo'] = aux.apply(contarPalabrasEnTopTipo, axis = 1)"
   ]
  },
  {
   "cell_type": "code",
   "execution_count": 59,
   "metadata": {},
   "outputs": [],
   "source": [
    "train.drop(columns = [\"descripcion\", \"titulo\", \"direccion\", \"escuelascercanas\", \"centroscomercialescercanos\", \"gimnasio\", \"piscina\"],inplace = True)"
   ]
  },
  {
   "cell_type": "code",
   "execution_count": 63,
   "metadata": {},
   "outputs": [
    {
     "data": {
      "text/html": [
       "\n",
       "                <audio  controls=\"controls\" autoplay=\"autoplay\">\n",
       "                    <source src=\"data:audio/mpeg;base64,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\" type=\"audio/mpeg\" />\n",
       "                    Your browser does not support the audio element.\n",
       "                </audio>\n",
       "              "
      ],
      "text/plain": [
       "<IPython.lib.display.Audio object>"
      ]
     },
     "metadata": {},
     "output_type": "display_data"
    },
    {
     "data": {
      "image/png": "[encoded data removed]",
      "text/plain": [
       "<Figure size 1440x720 with 1 Axes>"
      ]
     },
     "metadata": {
      "needs_background": "light"
     },
     "output_type": "display_data"
    }
   ],
   "source": [
    "train_x = train.drop(columns=['precio']).copy()\n",
    "train_y = train.precio\n",
    "model.fit(train_x, train_y)\n",
    "features = train_x.columns\n",
    "importances = model.feature_importances_\n",
    "indices = np.argsort(importances)\n",
    "fig= plt.figure(figsize=(20,10))\n",
    "plt.title('Feature Importances')\n",
    "plt.barh(range(len(indices)), importances[indices], color='b', align='center')\n",
    "plt.yticks(range(len(indices)), [features[i] for i in indices])\n",
    "plt.xlabel('Relative Importance')\n",
    "ping()\n",
    "plt.show()"
   ]
  },
  {
   "cell_type": "markdown",
   "metadata": {},
   "source": [
    "Veo si rellenando las palabras mas comunes con las apariciones unicas logro algo que sean minimamente mas relevantes"
   ]
  },
  {
   "cell_type": "code",
   "execution_count": 65,
   "metadata": {},
   "outputs": [],
   "source": [
    "train = df.copy()"
   ]
  },
  {
   "cell_type": "code",
   "execution_count": 66,
   "metadata": {},
   "outputs": [],
   "source": [
    "#Las variables categoricas las relleno indicando que estan vacias\n",
    "train['ciudad'] = SimpleImputer(strategy='constant', fill_value='ciudadVacia').fit_transform(train[['ciudad']])\n",
    "train['provincia'] = SimpleImputer(strategy='constant', fill_value='provinciaVacia').fit_transform(train[['provincia']])\n",
    "train['tipodepropiedad'] = SimpleImputer(strategy='constant', fill_value='tipoVacio').fit_transform(train[['tipodepropiedad']])\n",
    "\n",
    "#Las categoricas las reemplazo por la cantidad de apariciones\n",
    "train['ciudad'] = CountEncoder().fit_transform(train['ciudad'])\n",
    "train['provincia'] = CountEncoder().fit_transform(train['provincia'])\n",
    "train['tipodepropiedad'] = CountEncoder().fit_transform(train['tipodepropiedad'])\n",
    "\n",
    "#La antiguedad la reemplazo por el promedio de antiguedad para la ciudad\n",
    "aux = train[['antiguedad', 'ciudad']].copy()\n",
    "aux.dropna(inplace = True)\n",
    "aux = aux.groupby('ciudad').agg({'antiguedad':'mean'})\n",
    "antiguedades = aux.T.to_dict('records').copy()\n",
    "antiguedades = antiguedades[0]\n",
    "train.antiguedad.fillna(train.ciudad.map(antiguedades), inplace = True)\n",
    "train['antiguedad'] = SimpleImputer(strategy='most_frequent').fit_transform(train[['antiguedad']])\n",
    "\n",
    "#La cantidad de habitaciones las reemplazo por la mediana de habitaciones por tipo de propiedad\n",
    "aux = train[['tipodepropiedad', 'habitaciones']].copy()\n",
    "aux.dropna(inplace = True)\n",
    "aux = aux.groupby('tipodepropiedad').agg({'habitaciones':'median'})\n",
    "habts = aux.T.to_dict('records').copy()\n",
    "habts = habts[0]\n",
    "train.habitaciones.fillna(train.tipodepropiedad.map(habts), inplace = True)\n",
    "train['habitaciones'] = SimpleImputer(strategy='most_frequent').fit_transform(train[['habitaciones']])\n",
    "\n",
    "#Los garages supongo que no tiene si es nan\n",
    "train.garages.fillna(0, inplace=True)\n",
    "#Los banos relleno con 1 ya que es la cantidad minima de banos que tiene normalmente una propiedad\n",
    "train.banos.fillna(1, inplace=True)\n",
    "\n",
    "#Para los metros cubiertos y totales relleno con 0 y arreglo para que metros totales sea siempre mayor a metros cubiertos\n",
    "aux = train.copy()\n",
    "aux.metrostotales.fillna(0, inplace=True)\n",
    "aux.metroscubiertos.fillna(0, inplace =True)\n",
    "aux['metrostotalesCorregidos'] = aux[['metrostotales', 'metroscubiertos']].max(axis=1)\n",
    "aux['metroscubiertosCorregidos'] = aux[['metrostotales', 'metroscubiertos']].min(axis=1)\n",
    "train['metrostotales'] = aux['metrostotalesCorregidos']\n",
    "train['metroscubiertos'] = aux['metroscubiertosCorregidos']\n",
    "\n",
    "#El idzona lo relleno con la mediana en la ciudad\n",
    "aux2 = train[['idzona', 'ciudad']].copy()\n",
    "aux2.dropna(inplace = True)\n",
    "aux2 = aux2.groupby('ciudad').agg({'idzona':'median'})\n",
    "ids = aux2.T.to_dict('records').copy()\n",
    "ids = ids[0]\n",
    "train.idzona.fillna(train.ciudad.map(ids), inplace = True)\n",
    "train['idzona'] = SimpleImputer(strategy='most_frequent').fit_transform(train[['idzona']])\n",
    "\n",
    "#Lo mismo hago para la latitud y la longitud\n",
    "aux = train[['lat', 'ciudad']].copy()\n",
    "aux.dropna(inplace = True)\n",
    "aux = aux.groupby('ciudad').agg({'lat':'mean'})\n",
    "lats = aux.T.to_dict('records').copy()\n",
    "lats = lats[0]\n",
    "train.lat.fillna(train.ciudad.map(lats), inplace = True)\n",
    "train['lat'] = SimpleImputer(strategy='most_frequent').fit_transform(train[['lat']])\n",
    "\n",
    "aux = train[['lng', 'ciudad']].copy()\n",
    "aux.dropna(inplace = True)\n",
    "aux = aux.groupby('ciudad').agg({'lng':'mean'})\n",
    "lngs = aux.T.to_dict('records').copy()\n",
    "lngs = lngs[0]\n",
    "train.lat.fillna(train.ciudad.map(lngs), inplace = True)\n",
    "train['lng'] = SimpleImputer(strategy='most_frequent').fit_transform(train[['lng']])\n",
    "\n",
    "#La fecha la separo en 3 columnsa de anio, mes y dia\n",
    "train['fecha'] = pd.to_datetime(train['fecha'])\n",
    "train['dia'] = train.fecha.dt.day\n",
    "train['mes'] = train.fecha.dt.month\n",
    "train['anio'] = train.fecha.dt.year\n",
    "\n",
    "#train['publicacionesPorCiudad'] = CountEncoder().fit_transform(train['ciudad'])\n",
    "#train['publicacionesPorProvincia'] = CountEncoder().fit_transform(train['provincia'])\n",
    "#train['publicacionesPorTipo'] = CountEncoder().fit_transform(train['tipodepropiedad'])\n",
    "#train['publicacionesPorZona'] = CountEncoder().fit_transform(train['idzona'])\n",
    "#train['publicacionesPorBanos'] = CountEncoder().fit_transform(train['banos'])\n",
    "#train['publicacionesPorHabitaciones'] = CountEncoder().fit_transform(train['habitaciones'])\n",
    "#train['publicacionesPorAntiguedad'] = CountEncoder().fit_transform(train['antiguedad'])\n",
    "train[\"fecha\"] = pd.to_datetime(train[\"fecha\"])\n",
    "#train[\"nro_publicaciones_dia\"] = train.groupby(pd.Grouper(key='fecha', freq='D'))[\"publicacionesPorAntiguedad\"].transform(lambda x: len(x.index))\n",
    "#train[\"nro_publicaciones_semana\"] = train.groupby(pd.Grouper(key='fecha', freq='W'))[\"publicacionesPorAntiguedad\"].transform(lambda x: len(x.index))\n",
    "#train[\"nro_publicaciones_5_dias_habiles\"] = train.groupby(pd.Grouper(key='fecha', freq='B'))[\"publicacionesPorAntiguedad\"].transform(lambda x: len(x.index))\n",
    "#train[\"nro_publicaciones_mes\"] = train.groupby(pd.Grouper(key='fecha', freq='M'))[\"publicacionesPorAntiguedad\"].transform(lambda x: len(x.index))\n",
    "train.drop(columns=['fecha'], inplace=True)\n"
   ]
  },
  {
   "cell_type": "code",
   "execution_count": 68,
   "metadata": {},
   "outputs": [
    {
     "name": "stdout",
     "output_type": "stream",
     "text": [
      "!\"#$%&'()*+,-./:;<=>?@[\\]^_`{|}~\n"
     ]
    }
   ],
   "source": [
    "#Agrego features del texto\n",
    "aux = train[[\"titulo\", \"descripcion\"]].copy()\n",
    "aux.titulo.fillna('', inplace=True)\n",
    "aux.descripcion.fillna('', inplace=True)\n",
    "aux[\"titulo_descripcion\"] = aux[\"titulo\"].astype(str) + \" \" + aux[\"descripcion\"].astype(str)\n",
    "#Como tiene algunos nulos los relleno con cadenas vaicas\n",
    "aux[\"titulo_descripcion\"].fillna(\"\",inplace = True)\n",
    "#REMUEVO LA PUNTUACION\n",
    "import string\n",
    "print(string.punctuation)\n",
    "tabla = {}\n",
    "for c in string.punctuation + \"¿¡\":\n",
    "    tabla[ord(c)] = None\n",
    "import string\n",
    "for c in string.ascii_uppercase:\n",
    "    tabla[ord(c)] = c.lower()\n",
    "def sacar_puntuacion(s):\n",
    "    return s.translate(tabla)\n",
    "\n",
    "aux[\"titulo_descripcion\"] = aux[\"titulo_descripcion\"].apply(sacar_puntuacion)\n",
    "#aux[\"titulo_descripcion\"] = aux[\"titulo_descripcion\"].apply(lambda x: x.lower())\n",
    "\n",
    "#Agrego los primeros features\n",
    "train[\"nro_palabras\"] = aux[\"titulo_descripcion\"].apply(lambda x: len(x.split(\" \")))\n",
    "train[\"nro_caracteres\"] = aux[\"titulo_descripcion\"].apply(lambda x: len(x))\n",
    "train[\"long_prom_palabra\"] = train[\"nro_caracteres\"] / train[\"nro_palabras\"]\n",
    "\n",
    "def llenarDiccionario(diccionario,descripcion):\n",
    "    for palabra in descripcion.split():\n",
    "        diccionario[palabra] = diccionario.get(palabra,0) + 1\n",
    "        \n",
    "def generarDiccionario(df2):\n",
    "    dicc = {}\n",
    "    for descripcion in df2['titulo_descripcion']:\n",
    "        if isinstance(descripcion,str): llenarDiccionario(dicc,descripcion)\n",
    "    return dicc\n",
    "contador_palabras = generarDiccionario(aux)\n",
    "\n",
    "\n",
    "    \n",
    "#Elimino las stopwords = palabras vacias que no suman nada\n",
    "from nltk.corpus import stopwords\n",
    "from nltk.stem import SnowballStemmer\n",
    "palabras_vacias = stopwords.words('spanish')\n",
    "stemmer = SnowballStemmer(\"spanish\")\n",
    "from nltk.tokenize import sent_tokenize, word_tokenize \n",
    "\n",
    "def procesar_texto(texto):\n",
    "    palabras = word_tokenize(texto)\n",
    "    resultado = []\n",
    "    for indice in range(len(palabras)):\n",
    "        #if palabras[indice] not in palabras_vacias:\n",
    "        #    palabras[indice] = stemmer.stem(palabras[indice])\n",
    "        if palabras[indice] in palabras_vacias:\n",
    "            continue\n",
    "        resultado.append(palabras[indice])\n",
    "\n",
    "    return resultado\n",
    "#print(\"Voy a stemmizar\")\n",
    "#aux['titulo_descripcion'] = aux['titulo_descripcion'].map(procesar_texto)\n",
    "#print(\"Termine de stemmizar\")\n",
    "for palabra  in palabras_vacias:\n",
    "    if palabra in contador_palabras:\n",
    "        del contador_palabras[palabra]\n",
    "ordenados = sorted(contador_palabras.items(),key = lambda x: -x[1])\n",
    "top_50 = dict(ordenados[:50])\n",
    "\n",
    "def contar_palabras_en_top_unicas(texto):\n",
    "    d = {}\n",
    "    for palabra in texto:\n",
    "        if palabra in top_50:\n",
    "            d[palabra] = 1\n",
    "    return len(d.keys())\n",
    "train[\"nro_palabras_mas_comunes\"] = aux[\"titulo_descripcion\"].apply(contar_palabras_en_top_unicas)"
   ]
  },
  {
   "cell_type": "code",
   "execution_count": 69,
   "metadata": {},
   "outputs": [],
   "source": [
    "aux['tipodepropiedad'] = df[\"tipodepropiedad\"].copy()\n",
    "def obtenerTop50(serie):\n",
    "    top = {}\n",
    "    for texto in serie:\n",
    "        if isinstance(texto,str): llenarDiccionario(top,texto)\n",
    "    for palabra  in palabras_vacias:\n",
    "        if palabra in top:\n",
    "            del top[palabra]\n",
    "    ordenados = sorted(top.items(),key = lambda x: -x[1])\n",
    "    return dict(ordenados[:50])\n",
    "\n",
    "    \n",
    "tops = aux.groupby('tipodepropiedad').agg({\"titulo_descripcion\": obtenerTop50})\n",
    "tops = tops['titulo_descripcion'].to_dict()\n",
    "\n",
    "def contarPalabrasEnTopTipo(df):\n",
    "    descripcion = df['titulo_descripcion']\n",
    "    tipo = df['tipodepropiedad']\n",
    "    d = {}\n",
    "    for palabra in descripcion:\n",
    "        if palabra in tops[tipo]:\n",
    "            d[palabra] = 1\n",
    "    return len(d.keys())\n",
    "aux['tipodepropiedad'] = SimpleImputer(strategy='most_frequent').fit_transform(aux[['tipodepropiedad']])\n",
    "train['cantPalabrasComunesPorTipo'] = aux.apply(contarPalabrasEnTopTipo, axis = 1)"
   ]
  },
  {
   "cell_type": "code",
   "execution_count": 70,
   "metadata": {},
   "outputs": [],
   "source": [
    "train.drop(columns = [\"descripcion\", \"titulo\", \"direccion\", \"escuelascercanas\", \"centroscomercialescercanos\", \"gimnasio\", \"piscina\"],inplace = True)"
   ]
  },
  {
   "cell_type": "code",
   "execution_count": 71,
   "metadata": {},
   "outputs": [
    {
     "data": {
      "text/html": [
       "\n",
       "                <audio  controls=\"controls\" autoplay=\"autoplay\">\n",
       "                    <source src=\"data:audio/mpeg;base64,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\" type=\"audio/mpeg\" />\n",
       "                    Your browser does not support the audio element.\n",
       "                </audio>\n",
       "              "
      ],
      "text/plain": [
       "<IPython.lib.display.Audio object>"
      ]
     },
     "metadata": {},
     "output_type": "display_data"
    },
    {
     "data": {
      "image/png": "[encoded data removed]",
      "text/plain": [
       "<Figure size 1440x720 with 1 Axes>"
      ]
     },
     "metadata": {
      "needs_background": "light"
     },
     "output_type": "display_data"
    }
   ],
   "source": [
    "train_x = train.drop(columns=['precio']).copy()\n",
    "train_y = train.precio\n",
    "model.fit(train_x, train_y)\n",
    "features = train_x.columns\n",
    "importances = model.feature_importances_\n",
    "indices = np.argsort(importances)\n",
    "fig= plt.figure(figsize=(20,10))\n",
    "plt.title('Feature Importances')\n",
    "plt.barh(range(len(indices)), importances[indices], color='b', align='center')\n",
    "plt.yticks(range(len(indices)), [features[i] for i in indices])\n",
    "plt.xlabel('Relative Importance')\n",
    "ping()\n",
    "plt.show()"
   ]
  },
  {
   "cell_type": "markdown",
   "metadata": {},
   "source": [
    "Vemos que no dio una mejora significativa ni de cerca cambiando a los valores unicos"
   ]
  },
  {
   "cell_type": "markdown",
   "metadata": {},
   "source": [
    "Como podemos observar rellenar los banos de esta manera no cambia la feature importance"
   ]
  },
  {
   "cell_type": "markdown",
   "metadata": {},
   "source": [
    "Ahora probamos con el catBoostEncoder para la ciudad, la provincia y el tipo de propiedad y verificamos como afecta la feature importance"
   ]
  },
  {
   "cell_type": "code",
   "execution_count": 84,
   "metadata": {},
   "outputs": [],
   "source": [
    "train = df.copy()"
   ]
  },
  {
   "cell_type": "code",
   "execution_count": 74,
   "metadata": {},
   "outputs": [],
   "source": [
    "train['ciudad'] = CatBoostEncoder().fit_transform(train['ciudad'], df['precio'])\n",
    "train['provincia'] = CatBoostEncoder().fit_transform(train['provincia'], df['precio'])\n",
    "train['tipodepropiedad'] = CatBoostEncoder().fit_transform(train['tipodepropiedad'], df['precio'])"
   ]
  },
  {
   "cell_type": "code",
   "execution_count": 75,
   "metadata": {},
   "outputs": [],
   "source": [
    "#La antiguedad la reemplazo por el promedio de antiguedad para la ciudad\n",
    "aux = train[['antiguedad', 'ciudad']].copy()\n",
    "aux.dropna(inplace = True)\n",
    "aux = aux.groupby('ciudad').agg({'antiguedad':'mean'})\n",
    "antiguedades = aux.T.to_dict('records').copy()\n",
    "antiguedades = antiguedades[0]\n",
    "train.antiguedad.fillna(train.ciudad.map(antiguedades), inplace = True)\n",
    "train['antiguedad'] = SimpleImputer(strategy='most_frequent').fit_transform(train[['antiguedad']])\n",
    "\n",
    "#La cantidad de habitaciones las reemplazo por la mediana de habitaciones por tipo de propiedad\n",
    "aux = train[['tipodepropiedad', 'habitaciones']].copy()\n",
    "aux.dropna(inplace = True)\n",
    "aux = aux.groupby('tipodepropiedad').agg({'habitaciones':'median'})\n",
    "habts = aux.T.to_dict('records').copy()\n",
    "habts = habts[0]\n",
    "train.habitaciones.fillna(train.tipodepropiedad.map(habts), inplace = True)\n",
    "train['habitaciones'] = SimpleImputer(strategy='most_frequent').fit_transform(train[['habitaciones']])\n",
    "\n",
    "#Los garages supongo que no tiene si es nan\n",
    "train.garages.fillna(0, inplace=True)\n",
    "#Los banos relleno con 1 ya que es la cantidad minima de banos que tiene normalmente una propiedad\n",
    "train.banos.fillna(1, inplace=True)\n",
    "\n",
    "#Para los metros cubiertos y totales relleno con 0 y arreglo para que metros totales sea siempre mayor a metros cubiertos\n",
    "aux = train.copy()\n",
    "aux.metrostotales.fillna(0, inplace=True)\n",
    "aux.metroscubiertos.fillna(0, inplace =True)\n",
    "aux['metrostotalesCorregidos'] = aux[['metrostotales', 'metroscubiertos']].max(axis=1)\n",
    "aux['metroscubiertosCorregidos'] = aux[['metrostotales', 'metroscubiertos']].min(axis=1)\n",
    "train['metrostotales'] = aux['metrostotalesCorregidos']\n",
    "train['metroscubiertos'] = aux['metroscubiertosCorregidos']\n",
    "\n",
    "#El idzona lo relleno con la mediana en la ciudad\n",
    "aux2 = train[['idzona', 'ciudad']].copy()\n",
    "aux2.dropna(inplace = True)\n",
    "aux2 = aux2.groupby('ciudad').agg({'idzona':'median'})\n",
    "ids = aux2.T.to_dict('records').copy()\n",
    "ids = ids[0]\n",
    "train.idzona.fillna(train.ciudad.map(ids), inplace = True)\n",
    "train['idzona'] = SimpleImputer(strategy='most_frequent').fit_transform(train[['idzona']])\n",
    "\n",
    "#Lo mismo hago para la latitud y la longitud\n",
    "aux = train[['lat', 'ciudad']].copy()\n",
    "aux.dropna(inplace = True)\n",
    "aux = aux.groupby('ciudad').agg({'lat':'mean'})\n",
    "lats = aux.T.to_dict('records').copy()\n",
    "lats = lats[0]\n",
    "train.lat.fillna(train.ciudad.map(lats), inplace = True)\n",
    "train['lat'] = SimpleImputer(strategy='most_frequent').fit_transform(train[['lat']])\n",
    "\n",
    "aux = train[['lng', 'ciudad']].copy()\n",
    "aux.dropna(inplace = True)\n",
    "aux = aux.groupby('ciudad').agg({'lng':'mean'})\n",
    "lngs = aux.T.to_dict('records').copy()\n",
    "lngs = lngs[0]\n",
    "train.lat.fillna(train.ciudad.map(lngs), inplace = True)\n",
    "train['lng'] = SimpleImputer(strategy='most_frequent').fit_transform(train[['lng']])\n",
    "\n",
    "#La fecha la separo en 3 columnsa de anio, mes y dia\n",
    "train['fecha'] = pd.to_datetime(train['fecha'])\n",
    "train['dia'] = train.fecha.dt.day\n",
    "train['mes'] = train.fecha.dt.month\n",
    "train['anio'] = train.fecha.dt.year\n",
    "\n",
    "#train['publicacionesPorCiudad'] = CountEncoder().fit_transform(train['ciudad'])\n",
    "#train['publicacionesPorProvincia'] = CountEncoder().fit_transform(train['provincia'])\n",
    "#train['publicacionesPorTipo'] = CountEncoder().fit_transform(train['tipodepropiedad'])\n",
    "#train['publicacionesPorZona'] = CountEncoder().fit_transform(train['idzona'])\n",
    "#train['publicacionesPorBanos'] = CountEncoder().fit_transform(train['banos'])\n",
    "#train['publicacionesPorHabitaciones'] = CountEncoder().fit_transform(train['habitaciones'])\n",
    "#train['publicacionesPorAntiguedad'] = CountEncoder().fit_transform(train['antiguedad'])\n",
    "train[\"fecha\"] = pd.to_datetime(train[\"fecha\"])\n",
    "#train[\"nro_publicaciones_dia\"] = train.groupby(pd.Grouper(key='fecha', freq='D'))[\"publicacionesPorAntiguedad\"].transform(lambda x: len(x.index))\n",
    "#train[\"nro_publicaciones_semana\"] = train.groupby(pd.Grouper(key='fecha', freq='W'))[\"publicacionesPorAntiguedad\"].transform(lambda x: len(x.index))\n",
    "#train[\"nro_publicaciones_5_dias_habiles\"] = train.groupby(pd.Grouper(key='fecha', freq='B'))[\"publicacionesPorAntiguedad\"].transform(lambda x: len(x.index))\n",
    "#train[\"nro_publicaciones_mes\"] = train.groupby(pd.Grouper(key='fecha', freq='M'))[\"publicacionesPorAntiguedad\"].transform(lambda x: len(x.index))\n",
    "train.drop(columns=['fecha'], inplace=True)\n"
   ]
  },
  {
   "cell_type": "code",
   "execution_count": 76,
   "metadata": {},
   "outputs": [
    {
     "name": "stdout",
     "output_type": "stream",
     "text": [
      "!\"#$%&'()*+,-./:;<=>?@[\\]^_`{|}~\n"
     ]
    }
   ],
   "source": [
    "#Agrego features del texto\n",
    "aux = train[[\"titulo\", \"descripcion\"]].copy()\n",
    "aux.titulo.fillna('', inplace=True)\n",
    "aux.descripcion.fillna('', inplace=True)\n",
    "aux[\"titulo_descripcion\"] = aux[\"titulo\"].astype(str) + \" \" + aux[\"descripcion\"].astype(str)\n",
    "#Como tiene algunos nulos los relleno con cadenas vaicas\n",
    "aux[\"titulo_descripcion\"].fillna(\"\",inplace = True)\n",
    "#REMUEVO LA PUNTUACION\n",
    "import string\n",
    "print(string.punctuation)\n",
    "tabla = {}\n",
    "for c in string.punctuation + \"¿¡\":\n",
    "    tabla[ord(c)] = None\n",
    "import string\n",
    "for c in string.ascii_uppercase:\n",
    "    tabla[ord(c)] = c.lower()\n",
    "def sacar_puntuacion(s):\n",
    "    return s.translate(tabla)\n",
    "\n",
    "aux[\"titulo_descripcion\"] = aux[\"titulo_descripcion\"].apply(sacar_puntuacion)\n",
    "#aux[\"titulo_descripcion\"] = aux[\"titulo_descripcion\"].apply(lambda x: x.lower())\n",
    "\n",
    "#Agrego los primeros features\n",
    "train[\"nro_palabras\"] = aux[\"titulo_descripcion\"].apply(lambda x: len(x.split(\" \")))\n",
    "train[\"nro_caracteres\"] = aux[\"titulo_descripcion\"].apply(lambda x: len(x))\n",
    "train[\"long_prom_palabra\"] = train[\"nro_caracteres\"] / train[\"nro_palabras\"]\n",
    "\n",
    "def llenarDiccionario(diccionario,descripcion):\n",
    "    for palabra in descripcion.split():\n",
    "        diccionario[palabra] = diccionario.get(palabra,0) + 1\n",
    "        \n",
    "def generarDiccionario(df2):\n",
    "    dicc = {}\n",
    "    for descripcion in df2['titulo_descripcion']:\n",
    "        if isinstance(descripcion,str): llenarDiccionario(dicc,descripcion)\n",
    "    return dicc\n",
    "contador_palabras = generarDiccionario(aux)\n",
    "\n",
    "\n",
    "    \n",
    "#Elimino las stopwords = palabras vacias que no suman nada\n",
    "from nltk.corpus import stopwords\n",
    "from nltk.stem import SnowballStemmer\n",
    "palabras_vacias = stopwords.words('spanish')\n",
    "stemmer = SnowballStemmer(\"spanish\")\n",
    "from nltk.tokenize import sent_tokenize, word_tokenize \n",
    "\n",
    "def procesar_texto(texto):\n",
    "    palabras = word_tokenize(texto)\n",
    "    resultado = []\n",
    "    for indice in range(len(palabras)):\n",
    "        #if palabras[indice] not in palabras_vacias:\n",
    "        #    palabras[indice] = stemmer.stem(palabras[indice])\n",
    "        if palabras[indice] in palabras_vacias:\n",
    "            continue\n",
    "        resultado.append(palabras[indice])\n",
    "\n",
    "    return resultado\n",
    "#print(\"Voy a stemmizar\")\n",
    "#aux['titulo_descripcion'] = aux['titulo_descripcion'].map(procesar_texto)\n",
    "#print(\"Termine de stemmizar\")\n",
    "for palabra  in palabras_vacias:\n",
    "    if palabra in contador_palabras:\n",
    "        del contador_palabras[palabra]\n",
    "ordenados = sorted(contador_palabras.items(),key = lambda x: -x[1])\n",
    "top_50 = dict(ordenados[:50])\n",
    "\n",
    "def contar_palabras_en_top_unicas(texto):\n",
    "    d = {}\n",
    "    for palabra in texto:\n",
    "        if palabra in top_50:\n",
    "            d[palabra] = 1\n",
    "    return len(d.keys())\n",
    "train[\"nro_palabras_mas_comunes\"] = aux[\"titulo_descripcion\"].apply(contar_palabras_en_top_unicas)"
   ]
  },
  {
   "cell_type": "code",
   "execution_count": 77,
   "metadata": {},
   "outputs": [],
   "source": [
    "aux['tipodepropiedad'] = df[\"tipodepropiedad\"].copy()\n",
    "def obtenerTop50(serie):\n",
    "    top = {}\n",
    "    for texto in serie:\n",
    "        if isinstance(texto,str): llenarDiccionario(top,texto)\n",
    "    for palabra  in palabras_vacias:\n",
    "        if palabra in top:\n",
    "            del top[palabra]\n",
    "    ordenados = sorted(top.items(),key = lambda x: -x[1])\n",
    "    return dict(ordenados[:50])\n",
    "\n",
    "    \n",
    "tops = aux.groupby('tipodepropiedad').agg({\"titulo_descripcion\": obtenerTop50})\n",
    "tops = tops['titulo_descripcion'].to_dict()\n",
    "\n",
    "def contarPalabrasEnTopTipo(df):\n",
    "    descripcion = df['titulo_descripcion']\n",
    "    tipo = df['tipodepropiedad']\n",
    "    d = {}\n",
    "    for palabra in descripcion:\n",
    "        if palabra in tops[tipo]:\n",
    "            d[palabra] = 1\n",
    "    return len(d.keys())\n",
    "aux['tipodepropiedad'] = SimpleImputer(strategy='most_frequent').fit_transform(aux[['tipodepropiedad']])\n",
    "train['cantPalabrasComunesPorTipo'] = aux.apply(contarPalabrasEnTopTipo, axis = 1)"
   ]
  },
  {
   "cell_type": "code",
   "execution_count": 78,
   "metadata": {},
   "outputs": [],
   "source": [
    "train.drop(columns = [\"descripcion\", \"titulo\", \"direccion\", \"escuelascercanas\", \"centroscomercialescercanos\", \"gimnasio\", \"piscina\"],inplace = True)"
   ]
  },
  {
   "cell_type": "code",
   "execution_count": 81,
   "metadata": {},
   "outputs": [
    {
     "data": {
      "text/html": [
       "\n",
       "                <audio  controls=\"controls\" autoplay=\"autoplay\">\n",
       "                    <source src=\"data:audio/mpeg;base64,SUQzBAAAAAABAFRYWFgAAAASAAADbWFqb3JfYnJhbmQAZGFzaABUWFhYAAAAEQAAA21pbm9yX3ZlcnNpb24AMABUWFhYAAAAHAAAA2NvbXBhdGlibGVfYnJhbmRzAGlzbzZtcDQxAFRTU0UAAAAPAAADTGF2ZjU3LjU2LjEwMQAAAAAAAAAAAAAA//uwAAAAAAAAAAAAAAAAAAAAAAAAAAAAAAAAAAAAAAAAAAAASW5mbwAAAA8AAAApAABm2gAMDBISGBgYHh4kJCQqKjAwMDY2PDxDQ0NJSU9PT1VVW1tbYWFnZ2dtbXNzeXl5f3+GhoaMjJKSkpiYnp6kpKSqqrCwsLa2vLy8w8PJycnPz9XV29vb4eHn5+ft7fPz8/n5//8AAAAATGF2YzU3LjY0AAAAAAAAAAAAAAAAJAZAAAAAAAAAZtrRxVtZAAAAAAAAAAAAAAAAAAAAAAAAAAAAAAAAAAAAAAAAAAAAAAAAAAAAAAAAAAAAAAAAAAAAAAAAAAAAAAAAAAAAAAAAAAAAAAAAAAAAAAAAAAAAAAAAAAAAAAAAAAAAAAAAAAAAAAAAAAAAAAAAAAAAAAAAAAAAAAAAAAAAAAAAAAAAAAAAAAAAAAAAAAAAAAAAAAAAAAAAAAAAAAAAAAAAAAAAAAAAAAAAAAAAAAAAAAAAAAAAAAAAAAAAAAAAAAAAAAAAAAAAAAAAAAAAAAAAAAAAAAAAAAAAAAAAAAAAAAAAAAAAAAAAAAAAAAAAAAAAAAAAAAAAAAAAAAAAAAAAAAAAAAAAAAAAAAAAAAAAAAAAAAAAAAAAAAAAAAAAAAAAAAAAAAAAAAAAAAAAAAAAAAAAAAAAAAAAAAAAAAAAAAAAAAAAAAAAAAAAAAAAAAAAAAAAAAAAAAAAAAAAAAAAAAAAAAAAAAAAAAAAAAAAAAAAAAAAAAAAAAAAAAAAAAAAAAAAAAAAAAAAAAAAAAAAAAAAAAAAAAAAAAAAAAAAAAAAAAAAAAAAAAAAAAAAAAAAAAD/+7BkAA/wAABpAAAACAAADSAAAAEAAAGkAAAAIAAANIAAAARMQU1FMy45OS41VVVVVVVVVVVVVVVVVVVVVVVVVVVVVVVVVVVVVVVVVVVVVVVVVVVVVVVVVVVVVVVVVVVVVVVVVVVVVVVVVVVVVVVVVVVVTEFNRTMuOTkuNVVVVVVVVVVVVVVVVVVVVVVVVVVVVVVVVVVVVVVVVVVVVVVVVVVVVVVVVVVVVVVVVVVVVVVVVVVVVVVVVVVVVVVVVVVVVVVVVVVVVVVVVVVVVVVVVVVVVVVVVVVVVVVVVVVVVVVVVVVVVVVVVVVVVVVVVVVVVVVVVVVVVVVVVVVVVVVVVVVVVVVVVVVVVVVVVVVVVVVVVVVVVVVVVVVVVVVVVVVVVVVVVVVVVVVVVVVVVVVVVVVVVVVVVVVVVVVVVVVVVVVVVVVVVVVVVVVVVVVVVVVVVVVVVVVVVVVVVVVVVVVVVVVVVVVVVVVVVVVVVVVVVVVVVVVVVVVVVVVVVVVVVVVVVVVVVVVVVVVVVVVVVVVVVVVVVVVVVVVVVVVVVVVVVVVVVVVVVVVVVVVVVVVVVVVVVVVVVVVVVVVVVVVVVVVVVVVVVVVVVVVVVVVVVVVVVVVVVVVVVVVVVVVVVVVVVVVVVVVVVVVVVVVVVVVVVVVVVVVVVVVVVVVVVVVVVVVVVVVVVVVVVVVVVVVVVVVVVVVVVVVVVVVVVVVVVVVVVVVVVVVVVVVVVVVVVVVVVVVVVVVVVVVVVVVVVVVVVVVVVVVVVVVVVVVVVVVVVVVVVVVVVVVVVVVVVVVVVVVVVVVVVVVVVVVVVVVVVVVVVVVVVVVVVf/7smQAD/AAAGkAAAAIAAANIAAAAQAAAaQAAAAgAAA0gAAABExBTUUzLjk5LjVVVVVVVVVVVVVVVVVVVVVVVVVVVVVVVVVVVVVVVVVVVVVVVVVVVVVVVVVVVVVVVVVVVVVVVVVVVVVVVVVVVVVVVVVVVVVVTEFNRTMuOTkuNVVVVVVVVVVVVVVVVVVVVVVVVVVVVVVVVVVVVVVVVVVVVVVVVVVVVVVVVVVVVVVVVVVVVVVVVVVVVVVVVVVVVVVVVVVVVVVVVVVVVVVVVVVVVVVVVVVVVVVVVVVVVVVVVVVVVVVVVVVVVVVVVVVVVVVVVVVVVVVVVVVVVVVVVVVVVVVVVVVVVVVVVVVVVVVVVVVVVVVVVVVVVVVVVVVVVVVVVVVVVVVVVVVVVVVVVVVVVVVVVVVVVVVVVVVVVVVVVVVVVVVVVVVVVVVVVVVVVVVVVVVVVVVVVVVVVVVVVVVVVVVVVVVVVVVVVVVVVVVVVVVVVVVVVVVVVVVVVVVVVVVVVVVVVVVVVVVVVVVVVVVVVVVVVVVVVVVVVVVVVVVVVVVVVVVVVVVVVVVVVVVVVVVVVVVVVVVVVVVVVVVVVVVVVVVVVVVVVVVVVVVVVVVVVVVVVVVVVVVVVVVVVVVVVVVVVVVVVVVVVVVVVVVVVVVVVVVVVVVVVVVVVVVVVVVVVVVVVVVVVVVVVVVVVVVVVVVVVVVVVVVVVVVVVVVVVVVVVVVVVVVVVVVVVVVVVVVVVVVVVVVVVVVVVVVVVVVVVVVVVVVVVVVVVVVVVVVVVVVVVVVVVVVVVVVVVVVVVVVVVVVVVVVVVVVVVVVVVVVVVVVVVVVVVf/7smQAD/AAAGkAAAAIAAANIAAAAQAAAaQAAAAgAAA0gAAABExBTUUzLjk5LjVVVVVVVVVVVVVVVVVVVVVVVVVVVVVVVVVVVVVVVVVVVVVVVVVVVVVVVVVVVVVVVVVVVVVVVVVVVVVVVVVVVVVVVVVVVVVVTEFNRTMuOTkuNVVVVVVVVVVVVVVVVVVVVVVVVVVVVVVVVVVVVVVVVVVVVVVVVVVVVVVVVVVVVVVVVVVVVVVVVVVVVVVVVVVVVVVVVVVVVVVVVVVVVVVVVVVVVVVVVVVVVVVVVVVVVVVVVVVVVVVVVVVVVVVVVVVVVVVVVVVVVVVVVVVVVVVVVVVVVVVVVVVVVVVVVVVVVVVVVVVVVVVVVVVVVVVVVVVVVVVVVVVVVVVVVVVVVVVVVVVVVVVVVVVVVVVVVVVVVVVVVVVVVVVVVVVVVVVVVVVVVVVVVVVVVVVVVVVVVVVVVVVVVVVVVVVVVVVVVVVVVVVVVVVVVVVVVVVVVVVVVVVVVVVVVVVVVVVVVVVVVVVVVVVVVVVVVVVVVVVVVVVVVVVVVVVVVVVVVVVVVVVVVVVVVVVVVVVVVVVVVVVVVVVVVVVVVVVVVVVVVVVVVVVVVVVVVVVVVVVVVVVVVVVVVVVVVVVVVVVVVVVVVVVVVVVVVVVVVVVVVVVVVVVVVVVVVVVVVVVVVVVVVVVVVVVVVVVVVVVVVVVVVVVVVVVVVVVVVVVVVVVVVVVVVVVVVVVVVVVVVVVVVVVVVVVVVVVVVVVVVVVVVVVVVVVVVVVVVVVVVVVVVVVVVVVVVVVVVVVVVVVVVVVVVVVVVVVVVVVVVVVVVVVVVVVVVf/7smQAD/AAAGkAAAAIAAANIAAAAQAAAaQAAAAgAAA0gAAABExBTUUzLjk5LjVVVVVVVVVVVVVVVVVVVVVVVVVVVVVVVVVVVVVVVVVVVVVVVVVVVVVVVVVVVVVVVVVVVVVVVVVVVVVVVVVVVVVVVVVVVVVVTEFNRTMuOTkuNVVVVVVVVVVVVVVVVVVVVVVVVVVVVVVVVVVVVVVVVVVVVVVVVVVVVVVVVVVVVVVVVVVVVVVVVVVVVVVVVVVVVVVVVVVVVVVVVVVVVVVVVVVVVVVVVVVVVVVVVVVVVVVVVVVVVVVVVVVVVVVVVVVVVVVVVVVVVVVVVVVVVVVVVVVVVVVVVVVVVVVVVVVVVVVVVVVVVVVVVVVVVVVVVVVVVVVVVVVVVVVVVVVVVVVVVVVVVVVVVVVVVVVVVVVVVVVVVVVVVVVVVVVVVVVVVVVVVVVVVVVVVVVVVVVVVVVVVVVVVVVVVVVVVVVVVVVVVVVVVVVVVVVVVVVVVVVVVVVVVVVVVVVVVVVVVVVVVVVVVVVVVVVVVVVVVVVVVVVVVVVVVVVVVVVVVVVVVVVVVVVVVVVVVVVVVVVVVVVVVVVVVVVVVVVVVVVVVVVVVVVVVVVVVVVVVVVVVVVVVVVVVVVVVVVVVVVVVVVVVVVVVVVVVVVVVVVVVVVVVVVVVVVVVVVVVVVVVVVVVVVVVVVVVVVVVVVVVVVVVVVVVVVVVVVVVVVVVVVVVVVVVVVVVVVVVVVVVVVVVVVVVVVVVVVVVVVVVVVVVVVVVVVVVVVVVVVVVVVVVVVVVVVVVVVVVVVVVVVVVVVVVVVVVVVVVVVVVVVVVVVVVVVVVf/7smQAD/AAAGkAAAAIAAANIAAAAQAAAaQAAAAgAAA0gAAABExBTUUzLjk5LjVVVVVVVVVVVVVVVVVVVVVVVVVVVVVVVVVVVVVVVVVVVVVVVVVVVVVVVVVVVVVVVVVVVVVVVVVVVVVVVVVVVVVVVVVVVVVVTEFNRTMuOTkuNVVVVVVVVVVVVVVVVVVVVVVVVVVVVVVVVVVVVVVVVVVVVVVVVVVVVVVVVVVVVVVVVVVVVVVVVVVVVVVVVVVVVVVVVVVVVVVVVVVVVVVVVVVVVVVVVVVVVVVVVVVVVVVVVVVVVVVVVVVVVVVVVVVVVVVVVVVVVVVVVVVVVVVVVVVVVVVVVVVVVVVVVVVVVVVVVVVVVVVVVVVVVVVVVVVVVVVVVVVVVVVVVVVVVVVVVVVVVVVVVVVVVVVVVVVVVVVVVVVVVVVVVVVVVVVVVVVVVVVVVVVVVVVVVVVVVVVVVVVVVVVVVVVVVVVVVVVVVVVVVVVVVVVVVVVVVVVVVVVVVVVVVVVVVVVVVVVVVVVVVVVVVVVVVVVVVVVVVVVVVVVVVVVVVVVVVVVVVVVVVVVVVVVVVVVVVVVVVVVVVVVVVVVVVVVVVVVVVVVVVVVVVVVVVVVVVVVVVVVVVVVVVVVVVVVVVVVVVVVVVVVVVVVVVVVVVVVVVVVVVVVVVVVVVVVVVVVVVVVVVVVVVVVVVVVVVVVVVVVVVVVVVVVVVVVVVVVVVVVVVVVVVVVVVVVVVVVVVVVVVVVVVVVVVVVVVVVVVVVVVVVVVVVVVVVVVVVVVVVVVVVVVVVVVVVVVVVVVVVVVVVVVVVVVVVVVVVVVVVVVVVVVVVVVf/7smQAD/AAAGkAAAAIAAANIAAAAQAAAaQAAAAgAAA0gAAABExBTUUzLjk5LjVVVVVVVVVVVVVVVVVVVVVVVVVVVVVVVVVVVVVVVVVVVVVVVVVVVVVVVVVVVVVVVVVVVVVVVVVVVVVVVVVVVVVVVVVVVVVVTEFNRTMuOTkuNVVVVVVVVVVVVVVVVVVVVVVVVVVVVVVVVVVVVVVVVVVVVVVVVVVVVVVVVVVVVVVVVVVVVVVVVVVVVVVVVVVVVVVVVVVVVVVVVVVVVVVVVVVVVVVVVVVVVVVVVVVVVVVVVVVVVVVVVVVVVVVVVVVVVVVVVVVVVVVVVVVVVVVVVVVVVVVVVVVVVVVVVVVVVVVVVVVVVVVVVVVVVVVVVVVVVVVVVVVVVVVVVVVVVVVVVVVVVVVVVVVVVVVVVVVVVVVVVVVVVVVVVVVVVVVVVVVVVVVVVVVVVVVVVVVVVVVVVVVVVVVVVVVVVVVVVVVVVVVVVVVVVVVVVVVVVVVVVVVVVVVVVVVVVVVVVVVVVVVVVVVVVVVVVVVVVVVVVVVVVVVVVVVVVVVVVVVVVVVVVVVVVVVVVVVVVVVVVVVVVVVVVVVVVVVVVVVVVVVVVVVVVVVVVVVVVVVVVVVVVVVVVVVVVVVVVVVVVVVVVVVVVVVVVVVVVVVVVVVVVVVVVVVVVVVVVVVVVVVVVVVVVVVVVVVVVVVVVVVVVVVVVVVVVVVVVVVVVVVVVVVVVVVVVVVVVVVVVVVVVVVVVVVVVVVVVVVVVVVVVVVVVVVVVVVVVVVVVVVVVVVVVVVVVVVVVVVVVVVVVVVVVVVVVVVVVVVVVVVVVVVVVVVVVf/7smQAD/AAAGkAAAAIAAANIAAAAQAAAaQAAAAgAAA0gAAABExBTUUzLjk5LjVVVVVVVVVVVVVVVVVVVVVVVVVVVVVVVVVVVVVVVVVVVVVVVVVVVVVVVVVVVVVVVVVVVVVVVVVVVVVVVVVVVVVVVVVVVVVVTEFNRTMuOTkuNVVVVVVVVVVVVVVVVVVVVVVVVVVVVVVVVVVVVVVVVVVVVVVVVVVVVVVVVVVVVVVVVVVVVVVVVVVVVVVVVVVVVVVVVVVVVVVVVVVVVVVVVVVVVVVVVVVVVVVVVVVVVVVVVVVVVVVVVVVVVVVVVVVVVVVVVVVVVVVVVVVVVVVVVVVVVVVVVVVVVVVVVVVVVVVVVVVVVVVVVVVVVVVVVVVVVVVVVVVVVVVVVVVVVVVVVVVVVVVVVVVVVVVVVVVVVVVVVVVVVVVVVVVVVVVVVVVVVVVVVVVVVVVVVVVVVVVVVVVVVVVVVVVVVVVVVVVVVVVVVVVVVVVVVVVVVVVVVVVVVVVVVVVVVVVVVVVVVVVVVVVVVVVVVVVVVVVVVVVVVVVVVVVVVVVVVVVVVVVVVVVVVVVVVVVVVVVVVVVVVVVVVVVVVVVVVVVVVVVVVVVVVVVVVVVVVVVVVVVVVVVVVVVVVVVVVVVVVVVVVVVVVVVVVVVVVVVVVVVVVVVVVVVVVVVVVVVVVVVVVVVVVVVVVVVVVVVVVVVVVVVVVVVVVVVVVVVVVVVVVVVVVVVVVVVVVVVVVVVVVVVVVVVVVVVVVVVVVVVVVVVVVVVVVVVVVVVVVVVVVVVVVVVVVVVVVVVVVVVVVVVVVVVVVVVVVVVVVVVVVVVVVVVVVf/7smQAD/AAAGkAAAAIAAANIAAAAQAAAaQAAAAgAAA0gAAABExBTUUzLjk5LjVVVVVVVVVVVVVVVVVVVVVVVVVVVVVVVVVVVVVVVVVVVVVVVVVVVVVVVVVVVVVVVVVVVVVVVVVVVVVVVVVVVVVVVVVVVVVVTEFNRTMuOTkuNVVVVVVVVVVVVVVVVVVVVVVVVVVVVVVVVVVVVVVVVVVVVVVVVVVVVVVVVVVVVVVVVVVVVVVVVVVVVVVVVVVVVVVVVVVVVVVVVVVVVVVVVVVVVVVVVVVVVVVVVVVVVVVVVVVVVVVVVVVVVVVVVVVVVVVVVVVVVVVVVVVVVVVVVVVVVVVVVVVVVVVVVVVVVVVVVVVVVVVVVVVVVVVVVVVVVVVVVVVVVVVVVVVVVVVVVVVVVVVVVVVVVVVVVVVVVVVVVVVVVVVVVVVVVVVVVVVVVVVVVVVVVVVVVVVVVVVVVVVVVVVVVVVVVVVVVVVVVVVVVVVVVVVVVVVVVVVVVVVVVVVVVVVVVVVVVVVVVVVVVVVVVVVVVVVVVVVVVVVVVVVVVVVVVVVVVVVVVVVVVVVVVVVVVVVVVVVVVVVVVVVVVVVVVVVVVVVVVVVVVVVVVVVVVVVVVVVVVVVVVVVVVVVVVVVVVVVVVVVVVVVVVVVVVVVVVVVVVVVVVVVVVVVVVVVVVVVVVVVVVVVVVVVVVVVVVVVVVVVVVVVVVVVVVVVVVVVVVVVVVVVVVVVVVVVVVVVVVVVVVVVVVVVVVVVVVVVVVVVVVVVVVVVVVVVVVVVVVVVVVVVVVVVVVVVVVVVVVVVVVVVVVVVVVVVVVVVVVVVVVVVVVVVVVf/7smQAD/AAAGkAAAAIAAANIAAAAQAAAaQAAAAgAAA0gAAABExBTUUzLjk5LjVVVVVVVVVVVVVVVVVVVVVVVVVVVVVVVVVVVVVVVVVVVVVVVVVVVVVVVVVVVVVVVVVVVVVVVVVVVVVVVVVVVVVVVVVVVVVVTEFNRTMuOTkuNVVVVVVVVVVVVVVVVVVVVVVVVVVVVVVVVVVVVVVVVVVVVVVVVVVVVVVVVVVVVVVVVVVVVVVVVVVVVVVVVVVVVVVVVVVVVVVVVVVVVVVVVVVVVVVVVVVVVVVVVVVVVVVVVVVVVVVVVVVVVVVVVVVVVVVVVVVVVVVVVVVVVVVVVVVVVVVVVVVVVVVVVVVVVVVVVVVVVVVVVVVVVVVVVVVVVVVVVVVVVVVVVVVVVVVVVVVVVVVVVVVVVVVVVVVVVVVVVVVVVVVVVVVVVVVVVVVVVVVVVVVVVVVVVVVVVVVVVVVVVVVVVVVVVVVVVVVVVVVVVVVVVVVVVVVVVVVVVVVVVVVVVVVVVVVVVVVVVVVVVVVVVVVVVVVVVVVVVVVVVVVVVVVVVVVVVVVVVVVVVVVVVVVVVVVVVVVVVVVVVVVVVVVVVVVVVVVVVVVVVVVVVVVVVVVVVVVVVVVVVVVVVVVVVVVVVVVVVVVVVVVVVVVVVVVVVVVVVVVVVVVVVVVVVVVVVVVVVVVVVVVVVVVVVVVVVVVVVVVVVVVVVVVVVVVVVVVVVVVVVVVVVVVVVVVVVVVVVVVVVVVVVVVVVVVVVVVVVVVVVVVVVVVVVVVVVVVVVVVVVVVVVVVVVVVVVVVVVVVVVVVVVVVVVVVVVVVVVVVVVVVVVVVVVf/7smQAD/AAAGkAAAAIAAANIAAAAQAAAaQAAAAgAAA0gAAABExBTUUzLjk5LjVVVVVVVVVVVVVVVVVVVVVVVVVVVVVVVVVVVVVVVVVVVVVVVVVVVVVVVVVVVVVVVVVVVVVVVVVVVVVVVVVVVVVVVVVVVVVVTEFNRTMuOTkuNVVVVVVVVVVVVVVVVVVVVVVVVVVVVVVVVVVVVVVVVVVVVVVVVVVVVVVVVVVVVVVVVVVVVVVVVVVVVVVVVVVVVVVVVVVVVVVVVVVVVVVVVVVVVVVVVVVVVVVVVVVVVVVVVVVVVVVVVVVVVVVVVVVVVVVVVVVVVVVVVVVVVVVVVVVVVVVVVVVVVVVVVVVVVVVVVVVVVVVVVVVVVVVVVVVVVVVVVVVVVVVVVVVVVVVVVVVVVVVVVVVVVVVVVVVVVVVVVVVVVVVVVVVVVVVVVVVVVVVVVVVVVVVVVVVVVVVVVVVVVVVVVVVVVVVVVVVVVVVVVVVVVVVVVVVVVVVVVVVVVVVVVVVVVVVVVVVVVVVVVVVV/cjrvM0THRAHAlpiiglgHPLaF70GEPRCADBJthozQAGhScFdH8VqCPAfg3yiKVS9HhF8u8UJGmBw0FEJaExDuKgLMlbQ74GYWzS0WywJhq7lwoiIrqGMBYspoqutJUKtKnKzEr0JCE8lAWpInC2wcguWhgousEraoMmwGQMIREBNFPpJBE9ZS9Ver2VajWgALdjhgYMakPfDKAo5ZwRhReL6lyiZolQDLLqJvsCaCy+DIddllS6VXJIF4xEBBCgcTKIgIHl8EJaNiT6NyQI8AvmiYnuspiLbPK26x1VFkrGVakmkIv/7smRyjvAAAGkAAAAIAAANIAAAASaJpIAsPxBIAAA0gAAABNtnS6lcqiTMSvTETTVSYKpwvddC52YOi7TuvexNgDRWVMFXGrhh7YG5MpWspwr9XCp2QQTDsag5x2sPXEozF3beCAXaclpzUWLrUYI5cwLVTEFNRTMuOTkuNVVVVVVVVVVVVVVVVVVVVVVVVQuSs1QL9CQDcebx+f5/F1GChSRTyJIWSBSiuJ4g4jiEvYAOI0GgzISBwJgQgyTqKEMUeouKDgtRBGEvgVBG1crxuKEy3pY1UVo60ISRLGQnhykpL0VJxDLHXDJ2MAzB9iuF/EkZVwgEGY4/DuIgsbxSGgnShJ0T0tx4qp6aYnhjFzAfBgryfSBwGm+KwNNCQ00IQsvh2jJEmFJIMS0uQ/Ml8PYu4nhhgsDRVyRQRtg3Hw8DKCMNhcD1MUuxBQ/giDuOFDiEF0ggNgd5zEzPg+TuFrRiDEwWh+HWXwhAOctw7RNhmjmG0aRWCYCTmALOfxPyQIlMHMSRTE1EDH4S8nBvoaexyl2LiZQ7Rtn0Lg12EAAMxSDcCSA9GC6D6ABvHLpowrYg4XUARC35bMtGsdncjbmutU5bRejSEAiDjXQCFLtu6XDT0bE+GBuehgYDBCFzgEqSaq4GGypjigbL1MC4BaBIhnD8bqKHgZj6xKCX6LqLMi6lBlOaRoLqDsvUrRTcfV8UAZgNqsgvgyOBnpLaK4XZAliA5OjYgoxMu+WnAIS0bfxh41jroYY4iwBiMhAud54+kIyxwFAG9S/cpgkMISy8ZbMuOxNBOn2/lmVtiLYKwaXImItRu6ARFCEzzKHUpP/7smTxgPiAaSwx6XwAAAANIAAAASRdpM4MMwJAAAA0gAAABJK46e5adAGsOX/L5yNgbZ2Jvg1xyFMEAjNFb2vJ9pUKaI8K8VvfOllzL3AU7MJS37E2Jy9210PSwd0F2JCJ0SCIQMl42aJImKwNzb+bhFPkTEFNRTMuOTkuNaqqqqqqqqqqqqqqqqqqqqqqqqqqqqqqqqqqqqqqqqqqqqqqqqqqqqqqqqqqqqqqqqqqqqqqqqqqqqqqqqqqqqqqqqqqqqqqqqqqqqqqqqqqqqqqqqqqqqpADoJW3HIjGBWKBoORWKwv5x2lhH4SdOIRALYTggghioTiVUd35yI1XH09Q4RwdodY7C4ASACoo7PSDtx/k7Z1XDU5zofHbBuEkO8ljKcdl5OH6QtTLcUnaKOBTnoTh0qFe+JJc33M/EYo30NmJQcDYSg+lQT8Tcub45HsfSgdItRofeILILw4BJwZnxg4mQ16JMTDAwEQBA+dFIFwPjgIhfVDo1Rihb+A8WJ15/AcvdVIf2d6p2S4x4F9z9cVykcEgsHFjwmLKLSewf6SGbt2dVq8igSKDtU4dyRtkBy3Ajkoh+VPw0tTNfK95W+8D0clfZlDIlh5S0OH0vGIM/yeBzHTDhwsQZTRgShkYFBEgDIiMBI6iUVgFmWQLpBVUROm2GYtYFIaUrKYySUBlDInCIs32Rb8cMShOGE070EQlGJSuUDAgYAGEL6gQBQ8GqNhgziCJADPG8MTEJ3La2FLDRUHC4qJTlPa7qw5tSlVGQuF5y+wiCZDFCTCFb5ZcumKGMxGUqJIAAog5AnWzoJzKgBJek2GVA5EYuzTEv/7smTOiPbHZ72J72TwAAANIAAAASJ1kwbs4fyIAAA0gAAABHXAtYwA41G3KxTxbxgjgjKPJesn0Mgo/D3a0ur3Luh7O3J3dNP1aTdqP8vcBgQwmAsRPSTv26bzn+h+IEDDpsHBo45H5YLKxyV+5HkMISjKTEFNRTMuOTkuNaqqqqqqqqqqqqqqqqqqqqqqqqqqqqqqqqqqqqqqqqqqqqqqqqqqqqqqqqqqqqqqqqqqqqqqqqqqqqqqqqqqqqqqqqqqqqqqqqqqqqqqqqqqqqqqqqqqqqqqqhvru6lBatHDkfa295eBH0vecjMnceMWakFNMUrqvomIhMkac/HaxgGkchqa5lVjgZzlitBeImM67aODzOHCFMuUUVhfu2/q93eR7ZMoA1x4UA8FtfLvgoiDjktdVUZZD7qLofRzGiobqxs2ZZVfdqkOPBDjwO3recw7KhjOH8cSpHaV/3f3KH8ciTPfng1hyILl9eXu/cnrTW2d27kgidqzG4YeyzXgfPDOredt+9yzdTLDDDmv/7EvsTE5nXz7uksUdTGVw/PwfGGCOxO/+NWR09vue4/LqTVPPTdPPSuL5n0c769ZvXHaYhYxABhQYAIYgIRC3nSiAQQLCEtxUATgjELCyQsXTvc1BgMCkSlN9pyIiGDohCq9VMA4AakdJB1giGCNjhMsaBC4+nPG5hYh3vmiGXrbexCm3T3lbpyhni5BoCRtcM0kOPjTiW5cuuNusmIxJp6B7hp0R9S9IBrwUAlrLnrvVnPbySuyrZSsogSHC0AWGSIaAheoYmJI+yyC2+f2DWvWovL36lmEPQJftGcQYgS9G7w1iv/7smTNgAcdY0bNYwACAAANIKAAASDhkzGZrIAAAAA0gwAAAPdsD+YTUWrXYjd5zDLPOnin/hy7SXWCRO1Z1ypSze6TWrMBt0nZ99J1/muQLY/5fJZqOzWE7lAcdonpr285+coZepZ2loGlXMYyRP////9NTEFNRTMuOTkuNVVVVVVVVVVVVVVVVVVVVVVVVVVVVVVVVVVVVVVVVVVVVVVVVVVVVVVVVVVVVVVVVVVVVVVVVVVVVVVVVVVVVVVVVVVVVVVVVVVVVVVVVbbba7Y4QAAAAENvlIBqEwJMztQNAARo8ur90OoWAjjnYG8OTTQZyYAdWGXsaQF226s8S9j9G+aNYKEQSF6Da4IVwUamqcr4UA7fL5v07hZdDdaKxYrDsTsXatamZuoeXjUvdR/1MX+g1dMOsuvY83u2767HhddFNg7/4Oky4VSJlpqP01NABUUJn4tZk0bh+WSuH3IimMNQ9nNX6Cm5nz/1hTSW/+d7/zzlljOx++6v17NzdTn7v6vzdm5u5e3v9VInDcvuy+NxlncDxjHecAuJnnLe0kflVHKPy7rJ/7meOP5Wat7OlJsgECx5cBMXLdLYe9Spp8pYkwIaC4Cb70stcuOtdoZbKIi0lQQYAMkAomB8SBEDAsIALMIg7MghRPLLYMByaMeAKMWg5EYSgoLQ4AXGZU1ZmSRNCnTDPGmrvcJnaaUGKbuy2sjlETtP9Ryt9mDuE0xwGsNJaGgUVgkmgoSkWxN4Q4CmwDIBjABiQFoMGC4IGEIgGno1GcI2FBNhANPWx0DAChS5LFrPP///clxd2mfmCoMiclbkvkSAAHAkoE5T9//7smTTgAcoZVZmPyAAAAANIMAAACI5kTadjoAAAAA0g4AABMw7dk6OqBVrLmDGnei30tKXxcKz3bhOcPAfYrZw21hutL3GMCgCOdB0AvbaiViHoyqqjkmdIpDel0uxqdjuerXbvaaKWa1qRR+MP/A+F+vxTEFNRTMuOTkuNVVVVVVVVVVVVVVVVVVVVVVVVVVVVVVVVVVVVVVVVVVVVVVVVVVVVVVVVVVVVVVVVVVVVVVVVVVVVVVVVVVVVVVVVVVVVVVVVVVVVVVVVVVVVVVVVVVVVVVVVVVVVVVVVVVVVVVVVWlnZVQgAAAAQ9BxB5wQRS1JRlSCdPZQdR9+F2t1YK6aYz6fRPHZmnmdqlgacjNEo+wkv4JBIdZz2YuAUYIggYlhcMAW8rcoGjStq0V702WdyLy1pFxolerJZ2Ov4/8tpqCWzcM2ILj78wBccoRA8WxdF7KeWtJeRQKLqklaWwjBsygdcKA86Kwz8zTdkgreGPP///5LadqbnbOr9WZgos8/lDzXdb3KZaRA7Rb5t4n8s/uaEYDVv5WKiQfmbZekAVe9WhAmit3mSekZ7pMmI3VmrmLn5q5/Ov6+F6qWjYsJ2DRkRqegAXVHhaRiG5AyEhA8KmL/r3HQA6SjijlwiBSWXGcuNRyLJ6u1KX14KqAyl8DADJKFobvDWRhbAYmAmAsZuFuCADQX5lq+sCyaR//xNFhkL2IfTSYCz5fdXmmpjSsyQNQwWW1gRgCs1OJmSVRacwbHcmDyT0HIJh6u+rMhUEVBxYBTC0JjZaSjJQbTDcDDDYEVhnFaUJApnj/Of//8EvNz/12tWsw8qkpgv//7smTHg/cWY05zHX1yAAANIAAAAR+JjSqMe7QAAAA0gAAABKl+/zKtdJAOMDQVoLOW24EQiSHtaAQqEMRpuWKrZBGCLNruuF7lLrGOm6mAIfpq3P5zLuFWWhACsc1W7zVbW5iGMd633949uKoPytp5pdPcAGAAAMRwUw5EEaBMgBAEILBgoxIpAXLhKkuQvCk2eEeo8SBy3BCVWooOYxQYWGJCUgUuAMCIA4cALkgkCMMB7Bpzfg2n8wQIG1MA8ABjOXNqMAgAIwFQAHdc6Wy9BCYAYAykvqX5WWYd5MsCgYpUGBKC4CQIh4A5mKChgKAGwROJHmAkASXJUyMAIAYugYBQBQ8ASig+5gEgyGEwNYYF4AjDoertJacxpTMcBGMBwGQLAVGCKDKYew1RqyziGfiHoHAzmEaBdAzyioBBgSgbw5n3ka+vlzN9ZLO//7j0ETBgAAHgQGsSAYYlfmsIfwpxEAMYBwABjJgoBwEbLHHWggKGhRVEJc11fxg7AQAYGaPQPOvU8Jg2gmEwB7kUL5AICwBA9s0i7ehUAEwkgZQgNNGhmzwx6G3/j0jCgCxgHAMpI6kcn53WdkkAAFgHIz2ACqAGxevbxymACBitZ+tRec4CQFAAOLYStMQNURLVlqU1RkFBbD1Z1RFBkqg0hTjHnGZ2mqjakWIzYjCIC1NVL4DKgkdCmNGmAGgBBgFAE0YBQDzm2yKtRgjYIUYFQAWmGkBioQAQOHHKe53XPx/FRVLmu7oVADmQGAMAC4NAMl77f4wB0AKeSxTw0IQAsIADxgBKFABwlAAyAAQMAaAHUezACQAswQUDtMAKACECcv/7smT/g/sJY0XDX/UAAAANIAAAASk1hRiNf5VIAAA0gAAABBtYau2EfxAAFo4koBUQgU5hO5NGYI+CPGBSANZgNIAgYBEAEgYAGTFVzN3MbUpGAYYsFA0DK+G+///qbhmOt+YGHbxQi/OyaBodZSKgwwqLTRhwGASu58W4GCQ6Z6D7mU7Z4OMtpgiIkugqHZQgIB0NT5einlBh8liSecWPNFR2KsgMNgJ0aDiwEVtZYioGHi9rOva//3UhooEsoybmYNCUNMk/+RtJREuBa5kJmIAAe3ZqKumSuy5j3EAASzcFHWOSqTuQYBICNqG3edyOwTch5111MkZc/BgCAABYA4wKQNzA6C4PwO5ExCgNw4Mg3bZYSD9Zknop/D88P/uWsq0MvAvalt2plhsh1XxLABp5I3A4FYck8PStH0yID8aDd5JfYz1K4YGQLJQqQ6mBAHGHosnKSym7g0mBYBIJYMiM1M83/6Z8YQgaxX//////eP9LmMvou7p8N4S8GBMZfBSnRC7GBKGapwEDlLWUVCgjtNrZfKSEQwUYGwwj4xiPDVcI2xA9Yh7hv5ZUYU/GH4PGNJVc8ef//qC3h1uOlqZcp7n/jEpECsGG9wbC1+IhjoAFBD5M1YOgIHgAlzZ5mZgAwCFPsTKAAli7zO0KAAa/1rI7NjTEh8IAAwaAHmAhACJgWIKObBkryGACgYA8ABGbEXuYIgAhftpkDzlPYnLust441u5O1FHudruo1a7S2xEASYDAAhgEAdGACAMwWglkbEYIhhGiAILPjMSuxuUO2BAATCMCVMAoAQwAwKzAADMMMFygwaBETBPA6MCQAv/7sGTRhffPYMgj3c3gAAANIAAAASSJgxcv+5cAAAA0gAAABEFAHIarqd2XXtb9uRkQWKEc/KL5f//yXZ0iDyn7PKZvodh5rSDJhk7G0V+CiczmJOOKGsoDxhwHw5VhZjAREwjkPc6RKsxGIlv1bz1ihzQQWJt8JQYfl4UArpTc286rZ7GgQ4s4e/tm93/1tWUrD89jXMLhiBkudf+VvipMQU1FMy45OS41qqqqqqqqqqqqqqqqqqqqqqqqqqqqqqqqqqqqqqqqqqqqqqqqqqqqqqqqqqqqqqqqqqqqqqqqqqqqqqqqqqqqqi5v8IABUAABvjd3Zd6KLGKDobqGKLGAAQn3XrIM4PCyZ9oNoXavR6XOTz8oSwkwCAWThRcDMGQCEwWAEwODuQUqkv00FpIug6CLJOjt1kMELhIGCrFHdaxtAIHItqXoJjcAkDiMEFwWBoB3LA2CDACgKLmIqXkUl+wCgbGJj8V/84bH9SC7l0G7wMyhILWyomiDQDhqsOW0AtCGgm1yNBEAdimDQKhtLOaDuBQOhQPEgbmaRj0xJG/plwc5dAMApgAcAAhG9kgAOpSsdLWB5RTPy/KaQOAJ01EemlmAdgIyssXWZSt1TNhtHRfkcYbPJDmAMgBJdoEALRgHALab7w0MGFqgGpgnoAyZvRypaR24xT4fy9nrHvP3rX//////akWMAMAghB8BQGwGAKyjSwqtJgmBqBwATqy693UrhhNIwpgOBkAUwBAOBGHaYczSpiABJGBoA2AgLgwAFXTiw9O93lZd408DVh71RPdJrH////dPId/qUuTGn9YatYxcdzrigDCSrFAr//uyZMQB9gBcyeseq0IAAA0gAAABIvWDE0/7lwAAADSAAAAE7mCBWZJAAshGSxpRMcMpEJameUyp0Dg27V2oneQEkyYBoFjjRyEPCG7GFAgyGGIzLZBRZUNOEBWKYSrv/+7hUBQKMlLTQOZZCCz7P/8xeqVMQU1FMy45OS41VVVVVVVVVVVVVVVVVVVVVVVVVVVVVVVVVVVVVVVVVVVVVVVVVVVVVVVVVVVVVVVVVVVVVVVVVVVVVVVVVVVVVVVVVVVVVVVVVVVVVVVVVVVVVVVVVVVVVVVVVVVVVVVVVVVVVVUKGNikATAAAfXfF0UsS71+sxh26VwVJQiNaBQFMZjyu59+HjfXbwSqWSNrJMAcCABCoBWYPAbx3/wemDcB8YEAMRzG2Fu26R+pnhu7U7jruOu93zLfMt8x1bdCKDoeQjq75fioYVyYCX+d/+8bsHCulWEMIgs4opjXQ1AweWK/0ZpscumwGpCC4HiXkn//TNzR0BPYQoAPBBC6gny4TQl4KHwt7NKYW8F9tRZDCyOWRNoIjJ5j4yAGzGgpJJc0QWcVl0z/rQJ4LqTR0QcNLj84XDwEDaZwnsz0mABJLUUOhxyb7P0k0jpx5xYDacfbYIKbg+0gXQs5GYvCtYGgA5gHAAoHAJRgDwGAYFWAwHCAIoxg64QWYF0CHmXQgCFANhCAWo4z+CpuUcn+aww//w5////++8eIwFQAwID0EA3UOEy7S0zB4B7VVfi3z86SH1bDBCAcAwFBgGgQmBcEIYxKoBifgYmBSAQGAIp9NNgaW2ua3pnhpZFjQVlnUArWu///////+5U/zsu0u4CAMKKY//uyZMgB9o9gyGvcpcAAAA0gAAABIcWFEK/7lwAAADSAAAAE8WgQ41JcuMwkMBAOiZg4DxX30MHhiTUfOWmcBxplt+xDaxAxORaDWEQ4ZgppgAGqkduNxSRz/NRrH/3///4CEIgobvNyeBS/Y5h//cTWbN1MQU1FMy45OS41VVVVVVVVVVVVVVVVVVVVVVVVVVVVVVVVVVVVVVVVVVVVVVVVVVVVVVVVVVVVVVVVVVVVVVVVVVVVVVVVVVVVVVVVVVVVVVVVVVVVVVVVVVVVVVVVVVVVVVVVVVVVVVVVVVVVVVVVVVVVFKiAMAA9sTW1UW0jmFyLvtI3hhL+4QSfBQc1ydmIOl9BG45EJpD1X5r2tIwB8AWEAEoaA6MNhwTIYBoAGGCHg+SDbwR2azrddRslWij/+oa4oIIjgQOhWTI1AMNj4xTV7mQGAxSN8aYGCAWBu2xga3IAGHACGJhZJBi6bI6RiOUBjMQEVZIh5Lf/zAnCfPFkL0AElsDO5wDlyCGaYDg8AcIiaJtRZCAOh76tEO8GIzZakwKBwHEVzYiAIQoBiYqAoRhUSuZnCiv/8zF6CILFuYAoMCr6w9k1BgEEsppKQi1NYblDQ43FYAfcvysaYGABr3Kw8lYknwgJYcrMhaWaZaQhAEtFlxmJZgH4ACYDqA6mB9ArBwHhW8YOmA4mA6gOpmp8piaBxdFrT+z123zOvbz1hhh3//////9thMEgDMAScDg27u7UVsMBiTV/Lt67qbiDMzDwbgcB5gACBhaO5rxpZogBYsBLQoTPWe87+9MBMThDaBlWQwU9l///////6mXFhqGWugkAgQSJ//uyZMYB9sBgxssfrRAAAA0gAAABIG2FEM1/tAAAADSAAAAEuQDwKFVXz83xGPAYFzhs6qsyMKAgFg2s93gsoDAFA9inZ4CBmEhpnqSTiMHjFlUEVX7fyUU9Sx//////+8ILgkIDLHaiRiWAcs3//qAoP4pMQU1FMy45OS41qqqqqqqqqqqqqqqqqqqqqqqqqqqqqqqqqqqqqqqqqqqqqqqqqqqqqqqqqqqqqqqqqqqqqqqqqqqqqqqqqqqqqqqqqqqqqqqqqqqqqqqqqqqqqqqqqqqqqqqqqqqqqqqqqqqqqqqqqqqqqqqqqqqqC8wACkAACCGmUK234ZAjggey6Juu2QZDFmvO2I6Pw8Dos4dFdjAF4M7dROQArMIQQgIADzAGAJIwAIChNDfCwTA9wEsoBJzAXwbRE1g0Vl2OXDKktFFGpH/1jPhtQNREBIZkg7okSAqHhJl+o6LoAgIkEHSF0gM0UYDGgVAUAwnUgxdNkX6Y/AYLCxCJmAoYif/9zc8bF4xAwIGAMfDMUgTZgdCEGCGBbAqLHwDaxgm2kp6ywA8ICAKSJNCyQMJk0N8JI8pakv/1jGB9DWwEgQa6kkCgQw4ONlmWHoihgOYTmQVbotwAj2bF7zDAzdNWOIvIbDIdDulsZUuCgBc0KhzLCTTqSeYEahkAAMDXAnTAAgO47DoQcMKUAyjA9wGkwBYSFMA1ACkoW2fKL0nKTG3SXb9S7nnrmf87/6xyTJMGgKMBCcMhQBbPzGmWFMNQ9SxkXO4fYp2oGH44BAYGAIEmFwcGiMBAKs2UwxN3N///8dSdMOh5XD2oIQBbbf///////uPQ//uyZMMB9pddx1MfrRAAAA0gAAABIE15Di1/tFgAADSAAAAEVH4ak67AUPZtWFJQFTHYWzAAhUWUMJwLlNyuDQxTwtf++a7/8JQobWpL3cRqMZi5KCLQ0d+NyiJ0///////6zlDJwgFaTNQwwtA+KY0hsKpMQU1FMy45OS41qqqqqqqqqqqqqqqqqqqqqqqqqqqqqqqqqqqqqqqqqqqqqqqqqqqqqqqqqqqqqqqqqqqqqqqqqqqqqqqqqqqqqqqqqqqqqqqqqqqqqqqqqqqqqqqqqqqqqqqqqqqqqqqqqqqqqqqqqqqqqqqqqqoAmEAAAZAAAAkCmFXgttmBUJMEAQoGEVbU0kD11J4vGZ8QTAi9TuCEq0ItbFzBgH8UYBkZNwSCk08qgCo4BKmAsAXppFINSUBOBgPoBkBmbXAKCciROpI6nWzrpI//koKBCYmBxWJJFpmCICjD/oAYaE4mheElAwu6QMYgwQVHETpsil6ydAwCHBYMfJPv/V7FUyNSNDxAkJQMFDwPlKR0uEDAUBInA/TEombf6g1xutIuiRAYKNAceOepnRb/86L8L3pIk0AECBvJjQDAZMJFBaVBkxcPf4lEwEHiImFgkw4GJRUysJMHFB41MbJSIeOQKjDjMaYTG0s0sLMaIiUxNJIwoRGTFxQyGxopg5aZvYHnLhMAnGCEAvRgPIIWcgcGHmBJgnxgNAIaYCqGXmAWAGhVABWFOjEpTWuZ63rPneY1qtzPDOxfyrww5bzmDRgY7AT329V26GEwI+2///zsLnM3kJYMuYYLGBp5imlgU99vned53KrklOVTqoDc3Qv5R///+8oL//uyZMOF9lhdx2tfrQIAAA0gAAABIXV7Em3/lEgAADSAAAAEm8P+brzMkd4FB2QnGh6GBR36SH2shA4BRQaRjchqe//////qEIKaxvNwQcDzLpaMtAAaF8YpJXDGv///////CC4DAQalN1ZAVEqXLd23yR1MQU1FMy45OS41VVVVVVVVVVVVVVVVVVVVVVVVVVVVVVVVVVVVVVVVVVVVVVVVVVVVVVVVVVVVVVVVVVVVVVVVVVVVVVVVVVVVVVVVVVVVVVVVVVVVVVVVVVVVVVVVVVVVVVVVVVVVVVVVVVVVVVVVVVVVVVVVIxQACoAAALlAMfM4TM60ULMgLGGhxTwUJhh8xh0xAA3IgCKQc8MWONujNobBzknIGFMGdKmyUiqQ25I1jGVAQEswDgJDCZA2AwEoIAEMFcFYwVAnTw3S6MZIOswJwTjDAF+CoALRJLNXdbc8b1Nen/8sBjAY8POgm6lnTX86UAGmpaMgtUAZGAl1HONTiL/WKwBkBAgZJzQq/0TEWNtToJF0PWEcgjJkGNT5YIGHGhQGat/+oNQXRg0Gh5wGLIeNlHTL//RGAzHw1aO8jRtKZBcOMVIJOYoDGEAI6GCAPLMBgYBAEygGTRBSuYgGGEhptAAY6PGRjAOMAU/mWD4FEyRFNbDzUxUeOjLKI8mIIGAFS5gBIAAGADhgIYEede0uPmBzAfBgcIBoYgCI3mAfgChfV4K8Sm7P1eZd3jrL8vx5r/x3q6h0BobJAOClnav/8a1h////KX8NRg6WO+MiQzbYDDohiUgq2cuf/8fR+xZzJNQxKCACQLa///O801Ai7EX1qMvbDbLW//uyZMSB9nNeSFNepKAAAA0gAAABIVGBDg3/lEAAADSAAAAEYmFg+ICiakRBhQArBTcZGR+YVAY0OIZuY//////63BggDSNcqgF3kbTFcZMSBAwuBI7bh2mo+f//////9RYMuvLKdupikbFALVTBwAnMr2JMQU1FMy45OS41qqqqqqqqqqqqqqqqqqqqqqqqqqqqqqqqqqqqqqqqqqqqqqqqqqqqqqqqqqqqqqqqqqqqqqqqqqqqqqqqqqqqqqqqqqqqqqqqqqqqqqqqqqqqqqqqqqqqqqqqAgGAAVgIEm1CYBbZaYcHakIwq1Ywh8gHY8s4E4RhOGEghkZcMYk8XRBTYxJExCBmYCRIdDWpgevBIAAAQA4wPMCZN4DP6jBpQSowAgBlMJ0DEJBIbWPeen///YZ4LhgEhcKIctqUs633RcuAZqCw0TojQDEpDAaVwuUdxPpI+pZcAKUozU4QZD81Mi0CwMNqjo5ZIF8hwiIGAhoBq4egoNDEnCDgQCoXPChx3L//OARCAOBZ43GZEmAycAQRG8hCbL5gU1//pi7DzudHwBh4CjJFILqTyl4KMZIjAgEwwbFQxSswoUi40NFYeFQIwIBU5Bw4YuCjRUYtXGOJosnGQApoBSZwGGGphl6UYwIgZdJh0ywdWwb7ZmZqQWANTAPwO8wmkNlP3KiFzBHQZIwnwDAMSdG+zAaAAMOABoEadch6VUtLS0tnHHHHLLLLLLLuW+VxgDGGAgKGs0uCqKn7qAefr8vxrPq+ZrtClvmUJhmVqKYCEzgtSkNrnf/erq8jaIyQpp45PRH+//1JyNQeRE9+MaCGmvQyup/i//uyZM2J9rZfRTNfrRIAAA0gAAABIoF9CA3/lEAAADSAAAAE5pis5Hd0mZ5Aqtr/SERhseG5i0JUWX///////nKBAIh4vx16oZGQ4Y9zhiESJXxCWT8hou///////hNvkCiFPYNUM9iRUawQcP91wa///6pMQU1FMy45OS41qqqqqqqqqqqqqqqqqqqqqqqqqqqqqqqqqqqqqqqqqqqqqqqqqqqqqqqqqqqqqqqqqqqqqqqqqqqqqqqqqqqqqqqqqqqqqqqqqqqqVnCpW2oVBhICEASshQxWBV9IiKiSHApbRFY0y5AxKFgAzsSMDBDHwYxofMEKDJAsyYPTlCoILA5uC8awsmABgDRgIQN+NAgx9r8OMYLMDQGCqgS5idw1oYA6ABkwASy5s0Xr5S/Kk5Xz1hvD8+4c338+0iMxjkRmBCSalB8B2sPgG9/P3llAEaEQBMyLpdsoFQsZSawGZKZTuxrHLH//cwWACaiNqnql/Wu//87enRgBjwWh3DsWsQ9LY+hwMDl05urgEUG6S9saJpgUAAY4sU7z//////WcwYDABEb6adZcWpNMkkOWJMC34lElgqt////////1DoJDCKzSW4KXrnq3jACi9uTXv//+sGJKXgRGMWA3DTRXSvhkThMFXS76ds6g+cKzMbSsLcFsrg0EumWTQQrzMSDFWmGAowdDwBWYDOBtg0A5PN8eLRCD1mCXAORiNotKAgHFGpXrjTtudUXWSdaNKk6LKeudMBjgMGDYDD5bAzWChP5xBMc093ZEdQ1QhCAACpFKC5wFg4BktfAZLCJJGrs/sbhagDLpmN2b+oslEc0BQSIP//uyZNUN+FxgQgN/5RAAAA0gAAABHbWBCk3+tEAAADSAAAAEIKNFZFRcoXSAwAQwOsAADEALH4gI5QFAYCgGAUI5VZ//rAgAwWP5gUxaAhA4GMnWDa4zxAy+VCfN2/6kygM2DhCTjCMwCksJOOAA4S1G6dVMQU1FMy45OS41VVVVVVVVVVVVVVVVVVVVVVVVVVVVVVVVVVVVVVVVVVVVVVVVVVVVVVVVVVVVVVVVVVVVVVVVVVVVVVVVVVVVVVVVVVVVVVVVVVVVVVVVVVWZox0VRTUSir3O2t2KwdTwy7bQUAB6Si3B0E90vWttAhKCUwYBVVLVg4JEQEIRkgATgsEYmBlBwR/W8yoYSSHqGCfATBimQ24YF+AFBgDKPADSbDF3UhuO01m/Yzqb1lj3meG9Y41plRYxcxMA0QNdse5rGJzn4b1vG7RCMZNt1igBaUsk1GRNBGlYX6ltrHv/jlVKoMcValAtJu//P//5PX1VjEwfDeEPyOQRZ0kCyq1HnZ5bZpMGQKjsEK5iApGbWP//////6qgkDGoaZjTkg0GNsvg0GfmR160E1f////////GQkwMJi08kab0KS1RYSL4Gu2sv//+uZaCOhojDV4sae+dgKcg+Jr+Ym2gyDA/TFg9b6ekTgVojK5WvkvimWWoComYIVGAOgK5gRAE+YC2Han+GVzZhNgSmYGYBZmLZjmJgYwAARAJZWACLjbyL0mGeGev3/P//////zpCqAQ5bGA3WZrHiUF/eodov///+Wy4JrJoiQgZkXnMvL8FElks9zv///rZIDjVLkahdxt1+///uW1Kxg0CQ/rdiAIBhpryV//uyZNKP985gQYN/3RAAAA0gAAABH1mBBA3/lEAAADSAAAAEpisOn7QQLH5PmBpEykxmBAoL363r//////9bBAhDkFNxBwwoGjTMgMiBZK9yIxG4csd//////3g9adoQamLTLTzL5La03cAgqbzk17///qVMQU1FMy45OS41VVVVVVVVVVVVVVVVVVVVVVVVVVVVVVVVVVVVVVVVVVVVVVVVVVVVVVVVVVVVVVVVVVVVVVVVVVVVVVVVVVVVVVVVVVVVVVVVVVVVkqXRmZuPAa/7FfKxnUp3unrjdzxFBcqnKgLSnJZmsZrsAJrP8oOWoAo6YAMAuGASgkIqEpn0K1PhhGQTqYOiAqmMRDXBgM4A2AgBBVdkDvwdTY012xTVeZXe467jruOWsaZJUxIODEyxMLilEmfu0FPO/rP9Z25QIQebNTSw8CI3GFk4EH1WKW2sct/+rscWMZkgMKpI+09/P///XMX8YJLMvstRi0OuCQgAQN8wsrC1bMoJfQUESapicJQNe7z//////nQaDwgDTkdaUQA8zfFzEwTU2pcpbD09z///z7+G9QGjISgCB5IjKZIKjNcSYcUlQf///10oKBDaxQiQmTU+Pz9d+2SytsjOSUGOVmUK0UzDwhDmXyZICQtAMWdL/KjXIoGYUHGAHgJpgQYI2YNcEkH9rahpgQAIsYRuCbGPSjvJgMgAoYAKABsMct2NxjXaTDD888+fnn3/w//0o+YxHIjS4sU3zimFerS6/VSXVrEbXSciLIYAHLQwMXn5MuT87///Ma0pXIYZhyoZmuDgAkx3//8JXJywAgcDXtx1Bb4ySZgVNYmN//uyZNUP971fQQN/5RAAAA0gAAABIDmBAg3/lEAAADSAAAAEp9ARhhMV+4j7ioudgyAAkmb/O//////6ugwZhgBk0jeRYc1UmyiLJ8O/G5Q9df///09sPz3PlkoKgMCERhLlEzKZvb1shgsD9vSe07///UpMQU1FMy45OS41qqqqqqqqqqqqqqqqqqqqqqqqqqqqqqqqqqqqqqqqqqqqqqqqqqqqqqqqqqqqqqqqqqqqqqqqqqqqqqqqqqqqqqqqqniEZAZGIBwU/dXkmmqWWwRK32dALCZk2MCQMIDwgxb19ZiCWWKAOAJATxioAVQlehgjwAAYDWAbn6r71RirgK0YPYDAGQADZBgQYAcEAHIcAFNWXtJpXPRru6tLjzLHHn5Zd/eWcoEIjMFhoLp0LABj16xnydsa+tWlt+cSPORigiBTyR0wmZQUDqtNjl/f/LcFLzMVwseAMuuFgML8sc//3HM1EiItUXN0zfRWHmVLlMBqA2moyAANJlUPEgiMKAQxSL3zx7//////+q46HQwJwPJG6iocMP2gwSGFixyxPRWi7/6+YlceitSGJbEF7gIGy283UxcglCVFzDIKkF6BL3///W/wEMh5WTJaHvBl2FqJZbdSFEgIaJbxlPMiE2DPQzNn7dGDIzq2iMGGBkAkhgAABmYF6CjGCrBNJ8VW4KYHwComB5AYZj04vuYGwAdmAggBwQAYl0k+Wp2YYpe16fP9YZ9/DDn77rlsLBMy4DiFkmEANCa2+0lFzn49rUsNCgJOSExOWgT3MGB0SFlTev///mrsaMmPBz94KBNrZ///KMzMeDh5E8tzD+RupL0j//uyZNkP+CtgQIN/5RAAAA0gAAABH5GBAg3/lEAAADSAAAAEDDpHO/mgFAdljvrUCoARxLAwgfLf//////4U5c0HAqFTsDJYBDvKIK678Sibgyt///z8pluVHSTEgQ7g4Hx+ZgoxuhX4lpi4DvZOV9///9VMQU1FMy45OS41VVVVVVVVVVVVVVVVVVVVVVVVVVVVVVVVVVVVVVVVVVVVVVVVVVVVVVVVVVVVVVVVVVVVVVVVVVVVVVVVVVVVVVVVVVVVVVVVbmZCRBUGEY48leOqefhp8FPw/kJgV0jq4wv2JD4YCISGopMLtDANPZHNG4ZCTBC4wc5JAGgwMcFrMH1GHj2eezIxtUEOMGsAfTIQhfwwPkAgBQECHADycKvopI681ll+OOPPxx5+ssv/Wdgw6RRE+QEsYT/M61F//ljjNQSMgg2Ody+UdjpgYwCQlprOXP/XMMZh5DQ8Jh+5dl0R5///JdLiUACICwVvURdWNP6w0QgAwgkTqxmMGAVXUOt/Rp+GMB3T2////////8mwQiYj7RBCFxSYkIfbhDcvnJPR8//+IzE58OS6DaNrhhUBR+nHQKYfSDL2RGIwC+1Wetf//9b0hyaWZMGJS3qLcEMilCciwUbkiuUAJABHvFpMAAkGRWX6tMdC0VyIBGhZL56WWGMuxkZIFwEEwPwCnMFGEPTspu3sxTMDxMDwBEzIWxVkwJAAGDgDtKBtnVe93I5Zp7l6n1zPfcN9w33DLGs9JkBcIu004YaD2Yg+GJ3v/vWVmXDAMdBdM1hTODITIoD7OW+/zN45DWgNZZ3X1BkZ1V1v//W8KZwlYoHvap4H//uyZNaP+AdgQAN/5RAAAA0gAAABH4GBAA3/dEAAADSAAAAEllHJEtwIoH8VYgAGdyyIShd5o4M53O////////xLGzLndUGOibjRwRbsjrzURq///vT1zuUFXoiz9ZRWIOzHVLDCoGLqzgkMge3Jrz///9RMQU1FMy45OS41qqqqqqqqqqqqqqqqqqqqqqqqqqqqqqqqqqqqqqqqqqqqqqqqqqqqqqqqqqqqqqqqqqqqqqqqqqqqqqqqqqqqqqqqqqqqqqqqqlOjGQwFERiYcX5KAtTesvdWplSP7LVpslDAY+0BDCIFBwUBl3o5A4wMJICInMEDwweAoCFwA0x+NVFSABqMBsBMzAKQQA6c/wmMHbCmjBLgDAyN4SSGgK4iALUWmKt9Ibd3LfNf+v/////esuX1gDBQXMLI8OvihNuafqAJ3//+Y1o6MiQzG5X+qzBhIssqpcufvVC3C9KXbRYNwrUmJkisROi1///0l5TtKi3rc1GozGn+UxMFiQ7KJwUKl6w86NVEEWPH3+f///////91djjdxAGDKsQCFQ0uGKSfjFjv//3Iw/Hw/ep55lAkNH9gC2Y5PBQB1oDxJeWpb3///10T0mBAQJBR4FUDcCRJVsATnLrQJAK6gUEnoJxiYuBjUUATDAplpjI4JPoGIx0wRoJg8BD5upsXuMAhAESUBcME2B/TmEu/MwbIIfMDCAoTI0RFMIAyB4AXXDA0tyzv2bVLWq6zw52kpJu/vXe43MA4PBJ6N4LLLedaDOc1+GertJSgXMZfGGtCMYKASms5c/eFFfm7QyIH+JiZr2RuCKLPnf/VfKHB451n9mEU//uyZNYP9/1gQAN/5RAAAA0gAAABH32BAA3/dEAAADSAAAAEcAvyX0JXk3WKQQuhH4aYGkgZeIwBZyx/9Z/hz9c1jVppS4S+Taa004JVinbkphq1//39OnK/k2UfZUzsuDSS1Qw051QJpOAYPlXz1////qpMQU1FMy45OS41qqqqqqqqqqqqqqqqqqqqqqqqqqqqqqqqqqqqpxUdBRkUAwXDXSZOsA4b9qvRpLzBYIaaOERwr+XTBQeOE4gGzGg8qiZjAUZOKGWlRiweYEPmYlokhmAg6WBgGYGsYIMEnHDG/OBhkQIQYEkBfGRjB6gcBnjwAwme8k9FI3vmesPz//9hD2JWa///858x8EiARmmAPKoVqw9U3L6a9+ONybrmQFiyiWQABBYHBu1UjGFnWUE4VZmADgYfDhHxTSRY//6nKST5Q8LDPGnqPDG2wMFGQIpYAgydGAxQOWpUUCEALMDAMQiZptzHX6mqP6a99BJv/eFO4CCcyguwhbtcidekldv//f3MHzryLtSyVQOEFN7pl3jKZCIhfeC4EgXs5z///rU3EQeYkCmQAocGpYkxuJExAJKeHAAdBhwaMCEC1gCCTNqgyshMENww/MsNDBxABApg5AZIdAmQNJYzSaUwTKUBLxGAZgZpgbIFoYBSDkm6de3JgEYGAYCqAhmSNhkpgNAAKGAGQGAFFALT2yylj81luzha7lctGFgokLvxnz94V0GDCScGpIDbQgDZpE8XQjMUl/OTX3ZskDToaZb83MGEiwcLZ0ERtxbB3pVIP5Lj5gchCgMCLsjdDP83cjcPxSwtsto7s/FJa6TLH2FQsIBS//uyZO0P+ExgQAN/5RAAAA0gAAABI/2BAA3/dEAAADSAAAAEVmNFmUEj6yRlY6HmFhBnA+5l/n/83Tcgn9SSzutP3ZU+ojAjKtwx8GVK9EOdlNL3/w/sDXLsIzmoq0gDCS64w/ZriKTDbpAYhkOFvv///VUJYAAAAJSMgCz1EzHEYZECESBqGJJQFCxYPBo0YYJGBGZUHkexVbAQQaobmujYyEGgAZh5OBls04qMwVTVRQ4dbNGgwRhmNsJgAwEiYEUCQmA0BExq7up8YNqAwGBgAH5jpQOsYDiApGAcABZgDoAEYAOAwmA/gQZgNYAShewN2oOjfa/d91edsx4yJjp7cuf3eSiwOFjABU5AZHB4eBadrbMHX1v+Y5VX2MGCjsluljTspLpB5RiQWLszTy2lqRMRBB1JkzlTAMIFaErICs0nqPtMguaZ6kTYvZxKSR+HxwBMOCRgHP3SAgbgSvSMbMDBCiTc6z3/+Zjdi/3Uo79ySZ4X0lTYS4IlQEboWSyhllPf5R/9yQ3uZ6p6rPiYkRdLTDwoaOTM2dIWC5FsaATaZ7PBmA2mGUsYlQJmAuGYwSTPUz2NDRpKMiIsGpYxyfTNw6NHi800AzcYyMtEkygnTFRoMhqE0ESgi1mzBucLOxpJ0mBH8ZYmhtFKncjMArGOguphC4cQYawT8mJ8XL5hoQTIYJ8BaGLxgNBgeQBeYB+AGGAGAC4iBAjABwNkCgGjO5euBluPP3/6rxEwdKYHF8M9f+aOgCEAoWHTDJlJ4rmWNzLbt9vu87fM4cGhY2tEakqm5ZACtCsSitZZ+veWzNHXfQvuYNYhUUGgseJB//uyZP+H+W1fQMN/3RIAAA0gAAABJoV/BA5/dEAAADSAAAAEIDAw85v2aRkpMENcse1+venpLMrzb4cFDDysBKgPIFY4HfKinYyY0DQL+eub78RtfhSc1Ux1jEhQJMWJzWAQaCiIUvTMSjV+pf33G5e5Ty+Jy3J8XkZuZMLmEpKjLeMIpbF5BAGAAGcCB0YmCAKWGDi2D8Ic33lcHGYOgYcXvLYJXngJA6CBSIiLIJjCugCVCqs2IUQNQAzEUkysU0bM8dgwDoCzMDFAtTACAg4zEyJoMD5BXTAWgJkxRIF1MBLACgMAIqBmAGABxgHoBQYGQASEQAAjYioHArlUtuvUvc1OMhT4kXO/vuK+jFwcwI+CHxCrKkZ+MA2efPqf3aSgIAzciEs4EBlO7L9cll+nTvtTlJlTx90DFpxBIwEUFWkMnr0FaYd9jqXvHrSa3u1UnyQBTvMBGB4eHSo0UxWU8Mso5dKgaHwqrMcv7y+pz+2Pr16uU3QNVHHEWDVFF6xaippFqtyp/50PKXCat2cUGGeN8YcXDQS3RXNJeHmVgRjwYCwQxsEQZDHUVEYAMWBTAxEIB0BBggcDQEEAoMAzjWMiIzFDkOKACLgYuGBwwMPNUITCFk453MbQjBBMzthA86YByBSGDwhghgfAKGa/XsqmFoA6RgMwFMY/6GHGASAEoCACkzRAAtGBTgQJgUQFeGAADgAIGX/OWv3/700Yvk9ev/f/gQgJhY8Z3RDz5AE/Zc0xwTo85JUeDOL1BGQGBj53ZUnkizRQXIbEvtv0ghTNlnJ2FPBeN72ygrUNBwqu7T6wi5RjAaogYGAShRca//uwZPYF+MVfQbNf3RIAAA0gAAABJlF8/g3/dEgAADSAAAAEAKKKcszpYBzBgEEBoBCjCSs89QYC0x/3ImVFTBxpqTizUtw3LbEaj0gqxCpOQFAa14rVQrNWEgMzhcATgr0TkyPVDel1jVK/UgrXJVKmQNEQXGg16jI31lDPh4yiFlMqTEFNRTMuOTkuNaqqTtWGA4ExR0wCcWZAISh6pNowseCgN6S+ZABMERPtgMoDe8yA9rBcwOEmLGoIAsKNO1MLMPfbDRg6pMANAHzBUQT8wDEOINt8zcjB6gA4wH8ADMeYDTTAZQBAMACUvjABQBAwBEAIMAFAAGLR2GZ2lrY5czzwpoal1rnec+u8IGCTEnYvr2xZYQqZvpfOwxnhJJC3JDM7wSe2dxtTfym9bhMG3KSlh220Q47QHiYDGqpTGQRr7+0LgxYhE31YDKJU8kO5O1IZmItZdohCBUfPYUBIZd6zDclcEyoPduAHwxz+7Zqwuz9qWS22+iEMPOmxAwu8EAoX4WBgh+5bW+L3YtEaCVUk3IJFJYzKiIIiJQBofgF4qt1GASdwor0giBTPUkGB6l5hwckcqqWgL9xNaa43+ZWg6OhhhsiBQEDFw0VM1GgELAwGOgqFgQjNCGzKzcDHJoRGYOcGBMAL4UAtTBswqM5QPqLMDQAvjBTQFAyEEQ6MBcAGQEAVF0VdNrIrFbH+8/9f////9yzVv1FZTPRMKWwEDpRulgN5XflUul+NLFpS/pIDHyuqo8aaivV484Fq9F6WOT3bT+nZ1IKFF/P6XNc9+aXOCUMaDuVoIA3emK0Dx+UO00hiRhaQcMlvVE7/+7Jk8Q/45WA/g1/dEgAADSAAAAEirYr8Df90QAAANIAAAAS0QlLchJ2b+XTUUopfQ3+RK/nOVLESlRMHwEwJTEz9LCHVTZL63JYVT/DEbmalK3Gbj+U3KIZbGvm6tUQBBrDWnBKgEW2bFHldp8IxFP//70xBTUUzLjk5LjWqqqqqqqqqIBEwwvMtFDGhoHBaAuPGCgTkv26DA3cb1YYdETb7AuGLA4kWIKw267RlxtbQUBAGiCNCYCDDAqwPgwCkClMF0DVDszvXowccDjMHjAwzJKBZMwF8AwMAYAGQCABKYv9FYtWtztNnZrb5jruOu4xx0Yq9FIIwKYaFBg1ZBYGto/8ZfuD3WxtxqJasvreTcNbKxWF1qSRU77vXTSmdhyxnR5yUKgI3QVFyPVH3R7rW4DfR+72LuhUDPLKZuthBNA+0SC4qOChMv00173Fr2zHgOn6d+YQ371RLKORSjob9l63ndEHAC/NINmJlOEBNqMy4cok739h6e5x9mqZxqBaOho1USILQ9iMgYzKcFPP0DhmxazarQfBtJ8hwHf//QQgwlUBg6Y8wjwqECU2SC8HNAXNPKAK2NjAgEelIpWsWCC9U6tj1p+srAoIhPVCuooBDDwswIACjMA5ADzBmw8A9I39HMV4CSTAigcQyY8ZmEICKDQBRAStp2ZJK6ks1vPPPus8+/hhhWg5szmxEcAJhwUmLGcUJ+O1lxyKkbtJakJqSGDdsUJQoajd60tQaz5cwGBMBuy+8M34dlNqOyhtTippV7GF/tLh93LEph2hhyXUMSAQhitp3J2Uvs9bkqoGBS6Y7Lyqb7Om5TWxkHCP/+7Jk9w/47WM+g3/lEAAADSAAAAEj9Yz4Df+UQAAANIAAAAQWtDcuKSmgistl8AMElFLKXKkM/KmDQ09a8jIywDDFDPvzuRTlWH4H7G51jLqyCH+OTRR19nZliwJoQwpws5LLNCpZNBeVDFHabHA5v//6akxBTS8xwpiMBxoZGYWCA5UjqaCmzT2XrpTCZG2i7j9TAvWHCZgQU7rpq2l00vn3CoSpojAChcaVBoByMEIBUzBuwUU83rhmMOfAgDBCAWEyFwaPMAlAYhgAbEIAMoq+DcZBhbltLj+WWX6yy7+MxNvw/94lAZhsJmHW8PI5yM6FocvhqAaaDoy+kjtx4Ci8xVAG6vtTvzGTBISdyKPRBECOjfp5W8i0jgQKHgG9FPnYhuy/U80B/IBjSWxWB2LPxD75SWGKR02DmAA+b8A40DXSiBdSZpDEomftpslhzPJhrL3BcVqsory2QurGIrBDExAADJZ8CBw+8HSaG2mO3Cb0DYMtiq6HjorM1dxhT7R2UsJNGkxM9dJENJRyUQi/Swj32kJL//6DLRMCdCoBGMDIsFFQJe6WqTYQpW3r3IqoSCUZPcJhoARGC4KrQwwtOBgRQuCiyBelQYaDBIOMAgAHDAvQFowBYD4PSvvQTDhgaQwJ4C6MdrGfDAUgFUwAMAQQErBOLAFWmfiUSzlenl9vdent9wwji5pY/1MIgU0QsMGtjaRNlb7snk8jlct5G5FZlk0wMeATRuVgEFPu+7YS5LUI1NPa7UNU0OWIkIgo9dkCCifi8lcKI5wzG3lfmUUERMZBKGWMhdiLYySCEywYkGas5ggBdUcEYXG500D/+7Jk/g35JGM+A3/lEAAADSAAAAEk1Y74Lf90UAAANIAAAAQPgd/ockeblP7FonWdmMSLkfdaB55rcGTJid6LCr1P02aghqRRWBH0hxkVIzeM25mdkMCyNWmmpW4nQEMjYsNDz3QxJ5y1E4FjdBTWv//31UxBTUVVVRwMMkRAMfiikCg8MloKqsNtxdGyTiEAe9NA7F9XsrGFQ4vgiKxODUMWIgUMHgpHkDAwQKmAbgFRgNQBqYQSFbn8SZLRiCINuCALkxw4d/MBpATDAFABcv8kK4VLGqX+ZZZdxxy7+8cefrHVcRCBgBmZLGHAiDT3RkTqu5DVSM+8sapHTgMkBDl+wSE6CHYo6mpRAj9QiGc5XKX0cCRHzUIYKyaYmIejMUuU7vaszjdRYVrQuRtKdJrNyG09DBSs8UwCDdM1xwqGLWY2TYaNTv0ctf2ped2P34ecCC2HwS7U8gEnqBpxnBCJP6ll/b8SpxaWhlc1F6rJJE5csmHJlS+x4Lb+HW5HLjw8DKyl6oXDr1O1hCYddZsL10n7yvW7f//cShxM3mECg9DmBCCMzutKXKIREuuvSH4m4BYDTQIhBCGB6nBcVmy5lAguApGS9QMeFiIUMjBTAMgAowH8CDMFyAmT5AZPMxIQKYMEmBQDFfRrgwDQBTCoAcVQAEgABhIAAfh/8IYpX/1N2oxYp6fuG+/n3PsYZgkEIlo38BZdKJc8Lo7d2URqCnskDsWhgKOgs0k3rhymcuNUtNAkUirWaKkisoKgYdnEPK9d+mjcVux5rWU1MUzWkO8WnXRzppilijrDCeZYhJYvdEVNX9HAUyQiay4Ua5H/+7Jk/I/5D2a9g3/dEAAADSAAAAEk2Zr4Df90QAAANIAAAAQr8HyeAI/N0z4YOvFZSWbghoaCIGSwCEnbeWX2mfwD1+Wn00quKPRJoEYsxilVRIgO0yNKU3gOVE9bkug88UgGhikAQzC6Kd58tjsYkf//ekxBTUUzLjk5LjWqqqqqqqqqqhAf5QMzSc2ggygBNWKvPYVlSada00pupKCMVvSXUCdZfDkMAgFyCEWzcyghjpdIFYDAJQAcwDYA3MFDB0TrFlqYwLsFlMDDBYTDeBRkwGIA4UTUNMBHANzAIQC0wCMAtMAJADwMMgoOGg0umr9HiWOOpQrtK97p2RxSWUmFDKn0IAAygGMNGibHc+HpZdmZRL952p+40uJuMdewFAe/kMSp1pFTx2XVY/EIOsSqPO0blLtClFq9PwxA8Bz83MQfSKZiQfJ6evSyecikMz6sBsAy8l+HIGjjwFUZkUptUlitZrUn3J6OW6GYgNYSZo6gQnCRQ5Eal12PXH+nIfkUvlEAy29UfirdZyrFNxt0gyDdiI7p4rTOZedOc+WQzYz+NT1LPfM/xCqYhY4IxcuYgyXWKBRZQHHlwEG0ykwU8gSMJBgYsEAIghwwkQYYYgSBhoKuOEIipHsjSEMCkBMcAVAoRh+cttmF4AWYXISBiIjtGASBqHAPCAA8wCQCgEB4xUHADw8TQg4YMULfozIITBAIgQ4guOhgvFnTaw87rbqbsgcFlzI09wcc0Vtlnssct9IDeh9X6bRpjX44/pyAyB245V+glr3u5Ab1Pq9zbuRE2wAGiPQLPSCMPvEpbPxSVySQw7HrEblE3Kn9kTz/+7Jk9o35IWc/C1/dFgAADSAAAAEjCaEMDPs0SAAANIAAAATvxGhZfdqc1yaWNasS+GKsunZynpLsxdrUsjfudm61UcLjsl537VjtShlUtlluUTeWMus25fYq1gwCGf5btWLdJXuV7dmKU9Jnapb9JdlitUxBTUUzLjk5LjVVVQFWd4WUAAa7apFYvaKgAqAMwwLjG4NMxAcyuOjKh7MRIkxUejOJDFsSbLOBppcmDyYKl0yEQDkAsOrpQ5hJzXd2GSuYsIRlcLmageYTAhg0NCISmAhEYlCIORJl8qGfKueSg4JTBigVGbZnMBmnKGOOjpYCiwUQKD4GLAAGIwgqBQcRLL8l4kbU7TQPDijTlAzdpjPNQC0CrMzSwDXDejDWKTHshlcEOA78S5NsgzWBxkCGAJcmkA0xlFg1AZPMEsIkGqhaE5aiw6AEgNGLUBEJolGIySMGKWGSCVRoCmKcFUgaaYwAY+cCIVGEBYwQBRQ4sWZMkAAEjJQhFBQBEmJImMKIRCwODAA4ceNBRQEDEYxAIWnEjDREL2iEIhDLqFvx4MBKg0IUFFAi35QIJBFxUMU/lM1YFalLUxk0U/FbFRqRTCTlSWV2xBb6dSmK+mFsMZOt1OpTGIxCNyCBn9iUlhiKSKHX2gmMS+cno1EZJK5ZRy2NRGhlE/IY1KY9K4peAAAgDUYYC+kPwwy6ma1DztUl/HCVuq5TAV9KPMPaY1JLkuUXlSeWSxmGLjQwUCDQEjTFcEIoEhABwkmhCzp3lbUtk7RgFGxa7VoXCYepYlSQ+7tSelDLlbV9LKX2xBvxYTBkRDIyIDZmX6yqaR1h5kX/+7Jk+YD8EGhI+5rNoAAADSAAAAEYEaL9LKVdCAAANIAAAARBUaGiMkNstK0rcJf7FEqmpNjWUSqSS7D4y/9XCeSQrFTqjbD2ZKrJTdsfKNLJwm7UKIqdUbdsZXX2ONRFMdnNOVTHb65ymygA4CqNQqLlxUxBTUUzLjk5LjVVVVVVVVVVVVVVVVVVVVVVVVVVVVVVVVVVVVVVVVVVVVVVVVVVVVVVVVVVVVVVVVVVVVVVVVVVVVVVVVVVVVVVVVVVVVVVVVVVVVVVVVVVVVVVVVVVVVVVVVVVVVVVVVVVVVVVVVVVVVVVVVVVVVVVVVVVVVVVVVVVVVVVVVVVVVVVVVVVVVVVVVVVVVVVVVVVVVVVVVVVVVVVVVVVVVVVVVVVVVVVVVVVVVVVVVVVVVVVVVVVVVVVVVVVVVVVVVVVVVVVVVVVVVVVVVVVVVVVVVVVVVVVVVVVVVVVVVVVVVVVVVVVVVVVVVVVVVVVVVVVVVVVVVVVVVVVVVVVVVVVVVVVVVVVVVVVVVVVVVVVVVVVVVVVVVVVVVVVVVVVVVVVVVVVVVVVVVVVVVVVVVVVVVVVVVVVVVVVVVVVVVVVVVVVVVVVVVVVVVVVVVVVVVVVVVVVVVVVVVVVVVVVVVVVVVVVVVVVVVVVVVVVVVVVVVVVVVVVVVVVVVVVVVVVEAF1tJlJTtmXRmVRGSR+UTFPOT0thqAYMgOJxiLwKpsjylsn62BsDhu455ektMFiiqBxIgWI1DDSRQjOFAF30HEw3XkMqoZRT0U9SxmJRGSR+US+co5dKZVMySJyiXyyil0plUzQTdJTuRrLMvs8yZlBVHI1VrH/+7JkO4/2M3Kh0wN/sgAADSAAAAEAAAGkAAAAIAAANIAAAATQyZrHQ1ZVDAwToZMyyoZGqyxyMjayoZGSyyz/fxnH///////3q1YTCni/EpJ8SEoh7kwJGTwwC/xJ4r5tbmtrkhwI80atoUsC6IGrpEg1SkxBTUUzLjk5LjWqqqqqqqqqqqqqqqqqqqqqqqqqqqqqqqqqqqqqqqqqqqqqqqqqqqqqqqqqqqqqqqqqqqqqqqqqqqqqqqqqqqqqqqqqqqqqqqqqqqqqqqqqqqqqqqqqqqqqqqqqqqqqqqqqqqqqqqqqqqqqqqqqqqqqqqqqqqqqqqqqqqqqqqqqqqqqqqqqqqqqqqqqqqqqqqqqqqqqqqqqqqqqqqqqqqqqqqqqqqqqqqqqqqqqqqqqqqqqqqqqqqqqqqqqqqqqqqqqqqqqqqqqqqqqqqqqqqqqqqqqqqqqqqqqqqqqqqqqqqqqqqqqqqqqqqqqqqqqqqqqqqqqqqqqqqqqqqqqqqqqqqqqqqqqqqqqqqqqqqqqqqqqqqqqqqqqqqqqqqqqqqqqqqqqqqqqqqqqqqqqqqqqqqqqqqqqqqqqqqqqqqqqqqqqqqqqqqqqqqqqqqqqqqqqqqqqqqqqqqqqqqqqqqqqqqqqqqqqqqqqqqqqqqqqqqqqqqqqqqqqqqqqqqqqqqqqqqqqqqqqqqqqqqqqqqqqqqqqqqqqqqqqqqqqqqqqqqqqqqqqqqqqqqqqqqqqqqqqqqqqqqqqqqqqqqqqqqqqqqqqqqqqqqqqqqqqqqqqqqqqqqqqqqqqqqqqqqqqqqqqqqqqqqqqqqqqqqqqqqqqqqqqqqo=\" type=\"audio/mpeg\" />\n",
       "                    Your browser does not support the audio element.\n",
       "                </audio>\n",
       "              "
      ],
      "text/plain": [
       "<IPython.lib.display.Audio object>"
      ]
     },
     "metadata": {},
     "output_type": "display_data"
    },
    {
     "data": {
      "image/png": "[encoded data removed]",
      "text/plain": [
       "<Figure size 1440x720 with 1 Axes>"
      ]
     },
     "metadata": {
      "needs_background": "light"
     },
     "output_type": "display_data"
    }
   ],
   "source": [
    "train_x = train.drop(columns=['precio']).copy()\n",
    "train_y = train.precio\n",
    "model.fit(train_x, train_y)\n",
    "features = train_x.columns\n",
    "importances = model.feature_importances_\n",
    "indices = np.argsort(importances)\n",
    "fig= plt.figure(figsize=(20,10))\n",
    "plt.title('Feature Importances')\n",
    "plt.barh(range(len(indices)), importances[indices], color='b', align='center')\n",
    "plt.yticks(range(len(indices)), [features[i] for i in indices])\n",
    "plt.xlabel('Relative Importance')\n",
    "ping()\n",
    "plt.show()"
   ]
  },
  {
   "cell_type": "markdown",
   "metadata": {},
   "source": [
    "Podemos observar que aumento la feature importance para la ciudad, el tipo de propiedad no se vio afectado mientras que la provincia decayo.\n",
    "Por lo tanto, probamos con solo utilizar cat boost para la ciudad"
   ]
  },
  {
   "cell_type": "code",
   "execution_count": null,
   "metadata": {},
   "outputs": [],
   "source": [
    "train['ciudad'] = df['ciudad']\n",
    "train['provincia'] = df['provincia']\n",
    "train['tipodepropiedad'] = df['tipodepropiedad']"
   ]
  },
  {
   "cell_type": "code",
   "execution_count": null,
   "metadata": {},
   "outputs": [],
   "source": [
    "train['ciudad'] = CatBoostEncoder().fit_transform(train['ciudad'], df['precio'])\n",
    "train['provincia'] = CountEncoder().fit_transform(train['provincia'])\n",
    "train['tipodepropiedad'] = CountEncoder().fit_transform(train['tipodepropiedad'])"
   ]
  },
  {
   "cell_type": "code",
   "execution_count": null,
   "metadata": {},
   "outputs": [],
   "source": [
    "train_x = train.drop(columns=['precio']).copy()\n",
    "train_y = train.precio\n",
    "model.fit(train_x, train_y)\n",
    "features = train_x.columns\n",
    "importances = model.feature_importances_\n",
    "indices = np.argsort(importances)\n",
    "fig= plt.figure(figsize=(20,10))\n",
    "plt.title('Feature Importances')\n",
    "plt.barh(range(len(indices)), importances[indices], color='b', align='center')\n",
    "plt.yticks(range(len(indices)), [features[i] for i in indices])\n",
    "plt.xlabel('Relative Importance')\n",
    "ping()\n",
    "plt.show()"
   ]
  },
  {
   "cell_type": "markdown",
   "metadata": {},
   "source": [
    "Sorprendentemente la provincia sigue empeorando su feature importance por mas que se utilice count encoding para la provincia si se sigue usando cat boost encoder para ciudad"
   ]
  },
  {
   "cell_type": "markdown",
   "metadata": {},
   "source": [
    "Ahora probamos con crear alguno features para verificar que nivel de importancia tienen y como afectan a los demas features"
   ]
  },
  {
   "cell_type": "code",
   "execution_count": null,
   "metadata": {},
   "outputs": [],
   "source": [
    "#Agregamos la cantidad de publicaciones por mes\n",
    "aux = train[['mes', 'anio']].copy()\n",
    "aux['cantidad'] =  1\n",
    "aux['cantidad'] = aux.groupby(['mes', 'anio']).transform('sum')\n",
    "train['publicacionesEnMes'] = aux['cantidad']"
   ]
  },
  {
   "cell_type": "code",
   "execution_count": null,
   "metadata": {},
   "outputs": [],
   "source": [
    "aux = train[['metrostotales', 'tipodepropiedad']].copy()\n",
    "aux['metrosPromedioPorTipo'] = aux.groupby('tipodepropiedad').transform('mean')\n",
    "train['metrosPromedioPorTipo'] = aux['metrosPromedioPorTipo']"
   ]
  },
  {
   "cell_type": "code",
   "execution_count": null,
   "metadata": {},
   "outputs": [],
   "source": [
    "aux = train[['metrostotales', 'ciudad']].copy()\n",
    "aux['metrosPromedioPorCiudad'] = aux.groupby('ciudad').transform('mean')\n",
    "train['metrosPromedioPorCiudad'] = aux['metrosPromedioPorCiudad']"
   ]
  },
  {
   "cell_type": "code",
   "execution_count": null,
   "metadata": {},
   "outputs": [],
   "source": [
    "train_x = train.drop(columns=['precio']).copy()\n",
    "train_y = train.precio\n",
    "model.fit(train_x, train_y)"
   ]
  },
  {
   "cell_type": "code",
   "execution_count": null,
   "metadata": {},
   "outputs": [],
   "source": [
    "features = train_x.columns\n",
    "importances = model.feature_importances_\n",
    "indices = np.argsort(importances)\n",
    "fig= plt.figure(figsize=(20,10))\n",
    "plt.title('Feature Importances')\n",
    "plt.barh(range(len(indices)), importances[indices], color='b', align='center')\n",
    "plt.yticks(range(len(indices)), [features[i] for i in indices])\n",
    "plt.xlabel('Relative Importance')\n",
    "plt.show()"
   ]
  },
  {
   "cell_type": "markdown",
   "metadata": {},
   "source": [
    "Ahora agregamos features generados a partir de los precios"
   ]
  },
  {
   "cell_type": "code",
   "execution_count": null,
   "metadata": {},
   "outputs": [],
   "source": [
    "aux = train[['precio', 'ciudad', 'metrostotales']].copy()\n",
    "aux['precioMetro'] = aux['precio']/aux['metrostotales']\n",
    "aux = aux.groupby('ciudad').agg({'precioMetro':'mean'})\n",
    "precioPromedio = aux.T.to_dict('records').copy()\n",
    "precioPromedio = precioPromedio[0]\n",
    "train['precioPromedioM2PorCiudad'] = train.ciudad.map(precioPromedio)"
   ]
  },
  {
   "cell_type": "code",
   "execution_count": null,
   "metadata": {},
   "outputs": [],
   "source": [
    "aux = train[['precio', 'tipodepropiedad', 'metrostotales']].copy()\n",
    "aux['precioMetro'] = aux['precio']/aux['metrostotales']\n",
    "aux = aux.groupby('tipodepropiedad').agg({'precioMetro':'mean'})\n",
    "precioPromedio = aux.T.to_dict('records').copy()\n",
    "precioPromedio = precioPromedio[0]\n",
    "train['precioPromedioM2PorTipo'] = train.tipodepropiedad.map(precioPromedio)"
   ]
  },
  {
   "cell_type": "code",
   "execution_count": null,
   "metadata": {},
   "outputs": [],
   "source": [
    "aux = train[['precio', 'idzona', 'metrostotales']].copy()\n",
    "aux['precioMetro'] = aux['precio']/aux['metrostotales']\n",
    "aux = aux.groupby('idzona').agg({'precioMetro':'mean'})\n",
    "precioPromedio = aux.T.to_dict('records').copy()\n",
    "precioPromedio = precioPromedio[0]\n",
    "train['precioPromedioM2PorZona'] = train.idzona.map(precioPromedio)"
   ]
  },
  {
   "cell_type": "code",
   "execution_count": null,
   "metadata": {},
   "outputs": [],
   "source": [
    "aux = train[['precio', 'mes', 'anio', 'metrostotales']].copy()\n",
    "aux['mes-anio'] = aux.mes + aux.anio\n",
    "aux['precioMetro'] = aux['precio']/aux['metrostotales']\n",
    "aux = aux.groupby('mes-anio').agg({'precioMetro':'mean'})\n",
    "precioPromedio = aux.T.to_dict('records').copy()\n",
    "precioPromedio = precioPromedio[0]\n",
    "train['mes-anio'] = train.mes + train.anio\n",
    "train['precioPromedioM2PorMes'] = train['mes-anio'].map(precioPromedio)\n",
    "train.drop(columns=['mes-anio'], inplace = True)"
   ]
  },
  {
   "cell_type": "code",
   "execution_count": null,
   "metadata": {},
   "outputs": [],
   "source": [
    "train_x = train.drop(columns=['precio']).copy()\n",
    "train_y = train.precio\n",
    "model.fit(train_x, train_y)"
   ]
  },
  {
   "cell_type": "code",
   "execution_count": null,
   "metadata": {},
   "outputs": [],
   "source": [
    "features = train_x.columns\n",
    "importances = model.feature_importances_\n",
    "indices = np.argsort(importances)\n",
    "fig= plt.figure(figsize=(20,10))\n",
    "plt.title('Feature Importances')\n",
    "plt.barh(range(len(indices)), importances[indices], color='b', align='center')\n",
    "plt.yticks(range(len(indices)), [features[i] for i in indices])\n",
    "plt.xlabel('Relative Importance')\n",
    "plt.show()"
   ]
  }
 ],
 "metadata": {
  "kernelspec": {
   "display_name": "Python 3",
   "language": "python",
   "name": "python3"
  },
  "language_info": {
   "codemirror_mode": {
    "name": "ipython",
    "version": 3
   },
   "file_extension": ".py",
   "mimetype": "text/x-python",
   "name": "python",
   "nbconvert_exporter": "python",
   "pygments_lexer": "ipython3",
   "version": "3.7.5"
  }
 },
 "nbformat": 4,
 "nbformat_minor": 4
}
