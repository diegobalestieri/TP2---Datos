{
 "cells": [
  {
   "cell_type": "code",
   "execution_count": 57,
   "metadata": {
    "_cell_guid": "b1076dfc-b9ad-4769-8c92-a6c4dae69d19",
    "_uuid": "8f2839f25d086af736a60e9eeb907d3b93b6e0e5"
   },
   "outputs": [
    {
     "name": "stdout",
     "output_type": "stream",
     "text": [
      "/kaggle/input/tp2datostrain/train.csv\n",
      "/kaggle/input/tp2datostrain/test.csv\n",
      "/kaggle/input/pingsound/PING - Sound effect.mp3\n"
     ]
    }
   ],
   "source": [
    "# This Python 3 environment comes with many helpful analytics libraries installed\n",
    "# It is defined by the kaggle/python docker image: https://github.com/kaggle/docker-python\n",
    "# For example, here's several helpful packages to load in \n",
    "\n",
    "import numpy as np # linear algebra\n",
    "import pandas as pd # data processing, CSV file I/O (e.g. pd.read_csv)\n",
    "\n",
    "# Input data files are available in the \"../input/\" directory.\n",
    "# For example, running this (by clicking run or pressing Shift+Enter) will list all files under the input directory\n",
    "\n",
    "import os\n",
    "for dirname, _, filenames in os.walk('/kaggle/input'):\n",
    "    for filename in filenames:\n",
    "        print(os.path.join(dirname, filename))\n",
    "\n",
    "# Any results you write to the current directory are saved as output."
   ]
  },
  {
   "cell_type": "code",
   "execution_count": 58,
   "metadata": {
    "_cell_guid": "79c7e3d0-c299-4dcb-8224-4455121ee9b0",
    "_uuid": "d629ff2d2480ee46fbb7e2d37f6b5fab8052498a"
   },
   "outputs": [],
   "source": [
    "from sklearn.compose import ColumnTransformer\n",
    "from sklearn.pipeline import Pipeline, make_pipeline\n",
    "from sklearn.impute import SimpleImputer\n",
    "import xgboost as xgb\n",
    "from sklearn.preprocessing import OneHotEncoder\n",
    "import numpy as np\n",
    "import pandas as pd\n",
    "from sklearn.metrics import mean_absolute_error\n",
    "from sklearn.model_selection import train_test_split\n",
    "from IPython.display import Audio\n",
    "sound_file = '/kaggle/input/pingsound/PING - Sound effect.mp3'"
   ]
  },
  {
   "cell_type": "code",
   "execution_count": 59,
   "metadata": {},
   "outputs": [
    {
     "data": {
      "text/plain": [
       "(60000, 22)"
      ]
     },
     "metadata": {},
     "output_type": "display_data"
    },
    {
     "data": {
      "text/plain": [
       "(240000, 23)"
      ]
     },
     "metadata": {},
     "output_type": "display_data"
    }
   ],
   "source": [
    "test = pd.read_csv(\"../input/tp2datostrain/test.csv\")\n",
    "display(test.shape)\n",
    "train = pd.read_csv(\"../input/tp2datostrain/train.csv\")\n",
    "display(train.shape)"
   ]
  },
  {
   "cell_type": "code",
   "execution_count": 60,
   "metadata": {},
   "outputs": [
    {
     "name": "stdout",
     "output_type": "stream",
     "text": [
      "577\n",
      "876\n"
     ]
    }
   ],
   "source": [
    "print(len(test[\"ciudad\"].unique()))\n",
    "print(len(train[\"ciudad\"].unique()))\n",
    "ciudades = list(train[\"ciudad\"].unique())\n",
    "tipos_de_propiedad = list(train[\"tipodepropiedad\"].unique())\n",
    "provincia = list(train[\"provincia\"].unique())\n",
    "categorias  = [provincia, tipos_de_propiedad, ciudades]"
   ]
  },
  {
   "cell_type": "code",
   "execution_count": 105,
   "metadata": {},
   "outputs": [],
   "source": [
    "#Elijo si voy a hacer train o test!\n",
    "TRAIN = True\n",
    "CV = True and TRAIN"
   ]
  },
  {
   "cell_type": "markdown",
   "metadata": {},
   "source": [
    "# Arreglo el DF"
   ]
  },
  {
   "cell_type": "code",
   "execution_count": 109,
   "metadata": {},
   "outputs": [],
   "source": [
    "df = train if TRAIN else test\n",
    "df[\"fecha\"] = pd.to_datetime(df[\"fecha\"])"
   ]
  },
  {
   "cell_type": "code",
   "execution_count": 111,
   "metadata": {},
   "outputs": [
    {
     "name": "stdout",
     "output_type": "stream",
     "text": [
      "Nulos idzona:  False    239521\n",
      "Name: idzona, dtype: int64\n",
      "Nulos coidad:  False    239521\n",
      "Name: ciudad, dtype: int64\n"
     ]
    },
    {
     "data": {
      "text/plain": [
       "0         50003995.0\n",
       "1            24481.0\n",
       "2            48638.0\n",
       "3            53666.0\n",
       "4            47735.0\n",
       "             ...    \n",
       "239995       53666.0\n",
       "239996       51929.0\n",
       "239997    50003995.0\n",
       "239998       24448.0\n",
       "239999       23734.0\n",
       "Name: idzona, Length: 239521, dtype: float64"
      ]
     },
     "execution_count": 111,
     "metadata": {},
     "output_type": "execute_result"
    }
   ],
   "source": [
    "#RELLENO LOS IDS CON LO QUE MAS APARECE EN LA CIUDAD\n",
    "def obtenerMasFrecuente(x):\n",
    "    x = pd.Series.mode(x)\n",
    "    s = x.loc[x>0]\n",
    "    if len(s.index)<=0:\n",
    "        return np.nan\n",
    "    return s.value_counts().index[0]\n",
    "print(\"Nulos idzona: \", df[\"idzona\"].isna().value_counts())\n",
    "print(\"Nulos coidad: \", df[\"ciudad\"].isna().value_counts())\n",
    "\n",
    "aux = df[[\"ciudad\", \"idzona\"]].copy()\n",
    "aux[\"ciudad\"].fillna(\"dummy\", inplace=True)\n",
    "#aux[\"idzona\"].fillna(-1, inplace=True)\n",
    "idzonaMasFrecuentePorCiudad = aux.groupby('ciudad')[\"idzona\"].transform(lambda x: obtenerMasFrecuente(x))\n",
    "idzonaMasFrecuentePorCiudad"
   ]
  },
  {
   "cell_type": "code",
   "execution_count": 112,
   "metadata": {},
   "outputs": [
    {
     "name": "stdout",
     "output_type": "stream",
     "text": [
      "Nulos idzona:  False    239521\n",
      "Name: idzona, dtype: int64\n",
      "Nulos idzona:  False    239521\n",
      "Name: idzona, dtype: int64\n"
     ]
    },
    {
     "data": {
      "text/plain": [
       "(239521, 24)"
      ]
     },
     "execution_count": 112,
     "metadata": {},
     "output_type": "execute_result"
    }
   ],
   "source": [
    "df.idzona.fillna(idzonaMasFrecuentePorCiudad, inplace = True)\n",
    "print(\"Nulos idzona: \", df[\"idzona\"].isna().value_counts())\n",
    "#DROPEO LAS COLUMNAS QUE QUEDARON SIN NADA si estoy entrenando o relleno con la mas comun si estoy testeando\n",
    "if TRAIN:\n",
    "    df.dropna(subset=['idzona'], inplace = True)\n",
    "else:\n",
    "    df.fillna(df['idzona'].value_counts().idxmax(), inplace = True)\n",
    "print(\"Nulos idzona: \", df[\"idzona\"].isnull().value_counts())\n",
    "df.shape"
   ]
  },
  {
   "cell_type": "code",
   "execution_count": 113,
   "metadata": {},
   "outputs": [],
   "source": [
    "def rellenar_con_X_por_grupo(df, grupo, rellenar, func):\n",
    "    valoresAgrupados = df.groupby(grupo)[rellenar].transform(func)\n",
    "    df[rellenar].fillna(valoresAgrupados, inplace=True)"
   ]
  },
  {
   "cell_type": "code",
   "execution_count": 114,
   "metadata": {},
   "outputs": [
    {
     "name": "stdout",
     "output_type": "stream",
     "text": [
      "Nulos habitaciones:  False    239521\n",
      "Name: habitaciones, dtype: int64\n",
      "Nulos habitaciones:  False    239521\n",
      "Name: habitaciones, dtype: int64\n",
      "Nulos antiguedad:  False    237924\n",
      "True       1597\n",
      "Name: antiguedad, dtype: int64\n",
      "Nulos antiguedad:  False    237924\n",
      "True       1597\n",
      "Name: antiguedad, dtype: int64\n",
      "Nulos metrostotales:  False    239521\n",
      "Name: metrostotales, dtype: int64\n",
      "Nulos metroscubiertos:  False    238777\n",
      "True        744\n",
      "Name: metroscubiertos, dtype: int64\n",
      "Nulos metroscubiertos:  False    238777\n",
      "True        744\n",
      "Name: metroscubiertos, dtype: int64\n",
      "Nulos metrostotales:  False    239521\n",
      "Name: metrostotales, dtype: int64\n"
     ]
    }
   ],
   "source": [
    "#Reemplazo las habitaciones por la mediana de la zona\n",
    "print(\"Nulos habitaciones: \", df[\"habitaciones\"].isnull().value_counts())\n",
    "rellenar_con_X_por_grupo(df, \"idzona\", \"habitaciones\", lambda x: x.median())\n",
    "print(\"Nulos habitaciones: \", df[\"habitaciones\"].isnull().value_counts())\n",
    "#Relleno el resto con las mas frecuentes\n",
    "df['habitaciones'] = SimpleImputer(strategy='most_frequent').fit_transform(df[['habitaciones']])\n",
    "#Para la antiguedad relleno con el promedio de la zona\n",
    "print(\"Nulos antiguedad: \", df[\"antiguedad\"].isna().value_counts())\n",
    "medianaAntiguedadXZona = df.groupby(\"idzona\")[\"antiguedad\"].transform(lambda x: x.median())\n",
    "df[\"antiguedad\"].fillna(medianaAntiguedadXZona, inplace = True)\n",
    "print(\"Nulos antiguedad: \", df[\"antiguedad\"].isna().value_counts())\n",
    "#Reemplazo los banos por 1 que es lo minimo posible\n",
    "df.banos.fillna(1, inplace=True)\n",
    "#Relleno garages con 0 porque es lo mas probable\n",
    "df.garages.fillna(0, inplace = True)\n",
    "print(\"Nulos metrostotales: \", df[\"metrostotales\"].isna().value_counts())\n",
    "print(\"Nulos metroscubiertos: \", df[\"metroscubiertos\"].isna().value_counts())\n",
    "#COMO QUEDAN NULOS LOS RELLENO CON la mediana (porque la mediana es un valor, y es menos sensible a valores extremos) por ZONA / CIUDAD\n",
    "promedioMetrosCubiertosXZona = df.groupby(\"idzona\")[\"metroscubiertos\"].transform(lambda x: x.median())\n",
    "df[\"metroscubiertos\"].fillna(promedioMetrosCubiertosXZona, inplace = True)\n",
    "print(\"Nulos metroscubiertos: \", df[\"metroscubiertos\"].isna().value_counts())\n",
    "promedioMetrosTotalesXZona = df.groupby(\"idzona\")[\"metrostotales\"].transform(lambda x: x.median())\n",
    "df[\"metrostotales\"].fillna(promedioMetrosCubiertosXZona, inplace = True)\n",
    "print(\"Nulos metrostotales: \", df[\"metrostotales\"].isna().value_counts())"
   ]
  },
  {
   "cell_type": "code",
   "execution_count": 115,
   "metadata": {},
   "outputs": [],
   "source": [
    "df[\"swapear\"] = df[\"metrostotales\"] < df[\"metroscubiertos\"]\n",
    "df_metros_arreglados = df.copy()\n",
    "aux = df_metros_arreglados.loc[df_metros_arreglados[\"swapear\"], \"metrostotales\"]\n",
    "if (not aux.empty):\n",
    "    df_metros_arreglados.loc[df_metros_arreglados[\"swapear\"],\"metrostotales\"] = \\\n",
    "    df_metros_arreglados.loc[df_metros_arreglados[\"swapear\"], \"metroscubiertos\"]\n",
    "    df_metros_arreglados.loc[df_metros_arreglados[\"swapear\"], \"metroscubiertos\"] = aux\n",
    "df_metros_arreglados.drop(columns=\"swapear\", inplace=True)\n",
    "(df_metros_arreglados[\"metrostotales\"] < df_metros_arreglados[\"metroscubiertos\"]).value_counts()\n",
    "df = df_metros_arreglados"
   ]
  },
  {
   "cell_type": "code",
   "execution_count": 116,
   "metadata": {},
   "outputs": [],
   "source": [
    "df.garages.fillna(0, inplace = True)"
   ]
  },
  {
   "cell_type": "code",
   "execution_count": 117,
   "metadata": {},
   "outputs": [],
   "source": [
    "df[\"nro_publicaciones_dia\"] = df.groupby(pd.Grouper(key='fecha', freq='D'))[\"id\"].transform(lambda x: len(x.index))\n",
    "df[\"nro_publicaciones_semana\"] = df.groupby(pd.Grouper(key='fecha', freq='W'))[\"id\"].transform(lambda x: len(x.index))\n",
    "df[\"nro_publicaciones_5_dias_habiles\"] = df.groupby(pd.Grouper(key='fecha', freq='B'))[\"id\"].transform(lambda x: len(x.index))\n",
    "df[\"nro_publicaciones_mes\"] = df.groupby(pd.Grouper(key='fecha', freq='M'))[\"id\"].transform(lambda x: len(x.index))"
   ]
  },
  {
   "cell_type": "markdown",
   "metadata": {},
   "source": [
    "### Agrego features del texto"
   ]
  },
  {
   "cell_type": "code",
   "execution_count": 118,
   "metadata": {},
   "outputs": [
    {
     "name": "stdout",
     "output_type": "stream",
     "text": [
      "!\"#$%&'()*+,-./:;<=>?@[\\]^_`{|}~\n"
     ]
    }
   ],
   "source": [
    "df[\"titulo_descripcion\"] = df[\"titulo\"].astype(str) + \" \" + df[\"descripcion\"].astype(str)\n",
    "#Como tiene algunos nulos los relleno con cadenas vaicas\n",
    "df[\"titulo_descripcion\"].fillna(\"\",inplace = True)\n",
    "#REMUEVO LA PUNTUACION\n",
    "import string\n",
    "print(string.punctuation)\n",
    "tabla = {}\n",
    "for c in string.punctuation + \"¿¡\":\n",
    "    tabla[ord(c)] = None\n",
    "def sacar_puntuacion(s):\n",
    "    return s.translate(tabla)\n",
    "df[\"titulo_descripcion\"] = df[\"titulo_descripcion\"].apply(sacar_puntuacion)\n",
    "#Agrego los primeros features\n",
    "df[\"nro_palabras\"] = df[\"titulo_descripcion\"].apply(lambda x: len(x.split(\" \")))\n",
    "df[\"nro_caracteres\"] = df[\"titulo_descripcion\"].apply(lambda x: len(x))\n",
    "df[\"long_prom_palabra\"] = df[\"nro_caracteres\"] / df[\"nro_palabras\"]\n",
    "\n",
    "def llenarDiccionario(diccionario,descripcion):\n",
    "    for palabra in descripcion.split():\n",
    "        diccionario[palabra] = diccionario.get(palabra,0) + 1\n",
    "        \n",
    "def generarDiccionario(df2):\n",
    "    dicc = {}\n",
    "    for descripcion in df2['titulo_descripcion']:\n",
    "        if isinstance(descripcion,str): llenarDiccionario(dicc,descripcion)\n",
    "    return dicc\n",
    "contador_palabras = generarDiccionario(df)\n",
    "\n",
    "#Elimino las stopwords = palabras vacias que no suman nada\n",
    "from nltk.corpus import stopwords\n",
    "palabras_vacias = stopwords.words('spanish')\n",
    "\n",
    "for palabra  in palabras_vacias:\n",
    "    if palabra in contador_palabras:\n",
    "        del contador_palabras[palabra]\n",
    "ordenados = sorted(contador_palabras.items(),key = lambda x: -x[1])\n",
    "top_50 = dict(ordenados[:50])\n",
    "\n",
    "#Nuevos features\n",
    "def contar_palabras_en_top(texto):\n",
    "    palabras = texto.split()\n",
    "    cont = 0\n",
    "    for palabra in palabras:\n",
    "        if palabra in top_50:\n",
    "            cont += 1\n",
    "    return cont\n",
    "df[\"nro_palabras_mas_comunes\"] = df[\"titulo_descripcion\"].apply(contar_palabras_en_top)"
   ]
  },
  {
   "cell_type": "code",
   "execution_count": 119,
   "metadata": {},
   "outputs": [
    {
     "data": {
      "text/html": [
       "<div>\n",
       "<style scoped>\n",
       "    .dataframe tbody tr th:only-of-type {\n",
       "        vertical-align: middle;\n",
       "    }\n",
       "\n",
       "    .dataframe tbody tr th {\n",
       "        vertical-align: top;\n",
       "    }\n",
       "\n",
       "    .dataframe thead th {\n",
       "        text-align: right;\n",
       "    }\n",
       "</style>\n",
       "<table border=\"1\" class=\"dataframe\">\n",
       "  <thead>\n",
       "    <tr style=\"text-align: right;\">\n",
       "      <th></th>\n",
       "      <th>id</th>\n",
       "      <th>titulo</th>\n",
       "      <th>descripcion</th>\n",
       "      <th>tipodepropiedad</th>\n",
       "      <th>direccion</th>\n",
       "      <th>ciudad</th>\n",
       "      <th>provincia</th>\n",
       "      <th>antiguedad</th>\n",
       "      <th>habitaciones</th>\n",
       "      <th>garages</th>\n",
       "      <th>...</th>\n",
       "      <th>precio</th>\n",
       "      <th>nro_publicaciones_dia</th>\n",
       "      <th>nro_publicaciones_semana</th>\n",
       "      <th>nro_publicaciones_5_dias_habiles</th>\n",
       "      <th>nro_publicaciones_mes</th>\n",
       "      <th>titulo_descripcion</th>\n",
       "      <th>nro_palabras</th>\n",
       "      <th>nro_caracteres</th>\n",
       "      <th>long_prom_palabra</th>\n",
       "      <th>nro_palabras_mas_comunes</th>\n",
       "    </tr>\n",
       "  </thead>\n",
       "  <tbody>\n",
       "    <tr>\n",
       "      <th>0</th>\n",
       "      <td>254099</td>\n",
       "      <td>depto. tipo a-402</td>\n",
       "      <td>depto. interior de 80.15m2, consta de sala com...</td>\n",
       "      <td>Apartamento</td>\n",
       "      <td>Avenida Division del Norte 2005</td>\n",
       "      <td>Benito Juárez</td>\n",
       "      <td>Distrito Federal</td>\n",
       "      <td>5.0</td>\n",
       "      <td>2.0</td>\n",
       "      <td>1.0</td>\n",
       "      <td>...</td>\n",
       "      <td>2273000.0</td>\n",
       "      <td>161</td>\n",
       "      <td>1056</td>\n",
       "      <td>451</td>\n",
       "      <td>4526</td>\n",
       "      <td>depto tipo a402 depto interior de 8015m2 const...</td>\n",
       "      <td>29</td>\n",
       "      <td>178</td>\n",
       "      <td>6.137931</td>\n",
       "      <td>15</td>\n",
       "    </tr>\n",
       "    <tr>\n",
       "      <th>1</th>\n",
       "      <td>53461</td>\n",
       "      <td>condominio horizontal en venta</td>\n",
       "      <td>&lt;p&gt;entre sonora y guerrero, atr&amp;aacute;s del h...</td>\n",
       "      <td>Casa en condominio</td>\n",
       "      <td>AV. MEXICO</td>\n",
       "      <td>La Magdalena Contreras</td>\n",
       "      <td>Distrito Federal</td>\n",
       "      <td>10.0</td>\n",
       "      <td>3.0</td>\n",
       "      <td>2.0</td>\n",
       "      <td>...</td>\n",
       "      <td>3600000.0</td>\n",
       "      <td>100</td>\n",
       "      <td>487</td>\n",
       "      <td>171</td>\n",
       "      <td>2015</td>\n",
       "      <td>condominio horizontal en venta pentre sonora y...</td>\n",
       "      <td>98</td>\n",
       "      <td>691</td>\n",
       "      <td>7.051020</td>\n",
       "      <td>26</td>\n",
       "    </tr>\n",
       "    <tr>\n",
       "      <th>2</th>\n",
       "      <td>247984</td>\n",
       "      <td>casa en venta urbi 3 recamaras tonala</td>\n",
       "      <td>descripcion \\nla mejor ubicacion residencial e...</td>\n",
       "      <td>Casa</td>\n",
       "      <td>Urbi Tonala</td>\n",
       "      <td>Tonalá</td>\n",
       "      <td>Jalisco</td>\n",
       "      <td>5.0</td>\n",
       "      <td>3.0</td>\n",
       "      <td>2.0</td>\n",
       "      <td>...</td>\n",
       "      <td>1200000.0</td>\n",
       "      <td>384</td>\n",
       "      <td>1467</td>\n",
       "      <td>715</td>\n",
       "      <td>5550</td>\n",
       "      <td>casa en venta urbi 3 recamaras tonala descripc...</td>\n",
       "      <td>218</td>\n",
       "      <td>1339</td>\n",
       "      <td>6.142202</td>\n",
       "      <td>24</td>\n",
       "    </tr>\n",
       "    <tr>\n",
       "      <th>3</th>\n",
       "      <td>209067</td>\n",
       "      <td>casa sola en toluca zinacantepec con credito i...</td>\n",
       "      <td>casa en privada con caseta de vigilancia casas...</td>\n",
       "      <td>Casa</td>\n",
       "      <td>IGNACIO MANUEL ALTAMIRANO 128</td>\n",
       "      <td>Zinacantepec</td>\n",
       "      <td>Edo. de México</td>\n",
       "      <td>1.0</td>\n",
       "      <td>2.0</td>\n",
       "      <td>1.0</td>\n",
       "      <td>...</td>\n",
       "      <td>650000.0</td>\n",
       "      <td>43</td>\n",
       "      <td>308</td>\n",
       "      <td>116</td>\n",
       "      <td>1103</td>\n",
       "      <td>casa sola en toluca zinacantepec con credito i...</td>\n",
       "      <td>64</td>\n",
       "      <td>418</td>\n",
       "      <td>6.531250</td>\n",
       "      <td>6</td>\n",
       "    </tr>\n",
       "    <tr>\n",
       "      <th>4</th>\n",
       "      <td>185997</td>\n",
       "      <td>paseos del sol</td>\n",
       "      <td>bonito departamento en excelentes condiciones ...</td>\n",
       "      <td>Apartamento</td>\n",
       "      <td>PASEOS DEL SOL</td>\n",
       "      <td>Zapopan</td>\n",
       "      <td>Jalisco</td>\n",
       "      <td>10.0</td>\n",
       "      <td>2.0</td>\n",
       "      <td>1.0</td>\n",
       "      <td>...</td>\n",
       "      <td>1150000.0</td>\n",
       "      <td>543</td>\n",
       "      <td>2237</td>\n",
       "      <td>543</td>\n",
       "      <td>6761</td>\n",
       "      <td>paseos del sol bonito departamento en excelent...</td>\n",
       "      <td>19</td>\n",
       "      <td>113</td>\n",
       "      <td>5.947368</td>\n",
       "      <td>1</td>\n",
       "    </tr>\n",
       "  </tbody>\n",
       "</table>\n",
       "<p>5 rows × 32 columns</p>\n",
       "</div>"
      ],
      "text/plain": [
       "       id                                             titulo  \\\n",
       "0  254099                                  depto. tipo a-402   \n",
       "1   53461                     condominio horizontal en venta   \n",
       "2  247984              casa en venta urbi 3 recamaras tonala   \n",
       "3  209067  casa sola en toluca zinacantepec con credito i...   \n",
       "4  185997                                     paseos del sol   \n",
       "\n",
       "                                         descripcion     tipodepropiedad  \\\n",
       "0  depto. interior de 80.15m2, consta de sala com...         Apartamento   \n",
       "1  <p>entre sonora y guerrero, atr&aacute;s del h...  Casa en condominio   \n",
       "2  descripcion \\nla mejor ubicacion residencial e...                Casa   \n",
       "3  casa en privada con caseta de vigilancia casas...                Casa   \n",
       "4  bonito departamento en excelentes condiciones ...         Apartamento   \n",
       "\n",
       "                         direccion                  ciudad         provincia  \\\n",
       "0  Avenida Division del Norte 2005           Benito Juárez  Distrito Federal   \n",
       "1                       AV. MEXICO  La Magdalena Contreras  Distrito Federal   \n",
       "2                      Urbi Tonala                  Tonalá           Jalisco   \n",
       "3    IGNACIO MANUEL ALTAMIRANO 128            Zinacantepec    Edo. de México   \n",
       "4                  PASEOS DEL SOL                  Zapopan           Jalisco   \n",
       "\n",
       "   antiguedad  habitaciones  garages  ...     precio  nro_publicaciones_dia  \\\n",
       "0         5.0           2.0      1.0  ...  2273000.0                    161   \n",
       "1        10.0           3.0      2.0  ...  3600000.0                    100   \n",
       "2         5.0           3.0      2.0  ...  1200000.0                    384   \n",
       "3         1.0           2.0      1.0  ...   650000.0                     43   \n",
       "4        10.0           2.0      1.0  ...  1150000.0                    543   \n",
       "\n",
       "   nro_publicaciones_semana  nro_publicaciones_5_dias_habiles  \\\n",
       "0                      1056                               451   \n",
       "1                       487                               171   \n",
       "2                      1467                               715   \n",
       "3                       308                               116   \n",
       "4                      2237                               543   \n",
       "\n",
       "   nro_publicaciones_mes                                 titulo_descripcion  \\\n",
       "0                   4526  depto tipo a402 depto interior de 8015m2 const...   \n",
       "1                   2015  condominio horizontal en venta pentre sonora y...   \n",
       "2                   5550  casa en venta urbi 3 recamaras tonala descripc...   \n",
       "3                   1103  casa sola en toluca zinacantepec con credito i...   \n",
       "4                   6761  paseos del sol bonito departamento en excelent...   \n",
       "\n",
       "  nro_palabras  nro_caracteres  long_prom_palabra  nro_palabras_mas_comunes  \n",
       "0           29             178           6.137931                        15  \n",
       "1           98             691           7.051020                        26  \n",
       "2          218            1339           6.142202                        24  \n",
       "3           64             418           6.531250                         6  \n",
       "4           19             113           5.947368                         1  \n",
       "\n",
       "[5 rows x 32 columns]"
      ]
     },
     "execution_count": 119,
     "metadata": {},
     "output_type": "execute_result"
    }
   ],
   "source": [
    "df.head()"
   ]
  },
  {
   "cell_type": "markdown",
   "metadata": {},
   "source": [
    "# Preprocesador"
   ]
  },
  {
   "cell_type": "code",
   "execution_count": 120,
   "metadata": {},
   "outputs": [],
   "source": [
    "features = ['idzona',\n",
    "            \"metrostotales\", \"metroscubiertos\", \n",
    "            'garages',\n",
    "            'gimnasio','centroscomercialescercanos','usosmultiples','piscina','escuelascercanas',\n",
    "            'nro_publicaciones_dia',\n",
    "            'nro_publicaciones_semana',\n",
    "            'nro_publicaciones_5_dias_habiles',\n",
    "            'nro_publicaciones_mes',\n",
    "            'antiguedad',\n",
    "            'habitaciones',\n",
    "            \"nro_palabras\", \"nro_caracteres\", \"long_prom_palabra\", \"nro_palabras_mas_comunes\",\n",
    "            'provincia','tipodepropiedad', 'ciudad',\n",
    "            ]"
   ]
  },
  {
   "cell_type": "code",
   "execution_count": 121,
   "metadata": {},
   "outputs": [],
   "source": [
    "transformador_categorias = make_pipeline(SimpleImputer(strategy='most_frequent'),\n",
    "                                         OneHotEncoder(handle_unknown='ignore', categories = categorias))\n",
    "#transformador_categorias_ciudades = make_pipeline(SimpleImputer(strategy='most_frequent'),\n",
    "#                                         OneHotEncoder(handle_unknown='ignore', categories = [ciudades]))\n",
    "#transformador_categorias_propiedad = make_pipeline(SimpleImputer(strategy='most_frequent'),\n",
    "#                                         OneHotEncoder(handle_unknown='ignore', categories = [tipos_de_propiedad]))\n",
    "transformador_numeros = make_pipeline(SimpleImputer())"
   ]
  },
  {
   "cell_type": "code",
   "execution_count": 122,
   "metadata": {},
   "outputs": [
    {
     "name": "stdout",
     "output_type": "stream",
     "text": [
      "Features numericos: ['idzona', 'metrostotales', 'metroscubiertos', 'garages', 'gimnasio', 'centroscomercialescercanos', 'usosmultiples', 'piscina', 'escuelascercanas', 'nro_publicaciones_dia', 'nro_publicaciones_semana', 'nro_publicaciones_5_dias_habiles', 'nro_publicaciones_mes', 'antiguedad', 'habitaciones', 'nro_palabras', 'nro_caracteres', 'long_prom_palabra', 'nro_palabras_mas_comunes'] \n",
      "Features categoricos:  ['provincia', 'tipodepropiedad', 'ciudad']\n"
     ]
    }
   ],
   "source": [
    "def obtenerFeaturesCategoricos(features):\n",
    "    l = []\n",
    "    for feature in features:\n",
    "        if not np.issubdtype(df[feature].dtype, np.number):\n",
    "            l.append(feature)\n",
    "    return l\n",
    "\n",
    "num_features = list(df[features].select_dtypes(include=[np.number]).columns)\n",
    "\n",
    "cat_features = list(obtenerFeaturesCategoricos(features))\n",
    "print (\"Features numericos:\", num_features, '\\nFeatures categoricos: ', cat_features)\n",
    "preprocessor = ColumnTransformer(\n",
    "    transformers=[\n",
    "        ('num', transformador_numeros, num_features),\n",
    "        ('cat', transformador_categorias, cat_features)\n",
    "    ])"
   ]
  },
  {
   "cell_type": "code",
   "execution_count": 145,
   "metadata": {},
   "outputs": [
    {
     "ename": "SyntaxError",
     "evalue": "invalid syntax (<ipython-input-145-892a1835ac55>, line 7)",
     "output_type": "error",
     "traceback": [
      "\u001b[0;36m  File \u001b[0;32m\"<ipython-input-145-892a1835ac55>\"\u001b[0;36m, line \u001b[0;32m7\u001b[0m\n\u001b[0;31m    objective='reg:squarederror',\u001b[0m\n\u001b[0m            ^\u001b[0m\n\u001b[0;31mSyntaxError\u001b[0m\u001b[0;31m:\u001b[0m invalid syntax\n"
     ]
    }
   ],
   "source": [
    "model = xgb.XGBRegressor(early_stopping_rounds=250, #n_estimators=1000\n",
    "                        learning_rate=0.01, \n",
    "                         max_depth=6,\n",
    "                         subsample = 0.8,\n",
    "                         gamma = 2,\n",
    "                         colsample_bytree = 0.8, colsample_bylevel = 0.8, colsample_bynode = 0.8,\n",
    "                     objective='reg:squarederror',                     \n",
    "                     tree_method='gpu_hist', gpu_id=0) if TRAIN else model\n",
    "#model = xgb.XGBRegressor(n_estimators=2000, learning_rate=0.05, max_depth=10, subsample_by_tree=0.5, colsample_by_col=0.5, min_child_weight=3,tree_method='gpu_hist', gpu_id=0)"
   ]
  },
  {
   "cell_type": "markdown",
   "metadata": {},
   "source": [
    "# Lo entreno"
   ]
  },
  {
   "cell_type": "code",
   "execution_count": 146,
   "metadata": {},
   "outputs": [],
   "source": [
    "y = df.precio.copy() if TRAIN else None\n",
    "\n",
    "X = df[features].copy()\n",
    "if CV:\n",
    "    Xaux, Txaux, yaux, Tyaux = train_test_split(X, y,train_size=0.8, test_size=0.2, random_state = 0)\n",
    "X = Xaux if CV else X\n",
    "y = yaux if CV else y\n",
    "Tx = Txaux if CV else None\n",
    "Ty = Tyaux if CV else None"
   ]
  },
  {
   "cell_type": "code",
   "execution_count": 147,
   "metadata": {},
   "outputs": [
    {
     "name": "stdout",
     "output_type": "stream",
     "text": [
      "[Pipeline] . (step 1 of 2) Processing columntransformer, total=  36.0s\n"
     ]
    },
    {
     "name": "stderr",
     "output_type": "stream",
     "text": [
      "/opt/conda/lib/python3.6/site-packages/xgboost/core.py:587: FutureWarning: Series.base is deprecated and will be removed in a future version\n",
      "  if getattr(data, 'base', None) is not None and \\\n"
     ]
    },
    {
     "name": "stdout",
     "output_type": "stream",
     "text": [
      "[Pipeline] ...... (step 2 of 2) Processing xgbregressor, total=   3.8s\n"
     ]
    }
   ],
   "source": [
    "if (TRAIN):\n",
    "    nuevo_pipeline = make_pipeline(preprocessor, model, verbose = True)\n",
    "    nuevo_pipeline.fit(X, y)\n",
    "else:\n",
    "    nuevo_pipeline = pipeline\n",
    "pipeline = nuevo_pipeline\n",
    "#model.get_booster().feature_names = features"
   ]
  },
  {
   "cell_type": "code",
   "execution_count": 148,
   "metadata": {},
   "outputs": [
    {
     "data": {
      "text/plain": [
       "(22, 22)"
      ]
     },
     "execution_count": 148,
     "metadata": {},
     "output_type": "execute_result"
    }
   ],
   "source": [
    "len(X.columns), len(Tx.columns)"
   ]
  },
  {
   "cell_type": "code",
   "execution_count": 149,
   "metadata": {},
   "outputs": [
    {
     "name": "stdout",
     "output_type": "stream",
     "text": [
      "(47905, 22)\n"
     ]
    }
   ],
   "source": [
    "Tx = Tx if (TRAIN and CV) else X #Si estoy en TRAIN y con Cross Validatrion uso el Tx que ya armé. Sino el X entero\n",
    "print(Tx.shape)\n",
    "predicciones = pipeline.predict(Tx)"
   ]
  },
  {
   "cell_type": "code",
   "execution_count": 150,
   "metadata": {},
   "outputs": [
    {
     "name": "stdout",
     "output_type": "stream",
     "text": [
      "MAE XGBoost:  1072088.968375561\n"
     ]
    }
   ],
   "source": [
    "if (TRAIN):\n",
    "    Ty = Ty if CV else y\n",
    "    print(\"MAE XGBoost: \", mean_absolute_error(Ty, predicciones))"
   ]
  },
  {
   "cell_type": "code",
   "execution_count": 151,
   "metadata": {},
   "outputs": [],
   "source": [
    "import matplotlib.pyplot as plt\n",
    "#fig, ax = plt.subplots(1,1,figsize=(10,10))\n",
    "#xgb.plot_importance(model.get_booster(), ax = ax)\n",
    "#for col,score in zip(X.columns,model.feature_importances_):    print(col,score)"
   ]
  },
  {
   "cell_type": "code",
   "execution_count": 152,
   "metadata": {},
   "outputs": [
    {
     "data": {
      "text/html": [
       "\n",
       "                <audio  controls=\"controls\" autoplay=\"autoplay\">\n",
       "                    <source src=\"data:audio/mpeg;base64,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\" type=\"audio/mpeg\" />\n",
       "                    Your browser does not support the audio element.\n",
       "                </audio>\n",
       "              "
      ],
      "text/plain": [
       "<IPython.lib.display.Audio object>"
      ]
     },
     "execution_count": 152,
     "metadata": {},
     "output_type": "execute_result"
    }
   ],
   "source": [
    "Audio(sound_file, autoplay=True)"
   ]
  },
  {
   "cell_type": "code",
   "execution_count": 153,
   "metadata": {},
   "outputs": [],
   "source": [
    "# import the modules we'll need\n",
    "from IPython.display import HTML\n",
    "import base64\n",
    "\n",
    "# function that takes in a dataframe and creates a text link to  \n",
    "# download it (will only work for files < 2MB or so)\n",
    "def create_download_link(df, title = \"Download CSV file\", filename = \"resultados.csv\"):  \n",
    "    csv = df.to_csv(index=False)\n",
    "    b64 = base64.b64encode(csv.encode())\n",
    "    payload = b64.decode()\n",
    "    html = '<a download=\"{filename}\" href=\"data:text/csv;base64,{payload}\" target=\"_blank\">{title}</a>'\n",
    "    html = html.format(payload=payload,title=title,filename=filename)\n",
    "    return HTML(html)\n",
    "\n",
    "\n",
    "if not TRAIN:\n",
    "    res = pd.DataFrame(predicciones, index=test.id, columns=['precio'])\n",
    "    res.reset_index(inplace=True)\n",
    "    res.columns = [\"id\", \"target\"]\n",
    "    display(res.head())\n",
    "    # create a link to download the dataframe\n",
    "    display(create_download_link(res))"
   ]
  },
  {
   "cell_type": "code",
   "execution_count": null,
   "metadata": {},
   "outputs": [],
   "source": [
    "from sklearn.metrics import accuracy_score\n",
    "Tx2 = preprocessor.fit_transform(Tx)\n",
    "X2 = preprocessor.fit_transform(X)\n",
    "\n",
    "pipeline.fit(X,y, xgbregressor__eval_set=[(X2, y.to_numpy()), (Tx2, Ty.to_numpy())])\n",
    "preds = pipeline.predict(Tx)\n",
    "predictions = [round(value) for value in preds]\n",
    "# evaluate predictions\n",
    "#accuracy = accuracy_score(Ty, preds)\n",
    "#print(\"Accuracy: %.2f%%\" % (accuracy * 100.0))\n",
    "print(\"MAE XGBoost: \", mean_absolute_error(Ty, predicciones))"
   ]
  },
  {
   "cell_type": "code",
   "execution_count": null,
   "metadata": {},
   "outputs": [],
   "source": [
    "# retrieve performance metrics\n",
    "results = model.evals_result()\n",
    "epochs = len(results['validation_0']['rmse'])\n",
    "x_axis = range(0, epochs)\n",
    "# plot log loss\n",
    "fig, ax = plt.subplots()\n",
    "ax.plot(x_axis, results['validation_0']['rmse'], label='Train')\n",
    "ax.plot(x_axis, results['validation_1']['rmse'], label='Test')\n",
    "ax.legend()\n",
    "plt.ylabel('rmse')\n",
    "plt.title('XGBoost rmse')\n",
    "# plot classification error\n",
    "\"\"\"\n",
    "fig, ax = pyplot.subplots()\n",
    "ax.plot(x_axis, results['validation_0']['error'], label='Train')\n",
    "ax.plot(x_axis, results['validation_1']['error'], label='Test')\n",
    "ax.legend()\n",
    "pyplot.ylabel('Classification Error')\n",
    "pyplot.title('XGBoost Classification Error')\n",
    "pyplot.show()\n",
    "\"\"\""
   ]
  },
  {
   "cell_type": "code",
   "execution_count": null,
   "metadata": {},
   "outputs": [],
   "source": [
    "\"\"\"\n",
    "learning_rate = [0.0001, 0.001, 0.01, 0.1, 0.2, 0.3]\n",
    "param_grid = dict(xgbregressor__learning_rate=learning_rate)\n",
    "kfold = StratifiedKFold(n_splits=10, shuffle=True, random_state=7)\n",
    "grid_search = GridSearchCV(pipeline, param_grid, scoring=\"neg_mean_absolute_error\", n_jobs=-1, cv=kfold)\n",
    "grid_result = grid_search.fit(X, y)\n",
    "\n",
    "# summarize results\n",
    "print(\"Best: %f using %s\" % (grid_result.best_score_, grid_result.best_params_))\n",
    "means = grid_result.cv_results_['mean_test_score'] *-1\n",
    "stds = grid_result.cv_results_['std_test_score']\n",
    "params = grid_result.cv_results_['params']\n",
    "for mean, stdev, param in zip(means, stds, params):\n",
    "\tprint(\"%f (%f) with: %r\" % (mean, stdev, param))\n",
    "# plot\n",
    "plt.errorbar(learning_rate, means, yerr=stds)\n",
    "plt.title(\"XGBoost learning_rate vs Squared error\")\n",
    "plt.xlabel('learning_rate')\n",
    "plt.ylabel('Squared error')\n",
    "\"\"\""
   ]
  },
  {
   "cell_type": "code",
   "execution_count": null,
   "metadata": {},
   "outputs": [],
   "source": [
    "Audio(sound_file, autoplay=True)"
   ]
  },
  {
   "cell_type": "code",
   "execution_count": null,
   "metadata": {},
   "outputs": [],
   "source": []
  },
  {
   "cell_type": "code",
   "execution_count": null,
   "metadata": {},
   "outputs": [],
   "source": []
  },
  {
   "cell_type": "code",
   "execution_count": null,
   "metadata": {},
   "outputs": [],
   "source": []
  }
 ],
 "metadata": {
  "kernelspec": {
   "display_name": "Python 3",
   "language": "python",
   "name": "python3"
  },
  "language_info": {
   "codemirror_mode": {
    "name": "ipython",
    "version": 3
   },
   "file_extension": ".py",
   "mimetype": "text/x-python",
   "name": "python",
   "nbconvert_exporter": "python",
   "pygments_lexer": "ipython3",
   "version": "3.7.3"
  }
 },
 "nbformat": 4,
 "nbformat_minor": 4
}
