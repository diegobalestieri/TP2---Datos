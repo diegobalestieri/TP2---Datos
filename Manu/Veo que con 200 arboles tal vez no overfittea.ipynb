{
 "cells": [
  {
   "cell_type": "code",
   "execution_count": 28,
   "metadata": {
    "_cell_guid": "b1076dfc-b9ad-4769-8c92-a6c4dae69d19",
    "_uuid": "8f2839f25d086af736a60e9eeb907d3b93b6e0e5"
   },
   "outputs": [
    {
     "name": "stdout",
     "output_type": "stream",
     "text": [
      "/kaggle/input/tp2datostrain/train.csv\n",
      "/kaggle/input/tp2datostrain/test.csv\n",
      "/kaggle/input/skipcell/skip-cell.py\n",
      "/kaggle/input/pingsound/PING - Sound effect.mp3\n"
     ]
    }
   ],
   "source": [
    "# This Python 3 environment comes with many helpful analytics libraries installed\n",
    "# It is defined by the kaggle/python docker image: https://github.com/kaggle/docker-python\n",
    "# For example, here's several helpful packages to load in \n",
    "\n",
    "import numpy as np # linear algebra\n",
    "import pandas as pd # data processing, CSV file I/O (e.g. pd.read_csv)\n",
    "\n",
    "# Input data files are available in the \"../input/\" directory.\n",
    "# For example, running this (by clicking run or pressing Shift+Enter) will list all files under the input directory\n",
    "\n",
    "import os\n",
    "for dirname, _, filenames in os.walk('/kaggle/input'):\n",
    "    for filename in filenames:\n",
    "        print(os.path.join(dirname, filename))\n",
    "\n",
    "# Any results you write to the current directory are saved as output."
   ]
  },
  {
   "cell_type": "code",
   "execution_count": 29,
   "metadata": {
    "_cell_guid": "79c7e3d0-c299-4dcb-8224-4455121ee9b0",
    "_uuid": "d629ff2d2480ee46fbb7e2d37f6b5fab8052498a"
   },
   "outputs": [],
   "source": [
    "from sklearn.compose import ColumnTransformer\n",
    "from sklearn.pipeline import Pipeline, make_pipeline\n",
    "from sklearn.impute import SimpleImputer\n",
    "import xgboost as xgb\n",
    "from sklearn.preprocessing import OneHotEncoder\n",
    "import numpy as np\n",
    "import pandas as pd\n",
    "from sklearn.metrics import mean_absolute_error\n",
    "from sklearn.model_selection import train_test_split\n",
    "from IPython.display import Audio\n",
    "sound_file = '/kaggle/input/pingsound/PING - Sound effect.mp3'"
   ]
  },
  {
   "cell_type": "code",
   "execution_count": 82,
   "metadata": {},
   "outputs": [
    {
     "data": {
      "text/plain": [
       "(60000, 22)"
      ]
     },
     "metadata": {},
     "output_type": "display_data"
    },
    {
     "data": {
      "text/plain": [
       "(240000, 23)"
      ]
     },
     "metadata": {},
     "output_type": "display_data"
    }
   ],
   "source": [
    "test = pd.read_csv(\"../input/tp2datostrain/test.csv\")\n",
    "display(test.shape)\n",
    "train = pd.read_csv(\"../input/tp2datostrain/train.csv\")\n",
    "display(train.shape)"
   ]
  },
  {
   "cell_type": "code",
   "execution_count": 134,
   "metadata": {},
   "outputs": [],
   "source": [
    "#Elijo si voy a hacer train o test!\n",
    "TRAIN = True\n",
    "CV = True and TRAIN"
   ]
  },
  {
   "cell_type": "markdown",
   "metadata": {},
   "source": [
    "# Arreglo el DF"
   ]
  },
  {
   "cell_type": "code",
   "execution_count": 135,
   "metadata": {},
   "outputs": [],
   "source": [
    "df = train if TRAIN else test\n",
    "df[\"fecha\"] = pd.to_datetime(df[\"fecha\"])"
   ]
  },
  {
   "cell_type": "code",
   "execution_count": 136,
   "metadata": {},
   "outputs": [
    {
     "name": "stdout",
     "output_type": "stream",
     "text": [
      "Nulos idzona:  False    239521\n",
      "Name: idzona, dtype: int64\n",
      "Nulos coidad:  False    239521\n",
      "Name: ciudad, dtype: int64\n"
     ]
    },
    {
     "data": {
      "text/plain": [
       "0         50003995.0\n",
       "1            24481.0\n",
       "2            48638.0\n",
       "3            53666.0\n",
       "4            47735.0\n",
       "             ...    \n",
       "239995       53666.0\n",
       "239996       51929.0\n",
       "239997    50003995.0\n",
       "239998       24448.0\n",
       "239999       23734.0\n",
       "Name: idzona, Length: 239521, dtype: float64"
      ]
     },
     "execution_count": 136,
     "metadata": {},
     "output_type": "execute_result"
    }
   ],
   "source": [
    "#RELLENO LOS IDS CON LO QUE MAS APARECE EN LA CIUDAD\n",
    "def obtenerMasFrecuente(x):\n",
    "    x = pd.Series.mode(x)\n",
    "    s = x.loc[x>0]\n",
    "    if len(s.index)<=0:\n",
    "        return np.nan\n",
    "    return s.value_counts().index[0]\n",
    "print(\"Nulos idzona: \", df[\"idzona\"].isna().value_counts())\n",
    "print(\"Nulos coidad: \", df[\"ciudad\"].isna().value_counts())\n",
    "\n",
    "aux = df[[\"ciudad\", \"idzona\"]].copy()\n",
    "aux[\"ciudad\"].fillna(\"dummy\", inplace=True)\n",
    "#aux[\"idzona\"].fillna(-1, inplace=True)\n",
    "idzonaMasFrecuentePorCiudad = aux.groupby('ciudad')[\"idzona\"].transform(lambda x: obtenerMasFrecuente(x))\n",
    "idzonaMasFrecuentePorCiudad"
   ]
  },
  {
   "cell_type": "code",
   "execution_count": 137,
   "metadata": {},
   "outputs": [
    {
     "name": "stdout",
     "output_type": "stream",
     "text": [
      "Nulos idzona:  False    239521\n",
      "Name: idzona, dtype: int64\n",
      "Nulos idzona:  False    239521\n",
      "Name: idzona, dtype: int64\n"
     ]
    },
    {
     "data": {
      "text/plain": [
       "(239521, 24)"
      ]
     },
     "execution_count": 137,
     "metadata": {},
     "output_type": "execute_result"
    }
   ],
   "source": [
    "df.idzona.fillna(idzonaMasFrecuentePorCiudad, inplace = True)\n",
    "print(\"Nulos idzona: \", df[\"idzona\"].isna().value_counts())\n",
    "#DROPEO LAS COLUMNAS QUE QUEDARON SIN NADA\n",
    "df.dropna(subset=['idzona'], inplace = True)\n",
    "print(\"Nulos idzona: \", df[\"idzona\"].isnull().value_counts())\n",
    "df.shape"
   ]
  },
  {
   "cell_type": "code",
   "execution_count": 138,
   "metadata": {},
   "outputs": [],
   "source": [
    "def rellenar_con_X_por_grupo(df, grupo, rellenar, func):\n",
    "    valoresAgrupados = df.groupby(grupo)[rellenar].transform(func)\n",
    "    df[rellenar].fillna(valoresAgrupados, inplace=True)"
   ]
  },
  {
   "cell_type": "code",
   "execution_count": null,
   "metadata": {},
   "outputs": [
    {
     "name": "stdout",
     "output_type": "stream",
     "text": [
      "Nulos habitaciones:  False    217110\n",
      "True      22411\n",
      "Name: habitaciones, dtype: int64\n",
      "Nulos habitaciones:  False    238267\n",
      "True       1254\n",
      "Name: habitaciones, dtype: int64\n",
      "Nulos antiguedad:  False    196234\n",
      "True      43287\n",
      "Name: antiguedad, dtype: int64\n"
     ]
    }
   ],
   "source": [
    "#Reemplazo las habitaciones por la mediana de la zona\n",
    "print(\"Nulos habitaciones: \", df[\"habitaciones\"].isnull().value_counts())\n",
    "rellenar_con_X_por_grupo(df, \"idzona\", \"habitaciones\", lambda x: x.median())\n",
    "print(\"Nulos habitaciones: \", df[\"habitaciones\"].isnull().value_counts())\n",
    "#Relleno el resto con las mas frecuentes\n",
    "df['habitaciones'] = SimpleImputer(strategy='most_frequent').fit_transform(df[['habitaciones']])\n",
    "#Para la antiguedad relleno con el promedio de la zona\n",
    "print(\"Nulos antiguedad: \", df[\"antiguedad\"].isna().value_counts())\n",
    "medianaAntiguedadXZona = df.groupby(\"idzona\")[\"antiguedad\"].transform(lambda x: x.median())\n",
    "df[\"antiguedad\"].fillna(medianaAntiguedadXZona, inplace = True)\n",
    "print(\"Nulos antiguedad: \", df[\"antiguedad\"].isna().value_counts())\n",
    "#Reemplazo los banos por 1 que es lo minimo posible\n",
    "df.banos.fillna(1, inplace=True)\n",
    "#Relleno garages con 0 porque es lo mas probable\n",
    "df.garages.fillna(0, inplace = True)\n",
    "print(\"Nulos metrostotales: \", df[\"metrostotales\"].isna().value_counts())\n",
    "print(\"Nulos metroscubiertos: \", df[\"metroscubiertos\"].isna().value_counts())\n",
    "#COMO QUEDAN NULOS LOS RELLENO CON la mediana (porque la mediana es un valor, y es menos sensible a valores extremos) por ZONA / CIUDAD\n",
    "promedioMetrosCubiertosXZona = df.groupby(\"idzona\")[\"metroscubiertos\"].transform(lambda x: x.median())\n",
    "df[\"metroscubiertos\"].fillna(promedioMetrosCubiertosXZona, inplace = True)\n",
    "print(\"Nulos metroscubiertos: \", df[\"metroscubiertos\"].isna().value_counts())\n",
    "promedioMetrosTotalesXZona = df.groupby(\"idzona\")[\"metrostotales\"].transform(lambda x: x.median())\n",
    "df[\"metrostotales\"].fillna(promedioMetrosCubiertosXZona, inplace = True)\n",
    "print(\"Nulos metrostotales: \", df[\"metrostotales\"].isna().value_counts())"
   ]
  },
  {
   "cell_type": "code",
   "execution_count": null,
   "metadata": {},
   "outputs": [],
   "source": [
    "df[\"swapear\"] = df[\"metrostotales\"] < df[\"metroscubiertos\"]\n",
    "df_metros_arreglados = df.copy()\n",
    "aux = df_metros_arreglados.loc[df_metros_arreglados[\"swapear\"], \"metrostotales\"]\n",
    "if (not aux.empty):\n",
    "    df_metros_arreglados.loc[df_metros_arreglados[\"swapear\"],\"metrostotales\"] = \\\n",
    "    df_metros_arreglados.loc[df_metros_arreglados[\"swapear\"], \"metroscubiertos\"]\n",
    "    df_metros_arreglados.loc[df_metros_arreglados[\"swapear\"], \"metroscubiertos\"] = aux\n",
    "df_metros_arreglados.drop(columns=\"swapear\", inplace=True)\n",
    "(df_metros_arreglados[\"metrostotales\"] < df_metros_arreglados[\"metroscubiertos\"]).value_counts()\n",
    "df = df_metros_arreglados"
   ]
  },
  {
   "cell_type": "code",
   "execution_count": null,
   "metadata": {},
   "outputs": [],
   "source": [
    "df.garages.fillna(0, inplace = True)"
   ]
  },
  {
   "cell_type": "code",
   "execution_count": null,
   "metadata": {},
   "outputs": [],
   "source": [
    "df[\"nro_publicaciones_dia\"] = df.groupby(pd.Grouper(key='fecha', freq='D'))[\"id\"].transform(lambda x: len(x.index))\n",
    "df[\"nro_publicaciones_semana\"] = df.groupby(pd.Grouper(key='fecha', freq='W'))[\"id\"].transform(lambda x: len(x.index))\n",
    "df[\"nro_publicaciones_5_dias_habiles\"] = df.groupby(pd.Grouper(key='fecha', freq='B'))[\"id\"].transform(lambda x: len(x.index))\n",
    "df[\"nro_publicaciones_mes\"] = df.groupby(pd.Grouper(key='fecha', freq='M'))[\"id\"].transform(lambda x: len(x.index))"
   ]
  },
  {
   "cell_type": "code",
   "execution_count": null,
   "metadata": {},
   "outputs": [],
   "source": [
    "df.head()"
   ]
  },
  {
   "cell_type": "markdown",
   "metadata": {},
   "source": [
    "# Preprocesador"
   ]
  },
  {
   "cell_type": "code",
   "execution_count": null,
   "metadata": {},
   "outputs": [],
   "source": [
    "features = ['idzona',\n",
    "            \"metrostotales\", \"metroscubiertos\", \n",
    "            'garages',\n",
    "            'gimnasio','centroscomercialescercanos','usosmultiples','piscina','escuelascercanas',\n",
    "            'nro_publicaciones_dia',\n",
    "            'nro_publicaciones_semana',\n",
    "            'nro_publicaciones_5_dias_habiles',\n",
    "            'nro_publicaciones_mes',\n",
    "            'antiguedad',\n",
    "            'habitaciones',\n",
    "            ]"
   ]
  },
  {
   "cell_type": "code",
   "execution_count": null,
   "metadata": {},
   "outputs": [],
   "source": [
    "transformador_categorias = make_pipeline(SimpleImputer(strategy='most_frequent'),\n",
    "                                         OneHotEncoder(handle_unknown='ignore'))\n",
    "\n",
    "transformador_numeros = make_pipeline(SimpleImputer())"
   ]
  },
  {
   "cell_type": "code",
   "execution_count": null,
   "metadata": {},
   "outputs": [],
   "source": [
    "def obtenerFeaturesCategoricos(features):\n",
    "    l = []\n",
    "    for feature in features:\n",
    "        if not np.issubdtype(df[feature].dtype, np.number):\n",
    "            l.append(feature)\n",
    "    return l\n",
    "\n",
    "num_features = list(df[features].select_dtypes(include=[np.number]).columns)\n",
    "\n",
    "cat_features = list(obtenerFeaturesCategoricos(features))\n",
    "print (\"Features numericos:\", num_features, '\\nFeatures categoricos: ', cat_features)\n",
    "preprocessor = ColumnTransformer(\n",
    "    transformers=[\n",
    "        ('num', transformador_numeros, num_features),\n",
    "        ('cat', transformador_categorias, cat_features)\n",
    "    ])"
   ]
  },
  {
   "cell_type": "code",
   "execution_count": null,
   "metadata": {},
   "outputs": [],
   "source": [
    "model = xgb.XGBRegressor( n_estimators=200, learning_rate=0.1, max_depth=5, subsample_by_tree=0.5,\n",
    "                         colsample_by_col=0.5, min_child_weight=8,\n",
    "                     colsample_bytree = 0.6, x_gamma = 0.47299983077893815,\n",
    "                     x_reg_lambda = 0.12707727377560518, x_subsample = 0.7361630765924525,\n",
    "                     objective='reg:squarederror',\n",
    "                     #early_stopping_rounds=10,\n",
    "                     tree_method='gpu_hist', gpu_id=0) if TRAIN else model"
   ]
  },
  {
   "cell_type": "markdown",
   "metadata": {},
   "source": [
    "# Lo entreno"
   ]
  },
  {
   "cell_type": "code",
   "execution_count": 127,
   "metadata": {},
   "outputs": [],
   "source": [
    "y = df.precio.copy() if TRAIN else None\n",
    "\n",
    "X = df[features].copy()\n",
    "if CV:\n",
    "    Xaux, Txaux, yaux, Tyaux = train_test_split(X, y,train_size=0.8, test_size=0.2, random_state = 0)\n",
    "X = Xaux if CV else X\n",
    "y = yaux if CV else y\n",
    "Tx = Txaux if CV else None\n",
    "Ty = Tyaux if CV else None"
   ]
  },
  {
   "cell_type": "code",
   "execution_count": 128,
   "metadata": {},
   "outputs": [
    {
     "name": "stdout",
     "output_type": "stream",
     "text": [
      "[Pipeline] . (step 1 of 2) Processing columntransformer, total=   0.1s\n"
     ]
    },
    {
     "name": "stderr",
     "output_type": "stream",
     "text": [
      "/opt/conda/lib/python3.6/site-packages/xgboost/core.py:587: FutureWarning: Series.base is deprecated and will be removed in a future version\n",
      "  if getattr(data, 'base', None) is not None and \\\n"
     ]
    },
    {
     "name": "stdout",
     "output_type": "stream",
     "text": [
      "[Pipeline] ...... (step 2 of 2) Processing xgbregressor, total=   1.0s\n"
     ]
    }
   ],
   "source": [
    "if (TRAIN):\n",
    "    nuevo_pipeline = make_pipeline(preprocessor, model, verbose = True)\n",
    "    nuevo_pipeline.fit(X, y)\n",
    "else:\n",
    "    nuevo_pipeline = pipeline\n",
    "pipeline = nuevo_pipeline\n",
    "#model.get_booster().feature_names = features"
   ]
  },
  {
   "cell_type": "code",
   "execution_count": 129,
   "metadata": {},
   "outputs": [],
   "source": [
    "Tx = Tx if (TRAIN and CV) else X #Si estoy en TRAIN y con Cross Validatrion uso el Tx que ya armé. Sino el X entero\n",
    "predicciones = pipeline.predict(Tx)"
   ]
  },
  {
   "cell_type": "code",
   "execution_count": 130,
   "metadata": {},
   "outputs": [
    {
     "name": "stdout",
     "output_type": "stream",
     "text": [
      "MAE XGBoost:  742688.9649998206\n"
     ]
    }
   ],
   "source": [
    "if (TRAIN):\n",
    "    Ty = Ty if CV else y\n",
    "    print(\"MAE XGBoost: \", mean_absolute_error(Ty, predicciones))"
   ]
  },
  {
   "cell_type": "code",
   "execution_count": 131,
   "metadata": {},
   "outputs": [
    {
     "data": {
      "text/plain": [
       "<matplotlib.axes._subplots.AxesSubplot at 0x7fd117938f60>"
      ]
     },
     "execution_count": 131,
     "metadata": {},
     "output_type": "execute_result"
    },
    {
     "data": {
      "image/png": "[encoded data removed]",
      "text/plain": [
       "<Figure size 720x720 with 1 Axes>"
      ]
     },
     "metadata": {
      "needs_background": "light"
     },
     "output_type": "display_data"
    }
   ],
   "source": [
    "import matplotlib.pyplot as plt\n",
    "fig, ax = plt.subplots(1,1,figsize=(10,10))\n",
    "xgb.plot_importance(model.get_booster(), ax = ax)\n",
    "#for col,score in zip(X.columns,model.feature_importances_):    print(col,score)"
   ]
  },
  {
   "cell_type": "code",
   "execution_count": 48,
   "metadata": {},
   "outputs": [
    {
     "data": {
      "text/html": [
       "\n",
       "                <audio  controls=\"controls\" autoplay=\"autoplay\">\n",
       "                    <source src=\"data:audio/mpeg;base64,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\" type=\"audio/mpeg\" />\n",
       "                    Your browser does not support the audio element.\n",
       "                </audio>\n",
       "              "
      ],
      "text/plain": [
       "<IPython.lib.display.Audio object>"
      ]
     },
     "execution_count": 48,
     "metadata": {},
     "output_type": "execute_result"
    }
   ],
   "source": [
    "Audio(sound_file, autoplay=True)"
   ]
  },
  {
   "cell_type": "code",
   "execution_count": 49,
   "metadata": {
    "collapsed": true,
    "jupyter": {
     "outputs_hidden": true
    }
   },
   "outputs": [
    {
     "ename": "ValueError",
     "evalue": "Shape of passed values is (239521, 1), indices imply (60000, 1)",
     "output_type": "error",
     "traceback": [
      "\u001b[0;31m---------------------------------------------------------------------------\u001b[0m",
      "\u001b[0;31mValueError\u001b[0m                                Traceback (most recent call last)",
      "\u001b[0;32m/opt/conda/lib/python3.6/site-packages/pandas/core/internals/managers.py\u001b[0m in \u001b[0;36mcreate_block_manager_from_blocks\u001b[0;34m(blocks, axes)\u001b[0m\n\u001b[1;32m   1680\u001b[0m \u001b[0;34m\u001b[0m\u001b[0m\n\u001b[0;32m-> 1681\u001b[0;31m         \u001b[0mmgr\u001b[0m \u001b[0;34m=\u001b[0m \u001b[0mBlockManager\u001b[0m\u001b[0;34m(\u001b[0m\u001b[0mblocks\u001b[0m\u001b[0;34m,\u001b[0m \u001b[0maxes\u001b[0m\u001b[0;34m)\u001b[0m\u001b[0;34m\u001b[0m\u001b[0m\n\u001b[0m\u001b[1;32m   1682\u001b[0m         \u001b[0mmgr\u001b[0m\u001b[0;34m.\u001b[0m\u001b[0m_consolidate_inplace\u001b[0m\u001b[0;34m(\u001b[0m\u001b[0;34m)\u001b[0m\u001b[0;34m\u001b[0m\u001b[0m\n",
      "\u001b[0;32m/opt/conda/lib/python3.6/site-packages/pandas/core/internals/managers.py\u001b[0m in \u001b[0;36m__init__\u001b[0;34m(self, blocks, axes, do_integrity_check)\u001b[0m\n\u001b[1;32m    142\u001b[0m         \u001b[0;32mif\u001b[0m \u001b[0mdo_integrity_check\u001b[0m\u001b[0;34m:\u001b[0m\u001b[0;34m\u001b[0m\u001b[0m\n\u001b[0;32m--> 143\u001b[0;31m             \u001b[0mself\u001b[0m\u001b[0;34m.\u001b[0m\u001b[0m_verify_integrity\u001b[0m\u001b[0;34m(\u001b[0m\u001b[0;34m)\u001b[0m\u001b[0;34m\u001b[0m\u001b[0m\n\u001b[0m\u001b[1;32m    144\u001b[0m \u001b[0;34m\u001b[0m\u001b[0m\n",
      "\u001b[0;32m/opt/conda/lib/python3.6/site-packages/pandas/core/internals/managers.py\u001b[0m in \u001b[0;36m_verify_integrity\u001b[0;34m(self)\u001b[0m\n\u001b[1;32m    344\u001b[0m             \u001b[0;32mif\u001b[0m \u001b[0mblock\u001b[0m\u001b[0;34m.\u001b[0m\u001b[0m_verify_integrity\u001b[0m \u001b[0;32mand\u001b[0m \u001b[0mblock\u001b[0m\u001b[0;34m.\u001b[0m\u001b[0mshape\u001b[0m\u001b[0;34m[\u001b[0m\u001b[0;36m1\u001b[0m\u001b[0;34m:\u001b[0m\u001b[0;34m]\u001b[0m \u001b[0;34m!=\u001b[0m \u001b[0mmgr_shape\u001b[0m\u001b[0;34m[\u001b[0m\u001b[0;36m1\u001b[0m\u001b[0;34m:\u001b[0m\u001b[0;34m]\u001b[0m\u001b[0;34m:\u001b[0m\u001b[0;34m\u001b[0m\u001b[0m\n\u001b[0;32m--> 345\u001b[0;31m                 \u001b[0mconstruction_error\u001b[0m\u001b[0;34m(\u001b[0m\u001b[0mtot_items\u001b[0m\u001b[0;34m,\u001b[0m \u001b[0mblock\u001b[0m\u001b[0;34m.\u001b[0m\u001b[0mshape\u001b[0m\u001b[0;34m[\u001b[0m\u001b[0;36m1\u001b[0m\u001b[0;34m:\u001b[0m\u001b[0;34m]\u001b[0m\u001b[0;34m,\u001b[0m \u001b[0mself\u001b[0m\u001b[0;34m.\u001b[0m\u001b[0maxes\u001b[0m\u001b[0;34m)\u001b[0m\u001b[0;34m\u001b[0m\u001b[0m\n\u001b[0m\u001b[1;32m    346\u001b[0m         \u001b[0;32mif\u001b[0m \u001b[0mlen\u001b[0m\u001b[0;34m(\u001b[0m\u001b[0mself\u001b[0m\u001b[0;34m.\u001b[0m\u001b[0mitems\u001b[0m\u001b[0;34m)\u001b[0m \u001b[0;34m!=\u001b[0m \u001b[0mtot_items\u001b[0m\u001b[0;34m:\u001b[0m\u001b[0;34m\u001b[0m\u001b[0m\n",
      "\u001b[0;32m/opt/conda/lib/python3.6/site-packages/pandas/core/internals/managers.py\u001b[0m in \u001b[0;36mconstruction_error\u001b[0;34m(tot_items, block_shape, axes, e)\u001b[0m\n\u001b[1;32m   1718\u001b[0m     raise ValueError(\n\u001b[0;32m-> 1719\u001b[0;31m         \u001b[0;34m\"Shape of passed values is {0}, indices imply {1}\"\u001b[0m\u001b[0;34m.\u001b[0m\u001b[0mformat\u001b[0m\u001b[0;34m(\u001b[0m\u001b[0mpassed\u001b[0m\u001b[0;34m,\u001b[0m \u001b[0mimplied\u001b[0m\u001b[0;34m)\u001b[0m\u001b[0;34m\u001b[0m\u001b[0m\n\u001b[0m\u001b[1;32m   1720\u001b[0m     )\n",
      "\u001b[0;31mValueError\u001b[0m: Shape of passed values is (239521, 1), indices imply (60000, 1)",
      "\nDuring handling of the above exception, another exception occurred:\n",
      "\u001b[0;31mValueError\u001b[0m                                Traceback (most recent call last)",
      "\u001b[0;32m<ipython-input-49-1e34425cb291>\u001b[0m in \u001b[0;36m<module>\u001b[0;34m\u001b[0m\n\u001b[0;32m----> 1\u001b[0;31m \u001b[0mres\u001b[0m \u001b[0;34m=\u001b[0m \u001b[0mpd\u001b[0m\u001b[0;34m.\u001b[0m\u001b[0mDataFrame\u001b[0m\u001b[0;34m(\u001b[0m\u001b[0mpredicciones\u001b[0m\u001b[0;34m,\u001b[0m \u001b[0mindex\u001b[0m\u001b[0;34m=\u001b[0m\u001b[0mtest\u001b[0m\u001b[0;34m.\u001b[0m\u001b[0mid\u001b[0m\u001b[0;34m,\u001b[0m \u001b[0mcolumns\u001b[0m\u001b[0;34m=\u001b[0m\u001b[0;34m[\u001b[0m\u001b[0;34m'precio'\u001b[0m\u001b[0;34m]\u001b[0m\u001b[0;34m)\u001b[0m\u001b[0;34m\u001b[0m\u001b[0m\n\u001b[0m\u001b[1;32m      2\u001b[0m \u001b[0mres\u001b[0m\u001b[0;34m.\u001b[0m\u001b[0mreset_index\u001b[0m\u001b[0;34m(\u001b[0m\u001b[0minplace\u001b[0m\u001b[0;34m=\u001b[0m\u001b[0;32mTrue\u001b[0m\u001b[0;34m)\u001b[0m\u001b[0;34m\u001b[0m\u001b[0m\n\u001b[1;32m      3\u001b[0m \u001b[0mres\u001b[0m\u001b[0;34m.\u001b[0m\u001b[0mcolumns\u001b[0m \u001b[0;34m=\u001b[0m \u001b[0;34m[\u001b[0m\u001b[0;34m\"id\"\u001b[0m\u001b[0;34m,\u001b[0m \u001b[0;34m\"target\"\u001b[0m\u001b[0;34m]\u001b[0m\u001b[0;34m\u001b[0m\u001b[0m\n\u001b[1;32m      4\u001b[0m \u001b[0mdisplay\u001b[0m\u001b[0;34m(\u001b[0m\u001b[0mres\u001b[0m\u001b[0;34m.\u001b[0m\u001b[0mhead\u001b[0m\u001b[0;34m(\u001b[0m\u001b[0;34m)\u001b[0m\u001b[0;34m)\u001b[0m\u001b[0;34m\u001b[0m\u001b[0m\n\u001b[1;32m      5\u001b[0m \u001b[0;31m# RMSLE=1.0249284784393988 ?\u001b[0m\u001b[0;34m\u001b[0m\u001b[0;34m\u001b[0m\u001b[0m\n",
      "\u001b[0;32m/opt/conda/lib/python3.6/site-packages/pandas/core/frame.py\u001b[0m in \u001b[0;36m__init__\u001b[0;34m(self, data, index, columns, dtype, copy)\u001b[0m\n\u001b[1;32m    438\u001b[0m                 \u001b[0mmgr\u001b[0m \u001b[0;34m=\u001b[0m \u001b[0minit_dict\u001b[0m\u001b[0;34m(\u001b[0m\u001b[0;34m{\u001b[0m\u001b[0mdata\u001b[0m\u001b[0;34m.\u001b[0m\u001b[0mname\u001b[0m\u001b[0;34m:\u001b[0m \u001b[0mdata\u001b[0m\u001b[0;34m}\u001b[0m\u001b[0;34m,\u001b[0m \u001b[0mindex\u001b[0m\u001b[0;34m,\u001b[0m \u001b[0mcolumns\u001b[0m\u001b[0;34m,\u001b[0m \u001b[0mdtype\u001b[0m\u001b[0;34m=\u001b[0m\u001b[0mdtype\u001b[0m\u001b[0;34m)\u001b[0m\u001b[0;34m\u001b[0m\u001b[0m\n\u001b[1;32m    439\u001b[0m             \u001b[0;32melse\u001b[0m\u001b[0;34m:\u001b[0m\u001b[0;34m\u001b[0m\u001b[0m\n\u001b[0;32m--> 440\u001b[0;31m                 \u001b[0mmgr\u001b[0m \u001b[0;34m=\u001b[0m \u001b[0minit_ndarray\u001b[0m\u001b[0;34m(\u001b[0m\u001b[0mdata\u001b[0m\u001b[0;34m,\u001b[0m \u001b[0mindex\u001b[0m\u001b[0;34m,\u001b[0m \u001b[0mcolumns\u001b[0m\u001b[0;34m,\u001b[0m \u001b[0mdtype\u001b[0m\u001b[0;34m=\u001b[0m\u001b[0mdtype\u001b[0m\u001b[0;34m,\u001b[0m \u001b[0mcopy\u001b[0m\u001b[0;34m=\u001b[0m\u001b[0mcopy\u001b[0m\u001b[0;34m)\u001b[0m\u001b[0;34m\u001b[0m\u001b[0m\n\u001b[0m\u001b[1;32m    441\u001b[0m \u001b[0;34m\u001b[0m\u001b[0m\n\u001b[1;32m    442\u001b[0m         \u001b[0;31m# For data is list-like, or Iterable (will consume into list)\u001b[0m\u001b[0;34m\u001b[0m\u001b[0;34m\u001b[0m\u001b[0m\n",
      "\u001b[0;32m/opt/conda/lib/python3.6/site-packages/pandas/core/internals/construction.py\u001b[0m in \u001b[0;36minit_ndarray\u001b[0;34m(values, index, columns, dtype, copy)\u001b[0m\n\u001b[1;32m    211\u001b[0m         \u001b[0mblock_values\u001b[0m \u001b[0;34m=\u001b[0m \u001b[0;34m[\u001b[0m\u001b[0mvalues\u001b[0m\u001b[0;34m]\u001b[0m\u001b[0;34m\u001b[0m\u001b[0m\n\u001b[1;32m    212\u001b[0m \u001b[0;34m\u001b[0m\u001b[0m\n\u001b[0;32m--> 213\u001b[0;31m     \u001b[0;32mreturn\u001b[0m \u001b[0mcreate_block_manager_from_blocks\u001b[0m\u001b[0;34m(\u001b[0m\u001b[0mblock_values\u001b[0m\u001b[0;34m,\u001b[0m \u001b[0;34m[\u001b[0m\u001b[0mcolumns\u001b[0m\u001b[0;34m,\u001b[0m \u001b[0mindex\u001b[0m\u001b[0;34m]\u001b[0m\u001b[0;34m)\u001b[0m\u001b[0;34m\u001b[0m\u001b[0m\n\u001b[0m\u001b[1;32m    214\u001b[0m \u001b[0;34m\u001b[0m\u001b[0m\n\u001b[1;32m    215\u001b[0m \u001b[0;34m\u001b[0m\u001b[0m\n",
      "\u001b[0;32m/opt/conda/lib/python3.6/site-packages/pandas/core/internals/managers.py\u001b[0m in \u001b[0;36mcreate_block_manager_from_blocks\u001b[0;34m(blocks, axes)\u001b[0m\n\u001b[1;32m   1686\u001b[0m         \u001b[0mblocks\u001b[0m \u001b[0;34m=\u001b[0m \u001b[0;34m[\u001b[0m\u001b[0mgetattr\u001b[0m\u001b[0;34m(\u001b[0m\u001b[0mb\u001b[0m\u001b[0;34m,\u001b[0m \u001b[0;34m\"values\"\u001b[0m\u001b[0;34m,\u001b[0m \u001b[0mb\u001b[0m\u001b[0;34m)\u001b[0m \u001b[0;32mfor\u001b[0m \u001b[0mb\u001b[0m \u001b[0;32min\u001b[0m \u001b[0mblocks\u001b[0m\u001b[0;34m]\u001b[0m\u001b[0;34m\u001b[0m\u001b[0m\n\u001b[1;32m   1687\u001b[0m         \u001b[0mtot_items\u001b[0m \u001b[0;34m=\u001b[0m \u001b[0msum\u001b[0m\u001b[0;34m(\u001b[0m\u001b[0mb\u001b[0m\u001b[0;34m.\u001b[0m\u001b[0mshape\u001b[0m\u001b[0;34m[\u001b[0m\u001b[0;36m0\u001b[0m\u001b[0;34m]\u001b[0m \u001b[0;32mfor\u001b[0m \u001b[0mb\u001b[0m \u001b[0;32min\u001b[0m \u001b[0mblocks\u001b[0m\u001b[0;34m)\u001b[0m\u001b[0;34m\u001b[0m\u001b[0m\n\u001b[0;32m-> 1688\u001b[0;31m         \u001b[0mconstruction_error\u001b[0m\u001b[0;34m(\u001b[0m\u001b[0mtot_items\u001b[0m\u001b[0;34m,\u001b[0m \u001b[0mblocks\u001b[0m\u001b[0;34m[\u001b[0m\u001b[0;36m0\u001b[0m\u001b[0;34m]\u001b[0m\u001b[0;34m.\u001b[0m\u001b[0mshape\u001b[0m\u001b[0;34m[\u001b[0m\u001b[0;36m1\u001b[0m\u001b[0;34m:\u001b[0m\u001b[0;34m]\u001b[0m\u001b[0;34m,\u001b[0m \u001b[0maxes\u001b[0m\u001b[0;34m,\u001b[0m \u001b[0me\u001b[0m\u001b[0;34m)\u001b[0m\u001b[0;34m\u001b[0m\u001b[0m\n\u001b[0m\u001b[1;32m   1689\u001b[0m \u001b[0;34m\u001b[0m\u001b[0m\n\u001b[1;32m   1690\u001b[0m \u001b[0;34m\u001b[0m\u001b[0m\n",
      "\u001b[0;32m/opt/conda/lib/python3.6/site-packages/pandas/core/internals/managers.py\u001b[0m in \u001b[0;36mconstruction_error\u001b[0;34m(tot_items, block_shape, axes, e)\u001b[0m\n\u001b[1;32m   1717\u001b[0m         \u001b[0;32mraise\u001b[0m \u001b[0mValueError\u001b[0m\u001b[0;34m(\u001b[0m\u001b[0;34m\"Empty data passed with indices specified.\"\u001b[0m\u001b[0;34m)\u001b[0m\u001b[0;34m\u001b[0m\u001b[0m\n\u001b[1;32m   1718\u001b[0m     raise ValueError(\n\u001b[0;32m-> 1719\u001b[0;31m         \u001b[0;34m\"Shape of passed values is {0}, indices imply {1}\"\u001b[0m\u001b[0;34m.\u001b[0m\u001b[0mformat\u001b[0m\u001b[0;34m(\u001b[0m\u001b[0mpassed\u001b[0m\u001b[0;34m,\u001b[0m \u001b[0mimplied\u001b[0m\u001b[0;34m)\u001b[0m\u001b[0;34m\u001b[0m\u001b[0m\n\u001b[0m\u001b[1;32m   1720\u001b[0m     )\n\u001b[1;32m   1721\u001b[0m \u001b[0;34m\u001b[0m\u001b[0m\n",
      "\u001b[0;31mValueError\u001b[0m: Shape of passed values is (239521, 1), indices imply (60000, 1)"
     ]
    }
   ],
   "source": [
    "res = pd.DataFrame(predicciones, index=test.id, columns=['precio'])\n",
    "res.reset_index(inplace=True)\n",
    "res.columns = [\"id\", \"target\"]\n",
    "display(res.head())\n",
    "# RMSLE=1.0249284784393988 ?\n",
    "\n",
    "\n",
    "# import the modules we'll need\n",
    "from IPython.display import HTML\n",
    "import base64\n",
    "\n",
    "# function that takes in a dataframe and creates a text link to  \n",
    "# download it (will only work for files < 2MB or so)\n",
    "def create_download_link(df, title = \"Download CSV file\", filename = \"resultados.csv\"):  \n",
    "    csv = df.to_csv(index=False)\n",
    "    b64 = base64.b64encode(csv.encode())\n",
    "    payload = b64.decode()\n",
    "    html = '<a download=\"{filename}\" href=\"data:text/csv;base64,{payload}\" target=\"_blank\">{title}</a>'\n",
    "    html = html.format(payload=payload,title=title,filename=filename)\n",
    "    return HTML(html)\n",
    "\n",
    "# create a link to download the dataframe\n",
    "create_download_link(res)"
   ]
  },
  {
   "cell_type": "code",
   "execution_count": 132,
   "metadata": {},
   "outputs": [
    {
     "name": "stderr",
     "output_type": "stream",
     "text": [
      "/opt/conda/lib/python3.6/site-packages/ipykernel_launcher.py:2: FutureWarning: Method .as_matrix will be removed in a future version. Use .values instead.\n",
      "  \n",
      "/opt/conda/lib/python3.6/site-packages/xgboost/core.py:587: FutureWarning: Series.base is deprecated and will be removed in a future version\n",
      "  if getattr(data, 'base', None) is not None and \\\n"
     ]
    },
    {
     "name": "stdout",
     "output_type": "stream",
     "text": [
      "[Pipeline] . (step 1 of 2) Processing columntransformer, total=   0.1s\n",
      "[0]\tvalidation_0-rmse:3.05917e+06\tvalidation_1-rmse:3.05138e+06\n",
      "[1]\tvalidation_0-rmse:2.82045e+06\tvalidation_1-rmse:2.81336e+06\n",
      "[2]\tvalidation_0-rmse:2.66852e+06\tvalidation_1-rmse:2.66153e+06\n",
      "[3]\tvalidation_0-rmse:2.50934e+06\tvalidation_1-rmse:2.50265e+06\n",
      "[4]\tvalidation_0-rmse:2.35058e+06\tvalidation_1-rmse:2.34354e+06\n",
      "[5]\tvalidation_0-rmse:2.23111e+06\tvalidation_1-rmse:2.22417e+06\n",
      "[6]\tvalidation_0-rmse:2.12917e+06\tvalidation_1-rmse:2.12283e+06\n",
      "[7]\tvalidation_0-rmse:2.0231e+06\tvalidation_1-rmse:2.01763e+06\n",
      "[8]\tvalidation_0-rmse:1.96092e+06\tvalidation_1-rmse:1.95562e+06\n",
      "[9]\tvalidation_0-rmse:1.88052e+06\tvalidation_1-rmse:1.87508e+06\n",
      "[10]\tvalidation_0-rmse:1.82691e+06\tvalidation_1-rmse:1.82218e+06\n",
      "[11]\tvalidation_0-rmse:1.77857e+06\tvalidation_1-rmse:1.77423e+06\n",
      "[12]\tvalidation_0-rmse:1.72278e+06\tvalidation_1-rmse:1.71953e+06\n",
      "[13]\tvalidation_0-rmse:1.68352e+06\tvalidation_1-rmse:1.68045e+06\n",
      "[14]\tvalidation_0-rmse:1.6437e+06\tvalidation_1-rmse:1.64063e+06\n",
      "[15]\tvalidation_0-rmse:1.61069e+06\tvalidation_1-rmse:1.60808e+06\n",
      "[16]\tvalidation_0-rmse:1.57609e+06\tvalidation_1-rmse:1.57384e+06\n",
      "[17]\tvalidation_0-rmse:1.55711e+06\tvalidation_1-rmse:1.55509e+06\n",
      "[18]\tvalidation_0-rmse:1.54148e+06\tvalidation_1-rmse:1.53975e+06\n",
      "[19]\tvalidation_0-rmse:1.51813e+06\tvalidation_1-rmse:1.51644e+06\n",
      "[20]\tvalidation_0-rmse:1.5054e+06\tvalidation_1-rmse:1.50368e+06\n",
      "[21]\tvalidation_0-rmse:1.4828e+06\tvalidation_1-rmse:1.48148e+06\n",
      "[22]\tvalidation_0-rmse:1.46653e+06\tvalidation_1-rmse:1.46504e+06\n",
      "[23]\tvalidation_0-rmse:1.45887e+06\tvalidation_1-rmse:1.45747e+06\n",
      "[24]\tvalidation_0-rmse:1.45318e+06\tvalidation_1-rmse:1.45187e+06\n",
      "[25]\tvalidation_0-rmse:1.4431e+06\tvalidation_1-rmse:1.4417e+06\n",
      "[26]\tvalidation_0-rmse:1.43803e+06\tvalidation_1-rmse:1.43676e+06\n",
      "[27]\tvalidation_0-rmse:1.42659e+06\tvalidation_1-rmse:1.42551e+06\n",
      "[28]\tvalidation_0-rmse:1.41903e+06\tvalidation_1-rmse:1.41802e+06\n",
      "[29]\tvalidation_0-rmse:1.41092e+06\tvalidation_1-rmse:1.40994e+06\n",
      "[30]\tvalidation_0-rmse:1.40492e+06\tvalidation_1-rmse:1.40404e+06\n",
      "[31]\tvalidation_0-rmse:1.39591e+06\tvalidation_1-rmse:1.39528e+06\n",
      "[32]\tvalidation_0-rmse:1.38956e+06\tvalidation_1-rmse:1.38906e+06\n",
      "[33]\tvalidation_0-rmse:1.38347e+06\tvalidation_1-rmse:1.38328e+06\n",
      "[34]\tvalidation_0-rmse:1.37747e+06\tvalidation_1-rmse:1.37732e+06\n",
      "[35]\tvalidation_0-rmse:1.37415e+06\tvalidation_1-rmse:1.37406e+06\n",
      "[36]\tvalidation_0-rmse:1.37123e+06\tvalidation_1-rmse:1.3713e+06\n",
      "[37]\tvalidation_0-rmse:1.36599e+06\tvalidation_1-rmse:1.36627e+06\n",
      "[38]\tvalidation_0-rmse:1.36042e+06\tvalidation_1-rmse:1.36095e+06\n",
      "[39]\tvalidation_0-rmse:1.35902e+06\tvalidation_1-rmse:1.35965e+06\n",
      "[40]\tvalidation_0-rmse:1.35462e+06\tvalidation_1-rmse:1.35523e+06\n",
      "[41]\tvalidation_0-rmse:1.3524e+06\tvalidation_1-rmse:1.35315e+06\n",
      "[42]\tvalidation_0-rmse:1.35058e+06\tvalidation_1-rmse:1.35167e+06\n",
      "[43]\tvalidation_0-rmse:1.34625e+06\tvalidation_1-rmse:1.34775e+06\n",
      "[44]\tvalidation_0-rmse:1.34297e+06\tvalidation_1-rmse:1.34437e+06\n",
      "[45]\tvalidation_0-rmse:1.34188e+06\tvalidation_1-rmse:1.34327e+06\n",
      "[46]\tvalidation_0-rmse:1.33516e+06\tvalidation_1-rmse:1.33687e+06\n",
      "[47]\tvalidation_0-rmse:1.33349e+06\tvalidation_1-rmse:1.33541e+06\n",
      "[48]\tvalidation_0-rmse:1.3297e+06\tvalidation_1-rmse:1.33166e+06\n",
      "[49]\tvalidation_0-rmse:1.32775e+06\tvalidation_1-rmse:1.32974e+06\n",
      "[50]\tvalidation_0-rmse:1.32654e+06\tvalidation_1-rmse:1.32853e+06\n",
      "[51]\tvalidation_0-rmse:1.32323e+06\tvalidation_1-rmse:1.32502e+06\n",
      "[52]\tvalidation_0-rmse:1.32171e+06\tvalidation_1-rmse:1.3237e+06\n",
      "[53]\tvalidation_0-rmse:1.31991e+06\tvalidation_1-rmse:1.32214e+06\n",
      "[54]\tvalidation_0-rmse:1.31699e+06\tvalidation_1-rmse:1.31947e+06\n",
      "[55]\tvalidation_0-rmse:1.31618e+06\tvalidation_1-rmse:1.3187e+06\n",
      "[56]\tvalidation_0-rmse:1.31414e+06\tvalidation_1-rmse:1.31639e+06\n",
      "[57]\tvalidation_0-rmse:1.30977e+06\tvalidation_1-rmse:1.31241e+06\n",
      "[58]\tvalidation_0-rmse:1.30918e+06\tvalidation_1-rmse:1.31184e+06\n",
      "[59]\tvalidation_0-rmse:1.30844e+06\tvalidation_1-rmse:1.31113e+06\n",
      "[60]\tvalidation_0-rmse:1.30478e+06\tvalidation_1-rmse:1.30785e+06\n",
      "[61]\tvalidation_0-rmse:1.30382e+06\tvalidation_1-rmse:1.30692e+06\n",
      "[62]\tvalidation_0-rmse:1.30143e+06\tvalidation_1-rmse:1.30473e+06\n",
      "[63]\tvalidation_0-rmse:1.30098e+06\tvalidation_1-rmse:1.30434e+06\n",
      "[64]\tvalidation_0-rmse:1.2992e+06\tvalidation_1-rmse:1.30278e+06\n",
      "[65]\tvalidation_0-rmse:1.29799e+06\tvalidation_1-rmse:1.30159e+06\n",
      "[66]\tvalidation_0-rmse:1.2951e+06\tvalidation_1-rmse:1.29934e+06\n",
      "[67]\tvalidation_0-rmse:1.2913e+06\tvalidation_1-rmse:1.29587e+06\n",
      "[68]\tvalidation_0-rmse:1.29077e+06\tvalidation_1-rmse:1.29547e+06\n",
      "[69]\tvalidation_0-rmse:1.29024e+06\tvalidation_1-rmse:1.29494e+06\n",
      "[70]\tvalidation_0-rmse:1.28976e+06\tvalidation_1-rmse:1.29454e+06\n",
      "[71]\tvalidation_0-rmse:1.28836e+06\tvalidation_1-rmse:1.29315e+06\n",
      "[72]\tvalidation_0-rmse:1.28538e+06\tvalidation_1-rmse:1.29046e+06\n",
      "[73]\tvalidation_0-rmse:1.28504e+06\tvalidation_1-rmse:1.29027e+06\n",
      "[74]\tvalidation_0-rmse:1.28418e+06\tvalidation_1-rmse:1.28942e+06\n",
      "[75]\tvalidation_0-rmse:1.28397e+06\tvalidation_1-rmse:1.28925e+06\n",
      "[76]\tvalidation_0-rmse:1.28354e+06\tvalidation_1-rmse:1.28885e+06\n",
      "[77]\tvalidation_0-rmse:1.28313e+06\tvalidation_1-rmse:1.28856e+06\n",
      "[78]\tvalidation_0-rmse:1.28238e+06\tvalidation_1-rmse:1.28787e+06\n",
      "[79]\tvalidation_0-rmse:1.28123e+06\tvalidation_1-rmse:1.28688e+06\n",
      "[80]\tvalidation_0-rmse:1.27891e+06\tvalidation_1-rmse:1.28458e+06\n",
      "[81]\tvalidation_0-rmse:1.27739e+06\tvalidation_1-rmse:1.28327e+06\n",
      "[82]\tvalidation_0-rmse:1.27588e+06\tvalidation_1-rmse:1.28152e+06\n",
      "[83]\tvalidation_0-rmse:1.27524e+06\tvalidation_1-rmse:1.2809e+06\n",
      "[84]\tvalidation_0-rmse:1.27402e+06\tvalidation_1-rmse:1.27982e+06\n",
      "[85]\tvalidation_0-rmse:1.27271e+06\tvalidation_1-rmse:1.27866e+06\n",
      "[86]\tvalidation_0-rmse:1.27264e+06\tvalidation_1-rmse:1.27881e+06\n",
      "[87]\tvalidation_0-rmse:1.27151e+06\tvalidation_1-rmse:1.27763e+06\n",
      "[88]\tvalidation_0-rmse:1.27061e+06\tvalidation_1-rmse:1.27668e+06\n",
      "[89]\tvalidation_0-rmse:1.26985e+06\tvalidation_1-rmse:1.27595e+06\n",
      "[90]\tvalidation_0-rmse:1.26804e+06\tvalidation_1-rmse:1.27432e+06\n",
      "[91]\tvalidation_0-rmse:1.26717e+06\tvalidation_1-rmse:1.27351e+06\n",
      "[92]\tvalidation_0-rmse:1.2659e+06\tvalidation_1-rmse:1.27231e+06\n",
      "[93]\tvalidation_0-rmse:1.26946e+06\tvalidation_1-rmse:1.27593e+06\n",
      "[94]\tvalidation_0-rmse:1.26873e+06\tvalidation_1-rmse:1.2753e+06\n",
      "[95]\tvalidation_0-rmse:1.26827e+06\tvalidation_1-rmse:1.27486e+06\n",
      "[96]\tvalidation_0-rmse:1.26751e+06\tvalidation_1-rmse:1.27408e+06\n",
      "[97]\tvalidation_0-rmse:1.26657e+06\tvalidation_1-rmse:1.27335e+06\n",
      "[98]\tvalidation_0-rmse:1.26572e+06\tvalidation_1-rmse:1.27235e+06\n",
      "[99]\tvalidation_0-rmse:1.26474e+06\tvalidation_1-rmse:1.27145e+06\n",
      "[100]\tvalidation_0-rmse:1.26431e+06\tvalidation_1-rmse:1.27102e+06\n",
      "[101]\tvalidation_0-rmse:1.2642e+06\tvalidation_1-rmse:1.27112e+06\n",
      "[102]\tvalidation_0-rmse:1.26396e+06\tvalidation_1-rmse:1.27077e+06\n",
      "[103]\tvalidation_0-rmse:1.26282e+06\tvalidation_1-rmse:1.26976e+06\n",
      "[104]\tvalidation_0-rmse:1.26294e+06\tvalidation_1-rmse:1.26973e+06\n",
      "[105]\tvalidation_0-rmse:1.26207e+06\tvalidation_1-rmse:1.26892e+06\n",
      "[106]\tvalidation_0-rmse:1.26142e+06\tvalidation_1-rmse:1.26836e+06\n",
      "[107]\tvalidation_0-rmse:1.26043e+06\tvalidation_1-rmse:1.26741e+06\n",
      "[108]\tvalidation_0-rmse:1.25964e+06\tvalidation_1-rmse:1.26668e+06\n",
      "[109]\tvalidation_0-rmse:1.25828e+06\tvalidation_1-rmse:1.26552e+06\n",
      "[110]\tvalidation_0-rmse:1.25755e+06\tvalidation_1-rmse:1.26481e+06\n",
      "[111]\tvalidation_0-rmse:1.25733e+06\tvalidation_1-rmse:1.26464e+06\n",
      "[112]\tvalidation_0-rmse:1.25725e+06\tvalidation_1-rmse:1.26447e+06\n",
      "[113]\tvalidation_0-rmse:1.25716e+06\tvalidation_1-rmse:1.26441e+06\n",
      "[114]\tvalidation_0-rmse:1.25663e+06\tvalidation_1-rmse:1.26387e+06\n",
      "[115]\tvalidation_0-rmse:1.25592e+06\tvalidation_1-rmse:1.26319e+06\n",
      "[116]\tvalidation_0-rmse:1.25507e+06\tvalidation_1-rmse:1.26237e+06\n",
      "[117]\tvalidation_0-rmse:1.25504e+06\tvalidation_1-rmse:1.26252e+06\n",
      "[118]\tvalidation_0-rmse:1.25487e+06\tvalidation_1-rmse:1.26242e+06\n",
      "[119]\tvalidation_0-rmse:1.25478e+06\tvalidation_1-rmse:1.26234e+06\n",
      "[120]\tvalidation_0-rmse:1.25433e+06\tvalidation_1-rmse:1.26194e+06\n",
      "[121]\tvalidation_0-rmse:1.25416e+06\tvalidation_1-rmse:1.26186e+06\n",
      "[122]\tvalidation_0-rmse:1.25403e+06\tvalidation_1-rmse:1.26179e+06\n",
      "[123]\tvalidation_0-rmse:1.25251e+06\tvalidation_1-rmse:1.26052e+06\n",
      "[124]\tvalidation_0-rmse:1.25303e+06\tvalidation_1-rmse:1.2612e+06\n",
      "[125]\tvalidation_0-rmse:1.2528e+06\tvalidation_1-rmse:1.26104e+06\n",
      "[126]\tvalidation_0-rmse:1.25207e+06\tvalidation_1-rmse:1.26043e+06\n",
      "[127]\tvalidation_0-rmse:1.25169e+06\tvalidation_1-rmse:1.26011e+06\n",
      "[128]\tvalidation_0-rmse:1.25302e+06\tvalidation_1-rmse:1.26163e+06\n",
      "[129]\tvalidation_0-rmse:1.2531e+06\tvalidation_1-rmse:1.26180e+06\n",
      "[130]\tvalidation_0-rmse:1.25297e+06\tvalidation_1-rmse:1.26171e+06\n",
      "[131]\tvalidation_0-rmse:1.25279e+06\tvalidation_1-rmse:1.26154e+06\n",
      "[132]\tvalidation_0-rmse:1.25261e+06\tvalidation_1-rmse:1.26131e+06\n",
      "[133]\tvalidation_0-rmse:1.25232e+06\tvalidation_1-rmse:1.2611e+06\n",
      "[134]\tvalidation_0-rmse:1.25249e+06\tvalidation_1-rmse:1.2614e+06\n",
      "[135]\tvalidation_0-rmse:1.25209e+06\tvalidation_1-rmse:1.26101e+06\n",
      "[136]\tvalidation_0-rmse:1.25216e+06\tvalidation_1-rmse:1.26117e+06\n",
      "[137]\tvalidation_0-rmse:1.24929e+06\tvalidation_1-rmse:1.25847e+06\n",
      "[138]\tvalidation_0-rmse:1.24888e+06\tvalidation_1-rmse:1.25815e+06\n",
      "[139]\tvalidation_0-rmse:1.25077e+06\tvalidation_1-rmse:1.26011e+06\n",
      "[140]\tvalidation_0-rmse:1.25043e+06\tvalidation_1-rmse:1.2599e+06\n",
      "[141]\tvalidation_0-rmse:1.25045e+06\tvalidation_1-rmse:1.25994e+06\n",
      "[142]\tvalidation_0-rmse:1.24958e+06\tvalidation_1-rmse:1.25916e+06\n",
      "[143]\tvalidation_0-rmse:1.24936e+06\tvalidation_1-rmse:1.25897e+06\n",
      "[144]\tvalidation_0-rmse:1.24924e+06\tvalidation_1-rmse:1.25883e+06\n",
      "[145]\tvalidation_0-rmse:1.24912e+06\tvalidation_1-rmse:1.25872e+06\n",
      "[146]\tvalidation_0-rmse:1.24906e+06\tvalidation_1-rmse:1.25866e+06\n",
      "[147]\tvalidation_0-rmse:1.24942e+06\tvalidation_1-rmse:1.25913e+06\n",
      "[148]\tvalidation_0-rmse:1.25001e+06\tvalidation_1-rmse:1.2598e+06\n",
      "[149]\tvalidation_0-rmse:1.25008e+06\tvalidation_1-rmse:1.25963e+06\n",
      "[150]\tvalidation_0-rmse:1.24924e+06\tvalidation_1-rmse:1.25849e+06\n",
      "[151]\tvalidation_0-rmse:1.24891e+06\tvalidation_1-rmse:1.2582e+06\n",
      "[152]\tvalidation_0-rmse:1.24818e+06\tvalidation_1-rmse:1.25751e+06\n",
      "[153]\tvalidation_0-rmse:1.2482e+06\tvalidation_1-rmse:1.25761e+06\n",
      "[154]\tvalidation_0-rmse:1.24713e+06\tvalidation_1-rmse:1.2567e+06\n",
      "[155]\tvalidation_0-rmse:1.24679e+06\tvalidation_1-rmse:1.25655e+06\n",
      "[156]\tvalidation_0-rmse:1.24629e+06\tvalidation_1-rmse:1.25612e+06\n",
      "[157]\tvalidation_0-rmse:1.24541e+06\tvalidation_1-rmse:1.25537e+06\n",
      "[158]\tvalidation_0-rmse:1.24536e+06\tvalidation_1-rmse:1.25547e+06\n",
      "[159]\tvalidation_0-rmse:1.24649e+06\tvalidation_1-rmse:1.2568e+06\n",
      "[160]\tvalidation_0-rmse:1.24635e+06\tvalidation_1-rmse:1.25673e+06\n",
      "[161]\tvalidation_0-rmse:1.24638e+06\tvalidation_1-rmse:1.25682e+06\n",
      "[162]\tvalidation_0-rmse:1.24528e+06\tvalidation_1-rmse:1.2557e+06\n",
      "[163]\tvalidation_0-rmse:1.24492e+06\tvalidation_1-rmse:1.25548e+06\n",
      "[164]\tvalidation_0-rmse:1.24443e+06\tvalidation_1-rmse:1.25512e+06\n",
      "[165]\tvalidation_0-rmse:1.24326e+06\tvalidation_1-rmse:1.25408e+06\n",
      "[166]\tvalidation_0-rmse:1.24316e+06\tvalidation_1-rmse:1.25404e+06\n",
      "[167]\tvalidation_0-rmse:1.24447e+06\tvalidation_1-rmse:1.25531e+06\n",
      "[168]\tvalidation_0-rmse:1.24399e+06\tvalidation_1-rmse:1.2549e+06\n",
      "[169]\tvalidation_0-rmse:1.2437e+06\tvalidation_1-rmse:1.25466e+06\n",
      "[170]\tvalidation_0-rmse:1.24341e+06\tvalidation_1-rmse:1.25443e+06\n",
      "[171]\tvalidation_0-rmse:1.24338e+06\tvalidation_1-rmse:1.25441e+06\n",
      "[172]\tvalidation_0-rmse:1.24301e+06\tvalidation_1-rmse:1.25412e+06\n",
      "[173]\tvalidation_0-rmse:1.24283e+06\tvalidation_1-rmse:1.25402e+06\n",
      "[174]\tvalidation_0-rmse:1.24403e+06\tvalidation_1-rmse:1.25536e+06\n",
      "[175]\tvalidation_0-rmse:1.2436e+06\tvalidation_1-rmse:1.25495e+06\n",
      "[176]\tvalidation_0-rmse:1.2427e+06\tvalidation_1-rmse:1.2541e+06\n",
      "[177]\tvalidation_0-rmse:1.24235e+06\tvalidation_1-rmse:1.25378e+06\n",
      "[178]\tvalidation_0-rmse:1.24189e+06\tvalidation_1-rmse:1.25345e+06\n",
      "[179]\tvalidation_0-rmse:1.23918e+06\tvalidation_1-rmse:1.25097e+06\n",
      "[180]\tvalidation_0-rmse:1.23882e+06\tvalidation_1-rmse:1.2507e+06\n",
      "[181]\tvalidation_0-rmse:1.23821e+06\tvalidation_1-rmse:1.25011e+06\n",
      "[182]\tvalidation_0-rmse:1.23803e+06\tvalidation_1-rmse:1.25005e+06\n",
      "[183]\tvalidation_0-rmse:1.23815e+06\tvalidation_1-rmse:1.25032e+06\n",
      "[184]\tvalidation_0-rmse:1.23784e+06\tvalidation_1-rmse:1.25017e+06\n",
      "[185]\tvalidation_0-rmse:1.23729e+06\tvalidation_1-rmse:1.24966e+06\n",
      "[186]\tvalidation_0-rmse:1.23718e+06\tvalidation_1-rmse:1.24964e+06\n",
      "[187]\tvalidation_0-rmse:1.23686e+06\tvalidation_1-rmse:1.24941e+06\n",
      "[188]\tvalidation_0-rmse:1.23683e+06\tvalidation_1-rmse:1.24942e+06\n",
      "[189]\tvalidation_0-rmse:1.23645e+06\tvalidation_1-rmse:1.24912e+06\n",
      "[190]\tvalidation_0-rmse:1.2364e+06\tvalidation_1-rmse:1.2491e+06\n",
      "[191]\tvalidation_0-rmse:1.23601e+06\tvalidation_1-rmse:1.24874e+06\n",
      "[192]\tvalidation_0-rmse:1.23577e+06\tvalidation_1-rmse:1.24855e+06\n",
      "[193]\tvalidation_0-rmse:1.23585e+06\tvalidation_1-rmse:1.24873e+06\n",
      "[194]\tvalidation_0-rmse:1.23561e+06\tvalidation_1-rmse:1.24861e+06\n",
      "[195]\tvalidation_0-rmse:1.23523e+06\tvalidation_1-rmse:1.24837e+06\n",
      "[196]\tvalidation_0-rmse:1.23504e+06\tvalidation_1-rmse:1.2483e+06\n",
      "[197]\tvalidation_0-rmse:1.23460e+06\tvalidation_1-rmse:1.2479e+06\n",
      "[198]\tvalidation_0-rmse:1.23446e+06\tvalidation_1-rmse:1.24783e+06\n",
      "[199]\tvalidation_0-rmse:1.23399e+06\tvalidation_1-rmse:1.24746e+06\n",
      "[Pipeline] ...... (step 2 of 2) Processing xgbregressor, total=   1.5s\n",
      "Accuracy: 0.00%\n"
     ]
    }
   ],
   "source": [
    "from sklearn.metrics import accuracy_score\n",
    "pipeline.fit(X,y, xgbregressor__eval_set=[(X.as_matrix(), y.as_matrix()), (Tx.as_matrix(), Ty.as_matrix())])\n",
    "preds = pipeline.predict(Tx)\n",
    "predictions = [round(value) for value in preds]\n",
    "# evaluate predictions\n",
    "accuracy = accuracy_score(Ty, predictions)\n",
    "print(\"Accuracy: %.2f%%\" % (accuracy * 100.0))"
   ]
  },
  {
   "cell_type": "code",
   "execution_count": 133,
   "metadata": {},
   "outputs": [
    {
     "data": {
      "text/plain": [
       "\"\\nfig, ax = pyplot.subplots()\\nax.plot(x_axis, results['validation_0']['error'], label='Train')\\nax.plot(x_axis, results['validation_1']['error'], label='Test')\\nax.legend()\\npyplot.ylabel('Classification Error')\\npyplot.title('XGBoost Classification Error')\\npyplot.show()\\n\""
      ]
     },
     "execution_count": 133,
     "metadata": {},
     "output_type": "execute_result"
    },
    {
     "data": {
      "image/png": "[encoded data removed]",
      "text/plain": [
       "<Figure size 432x288 with 1 Axes>"
      ]
     },
     "metadata": {
      "needs_background": "light"
     },
     "output_type": "display_data"
    }
   ],
   "source": [
    "# retrieve performance metrics\n",
    "results = model.evals_result()\n",
    "epochs = len(results['validation_0']['rmse'])\n",
    "x_axis = range(0, epochs)\n",
    "# plot log loss\n",
    "fig, ax = plt.subplots()\n",
    "ax.plot(x_axis, results['validation_0']['rmse'], label='Train')\n",
    "ax.plot(x_axis, results['validation_1']['rmse'], label='Test')\n",
    "ax.legend()\n",
    "plt.ylabel('rmse')\n",
    "plt.title('XGBoost rmse')\n",
    "# plot classification error\n",
    "\"\"\"\n",
    "fig, ax = pyplot.subplots()\n",
    "ax.plot(x_axis, results['validation_0']['error'], label='Train')\n",
    "ax.plot(x_axis, results['validation_1']['error'], label='Test')\n",
    "ax.legend()\n",
    "pyplot.ylabel('Classification Error')\n",
    "pyplot.title('XGBoost Classification Error')\n",
    "pyplot.show()\n",
    "\"\"\""
   ]
  },
  {
   "cell_type": "code",
   "execution_count": 55,
   "metadata": {},
   "outputs": [
    {
     "name": "stderr",
     "output_type": "stream",
     "text": [
      "/opt/conda/lib/python3.6/site-packages/sklearn/model_selection/_split.py:657: Warning: The least populated class in y has only 1 members, which is too few. The minimum number of members in any class cannot be less than n_splits=10.\n",
      "  % (min_groups, self.n_splits)), Warning)\n"
     ]
    },
    {
     "name": "stdout",
     "output_type": "stream",
     "text": [
      "[Pipeline] . (step 1 of 2) Processing columntransformer, total=   0.1s\n"
     ]
    },
    {
     "name": "stderr",
     "output_type": "stream",
     "text": [
      "/opt/conda/lib/python3.6/site-packages/xgboost/core.py:587: FutureWarning: Series.base is deprecated and will be removed in a future version\n",
      "  if getattr(data, 'base', None) is not None and \\\n"
     ]
    },
    {
     "name": "stdout",
     "output_type": "stream",
     "text": [
      "[Pipeline] ...... (step 2 of 2) Processing xgbregressor, total=   8.7s\n",
      "Best: -692115.603669 using {'xgbregressor__learning_rate': 0.1}\n",
      "-2074028.159496 (5599.137814) with: {'xgbregressor__learning_rate': 0.0001}\n",
      "-913110.556678 (3414.493774) with: {'xgbregressor__learning_rate': 0.001}\n",
      "-739760.306702 (4107.704996) with: {'xgbregressor__learning_rate': 0.01}\n",
      "-692115.603669 (2871.645530) with: {'xgbregressor__learning_rate': 0.1}\n",
      "-697472.317289 (2977.719406) with: {'xgbregressor__learning_rate': 0.2}\n",
      "-708416.022251 (3574.017689) with: {'xgbregressor__learning_rate': 0.3}\n"
     ]
    },
    {
     "ename": "NameError",
     "evalue": "name 'pyplot' is not defined",
     "output_type": "error",
     "traceback": [
      "\u001b[0;31m---------------------------------------------------------------------------\u001b[0m",
      "\u001b[0;31mNameError\u001b[0m                                 Traceback (most recent call last)",
      "\u001b[0;32m<ipython-input-55-3a686bf28dab>\u001b[0m in \u001b[0;36m<module>\u001b[0;34m\u001b[0m\n\u001b[1;32m     12\u001b[0m         \u001b[0mprint\u001b[0m\u001b[0;34m(\u001b[0m\u001b[0;34m\"%f (%f) with: %r\"\u001b[0m \u001b[0;34m%\u001b[0m \u001b[0;34m(\u001b[0m\u001b[0mmean\u001b[0m\u001b[0;34m,\u001b[0m \u001b[0mstdev\u001b[0m\u001b[0;34m,\u001b[0m \u001b[0mparam\u001b[0m\u001b[0;34m)\u001b[0m\u001b[0;34m)\u001b[0m\u001b[0;34m\u001b[0m\u001b[0m\n\u001b[1;32m     13\u001b[0m \u001b[0;31m# plot\u001b[0m\u001b[0;34m\u001b[0m\u001b[0;34m\u001b[0m\u001b[0m\n\u001b[0;32m---> 14\u001b[0;31m \u001b[0mpyplot\u001b[0m\u001b[0;34m.\u001b[0m\u001b[0merrorbar\u001b[0m\u001b[0;34m(\u001b[0m\u001b[0mlearning_rate\u001b[0m\u001b[0;34m,\u001b[0m \u001b[0mmeans\u001b[0m\u001b[0;34m,\u001b[0m \u001b[0myerr\u001b[0m\u001b[0;34m=\u001b[0m\u001b[0mstds\u001b[0m\u001b[0;34m)\u001b[0m\u001b[0;34m\u001b[0m\u001b[0m\n\u001b[0m\u001b[1;32m     15\u001b[0m \u001b[0mpyplot\u001b[0m\u001b[0;34m.\u001b[0m\u001b[0mtitle\u001b[0m\u001b[0;34m(\u001b[0m\u001b[0;34m\"XGBoost learning_rate vs Log Loss\"\u001b[0m\u001b[0;34m)\u001b[0m\u001b[0;34m\u001b[0m\u001b[0m\n\u001b[1;32m     16\u001b[0m \u001b[0mpyplot\u001b[0m\u001b[0;34m.\u001b[0m\u001b[0mxlabel\u001b[0m\u001b[0;34m(\u001b[0m\u001b[0;34m'learning_rate'\u001b[0m\u001b[0;34m)\u001b[0m\u001b[0;34m\u001b[0m\u001b[0m\n",
      "\u001b[0;31mNameError\u001b[0m: name 'pyplot' is not defined"
     ]
    }
   ],
   "source": [
    "\"\"\"\n",
    "learning_rate = [0.0001, 0.001, 0.01, 0.1, 0.2, 0.3]\n",
    "param_grid = dict(xgbregressor__learning_rate=learning_rate)\n",
    "kfold = StratifiedKFold(n_splits=10, shuffle=True, random_state=7)\n",
    "grid_search = GridSearchCV(pipeline, param_grid, scoring=\"neg_mean_absolute_error\", n_jobs=-1, cv=kfold)\n",
    "grid_result = grid_search.fit(X, y)\n",
    "\n",
    "# summarize results\n",
    "print(\"Best: %f using %s\" % (grid_result.best_score_, grid_result.best_params_))\n",
    "means = grid_result.cv_results_['mean_test_score'] *-1\n",
    "stds = grid_result.cv_results_['std_test_score']\n",
    "params = grid_result.cv_results_['params']\n",
    "for mean, stdev, param in zip(means, stds, params):\n",
    "\tprint(\"%f (%f) with: %r\" % (mean, stdev, param))\n",
    "# plot\n",
    "plt.errorbar(learning_rate, means, yerr=stds)\n",
    "plt.title(\"XGBoost learning_rate vs Squared error\")\n",
    "plt.xlabel('learning_rate')\n",
    "plt.ylabel('Squared error')\n",
    "\"\"\""
   ]
  },
  {
   "cell_type": "code",
   "execution_count": 65,
   "metadata": {},
   "outputs": [
    {
     "name": "stdout",
     "output_type": "stream",
     "text": [
      "Best: -692115.603669 using {'xgbregressor__learning_rate': 0.1}\n",
      "2074028.159496 (5599.137814) with: {'xgbregressor__learning_rate': 0.0001}\n",
      "913110.556678 (3414.493774) with: {'xgbregressor__learning_rate': 0.001}\n",
      "739760.306702 (4107.704996) with: {'xgbregressor__learning_rate': 0.01}\n",
      "692115.603669 (2871.645530) with: {'xgbregressor__learning_rate': 0.1}\n",
      "697472.317289 (2977.719406) with: {'xgbregressor__learning_rate': 0.2}\n",
      "708416.022251 (3574.017689) with: {'xgbregressor__learning_rate': 0.3}\n"
     ]
    },
    {
     "data": {
      "text/plain": [
       "Text(0, 0.5, 'Squared error')"
      ]
     },
     "execution_count": 65,
     "metadata": {},
     "output_type": "execute_result"
    },
    {
     "data": {
      "image/png": "[encoded data removed]",
      "text/plain": [
       "<Figure size 432x288 with 1 Axes>"
      ]
     },
     "metadata": {
      "needs_background": "light"
     },
     "output_type": "display_data"
    }
   ],
   "source": []
  },
  {
   "cell_type": "code",
   "execution_count": null,
   "metadata": {},
   "outputs": [],
   "source": [
    "Audio(sound_file, autoplay=True)"
   ]
  },
  {
   "cell_type": "code",
   "execution_count": 62,
   "metadata": {},
   "outputs": [
    {
     "data": {
      "text/plain": [
       "array([-2074028.15949577,  -913110.55667849,  -739760.30670164,\n",
       "        -692115.60366874,  -697472.31728936,  -708416.0222512 ])"
      ]
     },
     "execution_count": 62,
     "metadata": {},
     "output_type": "execute_result"
    }
   ],
   "source": [
    "means"
   ]
  },
  {
   "cell_type": "code",
   "execution_count": 64,
   "metadata": {},
   "outputs": [
    {
     "data": {
      "text/plain": [
       "[{'xgbregressor__learning_rate': 0.0001},\n",
       " {'xgbregressor__learning_rate': 0.001},\n",
       " {'xgbregressor__learning_rate': 0.01},\n",
       " {'xgbregressor__learning_rate': 0.1},\n",
       " {'xgbregressor__learning_rate': 0.2},\n",
       " {'xgbregressor__learning_rate': 0.3}]"
      ]
     },
     "execution_count": 64,
     "metadata": {},
     "output_type": "execute_result"
    }
   ],
   "source": [
    "params"
   ]
  },
  {
   "cell_type": "code",
   "execution_count": null,
   "metadata": {},
   "outputs": [],
   "source": []
  }
 ],
 "metadata": {
  "kernelspec": {
   "display_name": "Python 3",
   "language": "python",
   "name": "python3"
  },
  "language_info": {
   "codemirror_mode": {
    "name": "ipython",
    "version": 3
   },
   "file_extension": ".py",
   "mimetype": "text/x-python",
   "name": "python",
   "nbconvert_exporter": "python",
   "pygments_lexer": "ipython3",
   "version": "3.7.3"
  }
 },
 "nbformat": 4,
 "nbformat_minor": 4
}
